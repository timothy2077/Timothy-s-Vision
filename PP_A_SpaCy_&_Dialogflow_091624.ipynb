{
  "nbformat": 4,
  "nbformat_minor": 0,
  "metadata": {
    "colab": {
      "provenance": [],
      "gpuType": "T4",
      "authorship_tag": "ABX9TyMIplVDlCz5D0TBDd7mjoFl",
      "include_colab_link": true
    },
    "kernelspec": {
      "name": "python3",
      "display_name": "Python 3"
    },
    "language_info": {
      "name": "python"
    },
    "accelerator": "GPU"
  },
  "cells": [
    {
      "cell_type": "markdown",
      "metadata": {
        "id": "view-in-github",
        "colab_type": "text"
      },
      "source": [
        "<a href=\"https://colab.research.google.com/github/timothy2077/Timothy-s-Vision/blob/main/PP_A_SpaCy_%26_Dialogflow_091624.ipynb\" target=\"_parent\"><img src=\"https://colab.research.google.com/assets/colab-badge.svg\" alt=\"Open In Colab\"/></a>"
      ]
    },
    {
      "cell_type": "markdown",
      "source": [
        "# 0. Dataset을 Colab에 업로드하기"
      ],
      "metadata": {
        "id": "qFiNqh21Cq86"
      }
    },
    {
      "cell_type": "code",
      "execution_count": 1,
      "metadata": {
        "colab": {
          "base_uri": "https://localhost:8080/",
          "height": 75
        },
        "id": "JS0dF_t8CEqF",
        "outputId": "d363c2fa-bf98-4c15-844b-0c0eff1fe1ed"
      },
      "outputs": [
        {
          "output_type": "display_data",
          "data": {
            "text/plain": [
              "<IPython.core.display.HTML object>"
            ],
            "text/html": [
              "\n",
              "     <input type=\"file\" id=\"files-962c1d8c-99c5-4bde-91bb-21b4340718fe\" name=\"files[]\" multiple disabled\n",
              "        style=\"border:none\" />\n",
              "     <output id=\"result-962c1d8c-99c5-4bde-91bb-21b4340718fe\">\n",
              "      Upload widget is only available when the cell has been executed in the\n",
              "      current browser session. Please rerun this cell to enable.\n",
              "      </output>\n",
              "      <script>// Copyright 2017 Google LLC\n",
              "//\n",
              "// Licensed under the Apache License, Version 2.0 (the \"License\");\n",
              "// you may not use this file except in compliance with the License.\n",
              "// You may obtain a copy of the License at\n",
              "//\n",
              "//      http://www.apache.org/licenses/LICENSE-2.0\n",
              "//\n",
              "// Unless required by applicable law or agreed to in writing, software\n",
              "// distributed under the License is distributed on an \"AS IS\" BASIS,\n",
              "// WITHOUT WARRANTIES OR CONDITIONS OF ANY KIND, either express or implied.\n",
              "// See the License for the specific language governing permissions and\n",
              "// limitations under the License.\n",
              "\n",
              "/**\n",
              " * @fileoverview Helpers for google.colab Python module.\n",
              " */\n",
              "(function(scope) {\n",
              "function span(text, styleAttributes = {}) {\n",
              "  const element = document.createElement('span');\n",
              "  element.textContent = text;\n",
              "  for (const key of Object.keys(styleAttributes)) {\n",
              "    element.style[key] = styleAttributes[key];\n",
              "  }\n",
              "  return element;\n",
              "}\n",
              "\n",
              "// Max number of bytes which will be uploaded at a time.\n",
              "const MAX_PAYLOAD_SIZE = 100 * 1024;\n",
              "\n",
              "function _uploadFiles(inputId, outputId) {\n",
              "  const steps = uploadFilesStep(inputId, outputId);\n",
              "  const outputElement = document.getElementById(outputId);\n",
              "  // Cache steps on the outputElement to make it available for the next call\n",
              "  // to uploadFilesContinue from Python.\n",
              "  outputElement.steps = steps;\n",
              "\n",
              "  return _uploadFilesContinue(outputId);\n",
              "}\n",
              "\n",
              "// This is roughly an async generator (not supported in the browser yet),\n",
              "// where there are multiple asynchronous steps and the Python side is going\n",
              "// to poll for completion of each step.\n",
              "// This uses a Promise to block the python side on completion of each step,\n",
              "// then passes the result of the previous step as the input to the next step.\n",
              "function _uploadFilesContinue(outputId) {\n",
              "  const outputElement = document.getElementById(outputId);\n",
              "  const steps = outputElement.steps;\n",
              "\n",
              "  const next = steps.next(outputElement.lastPromiseValue);\n",
              "  return Promise.resolve(next.value.promise).then((value) => {\n",
              "    // Cache the last promise value to make it available to the next\n",
              "    // step of the generator.\n",
              "    outputElement.lastPromiseValue = value;\n",
              "    return next.value.response;\n",
              "  });\n",
              "}\n",
              "\n",
              "/**\n",
              " * Generator function which is called between each async step of the upload\n",
              " * process.\n",
              " * @param {string} inputId Element ID of the input file picker element.\n",
              " * @param {string} outputId Element ID of the output display.\n",
              " * @return {!Iterable<!Object>} Iterable of next steps.\n",
              " */\n",
              "function* uploadFilesStep(inputId, outputId) {\n",
              "  const inputElement = document.getElementById(inputId);\n",
              "  inputElement.disabled = false;\n",
              "\n",
              "  const outputElement = document.getElementById(outputId);\n",
              "  outputElement.innerHTML = '';\n",
              "\n",
              "  const pickedPromise = new Promise((resolve) => {\n",
              "    inputElement.addEventListener('change', (e) => {\n",
              "      resolve(e.target.files);\n",
              "    });\n",
              "  });\n",
              "\n",
              "  const cancel = document.createElement('button');\n",
              "  inputElement.parentElement.appendChild(cancel);\n",
              "  cancel.textContent = 'Cancel upload';\n",
              "  const cancelPromise = new Promise((resolve) => {\n",
              "    cancel.onclick = () => {\n",
              "      resolve(null);\n",
              "    };\n",
              "  });\n",
              "\n",
              "  // Wait for the user to pick the files.\n",
              "  const files = yield {\n",
              "    promise: Promise.race([pickedPromise, cancelPromise]),\n",
              "    response: {\n",
              "      action: 'starting',\n",
              "    }\n",
              "  };\n",
              "\n",
              "  cancel.remove();\n",
              "\n",
              "  // Disable the input element since further picks are not allowed.\n",
              "  inputElement.disabled = true;\n",
              "\n",
              "  if (!files) {\n",
              "    return {\n",
              "      response: {\n",
              "        action: 'complete',\n",
              "      }\n",
              "    };\n",
              "  }\n",
              "\n",
              "  for (const file of files) {\n",
              "    const li = document.createElement('li');\n",
              "    li.append(span(file.name, {fontWeight: 'bold'}));\n",
              "    li.append(span(\n",
              "        `(${file.type || 'n/a'}) - ${file.size} bytes, ` +\n",
              "        `last modified: ${\n",
              "            file.lastModifiedDate ? file.lastModifiedDate.toLocaleDateString() :\n",
              "                                    'n/a'} - `));\n",
              "    const percent = span('0% done');\n",
              "    li.appendChild(percent);\n",
              "\n",
              "    outputElement.appendChild(li);\n",
              "\n",
              "    const fileDataPromise = new Promise((resolve) => {\n",
              "      const reader = new FileReader();\n",
              "      reader.onload = (e) => {\n",
              "        resolve(e.target.result);\n",
              "      };\n",
              "      reader.readAsArrayBuffer(file);\n",
              "    });\n",
              "    // Wait for the data to be ready.\n",
              "    let fileData = yield {\n",
              "      promise: fileDataPromise,\n",
              "      response: {\n",
              "        action: 'continue',\n",
              "      }\n",
              "    };\n",
              "\n",
              "    // Use a chunked sending to avoid message size limits. See b/62115660.\n",
              "    let position = 0;\n",
              "    do {\n",
              "      const length = Math.min(fileData.byteLength - position, MAX_PAYLOAD_SIZE);\n",
              "      const chunk = new Uint8Array(fileData, position, length);\n",
              "      position += length;\n",
              "\n",
              "      const base64 = btoa(String.fromCharCode.apply(null, chunk));\n",
              "      yield {\n",
              "        response: {\n",
              "          action: 'append',\n",
              "          file: file.name,\n",
              "          data: base64,\n",
              "        },\n",
              "      };\n",
              "\n",
              "      let percentDone = fileData.byteLength === 0 ?\n",
              "          100 :\n",
              "          Math.round((position / fileData.byteLength) * 100);\n",
              "      percent.textContent = `${percentDone}% done`;\n",
              "\n",
              "    } while (position < fileData.byteLength);\n",
              "  }\n",
              "\n",
              "  // All done.\n",
              "  yield {\n",
              "    response: {\n",
              "      action: 'complete',\n",
              "    }\n",
              "  };\n",
              "}\n",
              "\n",
              "scope.google = scope.google || {};\n",
              "scope.google.colab = scope.google.colab || {};\n",
              "scope.google.colab._files = {\n",
              "  _uploadFiles,\n",
              "  _uploadFilesContinue,\n",
              "};\n",
              "})(self);\n",
              "</script> "
            ]
          },
          "metadata": {}
        },
        {
          "output_type": "stream",
          "name": "stdout",
          "text": [
            "Saving BP_MHS_V1.csv to BP_MHS_V1.csv\n"
          ]
        }
      ],
      "source": [
        "from google.colab import files\n",
        "uploaded = files.upload()\n"
      ]
    },
    {
      "cell_type": "markdown",
      "source": [
        "# 1. spaCy 설치"
      ],
      "metadata": {
        "id": "P3hhnktZDIbr"
      }
    },
    {
      "cell_type": "code",
      "source": [
        "!pip install spacy"
      ],
      "metadata": {
        "colab": {
          "base_uri": "https://localhost:8080/"
        },
        "collapsed": true,
        "id": "PMMshHy0DlDa",
        "outputId": "3bcb9ddf-f0d0-4436-b268-4d45a1e0076c"
      },
      "execution_count": 2,
      "outputs": [
        {
          "output_type": "stream",
          "name": "stdout",
          "text": [
            "Requirement already satisfied: spacy in /usr/local/lib/python3.10/dist-packages (3.7.5)\n",
            "Requirement already satisfied: spacy-legacy<3.1.0,>=3.0.11 in /usr/local/lib/python3.10/dist-packages (from spacy) (3.0.12)\n",
            "Requirement already satisfied: spacy-loggers<2.0.0,>=1.0.0 in /usr/local/lib/python3.10/dist-packages (from spacy) (1.0.5)\n",
            "Requirement already satisfied: murmurhash<1.1.0,>=0.28.0 in /usr/local/lib/python3.10/dist-packages (from spacy) (1.0.10)\n",
            "Requirement already satisfied: cymem<2.1.0,>=2.0.2 in /usr/local/lib/python3.10/dist-packages (from spacy) (2.0.8)\n",
            "Requirement already satisfied: preshed<3.1.0,>=3.0.2 in /usr/local/lib/python3.10/dist-packages (from spacy) (3.0.9)\n",
            "Requirement already satisfied: thinc<8.3.0,>=8.2.2 in /usr/local/lib/python3.10/dist-packages (from spacy) (8.2.5)\n",
            "Requirement already satisfied: wasabi<1.2.0,>=0.9.1 in /usr/local/lib/python3.10/dist-packages (from spacy) (1.1.3)\n",
            "Requirement already satisfied: srsly<3.0.0,>=2.4.3 in /usr/local/lib/python3.10/dist-packages (from spacy) (2.4.8)\n",
            "Requirement already satisfied: catalogue<2.1.0,>=2.0.6 in /usr/local/lib/python3.10/dist-packages (from spacy) (2.0.10)\n",
            "Requirement already satisfied: weasel<0.5.0,>=0.1.0 in /usr/local/lib/python3.10/dist-packages (from spacy) (0.4.1)\n",
            "Requirement already satisfied: typer<1.0.0,>=0.3.0 in /usr/local/lib/python3.10/dist-packages (from spacy) (0.12.5)\n",
            "Requirement already satisfied: tqdm<5.0.0,>=4.38.0 in /usr/local/lib/python3.10/dist-packages (from spacy) (4.66.5)\n",
            "Requirement already satisfied: requests<3.0.0,>=2.13.0 in /usr/local/lib/python3.10/dist-packages (from spacy) (2.32.3)\n",
            "Requirement already satisfied: pydantic!=1.8,!=1.8.1,<3.0.0,>=1.7.4 in /usr/local/lib/python3.10/dist-packages (from spacy) (2.9.2)\n",
            "Requirement already satisfied: jinja2 in /usr/local/lib/python3.10/dist-packages (from spacy) (3.1.4)\n",
            "Requirement already satisfied: setuptools in /usr/local/lib/python3.10/dist-packages (from spacy) (75.1.0)\n",
            "Requirement already satisfied: packaging>=20.0 in /usr/local/lib/python3.10/dist-packages (from spacy) (24.1)\n",
            "Requirement already satisfied: langcodes<4.0.0,>=3.2.0 in /usr/local/lib/python3.10/dist-packages (from spacy) (3.4.1)\n",
            "Requirement already satisfied: numpy>=1.19.0 in /usr/local/lib/python3.10/dist-packages (from spacy) (1.26.4)\n",
            "Requirement already satisfied: language-data>=1.2 in /usr/local/lib/python3.10/dist-packages (from langcodes<4.0.0,>=3.2.0->spacy) (1.2.0)\n",
            "Requirement already satisfied: annotated-types>=0.6.0 in /usr/local/lib/python3.10/dist-packages (from pydantic!=1.8,!=1.8.1,<3.0.0,>=1.7.4->spacy) (0.7.0)\n",
            "Requirement already satisfied: pydantic-core==2.23.4 in /usr/local/lib/python3.10/dist-packages (from pydantic!=1.8,!=1.8.1,<3.0.0,>=1.7.4->spacy) (2.23.4)\n",
            "Requirement already satisfied: typing-extensions>=4.6.1 in /usr/local/lib/python3.10/dist-packages (from pydantic!=1.8,!=1.8.1,<3.0.0,>=1.7.4->spacy) (4.12.2)\n",
            "Requirement already satisfied: charset-normalizer<4,>=2 in /usr/local/lib/python3.10/dist-packages (from requests<3.0.0,>=2.13.0->spacy) (3.4.0)\n",
            "Requirement already satisfied: idna<4,>=2.5 in /usr/local/lib/python3.10/dist-packages (from requests<3.0.0,>=2.13.0->spacy) (3.10)\n",
            "Requirement already satisfied: urllib3<3,>=1.21.1 in /usr/local/lib/python3.10/dist-packages (from requests<3.0.0,>=2.13.0->spacy) (2.2.3)\n",
            "Requirement already satisfied: certifi>=2017.4.17 in /usr/local/lib/python3.10/dist-packages (from requests<3.0.0,>=2.13.0->spacy) (2024.8.30)\n",
            "Requirement already satisfied: blis<0.8.0,>=0.7.8 in /usr/local/lib/python3.10/dist-packages (from thinc<8.3.0,>=8.2.2->spacy) (0.7.11)\n",
            "Requirement already satisfied: confection<1.0.0,>=0.0.1 in /usr/local/lib/python3.10/dist-packages (from thinc<8.3.0,>=8.2.2->spacy) (0.1.5)\n",
            "Requirement already satisfied: click>=8.0.0 in /usr/local/lib/python3.10/dist-packages (from typer<1.0.0,>=0.3.0->spacy) (8.1.7)\n",
            "Requirement already satisfied: shellingham>=1.3.0 in /usr/local/lib/python3.10/dist-packages (from typer<1.0.0,>=0.3.0->spacy) (1.5.4)\n",
            "Requirement already satisfied: rich>=10.11.0 in /usr/local/lib/python3.10/dist-packages (from typer<1.0.0,>=0.3.0->spacy) (13.9.3)\n",
            "Requirement already satisfied: cloudpathlib<1.0.0,>=0.7.0 in /usr/local/lib/python3.10/dist-packages (from weasel<0.5.0,>=0.1.0->spacy) (0.20.0)\n",
            "Requirement already satisfied: smart-open<8.0.0,>=5.2.1 in /usr/local/lib/python3.10/dist-packages (from weasel<0.5.0,>=0.1.0->spacy) (7.0.5)\n",
            "Requirement already satisfied: MarkupSafe>=2.0 in /usr/local/lib/python3.10/dist-packages (from jinja2->spacy) (3.0.2)\n",
            "Requirement already satisfied: marisa-trie>=0.7.7 in /usr/local/lib/python3.10/dist-packages (from language-data>=1.2->langcodes<4.0.0,>=3.2.0->spacy) (1.2.1)\n",
            "Requirement already satisfied: markdown-it-py>=2.2.0 in /usr/local/lib/python3.10/dist-packages (from rich>=10.11.0->typer<1.0.0,>=0.3.0->spacy) (3.0.0)\n",
            "Requirement already satisfied: pygments<3.0.0,>=2.13.0 in /usr/local/lib/python3.10/dist-packages (from rich>=10.11.0->typer<1.0.0,>=0.3.0->spacy) (2.18.0)\n",
            "Requirement already satisfied: wrapt in /usr/local/lib/python3.10/dist-packages (from smart-open<8.0.0,>=5.2.1->weasel<0.5.0,>=0.1.0->spacy) (1.16.0)\n",
            "Requirement already satisfied: mdurl~=0.1 in /usr/local/lib/python3.10/dist-packages (from markdown-it-py>=2.2.0->rich>=10.11.0->typer<1.0.0,>=0.3.0->spacy) (0.1.2)\n"
          ]
        }
      ]
    },
    {
      "cell_type": "markdown",
      "source": [
        "# 2. 사용할 언어 모델 설치"
      ],
      "metadata": {
        "id": "KYG9R_g1D9Vb"
      }
    },
    {
      "cell_type": "code",
      "source": [
        "!python -m spacy download en_core_web_sm"
      ],
      "metadata": {
        "colab": {
          "base_uri": "https://localhost:8080/"
        },
        "collapsed": true,
        "id": "ttILlvQAD67E",
        "outputId": "187a49b1-3fbf-452c-b2cd-8501453310f8"
      },
      "execution_count": 3,
      "outputs": [
        {
          "output_type": "stream",
          "name": "stdout",
          "text": [
            "Collecting en-core-web-sm==3.7.1\n",
            "  Downloading https://github.com/explosion/spacy-models/releases/download/en_core_web_sm-3.7.1/en_core_web_sm-3.7.1-py3-none-any.whl (12.8 MB)\n",
            "\u001b[2K     \u001b[90m━━━━━━━━━━━━━━━━━━━━━━━━━━━━━━━━━━━━━━━━\u001b[0m \u001b[32m12.8/12.8 MB\u001b[0m \u001b[31m73.6 MB/s\u001b[0m eta \u001b[36m0:00:00\u001b[0m\n",
            "\u001b[?25hRequirement already satisfied: spacy<3.8.0,>=3.7.2 in /usr/local/lib/python3.10/dist-packages (from en-core-web-sm==3.7.1) (3.7.5)\n",
            "Requirement already satisfied: spacy-legacy<3.1.0,>=3.0.11 in /usr/local/lib/python3.10/dist-packages (from spacy<3.8.0,>=3.7.2->en-core-web-sm==3.7.1) (3.0.12)\n",
            "Requirement already satisfied: spacy-loggers<2.0.0,>=1.0.0 in /usr/local/lib/python3.10/dist-packages (from spacy<3.8.0,>=3.7.2->en-core-web-sm==3.7.1) (1.0.5)\n",
            "Requirement already satisfied: murmurhash<1.1.0,>=0.28.0 in /usr/local/lib/python3.10/dist-packages (from spacy<3.8.0,>=3.7.2->en-core-web-sm==3.7.1) (1.0.10)\n",
            "Requirement already satisfied: cymem<2.1.0,>=2.0.2 in /usr/local/lib/python3.10/dist-packages (from spacy<3.8.0,>=3.7.2->en-core-web-sm==3.7.1) (2.0.8)\n",
            "Requirement already satisfied: preshed<3.1.0,>=3.0.2 in /usr/local/lib/python3.10/dist-packages (from spacy<3.8.0,>=3.7.2->en-core-web-sm==3.7.1) (3.0.9)\n",
            "Requirement already satisfied: thinc<8.3.0,>=8.2.2 in /usr/local/lib/python3.10/dist-packages (from spacy<3.8.0,>=3.7.2->en-core-web-sm==3.7.1) (8.2.5)\n",
            "Requirement already satisfied: wasabi<1.2.0,>=0.9.1 in /usr/local/lib/python3.10/dist-packages (from spacy<3.8.0,>=3.7.2->en-core-web-sm==3.7.1) (1.1.3)\n",
            "Requirement already satisfied: srsly<3.0.0,>=2.4.3 in /usr/local/lib/python3.10/dist-packages (from spacy<3.8.0,>=3.7.2->en-core-web-sm==3.7.1) (2.4.8)\n",
            "Requirement already satisfied: catalogue<2.1.0,>=2.0.6 in /usr/local/lib/python3.10/dist-packages (from spacy<3.8.0,>=3.7.2->en-core-web-sm==3.7.1) (2.0.10)\n",
            "Requirement already satisfied: weasel<0.5.0,>=0.1.0 in /usr/local/lib/python3.10/dist-packages (from spacy<3.8.0,>=3.7.2->en-core-web-sm==3.7.1) (0.4.1)\n",
            "Requirement already satisfied: typer<1.0.0,>=0.3.0 in /usr/local/lib/python3.10/dist-packages (from spacy<3.8.0,>=3.7.2->en-core-web-sm==3.7.1) (0.12.5)\n",
            "Requirement already satisfied: tqdm<5.0.0,>=4.38.0 in /usr/local/lib/python3.10/dist-packages (from spacy<3.8.0,>=3.7.2->en-core-web-sm==3.7.1) (4.66.5)\n",
            "Requirement already satisfied: requests<3.0.0,>=2.13.0 in /usr/local/lib/python3.10/dist-packages (from spacy<3.8.0,>=3.7.2->en-core-web-sm==3.7.1) (2.32.3)\n",
            "Requirement already satisfied: pydantic!=1.8,!=1.8.1,<3.0.0,>=1.7.4 in /usr/local/lib/python3.10/dist-packages (from spacy<3.8.0,>=3.7.2->en-core-web-sm==3.7.1) (2.9.2)\n",
            "Requirement already satisfied: jinja2 in /usr/local/lib/python3.10/dist-packages (from spacy<3.8.0,>=3.7.2->en-core-web-sm==3.7.1) (3.1.4)\n",
            "Requirement already satisfied: setuptools in /usr/local/lib/python3.10/dist-packages (from spacy<3.8.0,>=3.7.2->en-core-web-sm==3.7.1) (75.1.0)\n",
            "Requirement already satisfied: packaging>=20.0 in /usr/local/lib/python3.10/dist-packages (from spacy<3.8.0,>=3.7.2->en-core-web-sm==3.7.1) (24.1)\n",
            "Requirement already satisfied: langcodes<4.0.0,>=3.2.0 in /usr/local/lib/python3.10/dist-packages (from spacy<3.8.0,>=3.7.2->en-core-web-sm==3.7.1) (3.4.1)\n",
            "Requirement already satisfied: numpy>=1.19.0 in /usr/local/lib/python3.10/dist-packages (from spacy<3.8.0,>=3.7.2->en-core-web-sm==3.7.1) (1.26.4)\n",
            "Requirement already satisfied: language-data>=1.2 in /usr/local/lib/python3.10/dist-packages (from langcodes<4.0.0,>=3.2.0->spacy<3.8.0,>=3.7.2->en-core-web-sm==3.7.1) (1.2.0)\n",
            "Requirement already satisfied: annotated-types>=0.6.0 in /usr/local/lib/python3.10/dist-packages (from pydantic!=1.8,!=1.8.1,<3.0.0,>=1.7.4->spacy<3.8.0,>=3.7.2->en-core-web-sm==3.7.1) (0.7.0)\n",
            "Requirement already satisfied: pydantic-core==2.23.4 in /usr/local/lib/python3.10/dist-packages (from pydantic!=1.8,!=1.8.1,<3.0.0,>=1.7.4->spacy<3.8.0,>=3.7.2->en-core-web-sm==3.7.1) (2.23.4)\n",
            "Requirement already satisfied: typing-extensions>=4.6.1 in /usr/local/lib/python3.10/dist-packages (from pydantic!=1.8,!=1.8.1,<3.0.0,>=1.7.4->spacy<3.8.0,>=3.7.2->en-core-web-sm==3.7.1) (4.12.2)\n",
            "Requirement already satisfied: charset-normalizer<4,>=2 in /usr/local/lib/python3.10/dist-packages (from requests<3.0.0,>=2.13.0->spacy<3.8.0,>=3.7.2->en-core-web-sm==3.7.1) (3.4.0)\n",
            "Requirement already satisfied: idna<4,>=2.5 in /usr/local/lib/python3.10/dist-packages (from requests<3.0.0,>=2.13.0->spacy<3.8.0,>=3.7.2->en-core-web-sm==3.7.1) (3.10)\n",
            "Requirement already satisfied: urllib3<3,>=1.21.1 in /usr/local/lib/python3.10/dist-packages (from requests<3.0.0,>=2.13.0->spacy<3.8.0,>=3.7.2->en-core-web-sm==3.7.1) (2.2.3)\n",
            "Requirement already satisfied: certifi>=2017.4.17 in /usr/local/lib/python3.10/dist-packages (from requests<3.0.0,>=2.13.0->spacy<3.8.0,>=3.7.2->en-core-web-sm==3.7.1) (2024.8.30)\n",
            "Requirement already satisfied: blis<0.8.0,>=0.7.8 in /usr/local/lib/python3.10/dist-packages (from thinc<8.3.0,>=8.2.2->spacy<3.8.0,>=3.7.2->en-core-web-sm==3.7.1) (0.7.11)\n",
            "Requirement already satisfied: confection<1.0.0,>=0.0.1 in /usr/local/lib/python3.10/dist-packages (from thinc<8.3.0,>=8.2.2->spacy<3.8.0,>=3.7.2->en-core-web-sm==3.7.1) (0.1.5)\n",
            "Requirement already satisfied: click>=8.0.0 in /usr/local/lib/python3.10/dist-packages (from typer<1.0.0,>=0.3.0->spacy<3.8.0,>=3.7.2->en-core-web-sm==3.7.1) (8.1.7)\n",
            "Requirement already satisfied: shellingham>=1.3.0 in /usr/local/lib/python3.10/dist-packages (from typer<1.0.0,>=0.3.0->spacy<3.8.0,>=3.7.2->en-core-web-sm==3.7.1) (1.5.4)\n",
            "Requirement already satisfied: rich>=10.11.0 in /usr/local/lib/python3.10/dist-packages (from typer<1.0.0,>=0.3.0->spacy<3.8.0,>=3.7.2->en-core-web-sm==3.7.1) (13.9.3)\n",
            "Requirement already satisfied: cloudpathlib<1.0.0,>=0.7.0 in /usr/local/lib/python3.10/dist-packages (from weasel<0.5.0,>=0.1.0->spacy<3.8.0,>=3.7.2->en-core-web-sm==3.7.1) (0.20.0)\n",
            "Requirement already satisfied: smart-open<8.0.0,>=5.2.1 in /usr/local/lib/python3.10/dist-packages (from weasel<0.5.0,>=0.1.0->spacy<3.8.0,>=3.7.2->en-core-web-sm==3.7.1) (7.0.5)\n",
            "Requirement already satisfied: MarkupSafe>=2.0 in /usr/local/lib/python3.10/dist-packages (from jinja2->spacy<3.8.0,>=3.7.2->en-core-web-sm==3.7.1) (3.0.2)\n",
            "Requirement already satisfied: marisa-trie>=0.7.7 in /usr/local/lib/python3.10/dist-packages (from language-data>=1.2->langcodes<4.0.0,>=3.2.0->spacy<3.8.0,>=3.7.2->en-core-web-sm==3.7.1) (1.2.1)\n",
            "Requirement already satisfied: markdown-it-py>=2.2.0 in /usr/local/lib/python3.10/dist-packages (from rich>=10.11.0->typer<1.0.0,>=0.3.0->spacy<3.8.0,>=3.7.2->en-core-web-sm==3.7.1) (3.0.0)\n",
            "Requirement already satisfied: pygments<3.0.0,>=2.13.0 in /usr/local/lib/python3.10/dist-packages (from rich>=10.11.0->typer<1.0.0,>=0.3.0->spacy<3.8.0,>=3.7.2->en-core-web-sm==3.7.1) (2.18.0)\n",
            "Requirement already satisfied: wrapt in /usr/local/lib/python3.10/dist-packages (from smart-open<8.0.0,>=5.2.1->weasel<0.5.0,>=0.1.0->spacy<3.8.0,>=3.7.2->en-core-web-sm==3.7.1) (1.16.0)\n",
            "Requirement already satisfied: mdurl~=0.1 in /usr/local/lib/python3.10/dist-packages (from markdown-it-py>=2.2.0->rich>=10.11.0->typer<1.0.0,>=0.3.0->spacy<3.8.0,>=3.7.2->en-core-web-sm==3.7.1) (0.1.2)\n",
            "\u001b[38;5;2m✔ Download and installation successful\u001b[0m\n",
            "You can now load the package via spacy.load('en_core_web_sm')\n",
            "\u001b[38;5;3m⚠ Restart to reload dependencies\u001b[0m\n",
            "If you are in a Jupyter or Colab notebook, you may need to restart Python in\n",
            "order to load all the package's dependencies. You can do this by selecting the\n",
            "'Restart kernel' or 'Restart runtime' option.\n"
          ]
        }
      ]
    },
    {
      "cell_type": "markdown",
      "source": [
        "# 2-1. 형태소 분석(POS Tagging)_Trial A"
      ],
      "metadata": {
        "id": "pqtOKDSlEmdw"
      }
    },
    {
      "cell_type": "code",
      "source": [
        "import spacy\n",
        "\n",
        "# en_core_web_sm 모델 로드\n",
        "nlp = spacy.load(\"en_core_web_sm\")\n",
        "\n",
        "# 텍스트 처리\n",
        "doc = nlp(\"Spacy는 자연어 처리를 위한 Python 라이브러리입니다.\")\n",
        "\n",
        "# 토큰화 예시\n",
        "for token in doc:\n",
        "    print(token.text, token.pos_, token.dep_)\n"
      ],
      "metadata": {
        "colab": {
          "base_uri": "https://localhost:8080/"
        },
        "id": "ILyyw-FrET3d",
        "outputId": "c786b94b-5107-408e-baad-9fd60f804878"
      },
      "execution_count": 4,
      "outputs": [
        {
          "output_type": "stream",
          "name": "stdout",
          "text": [
            "Spacy는 PROPN compound\n",
            "자연어 NOUN nsubj\n",
            "처리를 VERB ROOT\n",
            "위한 PROPN compound\n",
            "Python PROPN nsubj\n",
            "라이브러리입니다 ADJ dobj\n",
            ". PUNCT punct\n"
          ]
        }
      ]
    },
    {
      "cell_type": "markdown",
      "source": [
        "# 2-2. 형태소 분석_Tiral B"
      ],
      "metadata": {
        "id": "4t1T5tZrEuhs"
      }
    },
    {
      "cell_type": "code",
      "source": [
        "doc = nlp(\"i am going to participate in the IGM  breakfast meeting in Plaza hotel\")\n",
        "for token in doc:\n",
        "    print(token.text, token.pos_, token.dep_)"
      ],
      "metadata": {
        "colab": {
          "base_uri": "https://localhost:8080/"
        },
        "id": "RSFRoP4VEq9g",
        "outputId": "fe46b524-b75d-42b1-d87e-11c9113f8724"
      },
      "execution_count": 5,
      "outputs": [
        {
          "output_type": "stream",
          "name": "stdout",
          "text": [
            "i PRON nsubj\n",
            "am AUX aux\n",
            "going VERB ROOT\n",
            "to PART aux\n",
            "participate VERB xcomp\n",
            "in ADP prep\n",
            "the DET det\n",
            "IGM PROPN compound\n",
            "  SPACE dep\n",
            "breakfast NOUN compound\n",
            "meeting NOUN pobj\n",
            "in ADP prep\n",
            "Plaza PROPN compound\n",
            "hotel NOUN pobj\n"
          ]
        }
      ]
    },
    {
      "cell_type": "markdown",
      "source": [
        "# 2-3. 어간 추출(Stemming)과 표제어 추출(Lemmatization)"
      ],
      "metadata": {
        "id": "dwc_73tzGCY9"
      }
    },
    {
      "cell_type": "code",
      "source": [
        "# 분석할 텍스트\n",
        "doc = nlp(\"She was running and eating at same time. He loves to run and eat.\")\n",
        "\n",
        "# 표제어 추출 (lemmatization) 결과 출력\n",
        "for token in doc:\n",
        "    print(f\"Word: {token.text}, Lemma: {token.lemma_}\")"
      ],
      "metadata": {
        "colab": {
          "base_uri": "https://localhost:8080/"
        },
        "id": "gRwN2GiuGBmc",
        "outputId": "7a0e9713-d8ef-4b0a-a28d-5a5f7e14e9cb"
      },
      "execution_count": 6,
      "outputs": [
        {
          "output_type": "stream",
          "name": "stdout",
          "text": [
            "Word: She, Lemma: she\n",
            "Word: was, Lemma: be\n",
            "Word: running, Lemma: run\n",
            "Word: and, Lemma: and\n",
            "Word: eating, Lemma: eat\n",
            "Word: at, Lemma: at\n",
            "Word: same, Lemma: same\n",
            "Word: time, Lemma: time\n",
            "Word: ., Lemma: .\n",
            "Word: He, Lemma: he\n",
            "Word: loves, Lemma: love\n",
            "Word: to, Lemma: to\n",
            "Word: run, Lemma: run\n",
            "Word: and, Lemma: and\n",
            "Word: eat, Lemma: eat\n",
            "Word: ., Lemma: .\n"
          ]
        }
      ]
    },
    {
      "cell_type": "markdown",
      "source": [
        "# 2-4. Spacy는 표제어 추출을 지원하지만, 어간 추출은 직접 제공하지 않기 때문에 NLTK와 같은 라이브러리를 사용하기"
      ],
      "metadata": {
        "id": "uvj_h5llHdwn"
      }
    },
    {
      "cell_type": "code",
      "source": [
        "import nltk\n",
        "from nltk.stem import PorterStemmer\n",
        "\n",
        "# NLTK 어간 추출기 로드\n",
        "stemmer = PorterStemmer()\n",
        "\n",
        "# 분석할 텍스트\n",
        "words = [\"running\", \"eating\", \"runs\", \"eats\"]\n",
        "\n",
        "# 어간 추출 (stemming) 결과 출력\n",
        "for word in words:\n",
        "    print(f\"Word: {word}, Stem: {stemmer.stem(word)}\")\n"
      ],
      "metadata": {
        "colab": {
          "base_uri": "https://localhost:8080/"
        },
        "id": "3Tk_Xc6VHMEb",
        "outputId": "a8a15083-b776-4505-eabe-83e347652f92"
      },
      "execution_count": 7,
      "outputs": [
        {
          "output_type": "stream",
          "name": "stdout",
          "text": [
            "Word: running, Stem: run\n",
            "Word: eating, Stem: eat\n",
            "Word: runs, Stem: run\n",
            "Word: eats, Stem: eat\n"
          ]
        }
      ]
    },
    {
      "cell_type": "markdown",
      "source": [
        "# 2-5. 개체명 인식(Named-Entity Recognition)\n",
        "###  GPE는 국가, 도시와 같은 지리적 영역을 나타내는 라벨"
      ],
      "metadata": {
        "id": "cmqUW_-pHlIQ"
      }
    },
    {
      "cell_type": "code",
      "source": [
        "# 분석할 텍스트 (지리적 개체 포함)\n",
        "text = \"Google was founded in California, and its headquarters are located in Mountain View.\"\n",
        "\n",
        "# 텍스트 처리\n",
        "doc = nlp(text)\n",
        "\n",
        "# 개체명 인식 결과 출력 (지리적 개체를 포함)\n",
        "for ent in doc.ents:\n",
        "    print(f\"Entity: {ent.text}, Label: {ent.label_}\")\n",
        "\n",
        "# 지리적 개체(GPE)만 필터링하여 출력\n",
        "print(\"\\nGeopolitical Entities (GPE):\")\n",
        "for ent in doc.ents:\n",
        "    if ent.label_ == \"GPE\":  # GPE는 지리적 개체를 나타냄\n",
        "        print(f\"Geopolitical Entity: {ent.text}\")"
      ],
      "metadata": {
        "colab": {
          "base_uri": "https://localhost:8080/"
        },
        "id": "acQG5Qm3GwrI",
        "outputId": "602a79e1-1ed7-4272-8ad0-ad7ce606a492"
      },
      "execution_count": 8,
      "outputs": [
        {
          "output_type": "stream",
          "name": "stdout",
          "text": [
            "Entity: Google, Label: ORG\n",
            "Entity: California, Label: GPE\n",
            "Entity: Mountain View, Label: GPE\n",
            "\n",
            "Geopolitical Entities (GPE):\n",
            "Geopolitical Entity: California\n",
            "Geopolitical Entity: Mountain View\n"
          ]
        }
      ]
    },
    {
      "cell_type": "markdown",
      "source": [
        "# 2-6. 불용어(Stop Words)"
      ],
      "metadata": {
        "id": "BZurOxp-I-g4"
      }
    },
    {
      "cell_type": "code",
      "source": [
        "# 분석할 텍스트\n",
        "text = \"This is a simple sentence to demonstrate how to detect stop words.\"\n",
        "\n",
        "# 텍스트 처리\n",
        "doc = nlp(text)\n",
        "\n",
        "# 각 단어가 불용어인지 여부를 출력\n",
        "for token in doc:\n",
        "    print(f\"Word: {token.text}, Is stop word: {token.is_stop}\")"
      ],
      "metadata": {
        "colab": {
          "base_uri": "https://localhost:8080/"
        },
        "id": "932ute7QIwry",
        "outputId": "96d319eb-3476-4cdc-985c-c48797971dd0"
      },
      "execution_count": 9,
      "outputs": [
        {
          "output_type": "stream",
          "name": "stdout",
          "text": [
            "Word: This, Is stop word: True\n",
            "Word: is, Is stop word: True\n",
            "Word: a, Is stop word: True\n",
            "Word: simple, Is stop word: False\n",
            "Word: sentence, Is stop word: False\n",
            "Word: to, Is stop word: True\n",
            "Word: demonstrate, Is stop word: False\n",
            "Word: how, Is stop word: True\n",
            "Word: to, Is stop word: True\n",
            "Word: detect, Is stop word: False\n",
            "Word: stop, Is stop word: False\n",
            "Word: words, Is stop word: False\n",
            "Word: ., Is stop word: False\n"
          ]
        }
      ]
    },
    {
      "cell_type": "markdown",
      "source": [
        "# 2-7. 의존 구문 분석(Dependancy Parsing)"
      ],
      "metadata": {
        "id": "7EX-G0SqJkA8"
      }
    },
    {
      "cell_type": "code",
      "source": [
        "# 분석할 텍스트\n",
        "text = \"SpaCy is an excellent library for natural language processing.\"\n",
        "\n",
        "# 텍스트 처리\n",
        "doc = nlp(text)\n",
        "\n",
        "# 각 단어에 대해 의존 구문 분석 결과 출력\n",
        "for token in doc:\n",
        "    print(f\"Word: {token.text}, POS: {token.pos_}, Dependency: {token.dep_}, Head: {token.head.text}\")"
      ],
      "metadata": {
        "colab": {
          "base_uri": "https://localhost:8080/"
        },
        "id": "ISy6HrMtJeXV",
        "outputId": "7afda66f-9b50-4409-99b2-837e99ab4a87"
      },
      "execution_count": 10,
      "outputs": [
        {
          "output_type": "stream",
          "name": "stdout",
          "text": [
            "Word: SpaCy, POS: PROPN, Dependency: nsubj, Head: is\n",
            "Word: is, POS: AUX, Dependency: ROOT, Head: is\n",
            "Word: an, POS: DET, Dependency: det, Head: library\n",
            "Word: excellent, POS: ADJ, Dependency: amod, Head: library\n",
            "Word: library, POS: NOUN, Dependency: attr, Head: is\n",
            "Word: for, POS: ADP, Dependency: prep, Head: library\n",
            "Word: natural, POS: ADJ, Dependency: amod, Head: language\n",
            "Word: language, POS: NOUN, Dependency: compound, Head: processing\n",
            "Word: processing, POS: NOUN, Dependency: pobj, Head: for\n",
            "Word: ., POS: PUNCT, Dependency: punct, Head: is\n"
          ]
        }
      ]
    },
    {
      "cell_type": "markdown",
      "source": [
        "### A. token.ancestors 속성을 사용하여 해당 단어의 조상을 확인하기"
      ],
      "metadata": {
        "id": "qeH8D686Keke"
      }
    },
    {
      "cell_type": "code",
      "source": [
        "import spacy\n",
        "\n",
        "# en_core_web_sm 모델 로드\n",
        "nlp = spacy.load(\"en_core_web_sm\")\n",
        "\n",
        "# 분석할 텍스트\n",
        "text = \"The quick brown fox jumps over the lazy dog.\"\n",
        "\n",
        "# 텍스트 처리\n",
        "doc = nlp(text)\n",
        "\n",
        "# 특정 단어와 그 조상을 확인 (예: 'fox'의 조상)\n",
        "target_word = \"fox\"\n",
        "target_token = None\n",
        "\n",
        "# 'fox'에 해당하는 토큰 찾기\n",
        "for token in doc:\n",
        "    if token.text == target_word:\n",
        "        target_token = token\n",
        "        break\n",
        "\n",
        "# 'fox'의 조상 출력\n",
        "if target_token:\n",
        "    print(f\"Ancestors of '{target_word}':\")\n",
        "    for ancestor in target_token.ancestors:\n",
        "        print(f\"- {ancestor.text}\")\n",
        "else:\n",
        "    print(f\"'{target_word}' not found in the text.\")\n"
      ],
      "metadata": {
        "colab": {
          "base_uri": "https://localhost:8080/"
        },
        "id": "rhwQHa2_KU-t",
        "outputId": "f2431ea2-1230-475e-f454-e31312392e6d"
      },
      "execution_count": 11,
      "outputs": [
        {
          "output_type": "stream",
          "name": "stderr",
          "text": [
            "/usr/local/lib/python3.10/dist-packages/spacy/util.py:1740: UserWarning: [W111] Jupyter notebook detected: if using `prefer_gpu()` or `require_gpu()`, include it in the same cell right before `spacy.load()` to ensure that the model is loaded on the correct device. More information: http://spacy.io/usage/v3#jupyter-notebook-gpu\n",
            "  warnings.warn(Warnings.W111)\n"
          ]
        },
        {
          "output_type": "stream",
          "name": "stdout",
          "text": [
            "Ancestors of 'fox':\n",
            "- jumps\n"
          ]
        }
      ]
    },
    {
      "cell_type": "markdown",
      "source": [
        "### B. token.children 속성을 사용하여 해당 단어의 자식을 확인하기"
      ],
      "metadata": {
        "id": "NPHQZp69KjF2"
      }
    },
    {
      "cell_type": "code",
      "source": [
        "# 분석할 텍스트\n",
        "text = \"The quick brown fox jumps over the lazy dog.\"\n",
        "\n",
        "# 텍스트 처리\n",
        "doc = nlp(text)\n",
        "\n",
        "# 특정 단어 ('jumps')의 자식 단어들을 확인\n",
        "target_word = \"jumps\"\n",
        "target_token = None\n",
        "\n",
        "# 'jumps'에 해당하는 토큰 찾기\n",
        "for token in doc:\n",
        "    if token.text == target_word:\n",
        "        target_token = token\n",
        "        break\n",
        "\n",
        "# 'jumps'의 자식 단어들을 출력\n",
        "if target_token:\n",
        "    print(f\"Children of '{target_word}':\")\n",
        "    for child in target_token.children:\n",
        "        print(f\"- {child.text} (Dependency: {child.dep_})\")\n",
        "else:\n",
        "    print(f\"'{target_word}' not found in the text.\")"
      ],
      "metadata": {
        "colab": {
          "base_uri": "https://localhost:8080/"
        },
        "id": "bbLXnGlYLVmu",
        "outputId": "0debf5dd-ad3b-468b-8ab6-43f8af369b87"
      },
      "execution_count": 12,
      "outputs": [
        {
          "output_type": "stream",
          "name": "stdout",
          "text": [
            "Children of 'jumps':\n",
            "- fox (Dependency: nsubj)\n",
            "- over (Dependency: prep)\n",
            "- . (Dependency: punct)\n"
          ]
        }
      ]
    },
    {
      "cell_type": "markdown",
      "source": [
        "# 2-8. 의존 구문 분석의 인터랙티브(Interactive) 시각화"
      ],
      "metadata": {
        "id": "BmKxU10ELeRW"
      }
    },
    {
      "cell_type": "code",
      "source": [
        "import spacy\n",
        "from spacy import displacy\n",
        "\n",
        "# en_core_web_sm 모델 로드\n",
        "nlp = spacy.load(\"en_core_web_sm\")\n",
        "\n",
        "# 분석할 텍스트\n",
        "text = \"The quick brown fox jumps over the lazy dog.\"\n",
        "\n",
        "# 텍스트 처리\n",
        "doc = nlp(text)\n",
        "\n",
        "# Displacy 시각화 서버 실행 (localhost:5009)\n",
        "displacy.serve(doc, style=\"dep\", port=5009)\n"
      ],
      "metadata": {
        "colab": {
          "base_uri": "https://localhost:8080/",
          "height": 672
        },
        "id": "mrpW_thzLdrn",
        "outputId": "57b98f60-70d6-4a3e-ceff-a7f0cd5e0f9f"
      },
      "execution_count": 13,
      "outputs": [
        {
          "output_type": "stream",
          "name": "stderr",
          "text": [
            "/usr/local/lib/python3.10/dist-packages/spacy/displacy/__init__.py:106: UserWarning: [W011] It looks like you're calling displacy.serve from within a Jupyter notebook or a similar environment. This likely means you're already running a local web server, so there's no need to make displaCy start another one. Instead, you should be able to replace displacy.serve with displacy.render to show the visualization.\n",
            "  warnings.warn(Warnings.W011)\n"
          ]
        },
        {
          "output_type": "display_data",
          "data": {
            "text/plain": [
              "<IPython.core.display.HTML object>"
            ],
            "text/html": [
              "<span class=\"tex2jax_ignore\"><!DOCTYPE html>\n",
              "<html lang=\"en\">\n",
              "    <head>\n",
              "        <title>displaCy</title>\n",
              "    </head>\n",
              "\n",
              "    <body style=\"font-size: 16px; font-family: -apple-system, BlinkMacSystemFont, 'Segoe UI', Helvetica, Arial, sans-serif, 'Apple Color Emoji', 'Segoe UI Emoji', 'Segoe UI Symbol'; padding: 4rem 2rem; direction: ltr\">\n",
              "<figure style=\"margin-bottom: 6rem\">\n",
              "<svg xmlns=\"http://www.w3.org/2000/svg\" xmlns:xlink=\"http://www.w3.org/1999/xlink\" xml:lang=\"en\" id=\"f1c4310b4f2b47d89297b4e85cfc479f-0\" class=\"displacy\" width=\"1625\" height=\"399.5\" direction=\"ltr\" style=\"max-width: none; height: 399.5px; color: #000000; background: #ffffff; font-family: Arial; direction: ltr\">\n",
              "<text class=\"displacy-token\" fill=\"currentColor\" text-anchor=\"middle\" y=\"309.5\">\n",
              "    <tspan class=\"displacy-word\" fill=\"currentColor\" x=\"50\">The</tspan>\n",
              "    <tspan class=\"displacy-tag\" dy=\"2em\" fill=\"currentColor\" x=\"50\">DET</tspan>\n",
              "</text>\n",
              "\n",
              "<text class=\"displacy-token\" fill=\"currentColor\" text-anchor=\"middle\" y=\"309.5\">\n",
              "    <tspan class=\"displacy-word\" fill=\"currentColor\" x=\"225\">quick</tspan>\n",
              "    <tspan class=\"displacy-tag\" dy=\"2em\" fill=\"currentColor\" x=\"225\">ADJ</tspan>\n",
              "</text>\n",
              "\n",
              "<text class=\"displacy-token\" fill=\"currentColor\" text-anchor=\"middle\" y=\"309.5\">\n",
              "    <tspan class=\"displacy-word\" fill=\"currentColor\" x=\"400\">brown</tspan>\n",
              "    <tspan class=\"displacy-tag\" dy=\"2em\" fill=\"currentColor\" x=\"400\">ADJ</tspan>\n",
              "</text>\n",
              "\n",
              "<text class=\"displacy-token\" fill=\"currentColor\" text-anchor=\"middle\" y=\"309.5\">\n",
              "    <tspan class=\"displacy-word\" fill=\"currentColor\" x=\"575\">fox</tspan>\n",
              "    <tspan class=\"displacy-tag\" dy=\"2em\" fill=\"currentColor\" x=\"575\">NOUN</tspan>\n",
              "</text>\n",
              "\n",
              "<text class=\"displacy-token\" fill=\"currentColor\" text-anchor=\"middle\" y=\"309.5\">\n",
              "    <tspan class=\"displacy-word\" fill=\"currentColor\" x=\"750\">jumps</tspan>\n",
              "    <tspan class=\"displacy-tag\" dy=\"2em\" fill=\"currentColor\" x=\"750\">VERB</tspan>\n",
              "</text>\n",
              "\n",
              "<text class=\"displacy-token\" fill=\"currentColor\" text-anchor=\"middle\" y=\"309.5\">\n",
              "    <tspan class=\"displacy-word\" fill=\"currentColor\" x=\"925\">over</tspan>\n",
              "    <tspan class=\"displacy-tag\" dy=\"2em\" fill=\"currentColor\" x=\"925\">ADP</tspan>\n",
              "</text>\n",
              "\n",
              "<text class=\"displacy-token\" fill=\"currentColor\" text-anchor=\"middle\" y=\"309.5\">\n",
              "    <tspan class=\"displacy-word\" fill=\"currentColor\" x=\"1100\">the</tspan>\n",
              "    <tspan class=\"displacy-tag\" dy=\"2em\" fill=\"currentColor\" x=\"1100\">DET</tspan>\n",
              "</text>\n",
              "\n",
              "<text class=\"displacy-token\" fill=\"currentColor\" text-anchor=\"middle\" y=\"309.5\">\n",
              "    <tspan class=\"displacy-word\" fill=\"currentColor\" x=\"1275\">lazy</tspan>\n",
              "    <tspan class=\"displacy-tag\" dy=\"2em\" fill=\"currentColor\" x=\"1275\">ADJ</tspan>\n",
              "</text>\n",
              "\n",
              "<text class=\"displacy-token\" fill=\"currentColor\" text-anchor=\"middle\" y=\"309.5\">\n",
              "    <tspan class=\"displacy-word\" fill=\"currentColor\" x=\"1450\">dog.</tspan>\n",
              "    <tspan class=\"displacy-tag\" dy=\"2em\" fill=\"currentColor\" x=\"1450\">NOUN</tspan>\n",
              "</text>\n",
              "\n",
              "<g class=\"displacy-arrow\">\n",
              "    <path class=\"displacy-arc\" id=\"arrow-f1c4310b4f2b47d89297b4e85cfc479f-0-0\" stroke-width=\"2px\" d=\"M70,264.5 C70,2.0 575.0,2.0 575.0,264.5\" fill=\"none\" stroke=\"currentColor\"/>\n",
              "    <text dy=\"1.25em\" style=\"font-size: 0.8em; letter-spacing: 1px\">\n",
              "        <textPath xlink:href=\"#arrow-f1c4310b4f2b47d89297b4e85cfc479f-0-0\" class=\"displacy-label\" startOffset=\"50%\" side=\"left\" fill=\"currentColor\" text-anchor=\"middle\">det</textPath>\n",
              "    </text>\n",
              "    <path class=\"displacy-arrowhead\" d=\"M70,266.5 L62,254.5 78,254.5\" fill=\"currentColor\"/>\n",
              "</g>\n",
              "\n",
              "<g class=\"displacy-arrow\">\n",
              "    <path class=\"displacy-arc\" id=\"arrow-f1c4310b4f2b47d89297b4e85cfc479f-0-1\" stroke-width=\"2px\" d=\"M245,264.5 C245,89.5 570.0,89.5 570.0,264.5\" fill=\"none\" stroke=\"currentColor\"/>\n",
              "    <text dy=\"1.25em\" style=\"font-size: 0.8em; letter-spacing: 1px\">\n",
              "        <textPath xlink:href=\"#arrow-f1c4310b4f2b47d89297b4e85cfc479f-0-1\" class=\"displacy-label\" startOffset=\"50%\" side=\"left\" fill=\"currentColor\" text-anchor=\"middle\">amod</textPath>\n",
              "    </text>\n",
              "    <path class=\"displacy-arrowhead\" d=\"M245,266.5 L237,254.5 253,254.5\" fill=\"currentColor\"/>\n",
              "</g>\n",
              "\n",
              "<g class=\"displacy-arrow\">\n",
              "    <path class=\"displacy-arc\" id=\"arrow-f1c4310b4f2b47d89297b4e85cfc479f-0-2\" stroke-width=\"2px\" d=\"M420,264.5 C420,177.0 565.0,177.0 565.0,264.5\" fill=\"none\" stroke=\"currentColor\"/>\n",
              "    <text dy=\"1.25em\" style=\"font-size: 0.8em; letter-spacing: 1px\">\n",
              "        <textPath xlink:href=\"#arrow-f1c4310b4f2b47d89297b4e85cfc479f-0-2\" class=\"displacy-label\" startOffset=\"50%\" side=\"left\" fill=\"currentColor\" text-anchor=\"middle\">amod</textPath>\n",
              "    </text>\n",
              "    <path class=\"displacy-arrowhead\" d=\"M420,266.5 L412,254.5 428,254.5\" fill=\"currentColor\"/>\n",
              "</g>\n",
              "\n",
              "<g class=\"displacy-arrow\">\n",
              "    <path class=\"displacy-arc\" id=\"arrow-f1c4310b4f2b47d89297b4e85cfc479f-0-3\" stroke-width=\"2px\" d=\"M595,264.5 C595,177.0 740.0,177.0 740.0,264.5\" fill=\"none\" stroke=\"currentColor\"/>\n",
              "    <text dy=\"1.25em\" style=\"font-size: 0.8em; letter-spacing: 1px\">\n",
              "        <textPath xlink:href=\"#arrow-f1c4310b4f2b47d89297b4e85cfc479f-0-3\" class=\"displacy-label\" startOffset=\"50%\" side=\"left\" fill=\"currentColor\" text-anchor=\"middle\">nsubj</textPath>\n",
              "    </text>\n",
              "    <path class=\"displacy-arrowhead\" d=\"M595,266.5 L587,254.5 603,254.5\" fill=\"currentColor\"/>\n",
              "</g>\n",
              "\n",
              "<g class=\"displacy-arrow\">\n",
              "    <path class=\"displacy-arc\" id=\"arrow-f1c4310b4f2b47d89297b4e85cfc479f-0-4\" stroke-width=\"2px\" d=\"M770,264.5 C770,177.0 915.0,177.0 915.0,264.5\" fill=\"none\" stroke=\"currentColor\"/>\n",
              "    <text dy=\"1.25em\" style=\"font-size: 0.8em; letter-spacing: 1px\">\n",
              "        <textPath xlink:href=\"#arrow-f1c4310b4f2b47d89297b4e85cfc479f-0-4\" class=\"displacy-label\" startOffset=\"50%\" side=\"left\" fill=\"currentColor\" text-anchor=\"middle\">prep</textPath>\n",
              "    </text>\n",
              "    <path class=\"displacy-arrowhead\" d=\"M915.0,266.5 L923.0,254.5 907.0,254.5\" fill=\"currentColor\"/>\n",
              "</g>\n",
              "\n",
              "<g class=\"displacy-arrow\">\n",
              "    <path class=\"displacy-arc\" id=\"arrow-f1c4310b4f2b47d89297b4e85cfc479f-0-5\" stroke-width=\"2px\" d=\"M1120,264.5 C1120,89.5 1445.0,89.5 1445.0,264.5\" fill=\"none\" stroke=\"currentColor\"/>\n",
              "    <text dy=\"1.25em\" style=\"font-size: 0.8em; letter-spacing: 1px\">\n",
              "        <textPath xlink:href=\"#arrow-f1c4310b4f2b47d89297b4e85cfc479f-0-5\" class=\"displacy-label\" startOffset=\"50%\" side=\"left\" fill=\"currentColor\" text-anchor=\"middle\">det</textPath>\n",
              "    </text>\n",
              "    <path class=\"displacy-arrowhead\" d=\"M1120,266.5 L1112,254.5 1128,254.5\" fill=\"currentColor\"/>\n",
              "</g>\n",
              "\n",
              "<g class=\"displacy-arrow\">\n",
              "    <path class=\"displacy-arc\" id=\"arrow-f1c4310b4f2b47d89297b4e85cfc479f-0-6\" stroke-width=\"2px\" d=\"M1295,264.5 C1295,177.0 1440.0,177.0 1440.0,264.5\" fill=\"none\" stroke=\"currentColor\"/>\n",
              "    <text dy=\"1.25em\" style=\"font-size: 0.8em; letter-spacing: 1px\">\n",
              "        <textPath xlink:href=\"#arrow-f1c4310b4f2b47d89297b4e85cfc479f-0-6\" class=\"displacy-label\" startOffset=\"50%\" side=\"left\" fill=\"currentColor\" text-anchor=\"middle\">amod</textPath>\n",
              "    </text>\n",
              "    <path class=\"displacy-arrowhead\" d=\"M1295,266.5 L1287,254.5 1303,254.5\" fill=\"currentColor\"/>\n",
              "</g>\n",
              "\n",
              "<g class=\"displacy-arrow\">\n",
              "    <path class=\"displacy-arc\" id=\"arrow-f1c4310b4f2b47d89297b4e85cfc479f-0-7\" stroke-width=\"2px\" d=\"M945,264.5 C945,2.0 1450.0,2.0 1450.0,264.5\" fill=\"none\" stroke=\"currentColor\"/>\n",
              "    <text dy=\"1.25em\" style=\"font-size: 0.8em; letter-spacing: 1px\">\n",
              "        <textPath xlink:href=\"#arrow-f1c4310b4f2b47d89297b4e85cfc479f-0-7\" class=\"displacy-label\" startOffset=\"50%\" side=\"left\" fill=\"currentColor\" text-anchor=\"middle\">pobj</textPath>\n",
              "    </text>\n",
              "    <path class=\"displacy-arrowhead\" d=\"M1450.0,266.5 L1458.0,254.5 1442.0,254.5\" fill=\"currentColor\"/>\n",
              "</g>\n",
              "</svg>\n",
              "</figure>\n",
              "</body>\n",
              "</html></span>"
            ]
          },
          "metadata": {}
        },
        {
          "output_type": "stream",
          "name": "stdout",
          "text": [
            "\n",
            "Using the 'dep' visualizer\n",
            "Serving on http://0.0.0.0:5009 ...\n",
            "\n",
            "Shutting down server on port 5009.\n"
          ]
        }
      ]
    },
    {
      "cell_type": "markdown",
      "source": [
        "# 2-9. Noun Chunks(명사 구) 확인하기"
      ],
      "metadata": {
        "id": "JkSrDP8SO1Py"
      }
    },
    {
      "cell_type": "code",
      "source": [
        "# 분석할 텍스트\n",
        "text = \"The quick brown fox jumps over the lazy dog.\"\n",
        "\n",
        "# 텍스트를 spaCy 문서로 변환\n",
        "doc = nlp(text)\n",
        "\n",
        "# 명사 구 추출\n",
        "noun_chunks = list(doc.noun_chunks)\n",
        "\n",
        "# 명사 구 출력\n",
        "for chunk in noun_chunks:\n",
        "    print(chunk.text)"
      ],
      "metadata": {
        "id": "IzNbsJCVPCLP",
        "colab": {
          "base_uri": "https://localhost:8080/"
        },
        "outputId": "1cab203f-4269-4f64-dd6d-fe128e84c9ce"
      },
      "execution_count": 14,
      "outputs": [
        {
          "output_type": "stream",
          "name": "stdout",
          "text": [
            "The quick brown fox\n",
            "the lazy dog\n"
          ]
        }
      ]
    },
    {
      "cell_type": "markdown",
      "source": [
        "# 2-10. 유사도 확인(Finding Similarity)\n",
        "### GloVe (Global Vectors for Word Representation)는 단어 벡터 생성하기"
      ],
      "metadata": {
        "id": "kU-3OlcjVm1t"
      }
    },
    {
      "cell_type": "code",
      "source": [
        "pip install gensim\n"
      ],
      "metadata": {
        "colab": {
          "base_uri": "https://localhost:8080/"
        },
        "id": "DYzdY9xFWlV_",
        "outputId": "c064bf47-dc17-4dd8-f634-3e6b50fbaead"
      },
      "execution_count": 15,
      "outputs": [
        {
          "output_type": "stream",
          "name": "stdout",
          "text": [
            "Requirement already satisfied: gensim in /usr/local/lib/python3.10/dist-packages (4.3.3)\n",
            "Requirement already satisfied: numpy<2.0,>=1.18.5 in /usr/local/lib/python3.10/dist-packages (from gensim) (1.26.4)\n",
            "Requirement already satisfied: scipy<1.14.0,>=1.7.0 in /usr/local/lib/python3.10/dist-packages (from gensim) (1.13.1)\n",
            "Requirement already satisfied: smart-open>=1.8.1 in /usr/local/lib/python3.10/dist-packages (from gensim) (7.0.5)\n",
            "Requirement already satisfied: wrapt in /usr/local/lib/python3.10/dist-packages (from smart-open>=1.8.1->gensim) (1.16.0)\n"
          ]
        }
      ]
    },
    {
      "cell_type": "code",
      "source": [
        "pip install requests\n"
      ],
      "metadata": {
        "colab": {
          "base_uri": "https://localhost:8080/"
        },
        "id": "36_dL8UyXEDi",
        "outputId": "38342248-3f1b-48c8-9b50-9b3204e1fdf0"
      },
      "execution_count": 16,
      "outputs": [
        {
          "output_type": "stream",
          "name": "stdout",
          "text": [
            "Requirement already satisfied: requests in /usr/local/lib/python3.10/dist-packages (2.32.3)\n",
            "Requirement already satisfied: charset-normalizer<4,>=2 in /usr/local/lib/python3.10/dist-packages (from requests) (3.4.0)\n",
            "Requirement already satisfied: idna<4,>=2.5 in /usr/local/lib/python3.10/dist-packages (from requests) (3.10)\n",
            "Requirement already satisfied: urllib3<3,>=1.21.1 in /usr/local/lib/python3.10/dist-packages (from requests) (2.2.3)\n",
            "Requirement already satisfied: certifi>=2017.4.17 in /usr/local/lib/python3.10/dist-packages (from requests) (2024.8.30)\n"
          ]
        }
      ]
    },
    {
      "cell_type": "code",
      "source": [
        "import requests\n",
        "import zipfile\n",
        "import os\n",
        "\n",
        "def download_and_extract_glove(url, extract_to='.'):\n",
        "    # GloVe ZIP 파일 다운로드\n",
        "    response = requests.get(url)\n",
        "    zip_file_path = 'glove.6B.zip'\n",
        "\n",
        "    with open(zip_file_path, 'wb') as file:\n",
        "        file.write(response.content)\n",
        "\n",
        "    print(\"Download complete. Extracting files...\")\n",
        "\n",
        "    # 압축 해제\n",
        "    with zipfile.ZipFile(zip_file_path, 'r') as zip_ref:\n",
        "        zip_ref.extractall(extract_to)\n",
        "\n",
        "    # 압축 해제 후 파일 목록 출력\n",
        "    extracted_files = os.listdir(extract_to)\n",
        "    print(f\"Files extracted to '{extract_to}':\")\n",
        "    for file_name in extracted_files:\n",
        "        print(file_name)\n",
        "\n",
        "    # 압축 파일 삭제 (선택 사항)\n",
        "    os.remove(zip_file_path)\n",
        "\n",
        "# GloVe ZIP 파일 URL\n",
        "glove_url = 'http://nlp.stanford.edu/data/glove.6B.zip'\n",
        "\n",
        "# 다운로드 및 압축 해제\n",
        "download_and_extract_glove(glove_url, '.')\n",
        "\n",
        "# 압축 해제 후 glove.6B.50d.txt 파일의 경로\n",
        "glove_file_path = 'glove.6B.50d.txt'\n",
        "print(f\"GloVe file path: {glove_file_path}\")\n"
      ],
      "metadata": {
        "colab": {
          "base_uri": "https://localhost:8080/"
        },
        "id": "A8hfx3CeXNre",
        "outputId": "469e4cee-33a9-4619-d803-b3494f2e314e"
      },
      "execution_count": 17,
      "outputs": [
        {
          "output_type": "stream",
          "name": "stdout",
          "text": [
            "Download complete. Extracting files...\n",
            "Files extracted to '.':\n",
            ".config\n",
            "glove.6B.50d.txt\n",
            "BP_MHS_V1.csv\n",
            "glove.6B.300d.txt\n",
            "glove.6B.zip\n",
            "glove.6B.100d.txt\n",
            "glove.6B.200d.txt\n",
            "sample_data\n",
            "GloVe file path: glove.6B.50d.txt\n"
          ]
        }
      ]
    },
    {
      "cell_type": "code",
      "source": [
        "# Process the text\n",
        "doc = nlp(\"How are you doing today?\")\n",
        "\n",
        "# Iterate over the tokens and print the text and the first 5 elements of the vector\n",
        "for token in doc:\n",
        "  print([token.text, token.vector[:5]])"
      ],
      "metadata": {
        "colab": {
          "base_uri": "https://localhost:8080/"
        },
        "id": "gUwsR0H7Ygbm",
        "outputId": "069897cc-9403-4b8c-85e4-bcd25a554314"
      },
      "execution_count": null,
      "outputs": [
        {
          "output_type": "stream",
          "name": "stdout",
          "text": [
            "['How', array([ 1.2135724 ,  0.13380583, -0.13430813,  2.2911372 , -0.31034702],\n",
            "      dtype=float32)]\n",
            "['are', array([-0.30536032, -0.89103276, -0.9438223 , -0.9552216 , -0.26692522],\n",
            "      dtype=float32)]\n",
            "['you', array([-1.6433206 , -0.03209116,  5.0255713 ,  0.65302396, -0.0645529 ],\n",
            "      dtype=float32)]\n",
            "['doing', array([ 0.24015924,  0.1737448 , -0.25438827,  0.5529757 , -0.7057611 ],\n",
            "      dtype=float32)]\n",
            "['today', array([ 0.08804998, -0.14953965,  0.13315469, -2.1172423 , -0.13333666],\n",
            "      dtype=float32)]\n",
            "['?', array([-0.7814718 , -0.548069  ,  0.17202088, -1.7350006 , -0.38479197],\n",
            "      dtype=float32)]\n"
          ]
        }
      ]
    },
    {
      "cell_type": "code",
      "source": [
        "# 분석할 단어\n",
        "word1 = \"hi\"\n",
        "word2 = \"hello\"\n",
        "\n",
        "# 단어를 spaCy 문서로 변환\n",
        "doc1 = nlp(word1)\n",
        "doc2 = nlp(word2)\n",
        "\n",
        "# 유사도 계산\n",
        "similarity = doc1.similarity(doc2)\n",
        "\n",
        "print(f\"Similarity between '{word1}' and '{word2}': {similarity}\")"
      ],
      "metadata": {
        "colab": {
          "base_uri": "https://localhost:8080/"
        },
        "id": "rxREqLapY-PZ",
        "outputId": "5d05f50b-245a-4f89-9c0a-b611c1b6e0a4"
      },
      "execution_count": null,
      "outputs": [
        {
          "output_type": "stream",
          "name": "stdout",
          "text": [
            "Similarity between 'hi' and 'hello': 0.7161104995803708\n"
          ]
        },
        {
          "output_type": "stream",
          "name": "stderr",
          "text": [
            "<ipython-input-24-a00eb003b91f>:10: UserWarning: [W007] The model you're using has no word vectors loaded, so the result of the Doc.similarity method will be based on the tagger, parser and NER, which may not give useful similarity judgements. This may happen if you're using one of the small models, e.g. `en_core_web_sm`, which don't ship with word vectors and only use context-sensitive tensors. You can always add your own word vectors, or use one of the larger models instead if available.\n",
            "  similarity = doc1.similarity(doc2)\n"
          ]
        }
      ]
    },
    {
      "cell_type": "markdown",
      "source": [
        "# 3. 챗봇 개발을 위한 자연어 처리 기능들"
      ],
      "metadata": {
        "id": "zaDv5ThGZOjt"
      }
    },
    {
      "cell_type": "markdown",
      "source": [
        "### A. 토큰화(Tokenization)"
      ],
      "metadata": {
        "id": "-u_i8VSSZWQs"
      }
    },
    {
      "cell_type": "code",
      "source": [
        "# 분석할 텍스트\n",
        "text = \"SpaCy is an NLP library for Python. It is used for processing text.\"\n",
        "\n",
        "# 텍스트를 spaCy 문서로 변환\n",
        "doc = nlp(text)\n",
        "\n",
        "# 토큰화된 결과 출력\n",
        "print(\"Tokens and their attributes:\")\n",
        "for token in doc:\n",
        "    print(f\"Token: {token.text}, Lemma: {token.lemma_}, POS: {token.pos_}, Tag: {token.tag_}, Dependency: {token.dep_}\")\n",
        "\n",
        "# 문장별로 출력\n",
        "print(\"\\nSentences:\")\n",
        "for sent in doc.sents:\n",
        "    print(f\"Sentence: {sent.text}\")"
      ],
      "metadata": {
        "colab": {
          "base_uri": "https://localhost:8080/"
        },
        "id": "Ikp_OdfaZDh3",
        "outputId": "dc83f76a-29cb-413a-d709-6a7248825429"
      },
      "execution_count": null,
      "outputs": [
        {
          "output_type": "stream",
          "name": "stdout",
          "text": [
            "Tokens and their attributes:\n",
            "Token: SpaCy, Lemma: SpaCy, POS: PROPN, Tag: NNP, Dependency: nsubj\n",
            "Token: is, Lemma: be, POS: AUX, Tag: VBZ, Dependency: ROOT\n",
            "Token: an, Lemma: an, POS: DET, Tag: DT, Dependency: det\n",
            "Token: NLP, Lemma: NLP, POS: PROPN, Tag: NNP, Dependency: compound\n",
            "Token: library, Lemma: library, POS: NOUN, Tag: NN, Dependency: attr\n",
            "Token: for, Lemma: for, POS: ADP, Tag: IN, Dependency: prep\n",
            "Token: Python, Lemma: Python, POS: PROPN, Tag: NNP, Dependency: pobj\n",
            "Token: ., Lemma: ., POS: PUNCT, Tag: ., Dependency: punct\n",
            "Token: It, Lemma: it, POS: PRON, Tag: PRP, Dependency: nsubjpass\n",
            "Token: is, Lemma: be, POS: AUX, Tag: VBZ, Dependency: auxpass\n",
            "Token: used, Lemma: use, POS: VERB, Tag: VBN, Dependency: ROOT\n",
            "Token: for, Lemma: for, POS: ADP, Tag: IN, Dependency: prep\n",
            "Token: processing, Lemma: processing, POS: NOUN, Tag: NN, Dependency: compound\n",
            "Token: text, Lemma: text, POS: NOUN, Tag: NN, Dependency: pobj\n",
            "Token: ., Lemma: ., POS: PUNCT, Tag: ., Dependency: punct\n",
            "\n",
            "Sentences:\n",
            "Sentence: SpaCy is an NLP library for Python.\n",
            "Sentence: It is used for processing text.\n"
          ]
        }
      ]
    },
    {
      "cell_type": "markdown",
      "source": [
        "# B. 정규 표현식(Regular Expressions)\n",
        "### spaCy의 Matcher를 사용하여 텍스트에서 특정 패턴을 찾는 방법과 re 모듈을 사용하여 정규 표현식을 적용하기"
      ],
      "metadata": {
        "id": "yWzeq-6eZ8JP"
      }
    },
    {
      "cell_type": "code",
      "source": [
        "import spacy\n",
        "from spacy.matcher import Matcher\n",
        "import re\n",
        "\n",
        "# spaCy 모델 로드\n",
        "nlp = spacy.load(\"en_core_web_sm\")\n",
        "\n",
        "# 분석할 텍스트\n",
        "text = \"\"\"\n",
        "Contact us at support@example.com or sales@example.com.\n",
        "Our office is located at 1234 Elm Street, Springfield, IL 62704.\n",
        "Important dates:\n",
        "- Project start: 2024-09-01\n",
        "- Project end: 2024-12-31\n",
        "\"\"\"\n",
        "\n",
        "# spaCy 문서 객체 생성\n",
        "doc = nlp(text)\n",
        "\n",
        "# Matcher 객체 생성\n",
        "matcher = Matcher(nlp.vocab)\n",
        "\n",
        "# 이메일 주소 패턴 추가\n",
        "email_pattern = [{\"LIKE_EMAIL\": True}]\n",
        "matcher.add(\"EMAIL\", [email_pattern])\n",
        "\n",
        "# 날짜 패턴 추가 (YYYY-MM-DD 형식)\n",
        "date_pattern = [{\"SHAPE\": \"dddd-dd-dd\"}]\n",
        "matcher.add(\"DATE\", [date_pattern])\n",
        "\n",
        "# 패턴 매칭\n",
        "matches = matcher(doc)\n",
        "\n",
        "# 결과 출력\n",
        "print(\"Matches found:\")\n",
        "for match_id, start, end in matches:\n",
        "    match_id_str = nlp.vocab.strings[match_id]\n",
        "    span = doc[start:end]\n",
        "    print(f\"Match ID: {match_id_str}, Span: {span.text}\")\n",
        "\n",
        "# 정규 표현식 사용 예제 (이메일과 날짜 추출)\n",
        "email_pattern_re = r'[a-zA-Z0-9._%+-]+@[a-zA-Z0-9.-]+\\.[a-zA-Z]{2,}'\n",
        "date_pattern_re = r'\\d{4}-\\d{2}-\\d{2}'\n",
        "\n",
        "emails = re.findall(email_pattern_re, text)\n",
        "dates = re.findall(date_pattern_re, text)\n",
        "\n",
        "print(\"\\nEmails found using regex:\")\n",
        "for email in emails:\n",
        "    print(email)\n",
        "\n",
        "print(\"\\nDates found using regex:\")\n",
        "for date in dates:\n",
        "    print(date)\n"
      ],
      "metadata": {
        "colab": {
          "base_uri": "https://localhost:8080/"
        },
        "id": "ZihrMe3GZ7f9",
        "outputId": "f5846c1e-5b7c-4e92-bdfd-5bc1892a40c0"
      },
      "execution_count": null,
      "outputs": [
        {
          "output_type": "stream",
          "name": "stdout",
          "text": [
            "Matches found:\n",
            "Match ID: EMAIL, Span: support@example.com\n",
            "Match ID: EMAIL, Span: sales@example.com\n",
            "\n",
            "Emails found using regex:\n",
            "support@example.com\n",
            "sales@example.com\n",
            "\n",
            "Dates found using regex:\n",
            "2024-09-01\n",
            "2024-12-31\n"
          ]
        }
      ]
    },
    {
      "cell_type": "markdown",
      "source": [
        "# 4. Building Chatbots_Excercise 1_Dialogflow"
      ],
      "metadata": {
        "id": "3mDle5DBa4kg"
      }
    },
    {
      "cell_type": "code",
      "source": [
        "pip install python-docx\n"
      ],
      "metadata": {
        "colab": {
          "base_uri": "https://localhost:8080/"
        },
        "id": "9XHIyIxUnNMV",
        "outputId": "891a4021-ceaf-47be-eaa3-b57d8f657e93"
      },
      "execution_count": null,
      "outputs": [
        {
          "output_type": "stream",
          "name": "stdout",
          "text": [
            "Collecting python-docx\n",
            "  Downloading python_docx-1.1.2-py3-none-any.whl.metadata (2.0 kB)\n",
            "Requirement already satisfied: lxml>=3.1.0 in /usr/local/lib/python3.10/dist-packages (from python-docx) (4.9.4)\n",
            "Requirement already satisfied: typing-extensions>=4.9.0 in /usr/local/lib/python3.10/dist-packages (from python-docx) (4.12.2)\n",
            "Downloading python_docx-1.1.2-py3-none-any.whl (244 kB)\n",
            "\u001b[?25l   \u001b[90m━━━━━━━━━━━━━━━━━━━━━━━━━━━━━━━━━━━━━━━━\u001b[0m \u001b[32m0.0/244.3 kB\u001b[0m \u001b[31m?\u001b[0m eta \u001b[36m-:--:--\u001b[0m\r\u001b[2K   \u001b[90m━━━━━━━━━━━━━━━━━━━━━━━━━━━━━━━━━━━━━━━━\u001b[0m \u001b[32m244.3/244.3 kB\u001b[0m \u001b[31m14.9 MB/s\u001b[0m eta \u001b[36m0:00:00\u001b[0m\n",
            "\u001b[?25hInstalling collected packages: python-docx\n",
            "Successfully installed python-docx-1.1.2\n"
          ]
        }
      ]
    },
    {
      "cell_type": "markdown",
      "source": [
        "![image.png](data:image/png;base64,iVBORw0KGgoAAAANSUhEUgAABWoAAAJfCAYAAADmXu/iAAAAAXNSR0IArs4c6QAAAARnQU1BAACxjwv8YQUAAAAJcEhZcwAAEnQAABJ0Ad5mH3gAAP+lSURBVHhe7N0HfFRl2jbwK5k0EhJIT0gghUBIIPQSOoYOgoiIsKi4KK6Kr+D6Kayirivryuvuirsqu6K+suiiiCgg0iOE3ksagZCQQnohvU74znPmTDKZTCoJmcD153fIKc+cNjOn3POc+zEpLS29DSIiI5Gbmws3NzdliIiIiIiIiIjIeKWlpcHe3l4ZujOmyl8iIiIiIiIiIiIiaicM1BIRERERERERERG1MwZqiYiIiIiIiIiIiNoZA7VERERERERERERE7YyBWiIiIiIiIiIiIqJ2xkAtERERERERERERUTtjoJaIiIiIiIiIiIionTFQS0RERERERERERNTOGKglIiIiIiIiIiIiamcM1BIRERERERERERG1MwZqiYiIiIiIiIiIiNoZA7VERERERERERERE7YyBWiIiIiIiIiIiIqJ2xkAtERERERERERERUTtjoJaIiIiIiIiIiIionTFQS0RERERERERERNTOGKglIiIiIiIiIiIiamcM1BIRERERERERERG1M5PS0tLbSj8RUbvLzc2Fm5ubMkRERERERETG7PZthpWMmYmJidJHbSUtLQ329vbK0J1pmxq1VZUwybsK08QdMI37FqZJu2BScEP69lYpBYiIiIiIiIiIqCMSwVltR8aN71XH0ro1aqU33aQ0A6ZJP8tBWpOsizBRF+O2mS1uuwZD3eNhVHlMBiy7Ki8gIqqNNWqJiIiIiIiMk26wr77AHwOC7au+GrS641nLtnW1Zo3a1gvUVlXCNPUQVDEbYJJxHCZl2dK3U6cGrYkKt63dUeU2Huo+z+G28zBlAhFRDQZqiYiIiIiIjIuhAK3+X4FBWuNgKCir/1dgwLZ1GF2g1qQ4FaqLf4Jpwg6YVOTJQdt6mZrjtqUTqvweR2XflwErB2UCEREDtURERERERMZEPxBbX6el2093n34gtr5OS7efWsZIArXSyyqKoLr+NcwuvAOU5Srjm+62rS8qB7+Lqh4PAioLaQw/HET3OwZqiYiIiIiIjIc28KoNyFZVVcmdtl87XnTactR+tIFX3aCsqalp9V9tv+i05ejOtHOgVipelgvTjJNQRayDaeYJoKpCmdYCqk6o6j4D6oDnUeUwADC3VSYQ0f2IgVoiIiIiIiLjoBt8FZ0IzKrVaoRl5uPL5ChYqW7J08m4laq7YolnIMY520GlUjFY28raL1CrLoVp5imYxm+F6Y1tmjy0reS2TXdU+S2C2nMmbjsOlFMkENH9h4FaIiIiIiIi46AN0OoGaUX39OUzDNJ2MCJY+0X/YXKgVj9Yy0Dtnbn7gdoqNUxyLkGVtAOmN36ESV6MMqGVmZjitsNAqL0fQZXXbNy28xMjNdNamTjIFBQUIi09XRlTQ3xgu9jZoUsXO5ibGw4Yq6UDVHLyTfmD3d3TQxnbdOXlFfKyy8vL0c3dDdbW1sqUuycvLx9Xr8UiPSND2h9AT18fBAb4o7CoCJmZWdJB+DZ8fbz4haW7ioFaIiIiIiKi9ifiJtq/ukHayspKvHQlVJ5GHcs/+oTAzMysTrBWYOyn5e5qoNakOAWmcd/CNOEnmOZcBNTlypQ2ZN4ZVU7DUeXzKNReDwGWrd/gmDjIXAqPxI6dvyhjapiamqBTp05wcnJEUL9ADAjqJ3+QdV26HIH9B3+VD1ALH5sHrx7dlSlNk5N7Czt37ZbezHQ89uhceHv1UKbcHbnS8sX6n7twEfn5BfL+mD51MubMnonrcTewe99+lJeW4aUXn6uz7URtiYFaIiIiIiKi9qetSasbqK2oqJC738eGKaWoI/m73zi5QqLoWKu29bRmoNZU+VtXVTlMk3bBLOy3MLv0Pkwzz9ydIK1QUQjTtENQnXsD5sdfkJZ9WjpCVCkTW4eITpeUlCAlNRVmZiq55mivXj3lTtSQLSgowLnzF7D5ux/w9X+3oKy89rYnJCZKXRLibyTgRkKiMrbpqqQDXE5OLtLTM+SD3N0kgsuR0dE4duIkbKxt8OzTT+G13y9H8PCh8vSy8jK5Rm16RqZcq5aIiIiIiIiI7l/aYK02YEsdk3jvtO+jeE/J+BgM1Ircs+ZHn4V56AKYpocBFfnS2Lv8Bt6uktYjB6aJ22G+dyrMzqyS1qNImdi6+vTpjUceno2F8x+Ru8VP/Aar//Aqnv7tk7C27oSTp8/gk/Ub5ACnVr9+fdG1axc4OjhgYP8gZWzHUFZWjvgbiSgtLcPEkHHo378fevb0gZubq1KCiIiIiIiIiEgTpNWvWUsdkzZQq/ueknGpCdRWVcKkOBWq8L/CYmuAnO4AtyvEN1Ip0E7E8itLoIr6Byx+GghV7H/kAG5r1rA1Ef9Malf3FtXARQD2d8/8Fu5uroi9fh2/7N0vf6AFX28vvPv2G3jv3bfkXLYdSaW6EkVFxfI22na2hcq0/orVRHQ/KUNZmdJLRERERET3Lf0Anm5gTxsXoY6noSCt/jC1DzlCd7uqEqZZZ2B2ZAnMzv9RqUFrfEyKkmB2YrnUrQByo1o1WFsfj27umP3gDOkDC5w/fxEZGZnyeNEYWFZWtpweQPfDXFxSguSbKYiMuoLL4RHyX5Eaoai4uMkf+tLS0lrziI6OkVM0lNUTQRE1fUWqgitXr+FyRCSuxFxFmkipII0vKiqS11H72qzsHLmsGBarcysvT54uOt0aw4aI9S8sLJLTPYRHRMnLEo2RZWTWfm1OTo40LgvFxSXKmBri9WJZ+QUFdfaHqOErpuXl58uNtREZpYTPMcXXF76ie+WQMrJxh15RXuM7BZ8nKCONScImzOsVgIAAX8zbmKSMrFGz/vV3A0dNwaLXP8ehBEZ7iYiIiIjuFdp7d/FX21HHpP8e8r00PqrVq1f/0eRWAqqOvw+TmwdgalohqpgararKSlSmXkNVaRVMug0HzK2VKc0jPow3b6bg0uVw+PX0RS+/njA3N9xolrOTIy5cvCQHF52cnOSGv1JT0/Hz7r04f+EShgwaICdgFgHQI8dP4EDoIRwKO4oTp87gvPS62OvxyMnNkdMk2Np2lucpgpiXwyORn5+PYUMHy9PEOolGvsRrD4Yexq+Hj+CkNA/RcJkI9oogsIO9vdzQmZbIb3vxUjj2HQjFgYO/4vjJ0/J8E5OS5SrtSck35Xl5enSTUzV8u+UHXLh0GSkpqSgvL5cbbhLB1ojIKPhJ+8DGxhqZWdmIjIqWg68hE8bJCabV6iokJiYh9FAYQn/VrNuZs+cRLr0uOTlF/lVGbIOFhbk0PQzHTpyCyEPdvbunsqYae/YdxJGjx+UGzLq5u8PS0kIeL9b16rVr2PHzbrlGs7ubGxsxu0+JHyo6d9Z8T4xS3nls2ngEOaI/4CEsn+otj27MjX0fYfsV0eeAsU89gcFd5dFGo+zIv7D6l+tyf2pON8xdOBhd5CGNmvWvX1lhDpIjjmD7xk+wq2A4HhrXHZbKNCIiIiIi6ni0QT3Rift+EScQXWhBilKCOpIQ225yrEV0+o2JCdq/1DyFhYW1YnV3Qq5RW5VxBeURR1GSehuleRbSl8/43hjpmICKEqAkQ+pSylEZEYrbuXenWpr4APfs6YsyUeMzXVoBiQiaigBn9JUYOYhZKQKNsdc1Qci8fEwYNxqLH1+IB2dMlYOXR4+dxI5du+UGzOojpv24/Wc50CsOglMnh+DJRQsxaeIDck1UEeQU0/Kk+WuJoOxPO3Yh7sYNDBgQhN88Ng8zpWVaWlpi1+69OBx2TF5HUbNWsLCwkFMeiC+jIL6YYpzoTOv5Qop9fzMlRV634ydPwd6+K+Y9/BAe/81jGDZksDQtVd42kctX1DQWqSBE4Dcy+oq8n7RKSkvl/SPWRwTIRY1kLRFwFrV0RW1dkYpBrCMR3T2W4x/DfGfR54ypzzyE7vJYQ5wx++31WP+xfvcOlk3sWx2Yjf1yERZ9WbdmbmtJ+mxKdU3eFQeVkURERERE1GZEnILuDcbwXlaV5yG/IA8lDT/cfd/RROvKi4CiW1AXVqIsrRJFyRaoKLKQA3TGQF0BlGYDJclARa70gRJP1RamS+tdqClwF4jaouJxfJHb1RAzlQpB/QLxyMMP4enfPoHpU6dg1MgRmPjAeMydMwseHt3koKoIRNbnUNgxuQaup4cH5s97GFMmhUjzGC79fQCLFj4GJ0cHnDx9FlFXrsg1UEXwVQRPS0pLEDJhPB6ZMxtjx4zChPFj8egjcxDUty/S0qX9pGPWzGmYM3smunf3gKmpCuPHjcHCx+bJnQjAGiJqOB4+cgyxcfEYMniQNO+HpWWMwWhp+x6U5jdr5nQ58LtvfyhS09LQr28gOllZyTVz09M1qSKEmJircgoIK0tLOTVDWkZ6dW4bEeAVgW8XZye4u7tDpWLeXKK7ym4C3j8Vh7i4U1g/S47Y1qML+k2Yiqkz9Lsn8MqGnbi45xX4KSUjP/gc55V+IiIiIiLquBikvfe053tacuMiDoRF4PipCBw+dApnkgqUKaTJUat9c6S/tyuroM4vQ3GSGsXpVlBXqDTT2kGVGijLN0FRkvQ3XRoWAVpt6tLbopXBu/eh0rZqWF8tcFE9vIudHYYNGYSevj7o1MlKHi9qhoq0Cn1695JrrIo0CIaIgOXBXw/LNWFHBg+Hr4+3XMtVzFf89evpg5AHxsu5ZS+HR8k1bM+ev4is7Gw5sDth3Bh07mwjlxc1UkW6hvFjR6Gbu5uyBA1R21WkQDA3F/MGOtvYwF4aFp2oXWtIcUkxzknLcnV1wagRw+Em/RVlxbJsrK0xbOggDAjqh4LCApw+c05eD3//XsjJzkFGhqYGsnDk2AlYd+ok18IVtZTj4m5U1zDOyMpEalq6nPJAzJ+IOibL3s/gxYnKQNkJnDfGfLxERERERNQiIn7EoG3HZRTvX1kcLsQWVYf3gEpkX4tHojJ0v6u32uLtSjUqsstQmKhC6S1zVKnvXjoE0UaYSHNQnG6CkuTbqBKVWNv5c5SdnS0HFxvKnSnytIiGvD7/v/9gxf9bhd8tW4GXfr8S6/75qVyTVgQ2dRvd0iXSB4icFiLIKYKyoqwuUWPV3c0VTk6OSElJQWlZqZxCQOTVFUFdkVtWnwjI6ueIbQmRg1YEVN1dXeVgrf66iUCyWI51J2vEXo+Tg7gicCu2RzSKJnLhigbCoq9clbcveMQweHq4yzVoCwo0taKjomLkILWnZzeD20JEHYUlAgdr69RmIENO5ktEREREREQkKSxFneanqypRVq703+cafr5cRNpLylGaUoXiFAuUF6pQpW67R9JFUL+yFCiVbuyLk6X+HGmEETT+L2qxXr12XW74SqQwMETkWBUNaP3fxm/kFAei0S//3r3g1cNTTpcgGvcql8rURxvAFSkUrK0NBypFoFikFKisqMTtqtsoLS2Tg6ailqohImCqbbzsTlRUatZbBGTryx0r9o2ZuZm0bhXyOonArZ2dnZzb9tatPIRL+0TUSu7j31vah+7Sfukup0ZISUuTx1+OiJRr9fp4N61hJqJ7Vdn1Q/j8lVkYMVCTf1XuAkZg1tK/YW9CndOZ4hBWaMu+ckgekx+1Be8tmoKBvZTxvQZiyqL36p9HwueYosxjymd3llv2+pVYpa87XBrKopAbiS1rFmGK7rYOlLb1lc9xyNB6HlxRXW78+9plADuWal8/BZ+zBi8REREREZHxcrSDnf4D3RZW6Kppa/6+17Soa5UalXllKLlpipIMFSqKzHC7FWvYigCtuhwoywVK0oDSdGlcffGIu0xUCReP82fn5MDJ0RG9evoqU2rLzMzCmbPn5QazROqCJb99Ar9fvgwr/ucFLF2yGEF9A+SUBPXRBltFwLa4njy4omaqaJzL0spSrmEraqdWVd1GodJQmL7KSnV1jdU7IWrKCmXlZSivMPwTR0lJqRystlJSPtjZ2sopH5JvpiIjKwuXwiPl8QP695NbwuvRvTusrTvJAVyRrzYlJRXOTk5yTVui+5I6EzteHIGAyUvw3o+RyKxpM1D68mUi8uAneP6BAMz7siZAaVgGzn84DwMfXIXPT8QiX5O1RZp/PmJPfC7NYwRWHNSdeSu7/jk+3qn0e07AhHoq9cd+uwQjhszCqi9PIFZ3dfKlbf3xPSwR2/rhebThmhIREREREdFd54lBg1zR1UwzZGppiz6De6OhOj73k2ZVj71dUYGKnEqUpAIl2eaoLFVJI5WJLVRVCZRLd+IiQFuWAagLAZN2TnOgJWp6Xrh4GXv3H5Rrs44ZFQxHRwdlam0iQHsrLw9du9hh/NjR8OymqXkrarWKmqXi9VUN5AGxt7eHg4O9nHv2Wuz1OjlDRABXBDNzc2/JeVytrKzkQKgYn5SULNda1SVen3vrFhIS7rzVdZFuwdbWFqmpaUhLS6+zbiItQnLyTbmGr6+PjzxOBGF7+fmipLgYly6FIyExEfZdu8LHR1Nj1qObO5wdHREZfQWnTp+V95O3t5ccxCW6/5Th0B8mY8UvSuN7PefjnW/24dSpU1K3D9+8+wwG22kmnV8zD2+f1fQb9OMqzPvnecB5MJ55dz2+/OYbfPnxO3hmqPa0l48dr/wN57UB3NZSnInIraswZdp70Pws0xev/19Nw2K6MrcuwpTXD0HeWpUfZq9aj51h2m2dDz/l19Xz/5yHRZ/pBKYnrkNcnGjwLA6HV9XMefYGzbi4uH14xksZSUREREREREbJtKsfgieMxrRJozFlbH94d1aittS8QK3s9m1UlVaiPFsEbE1RkmvRovy1ItYn8tCWZAClaUBlgTTOcPrWu66svBzXYuPw0/Zd2LZ9J3Jyb2FyyAMYNnRwnfysWnJagk6d5BqvBQUF1cFMke7g/IWLiIqOkRsMq4+FhTkmPjBeDvgeP3kaoqEt3YCoyHF7KOyonBqhb98+ch7XoYMHwcHBATcSEuWGusSytYqLS3Ag9BAyMpXAzx2ws+2MIYMGSPPKwtFjJ5GTk6tM0dTyvXApXE5dYGPdSd5Hgtgfbm6ucp7cs+cuoLCgUJ5mZWkpTxe5bt3d3eXA9LETJ2FpYYGAPv7ytI7g6DtTsfqoMtBUyVuxaORaNPdlhp3G6labF7W7zO3YsFWpOzpxHS7ufx9PjPSDs7Oz1Plh5KLXsfUHbdAzH5u+2FE3p48Ou6nrcOr4Vry+aComjByJCTOewOtb9mP9LM33D/lbsP2Cprf5YvHeA9pUAzpdvxGY9doWxIoAcM/5WP/rVjzTU/OKWtK2YMVrJzT9drOx/vQ+rHt2Kvp6arf1few79yVmK4HpyPefxt/CNf1ERERERNQxOPtOwVfD5+A9H/3Ujs74nwFz8NWwB7BAGVPNcxw2SK/5qLfuY3nWmOg9Dh8MmSXPT+6GTMM70j2Ifh2NaX1m1pTR6TYYKL+kv5g2EUuU4Rqu0jSxrFnSurtqRvlMlOfznqZemky7rE/9DVVNkRh4jczGF8/1nYZPh+ms3+CJ+H0Pz/uuRmlVeR7yC/JQYiSxQGPR8oSz6iqoiypQllaBwiRLlBdZysHXxogy6gqgJBMoTgQqcqVxIgVqE17bVg4fOYa3330Pq974o9y9+cc1WP/Z5/g17Ij8SP/jv3kM06dNkmux1sfVxQUB/r3lWqVfbfovvt/2E/buO4gvv9qEn3bsklMV1JffVUvU2BXBzISERHyxcRO++fZ77DsQKv3dgvX//gLpGZkYMXwoBgQFyTVQRbB24fxHABMT7D/4KzZ8sRG/7NmPHT/vxt/WfYyo6CtwdLBX5t5yopGvcWNHo6evjxx0/uf6z/CjtE1i3f7vP99gy9YfUVJcggdnToO7u5vyKunw6+wEDw8POYCsrqqSGxHTEvuip6+3vE9FsNbJyUnOW9veCi5vxauPP4JRI6diiNRNeGgFVm+LRkFr1z6ke8OPS+oGLOvplvyovMYQm8F48eP1WC9136yaCiVGWVvP2ZjfW+k/dE6ptWqA5RPSfGbDWT/njzTXqU/MhyZUW4bzl++8tn29ivKQlGk4lBy7+RNowrSWmP23tZhq6BBlNwHrNi2D5oiQhE8+bTgwTURERERExiUzvwDiuV/nTnrh1C5e6CFuSkw6w08vTVqwtTXMoUamaLRI5oxHAh7AEy4OUl8ZYvOScTIvB5m3reDl1B+rgwahv1KyhhopolyW0uVkIhOa8iv7+DUSDHXFE/2GYpwVkHcrGh/Gpyvj62fdxR8ra8IgDes6CO8F9EewjTkqSjNxTqxfXh6KTWzR320QXtYGhu8DJTcu4kBYBI6fisDhQ6dwJqlAmUItD9RqVd1GVWEpihMqUZRqhcry+tMhVKmBsnwTFCYA5RntHKCVlityxso1PG/fRllpmfwIv+iq1FXw9uqBObNm4O3VKzEqeLjckJYuEXgVAUxtDVErK0tMmjhBKjtCbnzscNgx7Nj1C65ei8XIEcMxauQI2EgHHRFglZkA5hbm8jzEvAQRtJw/72FMnhSC8rJynDh5Gtt3/oLjJ07DVGWKqZMn4qFZM+UArVZggD9+++Rv5ICsSJmwa/deOVVDcXExZj84HYMGDVBK1jCR/pmbm8HC3KJ62brEOLG9ooEwUYFY1CIWqQp+s+BRDBo4QE6zcOBgqLxu4RFR6GJni4XSNLGd5mY11dVFg2qiMTXROJrYn2IeukTqBrHeYh8OGthf2jd3/nG8E/FfL8PUNy+h/8uf49eje3HuhLQvNzwF/6Pv4JFX9yBFKUfU6qz9MHLGVEyVupE9lVqvDSnLqz93q1d3eNYJ0iqcuyvBT2kWLf7V0g/LfhBpCvS6Pd9gvUjRIK580vbivfkDDeTTjcT2b5UAsfMzWDqxgW0NehLPDFL69x5XgrtERERERNQhZN1Cphowt+yKYGWU4OzQRRMsva1Ct866tVGtEShXjitGihKnde7RD9NsRVAzAX8/tw9rYs7iXzFhePX8r/ghvwLmnbywwEc/9FqFvDypXJzSxR7D6+cu4HKFtAQ7L8yqt/6dNab1GYqJ1uYozo/GmquxmlRtjTJHgPtIjFOG6ueM53p4oZtpBWKTw7A8/Bj+KdYv5lcsj4xAdKW0P5wH4LkuSvF7WVkcLsQWSe+UViWyr8UjURm635mUlpbeVl/+HpXfPYOqsjuss2RiAlNLc1jY34a5rRoqc2m3m2gCtJUlQHme9Ff8pFJ/BoAmU3W2gfniH2DiM0EZYzxSUlMRH58gBzy7d/dAN3d3gwHR+sj5ZXNvIS7+hpwKQeR79fP1RZcudevZibIiMCwaDhPl8/MLYGdnCz8/X6grK/H9tu1ynt0Xn18K/969lFe1nEjfkJaejhs3kuRli9QG3l7dYWNjo5TooK5uxKwX0/DyDysRYquM01In4oslS3HlyZ34YKImYC9SH+yZuBdrxsiDTSNSHzx6Hc+fWInmvMwwkfrgV0xrlXkZl9zcXLi5NfUnyXaQ8DmmPPAe5BDkjHU49fZIeXRjTrwzAit+EX1+eP3X+nOp5kdtwYZ/b8fek+cRW0+tVGA2voxbh5qj3yGs8F2CHaK39+s4vOeZ6oBsLTrr7rfqMPY9q1OqoWmSQ69oawU3vP4oi8UnD03B366KgZF4//g3mK99O4t3YEm/FdLaSmatR9xHU+XR9Yn8YIRUTFwe1V1m0mdTMP59TSBY5KhdN1HuJSIiIiKiVqBNxShiAKIT7eOIBsRF/KG0tBRvpp6TpzdkSdAcjOtUjJOX9+FfpZpxC/rNwTTLPMRWdIGfKh3/unACJ+UpAVg9xB9+lSlYe+k0okVgs/9oBFtJr4+RXl+7WR7Aqj/eCfKFV2XNPEQ6ggV2QHTiLqxN0xTT0p8mUh+MsypA2OmD+FKa3t9nIv7H2RYoTcA/L1/AZc3LNEQaA2laSuZPeD1eM0o7v0xpu5ytzJGZcwKvxurUwNV/jdNIfOTrii7S/F+V5q8fBBapIj5wskZm1j68Gme4gfnW8K77ELmSoKg0KJ50FmkrRbxKG7OqL91nq8qOwq8XcvWemuyEnuMGo1ftOpIdRlpamtz2VGto3SqM0he5qrQcpelVKE41Q1m+GSqKTVGaBbkBskqR2rQVgrTGTgRmR48Kxsjg4fD08GhWkFYQXwzRsNjQIYMwdvRIDBk00GCQVuSHPX3mHH49fEQ+UPYP6osxo4Plv52kL15Wdo7c0JirizOsW6mRLrEtYvtGjRwubeMI9A0U+XI7eJBWEv7zDuDRR+oGaQVVD8xZOAbxV6KUEYYVRO7A6iWPyCkThox5BPNWbUW4/slEUp5xFGufUdIrSOUWfXAU2bVSK5Qj5eAGPLdAmZdIwbDgXWyKLFSmk9GwtFPyyDbe2TVWUbYsFpueHIiBD67CJztPNBCkNXKWflj29hNKioUT+NsmnSQNmRmofojJU+85JwPsumh/Tk5C0p2n2yYiIiIiorvoRIkIOFrCyUkzLIKxfuJGoSwTPxRL08xtMUx7ye/UVU7fVlyWg2h5hCd6iNqvpTn4wcB9NUovI0HcMknzGFh/lkqFNZzNRCpKNSoMPFno7D4azznbwrxSWq+rekHaRmRlxiBaup93dhiA/+mqjDTE1hpiU0VaB0O3Nplx+/DU6Z/aNEhrNBztYKf/FKiFFbp20CBta2ubZ82r1FAXlMvBWdGVZwG3O2jMwZiJX7UO/noYe/eHyg2H3UxJlXPBil+54hMSEfprmBysFblzRaNjVJ80XIwoxLB+9SQBlzhOexNblw1UhuoqOLoWj7wQim7LPsfxE3txLvRzrOx3Ca/8Zi2O1kq1cgHv/+kMhr25WVNu34eYn/cxFq45DW2x7F3vYt43Fnj6H5vl9AvnTuzED6/2wJ4X3sX2DKUQ3WMysWXJFLx9VJPQwG/B+9gZdhHRcXGIq+4O43VtjlpjN2AItPWMMy9GGrwQ6dK5CSkeqpWhjL9TEBERERF1KNGFRSiGCt1sfDUj3BzQTQWkFMUh+pbIYWsNdwdNakfn6kCm5qk5uFpDxD0rKovqTUGQUi7yaZqjS0MBUhtXzOo1BuPEYkqzcCBLM7pa10F42cMZ1uoc7Iw5hj1Kzd8mux2LL1Mype20xpAeQw3kzNUIUNJgVqhZA0UE4QcNckVXJXOmqaUt+gzu3Uj+4PtH2wRqtSorUVVSJX1wlWFqVaK6+ozpU2Fr2xknT53Bf77ejH9v+BKfff4V/rv5e1wKj0Af/95yzV6RPoEaoPaDj8FnxZsiGl/85QIm/nMdXhhir6lJaGGPYY+/i3/MisLqf12US2m44Zm3XkaIl/JTkXUPPPTOKkw89gk2yY+KA44z38XxLxdjmIv25yQLOA5ZjDcXpmFLqN7zGwbk5+dj7dq1eP3115vcRUdrfrOkdnL2Y7ytJGH1e3Uf9r03H3097ZRaqR2QtV1Ng2jZ+ai+1nF2kU7JGrGx2rq19cvP0/507gc//dZSiYiIiIjIuKXlIfO2dHtgKRoDA4LtbGGNYqTmFFfnsNU2Njauk4ikStO0lZOUJ/ArqkQwtjnMEdBjDr4arnR9R+IRe2neZen49upZvdqyVhjq6yWtm7Qiqi7o71jTHlBzZKZewMFCaR5WnnjC13CDYF5yjV7SMu3qh+AJozFt0mhMGdsf3p1r2ju637VtoJbaXFDfADzz1JNyY2WFRUVy416XIyJhYWGGhx6cgd8smAd3d7e7k2fkfhV9GgftZ2O+gZ/O+sx9BN77jyFcGQbc0c1F6dVSDcTokDRcjha5Qepn17mzyLHdKDs7O6xcuRLLli2Tc840ZNCgQXjvvfcQEBCgjKH2kHT+hJKfxw8PTam/ZneHUZxf09iZo510+aOw7om+2p9Jj56DTlIEAzJx/qT21+bAOi3CEhERERGRsYtDqrjRsbTFRDhjWCfpzqCiAGfk+hjRiJWmmXdywDR4wstSJU+7qK3loVT4MzdtboBTjZS8ZJzMEl0KEkSawdsFOHHjhIHasuYwr0zBtxHRcmNeXi4jsaSh2rn1KsYPcfFIqBIpEPphiYEGwRIqDQSc3UbjU21AWek+7XMP3A82UVV5HvIL8lDS4oau700M1HZwKpV0MPHqjvnzHsaf33kT6//5d/z7k3V47ZUVmBgyHvZduzJI2yJp2LRYkx+2unvntDJNT3YaUnr5wWCFPxc3eBYkIi5HGa6Hr6cfCgpq8oOUJR/FuuVLMWF8zfJnfaI8AtJEHh4eeOWVV9ClOs9nbU888QQeffRRZYiMnjoTGQ3H8o1G/sGfNA2GSZwH9tV5hKUvHpih1BPO/BxblFrEBoX/B59fUPqnhmCkfg4jIiIiIiIycsW4WFoKmFjDy90T7tKtQF5xitJ4GHCwqABQ2SLQ2Q3u5kBF2a3qaUgvxi3pj7mZTb2PxHezEEHcCuSJgtWqkJd3Fv+KE91pfJyVJy3fFkPdDQVAi3Hu6mkcLI3F2rgUZJraYpzPSIxTpjZLaQQ+zshDhTSPkT0GQb8qVLRaRIyl7VHpbE1JOk7IAWWpK2xuzoWOreTGRRwIi8DxUxE4fOgUziTVyhl5X2OglkhQxSI+SemXueGJjSI/rNJ9EKKMb3tlJz7ErAUbkT/7TezcXbMOO5c1/5c1be1aUXNWS9SyFbVtWYvWeFjZaU/Wsdjw6aGa2qhaZUnY8uISfN4R0hml7cDKN7Vh2u6Y/1BfpV9j8O/eUfLXlmHT8yuw11DwOf88/rb6E2i+kt2x7IXZddNAmOmM4S+wRERERERG6WRxMSpEHll7WzhLfSl5CcoUIDOnAJmwgruLLUQT5Zkluin5kjW1ca0c8IihukdW/eElbgl0a+EakJkQh8sVgLWtl4GarmqUa1976zQ2ZYkGzlyxoI9fvcHhhmQmRuBEiRrmnTyxwEavpklOnpxr19nGpyaPbV4sNskBZakraW6Khw6sLA4XYotQpQyKG7rsa/FIVIbudwzUEsENw0a6IfSobi7ZZnB0Q7e4RKQog7VkpCHZtgd8G2nL7cq1WNjairNMOUK370HAHz7EWxN7iIYhW4WoOStq0Pr4+OCNN96Qa9uS8XCevRSzlbhj/o9LMHn+Knz+417s/WUvNn24BFP6jceqvXXCt+0mLycTmZm6XSxOiHVdMw8jRq2AdlXt5r2DF/UbQHObj/dXK8Hb/B14fvgUrPhsLyKTlfl88x7mjZuHT5R8IX1XfYFXgjT9urr3H1wdvN3x/ipskpa/95cdOFFz3UdERERERO0tWQRjgW42DjBXFyBWt9mVvBSkVkj3Q9ZdlNy1ynhZJr7NzUOFaKTLa5BeI11dMMu7O7xMgJRbsTW1cA1KwKYcTa3akd38lXGGXY67hLBSNaztAvBij5bcjGfiy6RkpFSp4GWt9/q8KJwrVgOWrljg69miQPA9o7BUSf2no6oSZeVK/33uvg3U3r59G8k3U/DLnv0NdsdOnEJZWZ2PUIdXUlKKS5cjEHooDLduaRvsaZ6IyGjs3X8Q165dV8Z0XH0eWog+P2/AppYEeXoPx5isrdhUOyu57Mq2H3Bj8mjUxJkKka1fo199EWdO+GH0EHtpoAjlhYCtyEdbSyEuRTQv9YE+UYN26dKlsLDQNlJGRsN6Av7032XQ1j3NPLsF773yPJ5/8Xm8/c9DiBVPyQx6Ha/M0EwHrqMJbXG1kVh88sgIjBih203BIrGuX56XL8IE53nrEfaXCQYbROu+ZCf2vTdBc3GijsWO95/HrHHKfN78HOeVQO/g/9mKb56tpyb50GdqArgJW/C2tPznX1yB7+7sa0JERERERK1KqRkrMjKW5eAHeZxWMqJETVIxTV2Ea3qhCVFDdU9BBcytvPD7IVOw2n8onvMfhw8GP4BH7MxRUZKAb+Mbf+xQW6vW3NYLzxnODKhIx5cJSqC1pflqb13At6KxtDqK8W1sNKIrVOjmNBTvDBiH3/tK2yN1vw+Ygk+dbKUyFcgs1u4ET/zPgDn4augDWKBt9MNpOD4YNgcb+varCfR2H4cN0riPemkaZesQHO1gp5/azsIKXRmqkN23gdqq27eRmJSM7Tt3Ndj9evgIysrvvbB+Wno6fv5lD37c/jNOnj6rjG2eC5fCsXPXHkRGX1HGdGAu0/DBn3tg05NLsfZgIgq0b3lxIeJPbMTyD47Cp3s91WJVAXjhD4Nw8A9vYtO5XM0vQ+W5OPP1m3hpZyDWPDdQLiazvYZPnv8QoQnKAooTsf3t93Fw9GLMkRtLsseYyQMRunEjzuRoypTlxGLL28uw9oTUr+ZPTPcqu0GvYOe5rXjn4b5w1olu2gVNwLKPDyP6h2cwe7A2lBuJ4xeM7wckS2dn9H34dXy5Pxqn/ndq3ZOvDr8FXyLs1Dd4Z8FI+NkpIwU7P4xcIM3j12hsfXkwdCfV1h3PbNqK16d2rwkG2znDxVBkmIiIiIiI2kkmrpVpHutPKYqT/+raU1gAeWpZHvbIY3Rl4ofoX7EpI0fqs4RfF08Ed3GAs0kpErIuY034BRioL2WAUqtW1M71CGi4NmveBXyo5JoV+WonVreM3HSiZu45Q7drIhdu9FnsySsAzB3Q30naHqnrb2OOitJ07Ln+K95O1A88m8Ja/x7H1BxOSq/MRJpdsxtda0+eGDTIFV3NNEOmlrboM7j3/V3LWIdJaWnpbfXl71H53TOo6kA1R1WdbWC++AeY+ExQxjSPuqoKp06fxcZN/0XwiGEYPXIELMzrhu8tLMzh6uoiN9rVESUkJmHfgVCoTFV47NGHYWMjMr8A12Kv4+v/bpEDtrMfnIGZ06fI45tjk/T6U6fPYFLIBMyZPVMZ27GJRrzWf7ARP51LRIGoxWjRGT4Dx2D+00sxv39NLdej70zFnol7sWaMMkJSELkVf3p3M0ITCsUHFD5jFuLtP8xDkPYXu+StWPQGsOo14D865fo89DL+8fsxcKz+iBUi/OsP8fqGo0gpByy7BOChV1fhBfUGTAgdjePvh0inqNNYPfJXTDuxEjqrcE/Izc2Fm5ubMkRERERERER3m3gKWaiqqpK7yspKVFRUyE8cl5aW4s3Uc/J06ljedR8CKysrWFpayu3XmJmZwdTUVO4ENkbfMmlpabC3F09J3zkGajf9F1MnT8T0qZPRqVMLfioxclevxeK/334PM+kL+NKy38HOVlSnByqkg2zM1WvIzMzGsKGD0FkJ4DbHvRiopfbHQC0REREREVH7YqD23sRAbdtozUAtGxNrJnGwEgcocXASeV7LyyuqD2D6xMFMW66srBxqtaiiaZgIHIuDnaZsmfzaxogypcpBUhwwm8Nc+jL2CwzAA+PH1AnSiu0pLy+X10V0Yt71bKJBYr20ry8tbdq2EBERERERERER3c9Uq1ev/uPtjCuoityJ25WVymjjZ9qpM1QDHoNJ15YlTBbByJs3U3Dpcjj8evqil19PmJsrCTLqIQK0ogEy0QjXyVNncTk8AjdTUqBWV6GTlaX8i4RWVna2nLv17LkLOHf+IuLib6C4pEQOkHbuXBMYFcHbjMxMREZdkRsuuyzNO/5GghzotFTmKX7REOubX1CAeGk+or+ktBRR0TE4Ll4TEYnU9HQ5/7ZohEqkaRDzvR4XjxsJiYi9Hi8HS12cnZGXn49SaT06deqElJRUpKSmyukQxC8p8jLyCxBzNVZeb9FFREYhMytLer1a2karWg1RXQ6PlPehr483+vhrmnbPyc1F1JWrOHP2nLzd1+PiUFhYJP9KU7eBLKK6xA8PnflZISIiIiIianciTiA6EVMQnYg1iNjIr4WpSgnqSEJsu8nxGdGJ2JGoSStiTtqatKxR2zKFhYVynK01yIFak6JMVF0Pw+2iXGW08TPpFgTVgEdh0tlFGdM84kDTnECtKC8Co9//8BPOnr8oB5NEbdao6Cu4cPGSXGPW3d1VfmPS0jOw9Yft2H/wkBywFQcykStWBD7FMkXOW/uuXeWDm0g/sO2nnTh69Lg8DxGAlctKyxABUnd3NzldgVi+COKu/+xLFBQUIiIyWg7SiobORKBXTBN5Z+3s7OTXiHX7+7pPcOHSZXmexcXFOHfhIk6eOoO8vHz4Sdv7o7Tc7Tt/waABA6T16YKsrGy5AbU9+w8iMSlJWj81CosK5cB0eEQUpMOzPG9LJVirH6gV67t9xy7s3rtfXidxEE++eVNebqK0Ta6urnCwb0mziXQ/YaCWiIiIiIjIODBQe29hoLZttH6g1qIzbhdl4XZaJFBp/K3Km1h3gdmI30LVe5K0BXUbAGsK3UBtly52MLewQE5Ojhxg1HbZ2Tmwtu4k1yIVB6NN33yLjIxMjBwxDFMmhaB/UD/4+vjg1q08OXjao7snHBzssWv3Xpw+ew7eXj0wZ/aDGDpkEPx7+8nLFLVYHezt4e3thYTEZPy0YxdSU9MwMWQ8JowbgwH9+6F3r55yKgQRjL2VewuDBw2Q11m8VgReb+XlybVgp0+bjOHDhsjzFl8wURM3LS1DXp6lpQXspO1ydHDQbIeNNaZPnSTPK6CPvxwIi4yKRnpGBsaMHikHaouKi3Al5pqcqzdkwjiMCh6O/v36wtXFBQlJSXINXVErVwRrxZdXP1B7MPSwHDwW0+c+NAvDhg6W1q2XtG5mSJG20VZa5549feRtIaoPA7VERERERETGgYHaewsDtW2j1QO1MO8EE7dAmFha4XZ6BFBeokw2LuIDY+rUHeaTVsJsyOOAVctrZ+oGam/l5cu1USMjo+XgqLaLvR4HX1+f6tqv336/TQ58Tpr4gByAFOM9urmjZ09fBPbpLdeUFR/2n3/Zg9zcWxg/dgzGjA5G165d4OLiLAc0+wYGwMfbWzrA3cbxk6dw/sIljB09ElMnh8gBTjFPUdazWzc58BpzLRb+vXrKSYm1gVoRxHp07kMI6tdXLu/k5CgHmxMSEpGUfBNDBg+UyndFd08POaWBqLVrJX1g5kmv8e/lJ89fpGHQD9SKD5Wvr2Yde/n5yfMV8/HwcIeZykxO9SCW3VPaJxYW5nUCtaIGcVp6OkYFj8AD48dqttvZGd7ePdA3oI/0Om85aTVRQxioJSIiIiIiMg4M1N5bGKhtG60ZqNU26waTLh4wG///YPXCAZgNmCGPNiYmpiYwG/UELJ7bD9NhzwDWTsqUO+fq4oyB/fth0KABtTpRY1abV1V8WOXaqTk5OHPuPHJyb8kHK8HF2QndurlXByFFgFOUP3P2PK5eu15droudnVzr1s7OVn4TRQ1VQaQmEPlp9x/4Ve4OHDyEC5fCUVFRKR8EL0VEyuW0/Hx90c3dvfoLJP6KlAIiWCsOnCLPbEuIL6gI/Hay6oTLERE4EHpIXp/4Gzfg6uosp1UQtYdFY2eGiHUQX3RRmzj6ytXq7RapG7pL292lSxd5mIiIiIiIiIiIiGrT1KjVMjUDbJzlRrrMvAYAWVdwu+gWUKVWCtxlIhBpZgmV71BYLf4apsOfh4lVV5iI9bxDIoiorVE7YvhQPDhjGgYE9UVggH91J1IKWFtby+VFEFMEWK9cuSoHLvcf/FWuUZqZmSlHzTvb2FT/EiFqxkZFXZHz04pUAEeOHZdztd6uui0HU8UvF7m38nD85Gk5qJqakioHdEXNV2139VosCgoKNMu1tZVTFmhr1IqcumL9RK1WLZHfNiIiSq7ROmLYELnWrCACyyK/rKlKJW+ntsEzQzVqS0vLcCjsKD7/v41yY2miUTFRo/fU6bNyzlzRwJkIQgf1C5S3Wb9GrYuLC65dj0NWVhZOnDqDw0eOIikpGZXqSjlIK2r3aoPLRPVhjVoiIiIiIiLjIGInomON2nsDa9S2jdZPfWCAiZM/VH1nw9TKCrcLM4HS/LsasDWx6ASVR1+Yh7wMs+l/Aez9lCmtQzdQ25TGxMSH1c3NFb169ZT6TeUPs2igS6RMELVhc3Nz0b27B6ylN0bUwh02ZDDMpPlJH3f5YJYsLUsEPCOjr8i1asWXQqQ9MDU1wQMPjMOIoUMQ1DfQYNendy85QKoN1Hr16CEHRvUDtSIgeyeBWtHo13ffb5O+rGYI6NMb40aPwsABQfDw8EC5NH+RG1ekMqgvUCuC1UMGDYCFtAxTaX9VSftY5KY9feYcwsOj4CntH5Gfl6ghDNQSEREREREZBwZq7y0M1LaN1k99UJ/ObjB94A1YPvYvmA1/HKaOPZQJbcvU3R/mY38Hi8c2QBX8glyL1hiID7AISi5a+ChefOFZ/Hbx45g2ZbKcx/XchUtyqgNx0BJsbTtj1oxpeGnZ7/DsM7/F3Dmz5WCwCGx+u2UbqqRyNjbWUvkq9Pbzw6iRIzB6VLDBLiDAX55nWzt1+pz8pRSB3icfX4iQB8bJy39wxlTMfnB6k/LLikbOZkydLO+f56TtnvfwbAT28ZcbZxONsdWXNoGIiIiIiIiIjJtuUI86Hr5/xq/hQK1gIhXxDIbZzPdhPuevMB/6GEzMLZSJrcvUzhlmo5+G+UN/g2ry24BrkGb5RkDUnhWB2Ity7tgKufaoaFRr+tRJcmBT1ALMyspGUVERrsRclfPMlpSUyr9SdHN3w+iRIzApZDwszM2RmZUpz1MEfUtKSqR5Xq4TwBTLuHQ5ApFRV1BeXqGMbQnxBTRBibT+6sqGa0SXlZXKtXRF6gaxfVpiXURKg5KSYmVMXaJMbGwcQn8Nk7dJ/DIjaiAHjxiGiSETYGNtjbS0dOTl5yuvICIiIiIiIqKOgMG9ew/fU+PU9CiopR1MA2ZD9cCrMO2ieay+tZhYWMK8/0yYP7oe5tP+BFO/SYBZ61QZborUtHScv3hJfkRfv4uIipaDkCJYunvvfvy4fSfCjhxHQWGh/NrEpGS5UTARkBU5bEWAUqRC2LV7L374cbtcg1Y8HiBSI4icr6LGrah1KlIZ9OsbIAdxRQB4x8+7kZmVJT9SIFIMHPw1DD/8tEPqtsu5blvKtrONXLv3Vl6+tE775GXFxd9Qptbm4+0t56kVuW4TEpM0633rFnbt2Y+jx05IJer/Eouyp86cxc/Sdm/e8oO8X8S4PGm512JjUVZehs5iXfhIOxEREREREVGHw8DevYPvpfGqN0dtfUxQhaoL36CqMFcZc2dULj4wn/kuzMa9DBO3/oBFTU3OtqSbo1YEI6/EXJNztorArG6XkZGFgQP6y2kKTE1M5Rq1V2Ov4/Tpc3LDWydPnpEDvaJ27NRJE+HgYC83nHXh4mXE3UiQy4cdO44jx04g9nq8nCt20YL58PT0QNcuXeWaptdi46Rp13Hu/CUcPnoMR44eR/SVK3Je2MmTQuSGw8SXqCU5aq2tO8m5YkVw9kZCotwYmggy+/fyQ1R0TK0ctQ4ODnI5EXi+KO0XsR5ivUXjaWL7RMBaNGxmKEdt38AAOVAdFX1F2pY4uTZwmPT6o8dPyAFqsf5PLFyAHj085fUiqg9z1BIRERERERkPQ3lqQwtSlKnUkUy085AbeheVDLU5arV5agUGcFvmrjQmVq/yQlSd23hngVrxxpuqYDF2CcwXfAUTrzGaAO1dTHMgPnriAyiCqqIxMRFsFDVK9TuR3kA0/iU+yOKvv38vOb1BamoaCvIL0LVrV4wdHYz5jzwMR0d7eZ4O9l3l3K5VVWo5N2t2dg4szC3QL7APnv7tk/I8BfFl8PDohn59A1FZqZbnmXcrD2Zm5hg8YAAWzJ+H/kF95S+PIOZtZ2cH/95+ciBWO17LTFpHj27u0vRecmBZEMvw6tEdA/sHSdtqJwd5+/YNgJOjIywtreTli6CtyD8rarz2CwyQA7s3b6YiLy9PbvxL5NcdP26MPE8fLy906+Ym7w/xNrq5uqK39HonJwdpX3TBiGFD5fGZWdnIljqxjqJhssWLFqJPn17yOhE1hIFaIiIiIiIi4yICtNpgrQjU/pxTCHNTtkHTkZRUdsE0eyc5niOeChfxIhGzEbEmbYBW+5eapzUDtSalpaW3lf6mKUxDxb9DUJkap4xoBvHmW9tD5T0E5lNXA91GKBOIiDREmhA3NzdliIiIiIiIiNqDbk1aEZytrKxEeXm53MbOkawCfJ+XDGvzPKU0GbPiii54tIsnxjrZwtLSEhYWFnKwVlurVjdYS82XlpYGe3t7ZejO3LVArUknW6i6D4Jq8HyY9F8AEwvWmCOiuhioJSIiIiIian/aQK3otIFaTRs+mmCt+Cs6MV5M16ZGEOWp/YiAqwi+amvMioCsCMyKThuk1daq1a1Ry0Bty3WsQK30Rqs8g6DqPxemQXNg4thLGlf7kX0iIi0GaomIiIiIiNqfbqBWW6tWBGq1wVptv26gVlue2o826KobqBWBWdFpg7Si069Ny0Bty3WYQK2pnRPMRjwFVb+HAJe+gLkmbyoRUX0YqCUiIiIiImp/2oCrbqBWt2atfpCWgVrjoBuoNRSs1dak1Q3Ual9HLWP0gVoT6U036z8LqrErYOISAFjaKVOIiBrGQC0REREREZFx0AZe9YO12oCttl8/SKv9S3eXbtBVG6zVBmV1A7S6QVptRy1n1IFalVsvmE17Gyb+M2Bi1kl8OpQpRESNY6CWiIiIiIjIOOgGXkWnDdbq/tUN0uqWp7tPG3DVDcDq1qzV/audri1PLWd8gVpTFUzsXGE+9FGoxiwHOndTJhARNQ8DtURERERERMZDN/gqOt3gLIO0xkc3+KrttIFZbdBWO15bju6M8QRqxZvctRtUvsEwG7cc8BiuFCIiahkGaomIiIiIiIyHbuBVNyir32np9tPdpxt41QZkDXVauv3UMu0bqC3JQcWWJahKOAdT72CoBsyFaeBDbCiMiFoFA7VERERERETGxVAgVv+vwCCtcTAUiNX/KzBI2zraN1BbVYmqmxeB/GSYegwE7LrLqQ+IiFoDA7VERERERETGqSlBWQZr21d9wVcGaNtO+wZqiYjaEAO1RERERERExo3B2I6JAdq20ZqBWlPlLxERERERERERUaNEwE/bkXHje9WxsEYtERkV1qglIiIiIiIioo6CNWqJiIiIiIiIiIiI7iEM1BIRERERERERERG1MwZqiYiIiIiIiIiIiNoZA7VERERERERERERE7YyBWiIiIiIiIiIiIqJ2xkAtERERERERERERUTtjoJaIiIiIiIiIiIionTFQS0RERERERERERNTOGKglIiIiIiIiIiIiamcM1BIRERERERERERG1MwZqiYiIiIiIiIiIiNoZA7VERERERERERERE7cwkNTX1ttJPRERERERERERERO3ApLS0lIFaImoXu3fvxuXLl+X+/v37Y/r06cjNzYWbm5s8joiIiIiIiIjImKWlpbVaHIOpD4ioXYgg7blz51BRUSF3ol+MIyIiIiIiIiK6HzFQS0TtQluTVpehcURERERERERE9wMGaomoXYhatPoMjSMiIiIiIiIiuh8wUEtERERERERERETUzhioJSIiIiIiIiIiImpnDNQSERERERERERERtTMGaomIiIiIiIiIiIjaGQO1RERERERERERERO2MgVoiIiIiIiIiIiKidsZALREREREREREREVE7Y6CWiIiIiIiIiIiIqJ0xUEtERERERERERETUzhioJSIiIiIiIiIiImpnDNQSERERERERERERtTMGaok6lArkpiYiPiEVuZXKKCIiIiIiIiIi6vAYqCXqQAquX8HF2AzcSLyJi5fiUaCMJyIiIiIiIiKijo2BWqIOpLxSrfRJKipRrvQSEREREREREVHHxkAtkbGpLEZBYQHKq5ThZqlEeVEBCkoqlGEiIiIiIiIiIuoIGKglMiblyTh3OgpnL8Tg2Mko3ChRxsvykJmvk5i2ohiZtXIfFOHGpcs4dj4GZ8+G41xyqTKeiIiIiIiIiIiMnREHak9j9cipGPLOac1gRihWP74Yz32fphkmuhdlF6BQm91AXYz4CxGIzSpAQWEW4i/FI7VW7LUCqRFRiFemx16IQXy+thpuFQpzc5V+IiIiIiIiIiIydnUCtUffmYohI9fiqDJsPMqRdSMNWcWFyjDRPcjVGe7WOl9LdSmSomNw9sIN3NCtTatVWYwbyvSkQp1cCSpLuHu6KwNERERERERERGTsOk7qA5dp+NfRvdi62E8ZcR87uhZDRk7FauOLptOdMnVC70E94GqhDLeIOVz9A9DbXhkkIiIiIiIiIiKjxxy1RMbG1AmBPrYwVwZ1mVpYwdnNBd497OFsY27wC2zu6IpARzNliIiIiIiIiIiIOoKWB2rVuQj9aCXmTRGpEqRuylK8+nU0CrT5NbXyorHlnRWYMF5TbtS0FVh7uG7uzOzDn2CRMi9NGb1ctMlbsUiatuhr7XhtDtuj8mufmjZLWY9ldecv1vWDZZgwRsx/FiY88wlCT/9Xnl+DtVLL0wxvozJZqyByK159VLt8TZntIoXE4q1IUcrIpH2xadXS2uuRoUyTpHy9TBq/DJsia5ebtWorwsVClX0w5NVQufzuV8V0nTQVteY/FRMWrMQ6A/uaOgCVKUyUXg0z2Pv4Y+yIfujXqwd8vHqi3+ABGDvYBXYqpQgREREREREREXVYLQzUpmHT0gV49fsEeDy6Eh+seRMrZ9rg0icr8Mia0zWBzILTWP2bFVh73hbz//CmVG4lHg9Mw5ZVz+NPJ8qVQlKxo2uxcNUOxLvMxkppXmue7Yvo//0Eu5XpDTr9MRb+PQ3DV0jr8fZSTHeIlea/GpuSlekoxNE1z+PVbYlwemiZvA4vBF3D+7/fiCtKCYPUidj03GLpdTkY9pxYd2kbQ4BQaRuf+1YniJywFc/9bgNCywfi6belcr+fCsufX8Of9ivTtZR9se6GH55eLea3FCGFO/Dq3JXYrhOslffta6ux3XEW3npHWuaCnig7vAH/8/fTKHOfjX/t+hb73h4jlwx5W+rftQzDxIA6GmvF/MPdMF+e/0rM75aATasW4LntDNZ2LJVITy9CzTcEsPHshYGetnW+sKY2PTAkyBFWyrBQcSsHN0qUASIiIiIiIiIi6hBaFKgtO7gB66I7Y/qfP8dHS0MQMnEM5i9fh38v80P2nrX49JymXHboXlyyHIiVn7yLF6aNkcqF4IUPVmG+bS62bz+KMrlUNL74SyiyPX+DLzcuw3xpXiFzl+Krb1+GJhzZmEF462tl/tPmYc3bv0E3xGLPUSWYevUHrN2Ti26LP8TWV2dXr+sPbzUy94t7sf2WG+a/vwEr54p1l1636n+xsj9wZcteJchbjtANG6T+MVijuw7ffIina7XjVI6jf1+L3RUh+GDDSjwh74vZeEvqD8FFfPh1tFJOKITzQt11/V+8PB4o2H8MZ1QWsHWwh2NnTQJTy85Sv0NnWIqB03uwJQeY/pruvn4bT0jrcWb7wdo1e+9z5y/FYMPG7U3qzl1sMJzfSiqQm3odUTE3EJ9wHRHnIxCVrdNwmKkNPLxslAEDbLujRxedr7K6GPHnL+H0pSick7qIa6nINdAOGRERERERERERGY8WBGrLEbr/KGAbgsfGd1bGafjMfQQhKMTuw5rAo+NDb2LntrWY7ykPaqjc0E0EMVNzkC2GEy7gaA7Q56Gp6KP7CLetA2yV3gYNfwBjdAv27okB4q8SmEo5fRop6IE502s3QmYbGIA+Sr9BQ5Zi67aNWDlSGZbZo1s36U9qGrLk4YsIPSj9mfgApuuug8oP/fsp/YL6IvbsL4TttNkI0S1nOwhjBgIFlyJ1Aql+mDahh9IvWKBPgDSs1q1faYCjA8SqxUfopJ9QBWDFtr049+U8eRppDB7gjyEDG3z3ZU0td6fKb8TgYmwu0jOycCMxF5lFelFVG1t4NPhNNYN7F73Wx6oqUJRfjHypy0y7iYvhibVq6BIRERERERERkXFpQaA2B1mp0h93VzhqRtSwDkT/3kBBXIImCCspSz6KdcuXVueoHTJyMdZdVSYKSUmIl/74eLtphu+UqnbAKu56rPS/H/y9NMPNouTXnaLNUSt1y/co04TkRHnd+/SqHQSuI1Uqp5b2y/crquej6RbgT0rt44ZY6m2TQb0fwXtLAhD/tcgH/AjmLV+LT3fFIpvROYMaC8KKaXcjSCuUVd5W+lrO1LSRr3KVWqnBTkRERERERERExqgFgdqGlKNctzGx6I1YtOBd/KIag7f+tRH7RH7VXevwdE9lujErOIpXZ6/A2mgvPPOXDcq6f4s1E5XpLdBtisiRq8l3W6tbNrxu0LvZOiNo6Tr8um8D/vX72eiDWGz5yzJMmbwUn15mtNaQ+oK1YpyYdrfY+nqjj5sN7Oyspc4KVvqNg5UUIV3prU96QanSp2UKK1sxP6mzt0efPt2bVkOdiIiIiIiIiIjaRQsCtQ5wklMXpFfXmq1WHIsr10XgyUsOPB7d/l/EIwRvfbAYIQFucBT5VaXOVjcQ1b07fKQ/8ck6DXS1Il9/Uds1UZq/ZripUnZtRmi5H1b89WXMH9KjZt3NlQKCZw/4S9ty5XqiMqIeDpq0BAWde8h5Z+t0w3to8szegbKCXGTnFEo7vweGzV2MNR9twKFdb2K6ZSK+WLeDOWrroR+svdtBWpmpLdx7BWDIgECp64eRwf7wttX5alYWISmhSBkwoCQRSblVyoBgCfcB/TFyoJif1PXrCXcbM2UaEREREREREREZoxYEai0QMnkMUBCK7w4XKuM04rf9gFB0xvTxAZoR4llrtahnq6MgFjEidYKW13CEeAJXdofK6QGqZaShmbFVg7oNHi43LrblZ5ECoUZBVLTSIFg95DShejWE1YmIiVP6ZQMxZoL0Z/9e7C7QjJGpY3E5QukXrAdhzEhpmds3Y4vutksKzh3F0Txl4A5c3fAMpsxcje0Zygihy3CMHiz91d0GqkMbrG2XIK0hprbw8bKVvmlaVShIjEVUZoUyrKMkDZcvZ6BAJ05r2tUJfewYmCUiIiIiIiIi6kjqCdSm4uzBowit011EfDFgOXEpVgQUYvcbz2D5hlB52paPVuB3n8TCcdpKvDBEM5dhY8ZI/4di9eK12LRHKrPhXcx78N3aQU344YnlIXC8uhGLFn+CLWI52zbgqd9+gnD9R8BbovcjWDnNHikbX8a8D3ZUr+sjfzqqFDCs23AR4E3Epy+txLptR7H76w/x3Nyl+FQ3v64IWi9dij44itWPv4lPpW0M3bMVqxe9jC9qBWTt8dByUe4i1j6zQp5f9Xq8+C7W/xTbvPyhLm5yDd3T0rK070nQ/IXoo4rG2qXKeoj5f7AM7x6WtmXMQE1jYjmheHXKLEz5SNPYmyxyI2aNn4Xlu3KVEbnYveoRjHpoA8LvowCvCNAaRZBWy9xM78tZgfQrl3Ds4jXEJqchMyMZsTEROHYuuU4eYpXKROkjIiIiIiIiIqKOop5AbTQ2rX4Xr9bpNuBojpjuhic2fIsPHvXCze/XytPW7irCgGXr8MPq4dW5MC0nvol978+GT0Yo1r3zLtb9kI1hf9qID6ZIE69exxUlEGg7ZiU2y+V2YK00r9WfRSLgtbV4oVVy2XbGmNXr8cHcHsja/om0rmvxaXgvrPr7YjTYVFTvxfjv50sRYhGFTR9I6/SfKNg+ug5fPddDmhiLmARNMXjNw7/+LcpdxBfSNr76970oe/B/8dZkZbqWVO6bbW/iCb8i/PR3zf789IQlZqzZiC8X+zUv9UHvR/DWAj+UH9qAV9/+CmdEjVxPZf7eadiyRjP/dQdtEPLqOvx3aU1jZ+Vl5UBJQa3AcJm6HFkFOmOk4bLKQuSx9al2UoQbsbnQzzorlBfkISk+GRExaUjKKEW5gXbIKm7l4EaJMkBERERERERERB2CSWlp6Z03Od8RnfgQQ36/B9M/2Is1ouJvq0rDpiWLsU69FDs3ztPUZiVqkiLcuBSD+HzdnLMtoLKGz6BAeHdSho3QmjVrlL7ali1bBjc3N2WIiIiIiIiIiMh4paWltVocowU5ajuaQoT+/RMcrZVuAThzVKQ+GIhhgZrhFkvYij99rdeYWMZpHIwGbAf0ZZCWmic1EQm6QVoTczj28EQ/fxc4Wxv4uqos4axMd7RSxgnqYiTE6iVEJiIiIiIiIiIio3XvB2rVabhyegeWL9DJDfvBUizfVgjHhx7BNAelXAtlx0Tj6CdLMe/trdgt8uvu2YjlS0V+XT88PV9pVI2oqTpb1TQiprKER0Bf9Pdyg7NLD/Qb1AOu5so0mRlc/QPQT5nef4g3PHSCuRadrJU+IiIiIiIiIiIydvdH6oPyNISu/xCf7rqI+ALAsksAQp79HVbODajOp3snCi7vwNp/bERoZCHKVJ3hM2QaXnhjKUJclAJEzVBVkYXU9ErYubnB1kwZqciOuYjLGZWaAfMu6B/cC46aIUUFCjLSkW/uBHd7K6P+JYapD4iIiIiIiIioo2vN1Af3b45aog6o8UBtx8FALRERERERERF1dMxRS3SfslCplD6JuVlNmgQiIiIiIiIiIurQGKgl6kBsfb0R6GELOycnBPbp3iqpO4iIiIiIiIiIqP0xUEvUkZjawtXXH0MCvOFqo5fAloiIiIiIiIiIOiwGaomIiIiIiIiIiIjaGQO1RERERERERERERO2MgVoiIiIiIiIiIiKidsZALREREREREREREVE7Y6CWiIiIiIiIiIiIqJ0xUEtERERERERERETUzhioJSIiIiIiIiIiImpnDNQSERERERERERERtTMGaomIiIiIiIiIiIjaGQO1RERERERERERERO2MgVoiIiIiIiIiIiKidsZALREREREREREREVE7Y6CWiIiIiIiIiIiIqJ0xUEtERERAVSUK8gpQUqkMExERERER0V1lUlpaelvpJyK6a9asWaP01bZs2TK4ubkpQ0TUpiozcGH/zzh4MhYZuhFaC1t49J+KeXOGw8NCGUdERERERER1pKWltVocg4FaImoXHTJQm3ES//kpEfnKoMxUBTs3DwwdMQSBzubKSI3wn7fgcIoyYIDnmPmYE9hYOSsEzZmN8S7KYGk4tn4djTQ7HyyaPwz2ymittKM7sDWqtHretaXi8OYjCEcPzFsYDDdE46fPwpHcLQgvPhiglBGU8cpQvWy186lNsw6ovd6NST6OL39JRpnXYDw/1U8ZWUO7XXb9xuLJUe7KWB1RB/Hx0ey6212RgQuHz+BCQhGK1dKw9H5Zdu6KwOHDMNrXTlNGUF5vFyjNf0zd+WveI0eMf3YigpRxWsmHf8RPMVXwemAOZvVSKWP1qZEfdx6hpxORnC9WRGJuBfvuPpgyPgi6H52mfm7uVMn1n/DJF8eR0VANWlNbDPrNCizsb6uMICKixmjPWbWY28Czly9Gjwiodcxv/JyrPfc0Uk7/nNzgeVW5HigwfF7TXu9Ae07UH67W0uuFZr7OwDm++lzpEoClc4JgqRldl/Lamv1Yz/ujw/C1gHafKYMG6V2zVWUj6sgZnIzLR3GFNCxdg1h3dcGg8cEYVOtDoOwPc0eELJyIQCtldDX967eWbgMREbWV1gzUMvUBEVEzWXbzweiRAXIX3KcrVFmJCN2+AzujipQSumzQWymr3w3qphSR1VfOH/468cT8y4lIq5J6bqXicoZmXOtzw6Ba6+CuCQh3ddcZJ3WDveoEilvqalQqiqW/6qQEhIvtq0d+1Bkcbup2F0s3Pl8fwrEbpdJ71gPBYp2DXGBdno0LB/bjJ4PvV3PFIjxW3H2pkRBzVTOqDrV0Q7UL/zkQj2S19D4PEPvPH0HO0vbciMZ3W09q3tNamvq5aZmSi//B+xt0grRmogbtRMyZPw9zHugHD1szzfiqAlz4+q/48mKJZpiIiJrIHJ5B2mO3dMyX7t0yr4Tju28OIlyc8PTpn2Oru17wVIrI6iund05u6nn1zrT0eqEVrzMyEnH2ltJfRykuXBVBWkN035/a3VA/Q0u1h/9gw+VHD3aEtShibgNn7TVbqXRt+N1BhMbkS9vlKW/voJ42MMtLxbH6rhkrsnH41xiUKYONa+42EBFRR8BALRFRM1mKC+6gILkbOmYiFj05EcGOQMLxgwaCiFZwV8rqd15dlSKy+sr5w626ZkU2wm9IF/aO9nBTleJ6dKN1UVrIHl611sEJNmK0tZPOOKnzd6+/BktzVMUiJkkNSzd72FdlIya8/hoiqCpFeNh55CqD9ZNuzvaFI7nCCoEzZmPR9GAMFes8YiwWPT4WQbZqJB8/jgsNLKpJriXjhtocbm7SHkpLNjy/5FP4JaoUKrcAPLlwGqaMEPtvAMY/OBuLRzlCVZCIX47ov5dN/dy0QNFpbN4agRLtjbvLKDz7xptY/vhUjBo6HKOmP4nlb/wBTw7W1qItwZVvP0NY4zudiIiqqWDfU3vslo7502di6Vx/OKuzcXj7GaQpparpn2Orux61g5X1ldM9JzfnvHpHWnq90ErXGfKdbBFuxNQTjL0VjihxXWbwjlf3/andBdZceOmwgpu/ofK+MEu7hWJpfj3HTlBqw6pxNewMogpU8BwzE0seHoXRUtnRD0zDk0+OQqCNGgknTsLQ26JOikBorPLkTaOauw1ERNQRMFBLRHSnTB0xdKofnKtKEXUhVhnZBpJjEHMLcPMbhf6eKhTHxqK+OpwdSVl4PBLU5ug5eDC8uwJp16Jqp5eoJt0kdZNuPHJise9iI7Vh86M0N2fdeiGkW+2UFDB1x/gg6ba3KhfXm3wzZEgpLkRmQG3tiuBxLtLNcC6iLteNZmpqNVkhMDgIdnpnXevAQPhLd6fFycl1b9rbSMKBvbhSrgzAC3OenwM/+Q65EiV5BagUAVxTW/Sb/yRGdRHjJVU3sWf3FWWAiIhaxGEAZg2yAwoScebanZx/Gtb082oHZ+Mi/3iZey3GYBqF5EvJyIUNvLq3XdCyOOokjqaoofIegOl+Ks3I0ihcTpTeX5femB4on2BrmHsiZKgLVOpsXNa/ZnB0hKe5GtdPHkdCm9WCJiIiY8dALRFRa7D2R09nQJ2c3GbB0+Tr6Sg2dYR/kA16B7rAUrrIj2nDG727oxRR8dKNiq07Aj0dMbS3dAObk4rweh5jdB46DIG2QObZIzhr6NFRrdRcudats6ePZlhfv8l48dn5mNdPualqidJruJ4F2Hn7wLNrEPyl9z/3Rqxebd8MpGZL75GVPbwN5ut1R8ii+XhxUd1cv20jARcu6ybYS8De/zuIhPKb2Pv3t/D2n9/F65+GQS5h6gUvD7mQrPLyaUQo/URE1DLWge5whhrJ8fHKmNbWvPNqx2aF/v72QHEqLtS5HkpEVEIF4NID/fVipa2mOBr7TmVDbe2OGZN08gAnZMgpjdz8Ag3XCO7lKp39pWuGNL3wsmU3TBlmD5W0PQcPJyojiYjoftOsQO25lApsulSM944U4NX9+Xhpd16rdmKeYt5iGWJZREQdhxUsRcVNtboZucWaQ5MLVdXdC0HiyN3dBz2t1UiIjGqj5d0lSs1Xe99ecqDSso8H3EyLEHOpnrQOpu4IeaAH7KryceZAuJx/z5CyEs05xNKi7WrRaPIF26BnP3G7ZYUgX+lm8VYyLtRa9VKUiVUxN2+dNBF3Ki8BCXoNoZQk7sUnqz/CwbRKwMYDo0KGQZP0oAQluh+uqhTcvFvVfomI7lVWFvL5QF3eRvc6zT2vdmRFRSgK8oGXykCe+GtxuF6qglffeoKld6wI4QeikFxhjt7jR8FL5646M1s89WMOuy71/RjcFfbiRCutv/5p1brfKIxxU6H42kWEpnX0H+OJiKglmhSo3X+9DK8fyMfGS8U4k1KBtMIqlFXeVqa2HjFPMW+xDLEssUyxbCKijisbhz/bgo/1uv8cTVWmaxku91OUMlnOhaqCd09tjQ1PBHpbAVlpaKDRX6OXG50qP5bYM8BRM8IqEP7SnWVxUmL9rUG7DcP4XuZQp13FLxGGUyDkFlY/299GlHzBDu4IUnLGWgZ5wtO0Ajeu6655EYpb9P409XPTTCUlqLdZMJdxWPbGcswJ7CQNVCLj2Cbsva6ZpJGP9Cyll4iIWldKeJ1j/sef7aib+95guYMIVya36LzaUVUBalM/DPIz18sTr6QmsnJB/14q5BQYOhGXIvwn/f0odT9HK9MbVhxxHEfT1LDuNQRTutcOyKrltAUqWLYoQmyDoEl+cDYtRdSvZww0NqrrzraBiIiMU4OB2uR8Nf52ogg7r5aisKL1A7ONEcsUyxbrINaFiKjjMdx6f93WeA2X07Twr82F6o4gnSfr3Pq515sXtWOQbqquFcmPJYqUfRoqBPm7yI/9hdeb7lcFr/FB6GmuRtqZkwYD1fadLZQ+HRkn8R+9m5kWBz61+YJ7BaJ61U17I1C6WaudO9gG1gYq9Yb/XHs9dG+yNZr6uWkm6axvpvTq6zPpQXiJiVU3Efbxu/jr9li9oK4dXJ2UXiIial1d3esc80eP9Id/9UlGYbBcL3jKE1t6Xu3YPAPcYSeuhy4pjYopjYhZe/nASxpUG7yNNIdnkP5+lLqgJiQiKg7HL6dyobbtgRnjeygja6jkO2w1ylpa38h6AKaIfA0Fidh3sqHrlDvYBiIiMlr1Bmpjsivx0akiJNyqVMa0H7EOYl3EOhERGadcFImAoUql94id4db767bGa7ic3MK/kgsVxcn4STe4tyVezoeqmxdVc3PQQSQn4obIXZARjQ262/VrhnR7o8aN6w3cUZr6YfpY6cazIhuHf42pk/7BspOmAbGycp0orp0XhmpvYjStZ9VoZqpaOV+w9Dft1I6a9f7sB+xLkO4Ga+UOVlJiVFTUWseaGysfeBrMztDUz00zuXjBw0AMW7h59D/4z9dS98Vm7Ek0UO/W1AUuBvPsEhFRk+WXQDwLorLQnKeqWTvVOeYPCvJHncO+wXI9IP+M1+Tz6h3kZzdGLr3QU6dRsdyYDLlWsf8ATfjaMBXse+rvR6nzauwH0SKc3RuNNLUVAh8YBjcD113OjuIaowL5efVVNLqFXJGGyMam3vz09sODMdRBZLI4U7dWdbWWbgMRERkzg7f0ovbq5+eL2yS9QUuJdRHrxJq1RGSUbsXieo50yezpid7KqNaSe0nkQjWH5wBtcE+nEwFHnbyozl01AcjKKkPHyiIUixs4cwtYa0a0IzWuRqai2LS+msTmUCfF6zzGaIBfMMZ3V0nlIhCarPdsoJeLfPOUGR9Tk8fWyh2B2psY/Ttfexu5ZmylwUcM9YLwVbG4EFshpz3QX29N4FU3d7ALekrbgtIsxCTVvCf2XtobKk/Y692rt60+GBRouE6t66CH8fAsqZvgV1NLWFfPfujTkX4IICIyQprUBCp4+tTT2GWLNee86gIHORm5dNIzdN7LL1WCyXf44+Bd44ihcqNi6YhKqqlVPFRJTdSaii8ewclMwK7PMIS41RPw9nKCs/QnLbaedgSupUPUk7V3ayiQ7IjgcT7S+bgU4WExyFfGEhHRvc/gLdd3kaVGFaTVEusk1o2IyKhUpeLw7njkmlohcJBOboJWkY2oBOmGw9YdwSO0wT2dbpSndDOgkxfV0x7O0pE97VpEnYa2iiPicUMt3Rh09zIciLubquIRkyytjJsvpuhvk9SNHuAEy6pcXI9p6Jgv7e/xgfA0V+P6Db30D1aB6N9DuoHKjMW+iCbc3ri4wtlc2keJsUjQv2lNi8FV3SC8tK/FqnsGjqqz3oOChmFQd2lGOrmDPQd4wd60AlePnkGyEbST2Wf6NHgYOPub2djCtovU2YoctfocMHHWcBiaQkRETZR2EjvDxTm9B4b1auVarc08r3q5iSsBkT5JhGR1FSE8Khtq2MC7d8epmWkpNypWgeu/nkFMcRs1IlZ8CTvPStcU0vs3ZYxoSLQeVv0wyFt6fzOuYneU3v6tSEbo2QyoVY7o37+R/esyGFP6WAE5GXUaAiUionuXavXq1X9U+mWi8a7TN9u6EZaWyyutgpmpCXo61Jdlj4g6grCwMKWvtuHDh6Nz587KkJEpSsalK3koM1fBtCwHaRkZuHktAgcOXEFSuXRTMGoKpnjXPFeecTVSurA2haVFGfKlsqK8bpd7uwucO5sp5azhPcQXrsprqyVfxIHwfHTy64/RPTRt8ddi1hWliTGIv1mGrgO94WjlAqfieEQlpOPClTSUVBYhNysNV8+fw6HofFR07oEHp/RGZxPx4ixcOZeBfJUK5lX5ddYv7VYVHJxsYaYtZ+uK4b1FHZGGFUrrE5WphoV5JUpu6c1T6sotXdHp6jmEJpXCc8BY9BGRZX1dTJAdmYyEvHL06usBtTxPwLWPP7x1sxaYO6OHeQouS/MSPy/a9egrzU9MMIWjjz1KYm8gNjYWEYl5KK68hWxp+XFRF3Dg8i1UmJjDs18QesnnE3t4WKbh8vUMXIm4geyyMhTmKmVPZaDQzBHjZgyFq3kpLhw5j4QSRwya3BOu8n6sratZFi5dy8QtuKG/p7Vck9fPKg1RcWmIjLyB9MISFOdlIu1mPM4eicLV/NtQOXpgSKA7xCe/qZ+bFuvkhQFOSTgVngXdhEI2ngMQ4FCF8rQoHL90E7pXAi4PPIsnaxIeEhFRA+qeB6Xz8JnT2H0+G6XS+WT8I2PQs/ppikbOxRm3YNLFCZ2lc0tD5+Kyy807r3Z1s0HJtUTEx19DRGoB1GW5SJfPSxdwKUsNu8BgzOqtXHcYuP6p1ZVawL2r+CmvedcLNRp5XWY8TieW6JzjtedKnWsnEwfYFFxFdHoFblu5YVyIN7QVavXLNnadUrM9urJxcvsZxBaLp2K6oVORgddJnbjG6WolXYN4dEZhXBKux0r7V7kGSZKuKQ4dikWyfM04AWPdtdeM9W2/KTp72qFQep8yxUnZsgsCgzzla4WWbQMREbWVwsLCVotj1AnUfnG+GOUGH/00Hin5akz0bfXfSImMXnlqDE5HJCIhORU3CwBXZ9sOm2WsIwdqiwuki+3kLLlLzimHpWt3jJ74AMZ4135EUHNjUIFspax+l61ywYAetg0EatVIOHcekTkW6D16aO0AZTUzOJYl4XxyHiq7+MPfUYXOPfzQx74U2anpiI3PkJaVjYwSFZz9+uKhGQPlGrcayo1BaWGddZO7HMBXviFo3o2X5uahHPkZBuYpdcX23iiNvYzk0vqDndIdJcxyruJqSinMevaGQ0Y9gVqJuYsbTBKvIVm6edK9iYOJLbwDu8NRnYub0nITEsS+yEJagQk6d+uOB2ZMwPDqmyQR8/XF4B5VyE3NxI3EdCQkSWXzKtHJozemzxyJXiJfRHEkwk5lo9jND7P869kXys3wzSLIN8PiNknMe2B3Me8cJCZr5p2UVohScxv0HDwSj+qkG2jq5+ZOmLsNwoDOSTh3NQvaB2jyYo8j7EgYwmoFaTvBa8rv8OLU7vUntSciolrqngezkV1mCffefTB9+nD41LpcaORcLJ3fVT7i3NfQubgIF08077zao5N0juyrnCMT0nA9QVpWSh4KVbYIGDUGcwbrJCU3cP1TqyuxUdapedcLNRp5XVMCtRI76zxckdZT1bM/HvCu+XHRcKC2/uuUmu3RlYCzR6V1lPpKcwy8RumK7ZV1NOsCn75u6FyUjWTpuiJJ2r9ptyqh6uqG4VMnYnyta8YGtl+6lvHpmoOI2EJU1AnUNncbiIiorbRmoNaktLS0OsfBuZQKbLyk/7CscVo8wBpDRN4/ovtIdsxFXM5Q6sCZd0H/4F5w1Ax1OGvWrFH6alu2bBnc3NhaLdFdUXAFe//7PQ7HF+jl5zWDredgTF0wB8Nd+AQLERERERFRfdLS0lotjlErULvpUjHOpBhBAr0mGNbNHE8MaP/mcIjuJgZqiahNVFWioKBEGdDkq+3E+CwREREREVGjWjNQW+tJxqT8mhapjV1HWlciIiKjZmqmaUhM6RikJSIiIiIiuvtqBWpzayrXGr2OtK5EREREREREREREDakVqC3TtijSXDZWmDfGER8+5IJ/z5G6Wc7445BOcFImY7CDPF6MezrEGR9ry81wwNM+LWsKqcXrSkRERERERERERGRkWqERZws8GWyLyU6mKM4uw+mkUkQUAe7dbbEyWLR1XcOpW2cMMqtERHIpLmSpUWxhhuGB0muV6USkUZp1AxGXonBOr4u/pdPaj7oY8QbKRMRloFQpQkREREREREREHcMdB2r7DO6M0bYmyErKwxtH8/DFuXz8MzQPF4oBO9dOmKeUkxWX4l/7cvEvqcy/jmbjUM5twNwc/XyV6UQkyUZcbBYy84uRr9cVlOsEaqsqUGCgTObNFMTlKmWIiIiIiIiIiKhDuMNArQrD7c2A25W4cK5cGSeU43x+FWCiQveeyihJVm4BIpR+4ViREnQy0fwhIiIiIiIiIiIiuh/dYaDWEo5W0h8TM0wWOWd1uqfdGp911m3mmSWqqwtcXWxgZ2ddp7O10PlemZrD1kAZO/uucO2ilCEiIiIiIiIiog7hjlMfyCorEZFUKuen1e8iCpQyRNREZnD0DcCQAYF1Op+uOl9ZlTV8DJQZ0s8bjq3zzSYiIiIiIiIiorvkDsM5lSipkP6ogKwr+XJ+2tpdAfZnaEoSERERERERERERkWF3GKgtx/k8kYvWDIP7d4KTMlbmZounB1jVHkdEREREREREREREddzxA9KnI4pxpRywc+2MlRO64ukhdnh6pAM+GNYJwz2sMNxBKUhEREREREREREREBt15JsuiYnx4uACnb92GWRcLDO9uheEuKqCgFJuP38IvOUo5IiIiIiIiIiIiIjLIpLS09LbSj5d25yl9HcM/prNpe7q/FMRF4FJ6uWbAygEDBnnDVjPU4axZs0bpq23ZsmVwc3NThoiIiIiIiIiIjFdaWlqrxTHYNjxRB2Lr2w9jRg7WdB04SEtERERERERERLXVCtRampkofcavI60rERERERERERERUUNqBWrtrTpO8LMjrSsRERERERERERFRQ2oFarvbqZQ+49eR1pWIiIiIiIiIiIioIbUCtYHO5kqf8etI60pERERERERERETUkFqB2iHdzNHZ3PhTCoh1FOtKREREREREREREdC+oFagVHvCxVPqMV0dYRyIiIiIiIiIiIqKmqhOondzTEl5dzZQh4yPWTawjERERERERERER0b2iTqBWeKyvFSzNjC8FglgnsW5ERERERERERERE9xKDgVpPOxWeGWxtVMFasS5incS6EREREREREREREd1LDAZqBX9HMywfYWMUaRDEOoh1EetEREREREREREREdK+pN1AriNqrr4y0wazeVuhsfvdr14plimWLdWBNWiIiIiIiIiIiIrpXNRio1RKNd703yQ6LB1hjWDdzuHU2bZO0CGKeYt5iGWJZYplsOIyIiIiIiIiIiIjudSalpaW3lX4iortmzZo1Sl9ty5Ytg5ubmzJERERERERERGS80tLSWi2O0aQatURERERERERERETUdhioJSIiIiIiIiIiImpnDNQSERERERERERERtTMGaomIiIiIiIiIiIjaGQO1RERERERERERERO2MgVoiIiIiIiIiIiKidmZSWlp6W+lHdna20kdE9wpHR0elz7isWbNG6att2bJlcHNzU4aIiIiIiIiIiIxXWlpaq8UxagVqiYjuFgZqiYiIiIiIiKija81ALVMfEBEREREREREREbUzBmqJiIiIiIiIiIiI2hkDtURERERERERERETtjIFaIqIO4ubGpXh0Y6oyJEmPRFhsoTLQFKn4auEErAxTBomIiOjuKDiPP6/8DjeVQWqhqE1YsT4SBcrg3VQQexKX0pUBY5P0HR4dvAa8xCMi6vgYqCUiagERNO03eEK93d0Ihl76+k288OV5lCnDREREZITUkfjz/PXweP4xeCijZOWpOPCXZZgwXrl+CH4Qs19YjwNJ5UoBrZNYKU0f+ZfzynD9yva/VX0d0ti1irZr9jVLeQK2vbkUI4dpXj/y8TXYHN74D8cF4d9hxdwHNcsdJm3rK9/hUp2IayEubXwLs7X7ZPxirNioE5gNfAIvWX+K5zYmKCOaqPgAVrRkW6vlYP9Hq/DmrmYuV1/UF5gqrUR8W703RETU4TFQS0TUQgHLNyPi/CGD3dpxSqE2NOCVbYh4bxwslWEiIiIyPpf+9iYyl3+Ip7yVEULBSaycuRj/wGP48ud9muuHsG+x7uFC/OPRpfjrRf1grfSSPUdwSq0MGJSDbZvPw9ZWM+SxeEPt65PtzyMAk/Cp7jipa9Y1izoBXy1Ziq9sn8bOY9Lrz+zDzmdtsXnpy/jqhlLGkKTvsGTpAfj+4T84J5Z77D94w+cAljz/HeJ0tunmNy9jyX4vvLFNs0/ObVsO3/3SOJ3ArO/i1Zi8Zw2+SlJGNEHWrh8RHdgLp3aFtfAHbgfM/ech7FjipQy3zKntBzBu3jj4tMV7Q0RE9wQGaomIiIiIiNpC+o/432Mz8btpnZURQjkOrFmFuIUbsOMP4+Bra6EZbdEZvpNfxTd/6YUf3t6EaM1YxThMCt6FzaF1A7jVYn7EV9kPY+EdB/dEDV7Dj9GXhX6Bf7q+hm9eC4aTWG2VBZzGLcc3f3THP/+2C1maYnWEfbYeFq+sxUvDHDQ/MFs4YMSLa/H/LNbjH9ptUp/EP9ZZ4P/97WmMcNTsE0vHwXjpb8/D4uMvcKBYHiVxx1O/74evPm5q0DUH+3fnYOabKzD55AGd+dxlxWHS+xeMSYOVYSIiIgMYqCUiajMiJ+xSfJVU+zG+IQ+9ha/0HxEsiMRXryzWPEZY/Thg/TdKQp2ctfqPCwY/iEV/CUNWndo35YjbsQaPNrQ+bUZax+91lh2yDH/+NUeZJhE51hZ+h5u6+2PwFEw1+HgkERGRcYvetgXlc2cgQBmWZe/H5tBx+N0Cw7UzbR94GAstExBdKx+qBR6cNxOnNtcfDD217Uc4Pf4wBirDbeHUqTCMnTwOSqXdarbjxmHssQu4qFxz1M7nGokjYYPxSIiDMqzlgHETe+HUhWuawfBTCBs8A5NdNYPVXIMx2f88Tl1VhoVhMzA38ifsytYMNkgEsDEfv/Hvi7kLruG/u3SuO6o1fg0V9qZeKoJbkdj85jKMDK7/NbrKjh1AnPRZGKFSRjRDQfiPWPm4XtqIW8rE+oi8yHPnYsWeHESvX2g4dYZautYctgybte+VOgcH/vZ7TFW2Sb5O25/KNFtERHcRA7VERG2qHNGfvYV/FM/Bl/sPyY8Ifv808NWLX+g8vpiKr55/Gdtcn1ceI9yGLxcA/37zC8QpJZpC/3HBiNBP8MitdZjweu0aJ3GfrcKfb87A+nrXp62UI+wvT2L52UFYqzzmefzLGch87xnpxkcnUKy+hn/8vy+Qv+BDHDojrePRDfid2Xd47uPGc/MREVHbSk5OxhtvvIHXXnutSZ0oK15zf0rFqTBg7DB3ZVhxJQqn/PsiwFoZrqMvXtryJ8zVC1haDJuBhdlb8N8YZYQuUVtz+2D8dmYZ4uKVca0uFXFXAEtrpQawLuteCPRLQHKKGNDkc13+daQ8CShAfoEDnByVQR0e3b1QkK4EAvMLUODiCCd5ii53+PoUIjNNtzZxL4wfdxVhZxqoYayI3n8AAfNnyvMNmDsf2H24TrC7qddQNSLx10ffxKlhr2FfmFRe5zXz/qbdbl0iLcU1TArppQw3XUHYGsxaegAey3XSRvS/gOWPrkFYfT9ilyfgs+ffQtQjH2LdNAcEPDgHnoZSZxw7gF3a4LhIa7F4AdZkT8T6UM02Hf/yMZStX4zHm5sTmIjue7xeaDkGaomI2lQCwjAfnz4/uPoRQd/Zz+Opbj9i10lNCYR9gb+qn8Z67WOEsIDTsMfw6aJ+aPqpKhX7d0s3AM/WPC4Iay/Mfe81LIyMxEXNGFmyTyPr01ZiNuHPJ2di/Xszqx/ztPSeiXUfzcTFv31X84hnrLQii96veTxSbMeLj8Fz20G2ZkxE1M48PT3x5z//GU899ZQypn4zZsyQy4rX3JfU1xAd0xcDA5VhLXUZ4ONVu2GxJumF3zzugM3b6v5wmbXrO5x6aA4mieBvm/3wKgKm0p9G56/J53rolb6awaSEhn94TsmWA6c34xsOBt5Mr119tk//wThwtpEfcdXnsW17Lzw4Trk2ch2PB6Ef7G76NVSNvvh/+7dh3WwvaDNXyK95+wUM/P6Xutcr6Yfxs1yrVxluskj8+93zmPyvT2qnjVj8PtY/FImVhn7EVvII75/8Cb5ZpNTa7j4Zc3vuxwG94mH7D2DE1JFyEDtr13r802Y5torrNOVHBEvvcfjTxtfg8fH/1tS6JSJqAl4vtBwDtURELRT90ULNI2h6Xe10BMC4ycF6DX5JNzp+QJlyo3Pp5En4SmXq3LC5uaHppyp3DBrkgFO7duGmbuUSVTDe+Pl5jFAGhcbWpy5Na9OGttVg96bhiG/csTDYicc/9R/5C+yLESmRiK6+/wrGTO0NlVZ3L/iKG1siIjIKgYGBeOmll2Bubq6MqSHGiWkTJkxQxtynUlIR598LPZXB1uA08zGM2P6TXp7Va/jv1zlYOLelyU9Fqibdc/kq7MIBvKB7bldSMQUOGoxdPx9AnYqcUQfwQ6zSf5dYujnCNkkT5K3X+SMIC1EC2DIHzF3YCwdClXQLsqZfQzXKujMsDVyviBQYzkqt3maJOon99g9joYF8FgGPzofvniO4pAzL5FqxS7ErZAO+XqybWsMBk6d7YfMOnWs09Uns2jMOc6eJlBTlOHX4JCYtMLCOtpOkz1YCDhwzlDKCiKhhvF5oPgZqiYhaKGD5Zs2jbnrd94v1HnFsRF5BIQL87qwVYWHAig/xUuXXmD36QUxY/Bb+ujEM0dmNPxLYuGCsNbCd9XbvBiuvqy05PqGe4PYqbFMXIL+9GvcgIqIWETVf3n77bfj6+ipjgK5du2LlypWsFSMkJuo1CNaAsDV650aR416Zpst6HBY+dB7/p5tn9cwv2OzYktqaWu54arPuufx9zMQkfKp7bj+/GqKNMqeHnsbCy2uw5OPzyBKXGOpyxO3/ALNfOQk7kdqgBflXW8zRDZ75hQ3kTy3Hga2HMW567QC2ZcgcjNjzS600AC26hlJr8u4vmq7kjlWuaXYpk2tEYts2nVq9zZGVipv+vVDzDdPh6g7PggRcr/6huxC7/vgy/nojGL971EvvR3kR5H8Yk6Ttrg7yi7QH48YpQexsZKb0kq5H5Sl1eHZzR1Rs7YoIRERNxeuF5mGglojoXqHywty/bca5Y9/iyxfHwSnpJzw/bQFe2GY8ecVmrtO96dPtNuCp7kohIiLqMCwsLPDcc8/Jjy0OGTIEr7/+Ouzs7JSp9zkbizqNbslUlkB8Am4qg7Jxq3XOiZvx/xoIuo6Y+zCyvv5RCQKLYOQujFjYgtqaLaHqize+/wQz4z/QNDgVPBcrw/zw7uYn4FveD4O6KeV0iadilF6DfNzlp4o8fBr+0dq3R/N+CEfxSfwcmoPNS7RBVKUb9ntsTtJLA9Dsa6hUfLX4QSwP64WXvvhWkztW7kSQW8+ZA3q1etvKScS5votvlqZi5fPfIU7/SSnrcXgwRNonxzQB6LD9YZg0bVydgC4RUVvg9ULTMVBLRNTOnF3dER3bisFUi87wHTYJT63+Ow59/zAy//KF3iOS7UNs58XLuo8aEhHRvUI8tvjYY48pQyQTNT6V3loGjcCkmDCEtTTnp//DeMrxR2w7I/Wn78L/nZyJhSEtqK3ZUl374ikR1BSByTM/4/t3H8aAaxdwatwIDFCK1GYLO9sExMkNjdV2MykBtl2VVsbsbGGrH8CWpSIuvjPs7JVBLVFjuYEavFl7fkL04g06AXCd7t+TsX+rgYbCmnoNFfULNt96DB+tewwjunVuINip1Oqd1MK0FE7u8JCuEevuE0l6KpJtvdCzupG2SfifF/tiwOIP8aHPd3h+vf41lwXGTgrGgT3Sdou0B/uD8eBo7efGEc7driG6noboklNSEejXzEA5EZEBvF5oHAO1RETtLGBEMDL3n6x7EX4rB/lKb6PKT+KtBz9CmH7tCe9e8FVLF/K3lOF2FDB5EvD9dzhgqIXievPjEhERdVCOjvCIuYbrymA163H47aOp+PfHJ+vmem0SkWd1MLZtDcOlbVuQtWAGRtzNlAP6RF7Uj85L62Q49ZFoeGvStFTs2q//6HwOwg5ew7hgpdGxoLF4MOkA9uunfEg/if0xwRgbpAwrygqkvdenvkbZcrD/51TMDOmlDOsZPBaTzx/AERGEbck1VHkh8q07w1Z/v0fpNT4mavXGz8TcYcpwc/kHY1zWd/jKQItm0d9vQdy0sQaC450x7o/vYtz2lVgZVqiM0xBpHxaeDcOusFM4NX4SxlbX8rXAiNGDceCbXXVz/hYcwOZtXpg0WuSyJSKitsZALRFRexs2H79TfYHn//ekJt8bypF15ju88Np3hmtQGGIxGJOCD+Ot13chrkDJqVacg1Mff4EDgZMw2dCjiHeb/2N4Y9x5rFj8AQ7c0FnHjasw4YUfG24MhIiIqKOx7ouB/tdw5YYyrGPAKx/iqfi3MGvFdziVrs2FWo6ClGvY9pdV+GeWFzwbeFReBNzmnlyH5dsc8NTceoKRLTYYq/evaLwRreJCxB37DisfXYb90/+ElwKV8ZKC2JO4pFNjeMTjTwDrV+HPYTmaWqzl4hplJf5a/jx+N1ouAqgG46lngX8u/whhSn7Ysuzz+Mcr61H+4hMYpxcUvXL5PEYE9laG9MT8iK8ypOsfnXWqRVrWpJDz2Lwnp2XXUEGT8GDuj/jHjgRNY6wiV++x9Vj04nfy9Uy5EvTN2iVdy82cgQDNYPOp+uKlNwdj/6ur8NUZnX0nXTs9v70v1r5YT01dkaJiw2OIe+0tbNOtuS22e9p5fPDHwxgxs3baA6eHluN/ij7CkjVhiFNqEZfdCMNbi/8XN198DQtdNeOIiKhtMVBLRNRChhvG0nQrRdPITeaOp9Z/iLnp6zFrtHj9g1j0f4VY8Jenm3Fhb4Fxf/gP/uR9ECsenKJZj5An8Y/0Gfhy/WP11Da52zpj3Lv/wTcLy/B/S5SGN6a/jM+yZmDrpw/fndx6REREd407Rowrx/7DBhphUnnhqY3b8NHoa/jHQm1jVFMw5el1COv6NHbsWo1J1Y+0G6AajLkLLJE1+DHMbfUAmgVsHRt6nP8kVsrn8Cex4pscTP77NnyzSDe/bA72f7QKy7+OVIYl3R/D11/PR/5nT2KIeO3oJ/Hn+EnyNYqvTgDWY9En+P6pAvxzruZaZsjcjxA3+UN8uVg/f+01HA6rv5ZndOgBYNq4Bq+jRkyajKifDyOrJddQIhD69Qo4b1mGIcOk8sFzsWKbA17b9iEWd4tEVIwolIqftwFzp91ZygDbcaux8++DcPEvOvvu8iB89P1qjDOYBFnh/Ri+/IsD/vFK7Xy1I6ZPBooHY6Y2QK4lfya/xUuq77AoRFqOtKxRS76D5fMb8XWd/U9ERG3FpLS09LbST0R016xZs0bpq23ZsmVwc3NThu5zSd/h0cfTsPrw8npyvhEREZFRS/8Ri57NwertzfnxlRp15iNM2DoIe9cacWNYMV9g6mde2PG3Sca1jmFrMOHYDBz6Qwvz5hIRUR1paWmtFsdgjVoiIiNwM6lubZusk2GIDh6EPsowERERdTCuD+O10bvw7z21c4XSncjBts8j8NSLRhykFfyfxl5jC9KKxs12ncfkljZuRkREbY6BWiKi9lZ+Hl8tWYYXNp7XyVH7BZ7/WyGeXWzkNyFERETUoAGvvAvnz9bhgBE07HkviNv4Jn4YtRpPdVdGUBNJ15f7/xdrrtxB42ZERNTmGKglImpvFoPxxrZ3MTb2C8waJ3KCTcGsvyRg5oZPajXMQURERB2QyGe6cQZO/eU7xCmjqIWiNuEfxS/gX8yZ2jwinZZ0fTn143K89BHTcBARGTPmqCWidsEctURERERERETU0bVmjtpagdqqogzczCpFpTLcukxh7eQGVxszZZiI7mcM1BIRERERERFRR9c2gdryRJw9lYECeaCNmFrDZ1ggvC2UYSK6bzFQS0REREREREQdXWsGamty1BaVoUzpbTNV5SguUvqJiIiIiIiIiIiISFZvY2Lm1taws2uFzpqpDoiIiIiIiIiIiIgaUpP6IPcajkXkoVweAOy8h2JId2XgTiRF4dcbxcqAGVz7DUSgvTJIRPctpj4gIiIiIiIioo6ubVIfEJFRS404j1+PnNV0x6Nxs0qZQEREREREREREHV4HrVGbhk2LF2MdlmLnxnnopowlupfduHgW8dWt/XX82ukdrUZtQkKC0kdEREStzcvLS+nr2Hi9QERE1HaM9XqhNWvU3n+B2uStWPToBmDZRnzzeBsFg46uxZBXQzH9g71YM0YZR3SHGKglIiIiIiIiIjIudzn1QSnSY6Nx7lKU1EUjNrsSqMpCbIQYlrqIG8iukkZl38BluUwULsemVQd8iYiIiIiIiIiIiKhhTQjUFiE7qwj5+cVSV4T0rDwgLxfpuWJY6nJvIV0alZt1C9lymWJkp+YgXXn13ZLy9TIMGbkMmyKjsWnVUkwYM1UanoVZq7YiXK6FeBqrR0rjHt2AK9LQlU8Wa8oni2kaZclHsfaZRzBKlBvzCOZVv1YQtXil8YulcZFb8eqCR6TXS8PjF+PVr6MhFxO1dcW4V0PlV+x+VeofuRZH5SG9+UvrNuGZtdgSWahMJSIiIiIiIiIiovvVPdaYWBo2vbYa2x1n4a133sTKBT1RdngD/ufvp1GGgVi561vs+/dv4COV9Fm8Dvt2rcV8d80rkbAVSxa8i4OYhhVr3sQHq2fDI3wDnlrwCcLVShkhdSteeXkvnOa/jA/WLMMTvcoQ+slqrD1aDrjPxr/EMt7W5DsIeVvq37UMw8RAxh4sl+a/pXCMZv5rliKkMBRrn3kGay/LxYmIiIiIiIiIiOg+1YRAbRd4ervAu4em83XvIo1ygq8y7N3DFZ7SKHt31+oy3r3c4aG8+u4qhPPCD7H11dkImTgG85f/L14eDxTsP4YzsICtgz0cHWxgKZW07Cz6O8NSJV6Xhk1vbcCVnovx738vxXzptSHTFuOjv/4G3XJ24JOfc0UhjWJHPLFhA1bOlcpMnI0V/3gWIdJydx+9CKiUZXS2kItWL0PqTwndiTPqHnhh7cua+UuvfWvDyxiDXGz55bRcnoiIiIiIiIiIiO5PTQjUmsHOrQd8vDSdu52Z9Cp7uCvDPl7usJPmYmrnXl3Gx82+narq+mHahB5Kv2CBPgHSsLqRjLnJR7HnKjBs7nT4yIFbRcBwjLEFzly8poyQ9HwAE3UbmbP2Q5+e0t8yzWB9HJ1FUuEcXLmYVlPUdho+OrEX51YNV0bQ/S414jx+PXLWYFfTkJhQifQIw+V+PR6Nm1VKMSIiIiIiIiIi6hDusdQHdVmqNLVbG3Tjupy39sz7CzR5Z6u7FdhSKzhmiAUsdIO79bCc8CLWTDFH6PuLMWr8I3hq1QZsOpGIMt20CnTfK6tshQirugx5eUo/ERERERERERF1CPd8oLY5gh4XuWMNdPN7KSXugMoe09/5Fse3f4IPlk6Dc9YerP/9Uoya+ya26zRoRnTnVDAzV3rJOFUUIb+4QhkgIiIiuk/xmoioidQoK8hHmbE+OVlVivyCUmWglbTFPDsYdXEueIi8/zBQKzi6oZv4695Xzm1bpwuwl4vdibK8XGTnlcPSxQ8hjy/FB5//gF+/Xow+Gafxp6+Zo5Y0PLw9anI963WOVkohmSlsXQ2X8/brBp/OSjFqM+E/b8HHn9Xu1n+1CzsjspUS9cu/dAT/2RuFYmXY6EUdxMc/RysDVK0qFSd/+lHz/m8+g0xlNBkjNfLjzuCnb3/QvF/SOfjLrUcQntOUx1qi8dNnBxGuDLWpjJP4z+aTSFMGyZil4vDmHTicoQy2t6Ycp1vlWG5k2230xPFD71rh613YHZ4hHZXuRc0/Xna4ayLqgO7GcetuLCMRoVv343CSMng3NeX8kXgG3/xwBgnKYKtoi3l2KLk4s3s/dobnK8OCGmmn92DD5+KcIn3mGr/1pA6IgVohYDgmOgDhX/wXZ/TS2cYfPor4RlLcNi4Xe95YgCmPbsAZnasyy57DMdpd6mkkvy3dP8y76uR61uvsatWSNYW1s+FyPu6OYIXau8NzzHy8+Ky2ewRLZvQALh7EN6cbPmPaDZ2GFx8eAGtlmDqmzJNncMHMD08+I73/C4fBWRlPballN0LFUYfwjXQlaz80BM+L7+uSmZjhX44z23bhcJpuuIRBKCJqZbY9MK/6WuFhLA7xBSKP4Mvd0c0PTnb0H04NrD+vie5AR/88UDP5YPpvH8EU3fZy2kQLf6D2HovnnxqLlq+egeXe8Tw7OnsEPzIfjw22U4Yl2eexL9IcwY89Ip1TZmO8ozK+LfAY027qDdTerihAQWEBiioqlTGGVZRoytXbVRhZ3XwHN3RTAVdCd2L3waO4It+MBeDpP4TAMWcHnntyLTbtOYrQg6HY9PZSzFv1Mb44USi/tMlcNDV0T+/ZKs3nIuKL7TFt0TQ4FuzA8sWfYIu0XDH/T19djS9SgZAxAzWvI6IOTAVLlyDMetAHuH6NNeLuA2k5pXD3DZIb1CQjVhWLg6eKEDh9Msb72UvfVImpFdyCJmJBcCdEHb2EXLkgEVFbM4d1twBMnz8KvW9F4XAsG6sgIqJmSM9HvnM3BNk2oaEk6rBMSktLb8t9uddwLCIPdSuPmsO93wD00Xv6v6ooFVdiUpFe1JxArBlc+w1E4B1nEkjDpsWLsQ5LsXPjPDkomvL1Msz6BFjx/Sd4wlNTStCM74GPTqzEGGVc/PZ38dLfjyKl3ALzP9qJlcM14wsid2DthxsRGlmIMljAtu8YvPDSMszvL54jr7tMDWW877s497YyIxTizEcr8er3sShAAFZ+vw7z3fXnD9h6DcSc51dhxfg7T61A974bF88ivrpxu9b6LrWfNWvWKH21LVu2DG5ubsqQ8RKpD677zsecQGVENfFrcAp6PjsRQUq/5xQb3AhLRFqpI8aL8eLXybhuePHBAKm8qMF3BhgTBJy7iPCMCsBUBfteg/HweBekHj2CwzH5KJbu5VS27hj/4CgEak/MVdkIDz2JMwlF8nSozOHWbxgeHuGpCUYp81YP9kHR+atIKDBH0JwpsDu+C8l952BWL50TfFWsdGyLh+fCyRhUK82GpNb6SnLCsTs0FjduVUAtnQJU1nboHzIRo7tp63Ir++BxL6T+Eo6rOWKbpHXrH4x5w8VjBAppPjv3ivUSG2cFrxGj4X3jGHKGz4a06XWXKxPbFAWHhWL/CkW4fuokjkVlI1/kb5L2nZ13P8wJ8a8VQC2+cRK/yO+BNGBlh6Bx/sCJOJ35AOrMcPxyoPb6zOpn6GdqsX3h0E0vLmpXaz4LFcgMP4bdZzM062NuA69hwTrzMfSeKNurVRqOrZuz0X/xBPTWDQJfO4T1kY5YMicIlo0uRzo7Hd2BfRiGJ8fo7HOx7pvzELwwGG5NWRfZ3drHjXxuxOfhqE5tdVFLTd6ORsRIr7um/znSSsS+/4TDbs5MBCfXN39lvRZ6InlXBK7nS+tu6PNclY/rx48j9Iomf5ylSw+ETAlGT6WamPx+VPljUFEMjt4shU2fsXrvjUSkPjgITNFuVxO/43hgGGzOnsEZaeerpSl23gMwb5JfTQ01MZ+9x+TlytM9emNW9wzsvBWorIOyjfJxq4ZY55MOs6uPc8U3zmDfyUQki30gUdlJx6SZOsckobHvtVAQj8MHtcc7aZv6DMSMMT4161ssTd93EVFZyjHGzgVjpoxFkIPOcmqRPqO6x0rpmBQ4ZizGe9vUTG/kM6z9vkzpHIV956RyYj7SMXfiQ2PR22BVP+X7M8IfZad1PhdBuu+PoHxXT0vfVXme0rZMbWBbGn3PBc321vqs9SjC7hTdz3lTyjThuFfn/fSHTXgMVBMNHSuoLt1jrp5ax3RJg++9+LwdQbhOI8c1553mnL+E1vs+1D3uuyN3X1adY4nm+1LP+rfWNZHQ2LGlFs1xr841WlO+s3W+F8HwjDuJ/ODmXL9IGltfsZx90nLk44sK1k4eGC+fVxr6PNQ+Hhq6PqitiZ8HQ+evVtnfjX1+1ciNOIKdZ5TrHfG98NdbjnL+rf8coHyuxHHLTrnG+q10jaVMlcVK38eImu9jqx8bm/SZaGxbdbZD53O2xD8XP55IRq7yPRw6ZTKC3Wo+r025PtMS7/XWKFFQ0S1Is87yslzwZK9b+Ol4qmb99Jelfw3TjHN5vcutNU9l+9vi+CCW81MidBMMaNR8Thv/nCnXUo3d/zRyvahP955T9B9OUSYI2v1Ui7KfGrs2bPBeQsyj/nMOGZaWltZqcQzV6tWr/yj3ld9CUrp4E/VVoVJli+4O8iWENFiA1KtXcSE2F4UVmhhv00kfEGnFnfSDAM3WGQMefgK/ezgQtsoY2/4z8btnZmKATq1wQTN+DHoow4J9n/H4zW+l1z/zG4zxUEZKLF38ETL7MTz9jGbaU7PHoK+rhTK17jI1lPETdGYEC3gEz8RTS6TxS6ahr/KC2vN/Ak/Nkw5s3p00E4kacSstBbeqf0kxRWcXNzh34I9PWFiY0lfb8OHD0bmz8SfZzbgaiVz7vuij/7z7rRs4d8MM/fp7SkeHLFw5l4SYW50wcvpkTB/tB1dRJjMep3NtMby3eHEhEiISEHWjCN4TJmLOuAEY4qtG/IkIXI5LRoJlbzw0S7oIGNoTLrcisTe8BH0C3eWLyOsHd+O0qi8eki5Exg8Pkl5njpQz5xCp8pXWy6x63leSK+A/eZI0777wtjGDe1Uq9l8pxoA+rhClZLGXEVrggin9dMZp1VrfeOz+TroQHT4WD4cMw6ihveFnnYGToXEwDfCFq/xisd03cf1Gcc02dS9B5JEryPb0l9ZBKlIag51bo1HWdyyeeHA4gvs5oVy6WDh8E3D1V8rUWq6W2KZMdAqSliUN5Z8Nxc8prpjy0DhMCu6P4f3sURF5Dkey7TGgh3LwzTiDzbvT4Th+EhZOGowhvSyQcvQcLuVawXuIZj6izNc7ktB19ATMnzwUw3yrEB92BlcsfeHvpL9HnNFnSF90So2EesB8PDmt5nOQe3oPNsd0wvhZ4v3ujyE+0nsZdhKnS93Q30NcGhl6TzSvrWbmBPXNs4gq7YlAN+2y1bh69gIKuwejvzSu8eVIS0qMwXV41OwHmfTeRJTBM0h8PpuwLpK7t48b+dx4+2L4EAeUXM2A64y5mB8stqFxaVcikGzVU28/aHVBcdJFpFj0hb/0+TU8f2W9EkvgGyL2k4HPM0oRtWeP9B3ywkPzJiBkaC845V/BgZO58AjykOcj3o/L0rxL/EZgwfRgDPEysD5FybgUD/SU35+mfseTcD0uA+YDx+DRSUMR3KsTUi6ew1VVH6mMuMsW67YfR8p8Me/RiXhAej96VF6TbuqyYOrkpewXsY0FcNC+Vwqxzsmd/DWf7/zz2LY7F94hD2DWhEEIHtQT3SvisEeaT3dlfZv0vRZltlxCvv9ILJwRjFFBNsg9fw7Hbkmfp+5iXUpxYVcYEjyV6YPFcuKx73AyugzwhqOJWJAutXSDtxd7010wWdq+KcMD0d8+D2d/vYzsbpplNuUzLLY16kYSEsx7Y5Z8zO0Oh4wr2HutSu8YpCX2fRwi48rhP0X5XNR5f6TP3/Fd+P6aNcbPFt/VAPipknAwNB6WfXyhFKml8fdczHMPdiTaYcrcqZg2qg98zVJx5Ewaiq1dq9e1KWUa/U7WeT/tUHzxMs5n67yf1AjdY64e+wIkHM+G1WDpcy0NNvze28M7qC+Gd0rD6Uo/vLhwguZ7KTTr/NWK3wf9474XkHgiGrHFOsf9arb1r38rXRM1fmzRJ457da/RGv3OGvxenMaxtOZdvzS+vskI/SEat4dPwALpfQ0OcodNRjT2Xi5Cr8De6FPP/iy7dBhbbzpj9rwHECIdDwd4SOeAQ+eRYOuPXg46v64qmvp5qHP+aqX93ejnN/kkRMxplPZ6R3wvzp3DuRLt9Y50fbT/FxzI85K2WTr/as8BoeeQVL3NYt+nAL7S+9OlC8oSLiHJLFCaJlZA4+rZcyj01FxjtcmxsSmfiUa3VWc7tJ+zeOn6JM8Vkx8W294HPtL5MvRcTs15Wf97auj6TEfnHv7StZCptFw1Bj07C7O06ysvKxXx+W6Y8kg9y6p1DdO8c3m9y601zzY8Pth4YoB0bT+8uuuDHkXxSHYZiCny96ApnzPlerGh+58mXC/q073ndO1d+3tf+/OkJfZTY9eGjd2zuNR/zKZ6FRYWtloco+Zo3cUN3vbmMDczlTtdVWoRHapEUdo1nD4ZgysZZajSTNIw0bymsc7K3kk6OCqvISK6p6hRlhOLfbvjofbx0qk5Y4X+E8eid9eGMwe7DxqLoS6aX7FUXYMQ0tcKufDEvAf8IB2apaO1FbzG+MAtO7c6oX7PSY/gSTHdQvNrsaqrH6YE2SE1WbeuJ+A5IqR63rI+XvDKTUPND9fSxUectLS+gZqLmQb5YPpTszHFzxGW8qnCHPZ+ozDI8Rb0FgvP0TXLVTkPRrB0MZWWollo2RXp4qfbAMwb7KKpJWbhiKApA9Fb+9tYE4ncdkvnDICntbJ/LdwxNNgDlWmp1b+KJ0QmQxU0GlN8Nb/kqax7YPR0P52cstL2X0iE5dCJ0nZpHo1XdQ3A9DEuSIuKaXoa8apYHI1UIVjUOFLeb3k+D/oBkeG4Ko/RqPOe1KJCkL+LdE18rWbZVfGISXdE/yDpNc1YTlM0vC53fx839LlpK+q6v1LX0eB63QrHhWwXzJg9AG7i+yi+ryPGYpBFMi7rNvrhGSR95qWbhtqXWfVq2ne8AjZ9J1TvV9j6ICTADpnpN+Wp4uYkPMURE6V1c1aOJfaBEzCxp/J+NpXdYDz21GQM7WajWY5IHzG4H/yrsnFD+SA05XudeykWmd7DavaDheazYhkbqxzbcpFfYoOe/ZTp8nKGYryvBSoNZaKquoqTVzph6Mxh8JL3kwqW3YdhVn8LJFxNlYs05TMslNn46hxz7dBzjBecc7IaaMTEHD0n6HwuxPszUvruRkVp5it9V8/EWOh8V6XjZaB0E+mZj/Arhj/Tjb/nibgcq8Kg6WPRU64pJI7BwZgzULemQlPKNP6drPt+ukvzbP5xmuphagYz6eCjPf419ZxeW/PPX631fahz3JfWd3yt437LteSaqPFjiyF612hN+M4a/l4MQ2AzK080vr4FyK+yR6D22G5uj94PDMZQG1EHtn65BSVw8AnUnIukV1q6DJCOS9IyKnXf3RpN/Tzon79aZX835fObXwK1m5fO9Y70vRjrBzvTEnkYt87jTIbO+Vdss3QOeGysI25cvFR7G2RWGNS7K27ExSrDQiyu3+wKf3GN1Z7Hxsa21SAnjK/ednM4Dw1Ezwrpmlw5xTR+fdYcDS+rtmaey5vhrhwfYo9g500XTBml1IRtxuesVa4X71gj14atfC9BrU851Ao28Og3AGNGDpY6F+heyqE8H1HnL+P0tTwU6d3MWHRxwcBg8ZrGu5H9PKRDIxHdORXMtNc41G6Sj+q25PwDNmyPQbH/KCzSntRlVrDrqvTWS7oR0HvUwK6z9DpXl9qPj5k6wdlQJQVdpqZQl4vnV7TMYddFPkXXMPXDIN9CXNUGCuQgoD38e+qVazJxoSHdbNbKnWMH9+6152dprkJZoSYbaEJGEZw9fOT+GuZSGaX3TkhnNrOKcqWRllykZqvg7qXzuJpgZaETlL6JG+nSxWQfvSoQ3tL+zqm5yGtURhYyu7ojqNabJukaCP+u+UitbqDKwHuir5cf/AtvIlx78Xs9GWmunppUCE1eTlM0YV0MabN93PDnpv00vF5lN7JR7OEFL52rKnFd5emqQmZqzbrb2Ohtf0vU+Y5LNz/das/X0sIcZUXKrXxyLnKcHWun0ZCI9W8NKvHd194QNvq9LsX1lHJ4+uk+5ySxdoGbufTZle90XODuXIQzPxzE4fBEZBaLbbVH4PhRCKx1carIyEOOowsC9S4wrQdPw5OjGng2v9ZnWMPOWe+YKz7DpeUGbvS1VLC21tuPup/pm6lIq/NdVaFnNzvkZDQUfNOj+57nS99/lSN66p1XxHterSllmvCdbNPjNDVNne+7vlY6fzX7+9CU435LteSaqCnHFkP0rtGa8J01/L0Qx0Klp0madix0+//s/QlcVPe9P/6/ZGRfZJdNdtkUFxSCEUVxiUs0MTGJaRbTtPY2pd8b23tT+/1ek9429Hdvmu9tk++/Nm3TpjVLTaxRozEaFxIUIwqiCLIJsjjCOMgi++KQ/zlzzsDMMMCAIKCv5+Nx9CyfOedz1jnz5nPex16No7tP4XSJEo2d4o9wP8SvjhH+7Z+Xlwsazx/F/vRcVNS2QPyUU8SDSDLOYzgQE8eD4ffXCG1vc45fHxc4Xc3ER8czUVwlPSoOvxismy9vBWWDie9fQWgwQlr7OQciAuCnUvYGo4Ttq/QJQLR2HmN4bRxsXU1xdjdad7EenWjR7oMRPk8HXJaxIX6Xm+0uXB9aC4TzpwXRq+PhpVtfs4+zkblfvHOD3BuO6G8JGg3Gh5pJnQ21fXPRWtohMHo2Fs7yh0vfp2qIaIT5Bvoi0N9T6kJ9EDQyrepp2GwQ/ajuLc5y9921eDRGP4/gKBNzHJ09gff/phcw1s+xOQC/kKloKc4VbuEEhRVQeslBQHM0leH054fwzl96l2uQL8kMHcIPjskWI7GlxPxKp/DRh5/2bgODHFPt6BDuDQf+AdWC1vZGZLzfuz5SlwulXmunQdUJ87E0dfNrI9yktaP+pjxoFmF/TGtDUY64PzXILaoV9lmoNGlEl2OOcbSNR4niDg/F+uZOdFzJMFq33dp8a5pOk01NzHMH53gP4VzTWIzMjZqYs+/wnn16575h/rLBz+t6tLR3ofiw3vr0zEcX8FUgbPl6bEpwR0dJLvbv2offv38EaeX9tCHr93wQ9NRlsGN4JDnDSffbqEk4LmqK8K7BugqdsA/7Db4Nts/bO4X9Kff3x5wyZpyTI3edJpO6b+O2cPHpOXaHdb4P59o6EueDOdf9u8mca4sZzDhnR+a8MKe+bojfsBbrZlmi7mI2Pnr/U7yz62vk1g3yCEjoIrz4+Bz4dV1H2sEjwvV6H/aklxkEXQ0N53gYoe1tzvHrHIOnnnsQc20akfnVMbz73qd4/7Bw/yqHJlQNbcK9j6kIqRhEbEGdqYCTRRDCp9aj6Iq0LcWnyryCdYHXMbw2DrKuQzeW5+kQv8tH1VCO1xbkHi8E4pYgXu+PCsM6zkwYtfvFobrrvyVoqIZ+2k6aDJdpQUiIj0JQz2MLRDTaLJ29ERTgL3XebsLXAt3fNCg+fgxHq52Q+Mj63mBxgtFfzfvjF45wqJHfoEHu1UaERMpBwMF0l+DwnmxUe0Rj0/OP9yw3sfcNi2axtlLgdvcgPzbMUH/uKD7J02Bu0iq8pNsGj/rrPRUi3nAIW2vAm1zhJkshvixA/rxB1/dFC/1ytYddl3ADJg/2Em+UbeDiLg+ayW+2H1BxVbhBL0ZpgyeidLtohJczmHG1jYfBy8MejQ0N8pCxSlTX2cNDvxH8MNgJx7NT1CIT6/Zk3xeGme0Oz3EdoW6K7tvywB1oyMbHn5UBM2OxebNu/RYhWq+V/+DntXismPgjl7bTfwGLJVwCZmPlhrXY8r0NeOZBe1Qc/wYXTP2G6fd86DX4MTySGtCo+x0qbnvxRR8G6yl3fV7+ITJjn9tYCftT7u+POWXMOCdH6jpN/SitRY2rCwK0A8M934d+bR2Z88Gc6/7dZO61ZRBmnLMjc16YWV/xcfGIeKzbuB4vvbgeG8K7kP7FWYOXmZqicPbH/KWr8PwLj+OljdFwupaJL3JMB4GGdzyM0PY29/i18kZUwjI884xw3/n8g4jqKMa+U9JW8HK2Fe59TP3hq0sYbw9Xk3VRICzYBaqrwneamPZApf9U2RhfGwdY16Eb6/N0CN/lo8r847X+3NfIsIjAyijD1qjDO876Gp37xWG4y78laOj6CdQKX1ImpkhpDuZgTiCDREREY0uN6lonJKyPRYCr3iNA3ebejbkhOlD4nXgpU/sSgqhp8ujB3LyJGrcwbHzAvyePnvgD0zBx+eACPO1Rc128QTZkcDMp/mAyvonobkGjXrMQpVqDqKVLEKXLmykS5tEblnKBt5sG1RVGrZLElkxyr5h3129qA8rllhXD5ukOj4Zq5Bo3W2ktQmmDE7yHetPjHIoQi2pc+KYKddOC5B/zAjOXI94M9rmpbGjGUNsyjKttPBzTAxBQcwVpqr7Lbs0TtpmdN8LvMGLnJNwXoUqJkXxo7c7PcZmfC1xralFs/DGDYfGHqfBjw+DHkwaNLXrHT1U9OsJisTrCD7pUhiL9c3bw89oFgV7CMVU2QCvBxiKkphXpteYSfuiFxiPavQ2Nppp4eU6Ba61aL+e2pCPvBD76RspRO/gxPFwadBj/yikXrpG64FvwVHjX3Oi77ftlxj53Es5/Ta1wrsvDOkMtY8Y5adZ1moanuxppWbUIjJ4pt2ga7vk+9GvryJwP5lz37yYzri3mMOOcHZn7FzPqq8zGwSy9AJ02x2ckwtE2wHdNPfLTvkG+3rVSzHO6bKYLWptMf2p4x8MIbW8zjl9l1glk6McpxRy64hv0m+THOfycYXe9AhXG++xaBZQ2Tv2niZjuB78bShRfURo9VTZK10Zz7mkHW9chG8PzdKjf5aPKzONVlYGD+fZIXBNpmEZBNNzjzMjo3C8Ow0j/ZqER10+g1hszZnhhqosdnJyEzmUKgpjmgIhoHHGBk209LqRXSjmsuttRX5KBT7LM/+p3Eq7pdsWVqPPzN/sGQ3ym105dhtRrclSksxbF6ceQMcRcRtazQhFYlYM92WoxzAt01aP4q2zk678vIVi4ia6rQOpV+Y6usxpZB3JQoXfv7OKoQVFWLuq18aQutFbl4uCJSoNH/ALmBgC5p3FUfz6fF0MlDQkUiI7zR/3pY0grqZfqI2xPVe4JvH+4wPCmeiAWoUiYoUHGZ6dQ3CAFuDQNJTj6WRFuz4g2P7VEDxfMnW6L/MJGBIbo7SEzl+MU5gm7q/nIqNErc7hsyDeH42obC9vE3qYLNWr9cLMGHU1yLjdThO217AF75B/uu+yPM9oQlTBbmKuOqfmbwXMO5jtWYt/hXKg6pQNU3N5p+44gbdh5vu78HNeymYm502pxQjh3pEOhS5jPKRwt1o9sBiHErwX56WVolJelyk7FCf2TzckWKM3HBd0x16rEhcOZBuesOee11/xwOBWcxMHcanmfifUR1uvTDOl4cVCg42oejmYbTs+tt4erqYC6RRjiI9qQdSgTFdptLxwP6hwczGqBX6jUOsWcY3h4ulCcdgIX1NK21DQU4HC6Gh5RUVJrNItIxIc3CsdBRs+5Kp4bFw4fwkGTLxMzZ5/7IzYCwjxOobSpd333ZA61zODnpOn9KezzsXhy9Z4hH3+7vkGxcxQSQ3WhMTPPd0crWDfdgkp7boiGfm0dqfPB5HX/gP5134Q+9R85g15bzGHGOWvWeWHG/cvg10Kg8WI2jurv1+wCFCnse18E1Wd7OmFyRzXSUnMMvotO5DXCydV0jtrhHg8jsr3NOH7theGsU733O9ptea4ak53l59KdYxDrqcYXwvaV1lm+3h1XwzsmRu/73VgooqYJ+/pMIwIMniobpWujGcfEoOs6DIPfn5ki3OvbtKDGxB+4zTbU73KtEVhuPwY9XsU/nn1di4BVi0zfrw/7ODMyKveLw2Dub5ZRvGbTwBTbt2//T7nfgMLGCR6eHvDxEjpPNzjb9PyNjYjojp08eVLuMxQXFwcHh/GfgFddXIQ233AEGr1rwNBNFJ5vguu8YEyVx2jVlOFcvSPiwsRb7WZU5FUJN3BG8xLK5LR5YLa//tvDxLI1sI0W5zcZ3v7WqMrKxvEzeTh3sQQV7S6In22La1WTMD3KG9b9zVtn8mThJqUazrGxA6+Hfn0nT0WgoxoZX5/HqczLOHdZjQ6vSMx1rEElvDDLV3ztsen1bq4sQil8pXWa5IrpARqUnr0g1T+3Ch3BgfC71QALXX2FMtOEZWWduigtS7i5uh0yHf6tLbDXbgPhJ4m/MzQFl4R55OJs9hUU1SgwY7EvWgua4RoTCO1DozbeCHWtR96p80g9K8ynsBZ2cwNhW97aW0d7X8z0bUPe6Swc/0bankr4Y/XyGXDq5+tPXXwZ9S4zEKH36lxb3yAEoQJfp0rbJ6u4EQ5zFmJDjIf8l9FB9omRyTZ1uFJhjwcW+om/2XoMvhyBjRc8b1/FN6dycDpLKuMcFwDrag38o8X5mVeXu7eNzThuhOPezbIWWenZOJ2tgkNMsPCD9QoOf5CBCrcoTO/nt4ylRzBmuNTj8rmLSJWXXd7ihNg1yxDnob+DTc3fvHp5hPjBSZ2P46kXpe1d2oKpcQ8i0U9qL2dYvh8tSuSUASHa/XMH57jBNcYCbkFTYVOeiyPCsSDuw4p2b8z1aYFqkq4+QhkfK1RduIiv5WWVd01FrF87btmHS8e4kw+8u67g1NfS8XShpA6Tw+civK0St5yFbe8qlDHnvJ7sjvAQG6jOZ+HoaeGYyipEccsULFwRC3/xVcziPEIVUGZdQKp4zAnT829aY86yxZjrYupktICDvx+c6wrxlXbbFyCnsguBi5cg0Vd6Bbc5x7Dp/dPPNVxL3PZquM9yR9U3WUjNyENWQT2sI+PwyFzXnvPQYVow/DVlPefquVw1LCIfwJoZU3rP1R7m7HPx/PeF260SpKZdxBlxfasUiIl1QU2dLeZq97l5ZQY9J/vsz2to8ZyNCIUaGj/zrmEkHENnriDjvLDvtV0hLinb4Dp7ATYuDNTLD2jevscUK3SVCNeZ9DwUdgj3CNOEnTDE768ROx+Mr/uXa6GIDoNvXRPsZ5k6ZwSm6j8i90SCwa4tfZg+vwc9Z02dF74hwr3J0O5fBq2vsH1neLXg8hnhWiju12xhn7S7Y9GaOATp1qfP9nQUrvd+sFfl4as0+bu/sB62M2OxblbvdUnfsI+HEdregx2/4v2OT9dV4bsnW9qWl6rR4j0DjywSzp9J4gzE7zg/uNYWyN+/8nfAoiVYHiLek4pMH1fOwvd9Tpk1YhcHwOD2YTSujWYcE4Ovq9F6GJw7OkZlzLk/62MK7LvKkHFS+P4oakVQtC/szVmW/j2MuI2G9F0uMrFcg/si0/txRK4PBefw+ZVbUBcVyNfq3q7KVrzXN+c4M32MD/V+0Vif3xsm94W+/reT/ufM+i1h6ppN/Wpubh6xOMak9vb2b+V+IqK7JiUlRe4zlJycDC8vL3mIRlVDJj46Cqx5Mtb8vwSPpu4yHP6wBH7PrpDfvDuKWnPwyb42JD4Tj/F8tNWfPYQvEI9nHtCGQyeWCbKN70/CD8zjB3DBaz02zuzvB9MIuZvnNRHRmKhG2q5MYNlQ8rMSjRHenxGNCpVKNWJxDN4yExHdj7qkRyytw6PHJkjbVYSjn2eguK43hULu8YtQevgPI0XAIGqzsf9wLpSt8qM9rZU4fbgEHUEB4/oGVdOQi7QCK0TNngBB2gm6je8PXSj+6gTSSmqlx/2621GffwppSidE9Tx2PULu5nlNREREA+P9GdGExBa1RDQm2KJ27NR8cwCf5LXDLjgGm5aH9k2Yf1do0Hg1E0e/uQ5VqwawUMDJNwzrHoqGy4gHdLpQk3sah7PUaBTvUxWW8AqfgzUJQWO07oNRI23X18htsUFI4jKsnj4RHjOaaNv4PtNUhrQTF5F/s0v7shOFkycSVi5CtOtIt6a9m+c1EdF4wRa1NF7x/ozobhnJFrUM1BLRmGCgloiIiGi0aNDR1ALYO8FkytC7ZrzUg4iIaPQw9QER0ZgSW04cuLtv5yQiIiIyWyVS9xxD2jV50KQC7P/zCeTKQ8OlSj+A99Or5SFj5tRjGPJP4PefF8gDo6EWp3fvxkdna+VhQ+I6//7Puw27vx3AnvQytMpltEa9nkREdK9hoJaI6K4YmR9DRERERIMLwurvPo6VAfLgmBmJeozBPZT6CkphD1y9ApU8yphT1CL8+AdP9nQvbYiCx41s7DxaIpe4H7DxAhHRSGOgloiIiIiIiEimLKiGddiDCLepRr5SHjkIhXMoEjfMht/1CuSKL28kIiIaBsX27dv/U+4nIrprTp48KfcZiouLg4ODgzw0XjWjIq8KCA5HoPY9Ty0oPXsKnx/LwqnMyzh3oRCFdQoEBbrDepL0eNzfj1ShEW2oOC9Mr7ZAXJiHdk6amlwcOpCOY2fycO5iKW5YuSPcU5feX2xBcgnNbmp8c+AbpJ5VwXZeMKbKU4mIiGgcEx97z2qC242L+PRoNs5kXcb54jrYB/rBQ5ewVSxzViijlstU6e4RxJcAncKnX5yT7i0uleOGpVvPPYIybR8Oqr0wy9dWOyypR8aeIyh2ikSQk9jS8StUTNXdqwCt5Rn4THs/Iczv8jW0TbFDe2krXPXvLcSXDx7+Gp+fzBXuZ4pR2WqDQH8XWMqT0V2L3CPHsTctB2ezhfudGxq4WDagapIvZvs7yoX0GdVDu74dmDnpCnYfOoOTcl26pwbBz6FvG6J+76FqynCu3hYR3xbjk4NnpW1kaj6DrY9JSmSl18N7cTSiNRU4VW2DuYFO8jRJc2URSmFinSd1QFVYjjYveX219XTsue8zJq7f3nLAIv8b7TYtaHWV5jlovYV7z/TUnuMq51oTnK2U2H+6CXO1y+q7/7WE7f9+ka1eveXj7HPhONMenzWw8Z2Gqba6bSgtZ/+xbJwWphsch+K+3FcIdedtqAuFacVN8I/2g/Yuvi4XBz8T7m+/Ee5vhfvivMpGOPn7wXXgDU9ENGE1NzePWByDLWqJiO5QY9YppFa7I+mpDdLjb88/iKjmPOz/RsrX5pWwXhgfDT+4IVGc/nCkdjzUmfjoszJYxybhJfGRucenY/LFr3GwqF2artWAzPNdmLVenPcyRMtjiYiIaAK4XoIshGLjZuH7//vrsca3HqmfZxo+Tn9DKNMll5HvEerPHcUneQrEb5DuLV7aECzcI5zAR+eknKl+IVPRUVmGRu2QrLEMpe1TEeYnD+sT7jn2HFfDKWGVNL/1ocCFEhg0Fm0vwsE92ajxj8eW74v3M/PgfSMbe+T7GaEA8r/8GukdAVJdX1yLlX5qZBTr37eYoaEQey7bY9mmx4W6bMBTUUJVvjLaJrJ+76FEDSXYX+CElc/0M59B16cf14TtaO+NaBvAOsIb9hVlqJAnDaq7BY2ttnB1l4fN0HIlH0VTY/Hii0/i+QRvs+qt+uYEDl+zF+49pXXfOBPIOllpmB/XDKpvDkvH2ePicbYBm2YDmQe+Rr68SztyvsHRGk+seU5czuPYstYPHZlf43CJBohaJoxbhGhHG0Q/KtTz6XhIr9FRIvWLMkyeL93f/nhzEhKmqHH4i2zUa6cTEdFAGKglIrpDTvNXYcujs+FnJzcTsPLG/Hhf3FZVG/6AMqBB8YVKWM9fhpWhLlAIYxTOkVid4AlVfhE6pEICG8xatghhzmyCQERENOG4heLRhFC4iF/jFjYIWLwQcxXXxRhpL0d/rFwqlxF1lyD9sgLxj/R+/2vvER4OBS7nolgc4ReEkK5q5OvdaDQWVkMTGARTcdqKy0ooohdiZbDUMlT7mP7qUOi386zPKUFNYCw2xnhD2+DXyh8LhTLWJSVSoLK9CLlVbli2fjY85PXxil6GZSFDvUdxR6IwDy8r8e7HEh7zo4R1aYByiPHeweYz6Pr0o7hADaegcFiLAzbhCHFUI9+MtLOaViWyDuRA6eOPsKH8yvaL7q2jYPB6V+JSiQJzVy8S6iatu0toPJ6a76KdajbhOMssstI7zoT5RC1Col8jcguljVjf1AbXoCh5Gytg7TkbKxcI9brd/x0u0ITGbhdEyfe3sHRB2NIYzLcX2+cSEdFghvIVQkRE5hKurpO7Ogdo2XAd5TfsERKh/zyaINAdHnX1ej8gbODkLPcSERHRxGJpJQX8erghxMcSNWq9ty/ZOcAgxKa+iRpnb0TrMiHpOEch3LkR1dqPemNWMFBaqGujWI/8SiBkprc8rK8e1bUKeAe4ycMyG/26taO0qhN+of7ysMzOE16WwjLFuJyyHnUebn2CkNaW2nCc+ZzdEWAwD0thHp1oGSj2Z8qA8zFjfUzpLkHRNfH+zEYeYYPoIHuUl/aN1Dbmn8Lv/7y7p3tnVyaKpszEMw/JQV4z2dvr3wuaUe9G4fhQCMeR8f2hxRB/2l+vhqrPcaYQjk8n1KmlttZeXi5oPH8U+9NzUVHbAo0wziniQSRFDBQUFupqr8bR3adwukSJxk7xU36IXx1j8o8IRERkaIhXcyIi6kvK7/XRh5/23rDvrxygNa2oBa3tjch4v/cGX+pyodRo9FrUEhER0T2nWwxe9aNOuEfoE+AV2cDash31N6Uhl3BPoLxEepxcTHvQ7Ykok3/cbUdHF6AY8JdfPVrau1B82Pi+5BRym4T7ErGBZacGGovJUvFxz4z1MaVUCaWrlPZAR0x/4KpUotjoBWF+CU9Cm/JK131vA55ZGg6nO/qFbUa92zuF/SCVviNNneioKcK7BssRuvRaaDqFA0YUuggvPj4Hfl3XkXbwCN75yz7sSS8bJMWCG+I3rMW6WZaou5iNj97/FO/s+hq5dQMc80RE1IOBWiKiOyTlkdNgbtIqKReX2D3qD8PXThizhLVCzrfWp2MuWiIionuaxQCtUF3tYdfVaeKPtmLA1QYuuvynzsEIhBr5DVLaAwQEG7bM7SEGeAGNUaDRkFhGzjXa575kPRI9hSJWCii6b0vFxz0z1qcPDXKL1NAYBy/fL0KNRtjOhXcj0GhGvW2shP0glb4j4v70iTaxHKHTywWscPbH/KWr8PwLj+OljdFwupaJL3L6i3TLxLQYEfFYt3E9XnpxPTaEdyH9i7OGOZGJiMgkBmqJiO6QUq1B1NIliPKxl3JxiYQb6IF/ygTBb2oDyq+wdQEREdE9q09gsxalVV3w8DQZKZR4usOjoRq5xs0WW4tQ2uAE754XVbkhOhAoL6qU0h5EGqU26OECbzcNqiukF5H1EOrWWzsXBHoJ9zRlRmX0+bnAtaa2T8tS8Z5n/DFjfYy156NI5YKFz/cNXG55wAXK4vy78MSTGfV2Eo4PjXAcNcjDOt36O0IM+GrQYVTh+ia9AGvwVHjX3Oi7P3vUIz/tG4M8yGJu42UzXdDaNMBrwZTZOJilF5IVg7YxkQhHm9T6m4iIBsRALRHRHXJx1KAoKxf12qfEutBalYuDJ4zfvGsPO5sW1Kh0gVkFouP8UX/6GNJK6rU5v9DdDlXuCbx/uKD/HwJd4tuE5cfRiIiIaHxTF+OTs8I9gfjVLXzPV5w8jQsaf8wNlSabZBGKhBkaZHx2CsUN0ne+pqEERz8rwu0Z0QY5Yp1m+WFy0XnkKvwwd4BHeQLmBgC5p3H0qhx166xG1oFiqKQhLa/54XAqOImDudXo0AbvulBfkoFPPs2QytnMxNxptThxIAc18j1PfckpHC0epHXlHTO+hzLPoOtjpKNIBZWXsB310h7oWEcHIaBehfzRXlXB4PX2R2wEcOHwKZQ2idtEgw51DvZk6odBXRA+zQqlWdkG++pgrt7rvCwiER/eiLR9GT3HmXhcXDh8CAe1LxNzwuSOaqSl5kClzTMrHYcn8hrh5Kpru+0Ce5su1Kj15usANF7MxlH9+9vsAhQp7HteXqdprZfOCSIi6kOxffv2/5T7iYjumpMnT8p9huLi4uDgINzhjWvNqMirAoLDEWgv3Mb6O0NTcAnHz+TibPYVFNUoMGOxL1oLmuEaEwipfcsU2HeVIePkRZwpakVQtC/s7X0x07cNeaezcPybPJy7WAKlcPO9evkMOGmb5t5E4fkmuM4LxlTtPICas0fwjwvtiIjyHtKLKoiIiOguqynDuS4/JFqV4cCJbJw5X4TSDg+seGQBAsSX7OvK1DsiLkwXwpLY+gYhCBX4OvU8TmVeRlZxIxzmLMSGGA/DljaTndFVVoDmoIWY7aWfP9bwXgU23gh1rUfeqfNIPXsZ5y7XQhEdBt+6JtjPku8zJrsjPMQGqvNZOHpauKfJKkRxyxQsXBELf2txqRZwC5oKm/JcHDmVo73nKW12xqIwC1y77YnZ/o7iXIwY1cPk+hqV6cPEPZQ58xl0ffTV4uzJIljPXIhwNxNtmSZNwSR1DnJuTcUsPzs0VxZBaRuOCMPd1lc/+1dHnE8pfA23nRn1tvX1hdutEqSmCdskqwA5VVaIjbREWbNTz7JsfRyhKb6MVPH+VJhHfq0jHoyyRJXevnKYFgx/TVnPcXYuVw2LyAewZsYUYW+L+9sP9qo8fJWWg9NZwnFYWA/bmbFYN8tVPg4nw82yFlnp2TidrYJDTDA8hGNthlcLLp+5gFTx/jZbWMd2dyxaE4cgbf3VOLUnFdldPpjpY6udCxHRRNfc3DxicYxJ7e3t38r9RER3TUpKitxnKDk5GV5eXvIQERER0QSVfwK/v+pjkO+TaNTweCMiGjMqlWrE4hgm/lxIRERERERERERERHcTA7VEREREREREREREY4yBWiIiIiIiopEWtYyPodPdw+ONiOiewEAtERERERERERER0RhjoJaIiIiIiIiIiIhojDFQS0RERERERERERDTGGKglIiIiIiIiIiIiGmMM1BIRERERERERERGNMQZqiYiIiIiIiIiIiMYYA7VEREREREREREREY4yBWiIiIiIiIiIiIqIxxkAtERERERERERER0RhjoJaIiIiIiIiIiIhojDFQS0RERERERERERDTGhhSobb+pRFlFZb/dtZstckkiIiIiIiIiIiIiMpf5gdqaImQVqFBeqe63Kym4grwauTwRERERERERERERmcX8QG27Bl1yb/9uo6Nd7iUiIiIiIiIiIiIisww/R+1kazg62cBmsjxMRERERERERERERMMyzEDtZEyNiMb82TOxIGIKrOSxRERERERERERERDR0w29Rex8ofG8r1j27A+mt8oh+mFuO6E5U52Xjq1NZUvdNAa53yxOIiIiIiIiIiGjCG2agthutDbVoam5CfUMHbstj755z2L7gIczrt3sD6XLJO9HVoELVtWZ0ysP9Mbcc0Z3ouK0XmdV04NYtuZ+IiIiIiIiIiCa8Se3t7d/K/QO7lo+vygdvMuoUOB/zpskDo0YM1L6Kw7M24s0nI+Vx+rwwe1ko3OShwanwwebNeAtbcHDnRvjIY/sytxzRyCu/mIWyJnlATD8ycw6iXOTBCSglJUXuM5ScnIyOjg55iIiIiIiIiIho/LK2toaXl5c8dGcmdqB21es4/4s4edydYKCWxr/7KVA7Uhc4IiIiIiIiIqLRpFKpRiyOYX7qA19P+NoPXNzC3g2BvvLAeJD+hjYVwva0eqS+uRVLEqXUCEte3IFUtVzkl+K4zXirWBgofhfrhOnPfKjSmyalUTC3XI9bBfjg51uwJEGctg5Lvt+7zB4GZYR6bdqGt4S6EhERERERERER0f3F/ECthTvCYmKwdNF8LJ05BVbyaKllnzBOGJ8YEwS3cfh6snO/eQn/rZ6Lba+9ipTkJLgXH8Arr+xBlTAt9qcf4+iht/C9EGEg5Dv4+6GP8cfH+kbBzS2n1XQO27+zFW+Vh+J721/FmylbkNQsLPOxbfhMF6zVFOANsUyuF57UltmGJ30q8MHPN+GHnzFYS0REREREREREdD8Zh2HVURD3U3z65masXpaA1c9uQ8qzXkDxVzhRDVg7usDN1QWOCqGcwl7qt5M+ps/cckAn0n/7Bg53JeHNd7fhuVUJSFq2Hq8J/Um4iN99WCAVO3cEu+uA1T97HT/SlknCj978BZ7zBjI/O6ENIhMREREREREREdH9YWIHao+8qk0ZYNgl4wOlPF0WtywOjnK/KCIySurRSP+NKM1FHDnWDMdV65Gkv1DHuUiYAzTlXJaCsG6u2hy3ZXkFaNLVQxGJrXu/xPn3mP/2flWdl42vTmWZ7Hrz04pu40ae6XJffVOA691yMSIiIiIiIiIimhD6BGq7a8tw7oyJ4I9+l3cLnXL5AQNGuu5MHopH42n+WRvxZoqYNkC/24IEV3l6f8RWsaOluhJlGqDpn1uNAsib8KvzchlR2OP4/16MRNmHYu7cx7Hx5Tfwh0MlqO3dsHQf6rg9AhFWTQdu3ZL7iYiIiIiIiIhoQugTqK2uqkfLbXlgpNxuR7WyWh4YQT6zkbRMTBug381BkMmUBHeXz8pkE0FkoUuOg5u2hAOit7yFr46+iz/+dD0iUILd/5WMlSu24A+XGK2lO6HAZEu5l4iIiIiIiIiIJoQ+gdouzeg8M92tGY08A+OQq5TSoMnB30QQWeji/GEtTO9oqkdtXTPg6I/YxzYj5e138fWhV7HauhJ/fesAc9Tep3wDfRHo72myc7ORC2lZwHGq6XKBoT4IcpCLERERERERERHRhDBwjlpLR0TMDcd84266I6zkIsBkuE03UWauL9zux1Z9dnORsABo+mwXdhs1Im46n450+ZH04ne/j5Vrt+MztTSsNSUOC2OE/++TmDb1ZensjaAAf5Odk8H5ZAE7D9PlgrzdwAa1REREREREREQTyyAvE7OAlYMjHI07a8OPTbY2UcbBCpPl6aOmKgepJ9JNdBdR1iqXMYsrfKcJ/5V+hd1HhM8X9JdQ15xyLnjk5S2IwEW88f2teGuvVKfdb2/F4z9+He/sL0GHUCr6yacRoSjAG1texR/EeYll3kzG62mAT8IcvkyMiIiIiIiIiIjoPjJIoHacu7QHr2x/3UT3LtLr5DJmsULSlp8gybsSH/zydWz/vEIeb8zMcgEb8dHeV/FcaAv2/1aq0x/OWGNNyk68tzlUm/oAfnKZQBV2p0hl3jphj6RX3sI/toRqZ0NERERERERERET3h0nt7e3fSr230VhRisKqpt6XiVlYwslzKmZM94IuPWZ3y3UUFt9ETXMXpGy2Uqtb/7AgTLPXtaFtQfWVClxVt6JTl/J2sjU8fPwQFeAywaPDRGOj/GIWyprkAUzG1JlzEOUiD05AKSkpcp+h5ORkeHl5yUNEREREREREROOXSqUasThGb8y0+RouV+oFaUXdXWhUKXH5mm5kOyqKq3GjJ0gr6kZn8y2UFFehUx4DZQUKVXpBWtHtDtRUKlHSLA8TERERERERERERkVZvoLbrtl7w1VB7q/wGLLSgTUywakpHB3oa+8ltdPvS4HaX3EtEd0CByXxjGBERERERERHRPYNZCIgmCN9AXwT6e0pdqA+CHOQJREREREREREQ04TFQSzRBWDp7IyjAX+q83cAGtURERERERERE947eQK29NazlXkMWsHdyk/vtYWu6EGBtDUe5F5Mn9RMBngxbe7mXiIiIiIiIiIiIiLR646lW/pgZ6Q4PJzs46XUe0wIww1suAxsERQch0N2wjJO7J+ZE+8NKLgXvUMya5mhYxskR0yKDENRTiIiIiIiIiIiIiIhEk9rb2/t99RcR0WhJSUmR+wwlJyfDy8tLHiIiIiIiIiIiGr9UKtWIxTGYo5aIiIiIiIiIiIhojDFQS0RERERERERERDTGGKglIiIiIiIiIiIiGmPMUUtEY2JC56htKsPptHxcUrVA0y0MWyhg5+yJuYnxmOthKZXR16pEVloOLlS1oEMjDAvlnbz8sTAxBiGOCqmMvqGWN7c+6gy8v78SiFqE5xN63hJppAD7/5wLpTzUlxsSf7AM0fKQPlX6AezJb5eH9FjawGVaENYkRcNF/vNgf2UV9vYInBWLldGeMFxTDeqLzuJEVjVULeJGEcraCWVnmyprQv4J/D69Fn4JT+LRKHHEENdT3sb5N3r3iZ27LxKXxcr7ZLD5yRz9sfHpeDALMxERERER0b1hJHPUKrZv3/6fcj8R0V1z8uRJuc9QXFwcHBwc5KFxSJWB9/cVoKJZAfeQaZgb7g1fRw1qr6tRUliONp9QBDroPazQkIs9ey6g8FY3nHynYc4ML7igFepqNQovVwrlQ+6s/FDq06JETuEtwCMAs/0dpXF93ETheTUanb2xcO40+E/zMOp84D91Cmzl0vqaK4uQXzMJftHhiA7RlXeDc9ctVFSqkHulCf4z/OAwqZ+yXnbQ3LyJiqvlKG5z1atjOyrSjmDP+To0WzkiLCoYEV42aL3VAGVpGXLVFoic7gETIfJeNWU4V9kGJ/8ZiPAQRwxhPVWZwja+rN3Grnrb+IawTgWXy+RtbAlbK2t49HzeEs3KZrQbz99PmK+7IyaL8yUiIiIiIqIJr7m5ecTiGAzUEtGYmJiBWiVS9+dBqXHBwqcewvJwP3hPnQof/2DMjrBAVX4VSiqa4DNrGpy05WuR8fk5FLfZIPrh9Vg31x8+U70QOD0M86Z3o6pQKK9sgX+0H6Q1Hmr5IdZnKIFa1yA8smiGdn6GnekgrUgKvlog4MHFiA/WlRfqHxYK/7Yy5F+vRZ1lCKK8Jpsu6+2HiFle6CotQ8X1FtjOCcbUScKMS9KxK+sWLHyi8d2NCxDhJ5T1m4aZ0dPh01KOy1dvoMY2GBEeA4Q/+wvUDrqe1Ug7mINrt/tu47kRt1GWewNl6i5MjwqGl8HnW3HV1PwZpCUiIiIiIrqnjGSgVq9ZFhERDaikBEWtgFP4TMw1TkFgF4n4EBug9SaKVfI4ZRHy64RJ02OQ6GVU3jEaiVH2QNN1XCiRxw21/FDrM2YU8JofADE+qrpWJo3qlxtCfIR6d7eg7qY43I4LeWpoLFwQvzwSdtoyOpbwS4hCgEIDZX4+GuWxI6pE2CdNgMvMGBPbWNju04RxddUoGpWFExERERER0f2EgVoiIjPVqBuhgSW8Akznd/VavB4//sF6JMmpaWoqb6IVNggM95NGGHEJcoOTMMfqqmrt8JDLD7E+Y8rGCtZy78A0aGzpEv5XwNpGHK6AUgzYenphrnbYiEUoAqcK/9fVokLMzzvCVCpxG9vAO8BNHqNPgbClK/D8pkWYO14bgRMREREREdGEwUAtEZGZWrVvkVLA2ryII2puiS/LsoKTszTch+cUbUqC1sYG7eBQyw+1PmNKWY864T9re3tp2JSuFiizU3GiQgOFlz9miStb24j6buFzjlOkMiZ4OIsR3Da5Be7IqmmQXnim6O/b0soJTk5OsOa3KREREREREd0h/rQkIjKT1NLTfBoxjgpLuWXo4IZafqj1GZKqXPz+z7uNugNIU8vTzaZBhzoXB79WotXCBmEz/OXxonbk7teb/98OYX9WPSZ7hmLDw9FSmgNpo8DacsBXhQ3fiK0nERERERER0Z1hoJaIyExO9iaChfkn+gT69udLkxTalKZd6JAaZQ5qqOWHWp8hcfbGwgWRRl04wqW3pA3AKPj650/x7v4CVLTbICRxGRI95WJalvCL7p13gPh+M4Ub4lfFwEv37SRtFHR0jVJQetjrSURERERERDSyGKglIjKTnbUYNNSgo0Ma1vKZ3hPgm+tjGDj1mCI2je2EnKmgL/Ut7Quw7ORcB0MtP9T6DImdO+ZGRxt14fAatLWvfvBV6lY+vApbXlyP1dON0x4o4BKim/dsrJvvCYWmFheypBy8Wm5OcBG+qTqabskj+pLSE9jC1V0aHpJB1lNKqyBs5f7y33Y2orGxER2jkB+XiIiIiIiI7i8M1BIRmcnD3x126IKypFIeI3D27wnwhThLrT91PKa5wBrtKC9SymMM1ZfVohEKePtILwMbcvkh1ufu0A++Sl2Yj5k5XKdHY5Yz0FiUj9yeVsUB8Bbf46VW4YKplsbdJSi/Ifzv6oYAYRnFx/fh3fdPoViaese8vJyENWpHdUWtPEafBsVfHcP7H5/ChWZ5FBEREREREdEwMVBLRGQuv3BEuQKtpReRWmXGo/jTohAtlr+SjTSVlGu1R1Mu0vJbAEdfzA2Vxw21/FDrM+65YeFcqVVt5lldsNoG86OFcd31yDhegFZ5rKQLyvR8VGgU8IuK0r5ozc4S6Gi/idJy/e3XjtyrYjNlG7gMtdVtqLCNHYH6vGzkGi5c2PB5uHBNWI6rN1MlEBERERER0R1TbN++/T/lfiKiu+bkyZNyn6G4uDg4ODjIQ+ONHfwCLXCjoAolRVdw5UYjOtvrcUOtQnH2eZwpa4NmshPC5oTCT/uUv1DepxuVRSpcLSqWy9fiilD22Jkq1H9rj+iHEjHTQfc3s2GUH0p9WpTIKbyFDksFLDrqoFKrDbt2K3g7N6PwvBqNCgUsuxv7llE3YNIUdzhMlmqgr7myCPk1wNSIcAQaZzkw0m9ZN0d0lpbhWnUzLKNC4C0ux9ULns0VKCyvwoXCa2hoa0Pj9VKcPHUe2VVdsJ42Exse9IaY6MHJuQ1XCm6i6moZqlrb0XbrBorPZuJc9W0ofCKxZq6Hthxw08z1dESgRxMKi4X55JbK86zB9St5OPLVNdyCsE+WJyCiZ5/oyPN3nIq4MA95HBEREREREd1rmpubRyyOMam9vf1buZ+I6K5JSUmR+wwlJyfDy8tLHhqnutS4kJaJC9da0Co3ZFVY2cM1wB9JCdHwME4N26pEVloOLlS1oENs6GmhgJOXPxYmxiDE0UR6gqGWN7c+6gy8v79Sm+fWJJ9o/PhhYP+fc2E6+YLIBtGPrjd6KZhElX4Ae/LR73R9A5a98jXe+UoN6+nxeHGpvzxSg/qisziRVQ1Vi9RaVmFnj8DZsVgptrjVjpHV5eJwagnKG7qk3LKWNvCaHo2VDwbBqSeeWjC09Wwqw+m0fFxStUjzVAj7ZOoA+0Q3f+02jZTHERERERER0b1GpVKNWByDgVoiGhMTOlBLRERERERERCQYyUAtc9QSERERERERERERjTEGaomIiIiIiIiIiIjGGAO1RERERERERERERGOMgVoiIiIiIiIiIiKiMcZALREREREREREREdEYY6CWiIiIiIiIiIiIaIwxUEtEREREREREREQ0xhioJSIiIiIiIiIiIhpjDNQSERERERERERERjTEGaomIiIiIiIiIiIjGGAO1RERERERERERERGOMgVoiIiIiIiIiIiKiMcZALREREREREREREdEYY6CWiIiIiIiIiIiIaIxNam9v/1bu76Or7SbU6lZ0ysPDZmUPP283WMqDREQpKSlyn6Hk5GR4eXnJQ0RERERERERE45dKpRqxOIbpQG13PUouVeBa0215xJ2z9wlHXIijPETjXzEO7SxAldDnE/8I1oZLY0dP7/Icw+OxKX6qNJruWQzUEhEREREREdFEN5KBWhOpD1pQfqlsRIO0opamW3IfTRzWiForBmlv4PSnn+FQkTx6VIRh7eZHsJDxOSIiIiIiIiIiug/1DdSqKlHR1C0PCCYZFrKwsoGTk50ZnQ2smAGXcDeCvERERERERERERBNbn1Bq7a0O9IZprTFtXhA89JLLTnb2xrzZUWZ03nBRyB8iIiIiIiIiIiIion71CdQ2temlPLC0gYut3E/Dl/4G5i14CNvT5eE7cg7bhXnN++U5efju6VSdx2cff4Z3d36G9z7NQEmbPEHQVtk77d2PU5Gl1gA3z+PjnRnIbwaqMoTxXxb3LfvhERy/2qodT0REREREREREdL+aoMkJBghWNgnT1grT1r6B9CZ5HI2ImzeB2McfwZbvLMQsm5s4ebIYHeKEW5fweVo1Js9OwpbNa7AhRIMLX2ejyn0eNm2OR5SD9EKyLQ+FAR0FONpT9mFsirFF5eks5Otl2yAiIiIiIiIiIrrf3FtZZJsu4o0tr+Iw4vDaH7YhwVEeTyPCZ+Y8+IhpMCzdMX+OOyarVSgXBm8WVaHBNQjLI8UNbgn32AD4tNWi7Kb4KSOWwUh6NAmrtGUVcIzwhFt3K+rrpMlERERERERERET3o3snUKupxAcvb8NuZSi2/uF1PBIgj6fRYW0Jq25hswu93WJr2JsleF9MZaDtClCFDjQ1aEsaspgMjfIC/vkPuewHxVDLk4iIiIiIiIiIiO5X90igthnpKT/DWwUuWP3fb+A5vSBt1YfJmLcgGR9cLsAHP9+CJQkPCcPrsO7ne5BrnBpBnY63XtaVeQhLNr2ODy41yxOB2r1bpXlVyyNEral4RSi77o8l8ghJ7m8fx7yEN5AuRjJN6kTViR14YdU67bLmrdyCVz4sgHGVatN24JmVUn0eXLUVb6Sp5Cl6NPVIfTO5Z92WfH8HUs/9A88InzHIi6tpRu6Hr2Ojwfzq5YlD1NGFTuHoEd8XZyEeRZ5h2LL5EYNuVai2pKGqbHye1YqglavkcpHwkScRERERERERERHdr+6JQG3Zh9vw8pF6RCT/BikJDvJYfSp88LPt+MxtHV775avYtikEHWnv4n/99pyUY1Wk3INnHnsdH5R74cntr+LNlGQ86nAZb/3L97E9XQrWus2LQxBKcCm3UzuslZ2JVOG/qjMXUSWNEVTiXLbwmYRYxIqRTBPKPvwJ1m0/BazeIizrVaQ84YWcHVvx+G8L5BJAU/obePrnB1DmuR7bxDI/mIGC3+zAYXm6RAxSv4RX9lbC/ZFkYV7b8KPoK/jvn+5EoVxCIpb7Pl74YyUint+mXebWJS3Y/fNN+OFn5gVrq/LO41qnBui6iayLN3Hb0wuBwnj34KlwvFmG40UN2ha2mlvFOP7leVR1aT+m1dkuvzCsvROdk6xgZSkcet0dUOdU44Y0hYiIiIiIiIiI6L414QO1YjDzX3aUIGjzDrz3rL881lgzPJ7+Hfa8sh5JyxLw5Mu/wU8Shc8eO41M7fROpP7xXRTaJeHND1/Hj1YlCOXWY+uffoOtkfU4/KudyBQjkAFzEesIpGZf1H5KlHnmHODqAsfir3BCKY+sy0dmKRC7YC6s5VEGlHuwXahzxA9/g7+/LNVp9ZbX8f82e6H2n3/HZ9p8rQX463+lotbvO3hvZzKeFMokPbYFf//4J0jQzkRW/CneOFIPn8366/cWPn3NoBQ60ndg+5EurP7175DybJJU7udCv7AdMnf8A7lyuYG4uwPZez/Hu/84jUuaqVi6OExaP/e5eCRxKloupAl1/QzvHbyK2/7BUj5bTMX0QDvUXzqGd4+XAMFzsXhaGy4c+ALvfnQMac3WcLHoRmdPxJyIiIiIiIiIiOj+M7EDtVd34oc/vwB4AmUHv0Rxv2kGQrFqiX4Q1woRkcKwRm4Z25qOwycAx1XrkaT/AjKFP57clAA0pSL1sjgiEgsXCv+dK5BbqxYg9Vgzkl7+KVY7luD0ebllan4OMoVlLpznIg0bqfr6K+Hzc/DkOsPAcsSDcXDERWTmCwMVF5BeJ4x75CFE6LfKdXQVyvSqOncOVfDHo6sN8ww4RkUiQu4XZZ5IRZNjEp5K1G9x7IC4BXOE9cvHRV2Q2aSpWPj4I9iQOA+PbJLSGry4PhZBtvJkga1/77Qtz67CqsjedfectwIvPieMXy7W0Q6hiauk4ecexhML47HhuTVY6iuVJSIiIiIiIiIiuh9N7EBtcS18XnsHR3dsQcStA/i3lHN9crz2x1phJfcJ6uq0aQt8PfsGVq21Ac9mlJVJQdjYBQlA9TlkinlqC84hvWkOEubHaQO4mWcuaFMpFOblA95xiPXTfqSPq6ViPtuL+NVaKVdsT/cvB3rrf+0ayoT/ggK9pOF+SPMKRfiAL09Toeyq8F/TAbygvzyhW/nfva2D++pA/qHPcKhIHhxVxTi08zOcNpGCl4iIiIiIiIiI6F43sQO1K3+MN1e6AH4b8cfXElB75FW8Yma+VbNpOnvz2Aqs58ciVs5TW5ieiqpZC5HgCiQsSwLSTiO1VYXMcyo4JsQZtGjtKxLPpYi5cPt2z4bJRUaad5I2123fZW7RroOhMKyVXwq2NlweNap6l7cpfqo8joiIiIiIiIiI6P4wsQO1Fr2tYh1X/gRvrnRA5pvb8UGFPNJcrq7wEf67ru4b5O0oKkUZHBAUJLe2dZ2DhWFintoDyExXIWJRHNzE8TELkaRIx+n0i7hUACTERWqLm+I+VWol6xMt5sLt20V4ChOnTUOQ8F+ZcuAmpsHhYjqBSqGcNGyaK9y9hf+ahfVYYmqZcxBkJ5UkIiIiIiIiIiKiu2/gQK2mBYUZFajRf3v/zQqkn8k2ozP83OhzQNK/b8PqKSV460c7kNtvvloT7BKwehnQdOQAUvVzJ2gqsfvjdMAxCUkz5HHwQuwCLyB1F/5a7IWF8+TUBHZxSEoA0t/dhUwkYGGMNNqUiEUJcEMB/rLzokFrXXF5qScqpXEBwvz8gMLDqSjTXxe1CvoxWZ+YOPigBLs/F1Mg9GrK1+XRFVkhblGcNvXBXz8zCvw2XUTqmWZ5gIiIiIiIiIiIiMbCwIHa7tvo7OpGtzyo1d2NrtvmdQafuxsc4/Dq9lVwqxtavloxkJn0wy2IaE3FK8++ij8cSUfqiQN4619+hrcKXLD6tc2I1Xuhl/alX03NaPJOQlJPw1kr7Yu5mpQqNM2LRdxALVRnPI3XVrmgdu82PPOLPTh8QljekT3Y/swWvPLbXTh9SywUiudeToJb8U48s3kHdotl9r6LF767A7n6LxcLexzbhHlV7fwJNr55QKh3Ona/vRWP/ypdLiBxW7UFW4W6Zr65FS+8LZXTzm/TNrzy7gEUyu9VIyIiIiIiIiIiortvYqc+MMF6wU/wP0+4SPlq9w7hzVR+G/HR3lfxXKAKu1Nexyvbd2B/8wxs/dNfkJLgIBeSzYhFggJ98tC6LVqKWOH/iPg5UjqEfjkg4Rd/wd9fSYLD2Z3Yvl1Y3n/tgjIyGX//xzYkTZFKOSZsw67/Xo8g9QG8IZTZ/ufLiPzZG/hRiDRdIsxr+zt48zF/3Pxsh1DvN/CH3On4+W83G+bIVfjjuXc/xpubAtB8SCwnLPOP52Cz8lUc/ON3EKH3bjUiIiIiIiIiIiK6uya1t7d/K/drlV/MQpleU1QLxynwd7GWh4aiC7VV9Wi6LQ86emHpHD95gEbdmd9h3k+PYPWbXyIlQR5HNI6kpKTIfYaSk5Ph5SWnFCEiIiIiIiIiGsdUKtWIxTEGblE72R5hs6YjKMB/GJ0z7CbJ86FR1IzU3+5AulGeh8x0MfXBHMRGScNEREREREREREQ0fvUJ1DraTpb7BLdvo8XgbVc07mhUKDx3AC9v2oq39oq5ddOx+80teHlvM9weeRyrXOVyRERERERERERENG71SX3QXVWAU6UtvS8CU1jC0d4SQ28c24325nZ06mbE1Aejp1OF1Hd+hz8cuqhNW2E9JRJJP/gXbHssEo5yEaLxhqkPiIiIiIiIiGiiG8nUB30CtcAtFGddwfU2eXCkMFBLRHoYqCUiIiIiIiKiiW6Uc9ROQdgMP3jYyIMjxMrWVu4jIiIiIiIiIiIiIn2mXyZm64WZsbOxINIX0zzt4eRkd0edm5cv5kx3k2dOREREaMzDvv15MHoX5LjUVlMBdYs8QERERERERKPCROoDIqLRd2+kPtCgqTwbp88XoLpRox1jNSUAsxcmYOZUK+0wjS1NYwUy0s6g9GabsLcEVs7wnh6DhfMC4KjQFhk7YqA2FVj+6Mxxnk+8CQWf78HVkI1YG8nM50RERERERPpGOfUBERENrhPK9H9iz/lORCZtwvPf/S6+u/l5PLbYG+qvPsahgrvbTlJ58m9IuyYPkFbntTR8vC8biF6FTc8L+0fYR88/sRSRnZnYsz8T6i65IA3CEZEPf3d0grQTqFUxERERERHRaGOglohoOG5kI60iEKseXYgAFytoG2daKGDrHomkdfFQnMvEVQYCx07XVaQfr8PMRzdgYaAzrOTWsworZwQkrEeSewFO5jVII4mIiIiIiIjGAaY+IKIxMbFTH2hwNfV9FPttwqowUy9KFKYffx+lwc9jRbACuJaGv5WF4Jnp1TiSmofaTmfEPr4BM52Eoi0VyDx1BnnVbcKAAo4BMVicMBOeuswJmiZUnD+NzMJqNGmf3Tcs05S7D3uyDAOOwcu/i8Rp8sBg8++jbzoHhVMAYhYnYKZHfx9qQt7+40DSWnhWpOPkhQqprvYBiF1q/LlOqAvOICPzKmrFMlZuCEtYgYUB4nYU57MPzQueR/xUbWGJuP3Ou2GjQYqANhQf+RjVM/TWVU9b8RF8rAzD80nBUhDdWE029uU4YNXyMPTsQYNtJVTNPQwJifEIcDKcQ2dNAc58k4mrdeIKyNv0QWGb6r+Es7sNFWeOIb2kFp3d8rySZqDp2FfCdpL3vanUB+LnstJwpqAabcLnBt328jyWrnDE5dR0FN/sFEYq4BaWiBULAmCr+3PsAMegOesjttguDTLc1gafs7CCW2iC4TIFbRWZSDubh2oxv61BGSXS/nYMV6ViEpdYo31MREREREQ0/o1k6gMGaoloTEzsQK0aGe+fhsOjcsDNBE1nGzSTbGFlKQyIQbKT1XB0CcPCpbPhbSsH/hoLcGj/FXivWIHZU22h+LYN1ReP4UhVMDasnQlnizYUf/kxCt1XYcUsb9iK89LIZWoisGlVb5DRVCBt8PnL5fS0XTmCjws9sSpJqKe9WE8N2qpzcOyoGhEbVyHMXipnSArU1rpaodkxBkliXSdp0FCahkNn7JD0bDy8tcvSQHn6n0jviMGqhBA4WymguVWMtM8zoVj8hFB3K9Se/xgnLVdhwyxn7ZxFypMfIbXcDjH627u7Amk7izHt2RUIFreLEWX635DtshHrZ5gZ9ruVhwP78+Dw4CokhjhDqBkaKjNwPK0WEY+ux8wpUjExncI/U5sRuTIJs72FbSruj/w0pF6yReITifDTxlOF9Uz/GGktwnomRcJNqJ/mVgUyTuehtrETwWv6C9SKuWD34Yr3Cnl/67a9EsF6dTAgzuOLQsDKGzHL4hEwRah5WzUKTqYixz4RmxL8pEB1P8egeevT9/jSKE/jn+kdiHkoASFii/KuBhSfOoTMyYl4YrEfxI91Xk3Fx+eA+NWJCBPqBbFM+hGcFvZ/z7FrKlhNREREREQTmlKpxDvvvIOuLvMeM7W0tMRLL70EPz8/eczEwhy1RERjqhMdGlc4OsiDJiis5CCtTqcbYpbH9AZpocHVrAxYJaxCjBggE6/GClt4z1uFRNtMZJeLrRttEfbQd7F+nhykFWnLLMTshkKUNsvjTDJn/n3ZTl+F764T6qkN0ooUsPWOwcKZDSgsHyiTaAMqMBur5gp1FT9qoYDz9FjMdirA1SqpBOpzkFEVhhVLwrRBWpFiShiSHopETUaeMAfAzS8QTVVqSG1aRWoor/lh5gwNlKresaipRoV3ALxNBGm1uoEpTuaG/tpQnJEJqwWPIGm6s7StxPoHLsT6RbbIPFUg10eNnJNKhKxaK21TcZS4TaNXYVVEDVLPV2tLiQHyzKt+SJSDtCLFlAAsTAyGQm8VjGmuZiLDJgGreva3tO1XiXU4f1XYo/1om4LZDy/UBmlFCltvzExaAO8rmSho1I6S9DkGzVyfPhqQc6YaYcuTEKZL+2HpjLAlqxB5IwN59cJwdzWy029h9mqhjFwvbZmlqzC76RIKxDJERERERHRPEgOuv/71r/HCCy/IY/q3Zs0abdmJGqQdaQzUEhENkzagZy4Xbxg8vd6txLWKYEQGGj/SbgUPbzco1bXysClWsLLRaIOR/bqj+fdlZWUNzUDLEwQEya03ezjC2RW4LT+30XCtAoqI6XAz3m7unvBuVkMtBjE9/BBQXYFq3R9ebyqhnBaCmIBgNFRW9wQrG25Uw9HXuzdtwZ3oqkZFlbCtQvvOzSpwJiLrKnBNrJtQl1LbmYjQT8sgc4uYAbcrFVAL/W0qJRoCAuFnHES2d8QAsX0ohe0THB6sbY2qz8rTG25KNfrdY8bHlsgyGCHBDai+qRfeNS5n5vr0casCFZYRmO4uD+tYuMHTuwnqGmFj1VWj3CEYAX1aATsjcmksAozrS0RERERE95yoqCj867/+q7bFrDFxnDhtyZIl8hgSMVBLRDRMgwUuB9TchDpcxbGdf8Pf/mbY7TlXC02nmGtUJOaMzcSRvR/pldmDzMFaJJo9/740jRXIPLIPH+l91jgP7nA0NzSgIWuPQV2k7hiK0YZOMThr4Y1p05SoviF9praiGFP8vAH3AITdLEWFNoDbBnVVBwK8h/awvPj4vsFy9+dB20a4rRXNLm5wNfWNaOEAByc16sSWqW1NaHN3Q29SBj1iEFYjrF8bcLujDc6urvIEczWhSdinV48b1VHs/pmJWk0H+t9jprm6OqO5pVUeMsHM9emjURhfn4k9xvUUumNXhNl23B5w3rbCvnQzmUKDiIiIiIjuNWJL2V/84hcIDg6WxwDOzs7Ytm0bW9GawEAtEdGQWcFaUYemAVIPiDlqtYHHgYgvT/rud/FdU91i8QtLynW653wnIpc+gec366ZvRKyLNIsBDTr/vsTcox9/monOiKV44ju95TfONxnOGzLxRWcG9ejpdPlnFfD298a1G2L70SZUX3NDyDSxna4b/ALVuKYSesUWsOpA+Bm36NQnfLvdajRM1eC3WG95j8eaDlCOKfEFX3p1NOgSMdRbGM1oZqAPWWGijlK3IZrZZomIiIiIqJeVlRV++MMfatMczJs3D//n//wfODn188KX+xwDtUREQ+YGTz+jx8oNaFBx8mOkXes3qyhgaweH+mrUDBTM7apAwRVPLFy3EAFiLtChXLHNmX8fQr0Li+GZsB4LA50Nc+yOAFt7W1SbkXLB1ssP1teq0dSiRIVNbx5az4AQ1FxXA3VqqAP94CmNNsnbJwC1ZUq9XLcD0G6rWtwy1UK6uxnNjZ5wFe8hbB1hW9cgtcI11tKEZoUznG0BO3sHNNTVyRPMZQc7h4GOqaG7Vd8AB3s7ecgEM9enD/FzVQOkYhCJZW7WavMOG9P+EWPkVpOIiIiIiCYIMc3BU089JQ+RKQzUEhENmQLBkZGoPpMJtangXkspiq8HyC1B+2EpTA9QIqfARChLN8/bt6ERW+9Olod1OmtQPVjqA3Pm30enuEjtXzsNdaLmxp2nPnALDsPky3moMPUMv36dnLwR0K7EleIKIGBabx7aqX7wKL2KPGU5PMV0CANQiLllb2Xj3DUzEgZYCsvzFuZb0jes21mehwLXAEwTK+Hqh8CWHFyW0zLoqy28jNrpAdrgsUKop2dFOZTGQfLO1gHSFygQEBwA5aU8NJgMGMv/m9JYi1vGy+q6itKrnvCbOsAxaOb69OEejDBFHvJM7UhdPV29Edh8FUr9l5lptaH46D+RfVMeJCIiIiIioh4M1BIRDYd3DJICynFo32lU3JKbB3Zr0HazAKkHs4EHYxE8YItUBYLnxUJx/hCO5FajTTsLDTrrK3B638fIqBZG2E5DsPdV5Fzona6d//50KMUhvUfbrawUqK5WCyV0zJh/H7aYFuyNq5eyUS19AJq2WhR8tRfp14WBb019ZghcZiI+UClsH71t1tWG6twj+PhIgV7rVzHNQS1yLrYhwFevSaeFH0KmlSOn0BkB3gMEIEUWnoh/eDZupe7FMXH9dYFMTSeabhbj9PFMtE5xhBQDt0XYglh0njmE0+UNUu5hYV82lJ/GgVNtiF0UKQWLhXnGLPZD6fEjyKtuk7a1Rqr/kUIPJM2Tg8f2YZgdrERaagFq5eVqbgnb/fPT2v3WH0VgDGIV2Th0LK93+3c2oCJ9Dz4+1/sitb6USD8m7LMWuUS7GnmpZ1A9fTbCBsoFa+769OGMmfEBUKYeMNhebdV5OLL7EApahGELb8QsdUXeF6ko7tnX4rocQsbkeMzWvcDM0gq29dWobpeHiYiIiIiI7mOT2tvbRzOLHRGRSSkpKXKfoeTkZHh5eclD4534oq9snD5fgOpGKRhl5R6MmLgFiJyq1yr1Whr+dt4NGx+diT7ZO1sqkHkqEwXVTdpAmfbz8cLnda/n71QjLz0VmRVSGNPKPQwJibHQnPsIpcHPY0WwHLDsVOL0/mMobgHc4jZi/Qx5SYPNv49OqHPTkZpdgTYxAGflhrCFSxHbnYGProbg+eXB6BsibULe/j2onfddJE6TR8nEF3iVBumPF+ZfcAYZ2VdRKzbIVDjCOyIWifMDYKv/p8N+tpnmairev+Rpelua0q5GwbkMZJfVolPb2lMBW3dvhEXHY3ago+G6CNvqdGo6im9KLUWlbR2PACfDNe6syUP6yWxUaPe5Ao4BMVj84Ex42kjTtbrbUHHmGNJLpOUqXIMRvzgQ1fuz4fa4nI+3MQ/7UoHl+usifi4rDZmF1WjS7jA3BMfEY0GkJ0zuMXkeSxOtkHMyA1frhA9ZWMEtNAErFuht0wGOQXPWp+9+FD9XgDMZ2biq3V7C57wjEbsoFgF6weG2ikyknc1DtTZ4a6JegobLh3DgnPhHhjCs+O7CIefiJSIiIiIiGksqlWrE4hgM1BLRmLg3ArVEQ6FE2t/y4L1pFcJM5X4dDlPB3lFgKlBLREREREREIxuoZeoDIiKiEdbWKLVgNlCtRIWDJzxHKkh7F+mn2SAiIiIiIqLRwUAtERHRiGpC+ck92JdegYaeHLXFSE0tgN+8mXCWRk0M3ULdGwtQcNUTnq7yOCIiIiIiIhoVDNQSERGNKEdErtmEWKsCHN/1N/ztb3/D+58XwjphE5KC+8sNPB4pcXqnUPd9ObBauBCRA72YjIiIiIiIiO4Yc9QS0ZhgjloiIiIiIiIimuiYo5aIiIiIiIiIiIjoHsJALREREREREREREdEYY6CWiIiIiIiIiIiIaIwxUEtEREREREREREQ0xhioJSIiIiIiIiIiIhpjDNQSERERERERERERjbFJ7e3t38r9RER3TUpKitxnKDk5GV5eXvLQ+FFRUSH3EREREREREdHdFhAQIPeNLyqVasTiGAzUEtGYmGiBWiIiIiIiIiIiYyMZqGXqAyIiIiIiIiIiIqIxxkAtERERERERERER0RhjoJaIiIiIiIiIiIhojDFQS0RERERERERERDTGGKglIiIiIiIiIiIiGmPDD9R216NafUseICIiIiIiIiIiIqLhGnagtrG0EoVVTfIQERERDUbTWo/WLnngftDdjsamdnmAaKLSoKOpER3d8uAdG+n5EREREdG9QrF9+/b/lPuHQI0rxcKPTUsHBHk5yeOIiMx38uRJuc9QXFwcHBwc5KHxK/fz3fjn15dx7nzfrsp2BiI85IJ3rAD7/3wJXfOCMVUe01c10nZ9hYqp4Qi0l0eNhi41Lhz9GvvTLuJslrCul8pR1WkJfz8XWMpFoM7A+weUmBrth1Hfi/kn8PuzHYgL639jt145hV37z+KUUN8bDjMQ7i5PGBP1OHfgGM51TsNMb2t53HiiQfGX+7C71Aqxoa7yuDtUcQbvHa6C55wAOMuj7kWamlwcOpiOY9/kaa8B5wuuodXBE4EuY7Wf79I1YVjGc936U4Fj/ziNSrcohIzIgTzS8yMiIiKisdTc3DxicYzhtaitrkXtbbmfiOi+ZIPoR5/Ej3/Qt3s0Si5yL+muRtqer3EB/tjw/OPa9XxpQzQ8qrOx83AROuRi40sRTqTVw2/1Bm1914XLo+8SVfoBvJ9eLQ+JXBD/+JN4Kmac/oGzuxj5NTZwqqlA7rBa+okBuANIU8uDosBFeOmFRQiQB+9JJafw3oFK2M9fgi3fF68BG7A5yRs1J49hf36LXIgmtiCs/u7jWDliB/JIz4/GNxPXRiIiIqJ+DCNQexvXa9rAp7WIiO4f9VnZyLePxKbV0fCyUmjHKZz9sXB9LEJqS5DVoB01vqjrUW/viSifnva+NICOXCXqfKOR4NuIolymKzCPEqkZNxGwchWSQt1grb2rsoSdz2xsfNQfLdk5QgkiIiIiIiLzTGpvb/9W7jdPZyWyzqqhzU7r6IWlc/y0o4mIhiIlJUXuM5ScnAwvLy95aPzK/fwA6uLWI9FTHtGH2IImE1gaC/usTGSq2qGBAk6Bs7FxeSjs5FKoy8Xh1BKUN3RB0w0o7JwwK2kZFvYEF8XUB1UIeNgJpamVULVqhEI2CElYgtXhupaZ8rKW9dZHfBT7i+PFqGiSygc8sBDrZrpJE0XCcg8eFaY3CtMtFLBz90XiyniE9FRMXz0y9nyNxgc2YOU0eZSeiq/2Id1+CZ6Jc5FSH5wAVj4dD2kvdqEm9zQOZ6nRKOZmtbRHQGy8QV3ElqdHEYvnE7zlMSJhvXfdQnzPfFpQmn4KqYVSXkdrT38k+bfgcJUPfvxwpLaEPnGee/L1go2O/tgozktMl3DV+DPi9suH69PLEC0OymVeDK/HvjNK1IuzsXHC/JUrEO8lBalFreUZ+CL9urxPLOEVPgdrEoKEfSvus1y9AJ3Y+lraN2LKjNJgvVbXTWVIO3ER+TeF/S8cH333g7T/Q54NQPUXuSiuEzaihbCsWfHYGKfbXhrU553CwUx5GxvUxVztuLD/MGrmCfsYp/DeeWc882g0DB/cl/ZBWlEjtKssHKtRCYuQKD6/Lm6z9Fq5nEC3vfscD/KxeaL32HPyDcO6h6LhIv/pWHc8rHTIx9HztRCLKRy9seyRRQjrWSHDupg6rvoYbFubud8NqDLw3lfAGr3169UOVZESiuBQeOhO50H3t6C7EaXffGN6O+t01yL3y9NIvy5fV8RtOE2Ngw1R8nnU95qgW3auWj6GIgY+RlrLM3E0oxJKcQcIFE7eSFz7IKIc5W1h7vYSrzVf6l+LwmGfWwSFft30SPs/CnOb8qX1057vQVi9NhZ++n9zGXB9pPPGb6U9yk8K1812NyT+YBk8xHlbzMHC7vyea4nC1Q8r1zwIb+FY7T2fB7vGDnb8DXZO9r9/7uz4HOK1QJxnhQ+emXYDB4V7e+25ZueG2DVLMB/5et8RwnyiY7HhAT+hZjIzv7sGvnYJ2/FsBk7nC+e5WF/xehA4E48mhcNJrymJ9lqr3Y/CgLDO0YvDgTNXe6/ZgoG/84S6/EWoy2OeKO85Fi3hN28xHp0lXJe/zBCOtZZ+j7UB5z3YfhGnm7o2yoNERER0b1CpVCMWxxhyjtrGq+UobxbuZETW90KOWhU+2Pw4Xtxvi3UbouAoj0VTAT74xf/By/+5A/+/dz/EroPncXlyABJneGCytkDfz6X/8iFs+N9VmPH9BPhryxBRfyZ6jlp1cRHafAfKsdiMirxrKL2qhuWcBDyxfD7ip9ui6uJ5FCsiEOEh/gotw+FPiqCIW4QNSbF4cH4YQu3UyEi9CovIYEzVXmxuovB8OS6rbPHgmmVYvXAGZvt1Ii81BzU9yxeXVQUEy8PqTHx44BqcFy7BkyvmIza4G2UnM1FoHYxwd3GmSqR+WoBv45ZgkzA9Ptob9uoCfHmpBdOjvGErztJAJS5804FpS03nyXUOisQsX/lTLUrklAEhco7a+nNHsKvIFonrVgh1n4V5QRqhLhk41+4lfEYKHTRXFqEUvpjt33MFFgjrndcBP3k+qm+O4EClE1Y+9hBWPRiB4MnVOJWpQqvdVJM5ah38wxE3rQmF16dg3QsPIUmXM7emDOfqHY0+I26/GthGy+snlim7jtJbU7FiwxIkxUUgqKsMqefrME03H1UGdh1vgP/SldiYNBtxM+1Rn30epxtcMHtaECLmzYB/WymUHguwZcP8nuNEXXwZ9S5yDuPuEhzedREN4QuwaXU8HpwbDNfGQhz5WokpswPhNkn8hLj/hbqUtyJwyTI8ung25k1rw+VThaj1k/e3UqhLJvCgbhsHW6Lq/Hmcb+vdxoNqv4yT2QrMWRwA5ymTUHPuKprCQ+EjfeEJNFClf4kvb3hixRPLsDIuCrNcbiHrq0uo9RHqERiMuHmuaCtWY+qax/BkvLydjI4HNGRj175KOD0oHZvisWdRkY2DF9t6jj3xeMgvv4YKyzCsW7cIifOnwVVdiC+vdPfst46cNOy57oH1G5cK+ycKs33bkf91NiocwzHd1cTDQuZsa3P2uzGhrqdbPZBkMk/yZDi4u8JeF9kya39rUHzsCxy/FSCsm1gHeTunnse1nnUT1vXIMZzqCMZGYV8snRcM/9tXsO/MTVi4B8jnkdE1ob0IB3fnoFFY9tNrhGVH6x+v+uedrDEbew/XIzBpKdYtmYv4uSGY1nUVR4Rl9GwLc7aXuNw9BeiYsQjPPRyH+JlOaL14Cdm1wNRw3fXLkLj/LxTWAFGx2PiQUNfZPrAou4jU0kmYJWxn7SE56PqI5801FDXYYsFq8bwI1Z7b4rwvFavQOC0GT4r7QJj35IpcpBVUoqRSgXm6a6zHLZxLvYK20FD4af9aYbg9Bz3+Bj0njfbPSB2fQ70WiPMsugaVVRjWaM+1EHjeKkTqhQqUXWmF//Ll0jUn+DZKTl1ChUsUpmtz6pr73TXwtasxKxWfV03FykcWY3n8LOE66oKuy+dxqlbYj7rvA+H7bNfhG3BLXI6nl8dg3nQrVKWfR069DQJ1udsH/c4T6pJ1DcU1wj5eodvHjcgW6lIoXGvq/OZL2113rF23FebhIs558HkPtl88+rk2EhER0T1lDHPUqlF5U/yT91g7h+0LHsK8/rrNeyDc/t6Benz2v7firfQmRDy8BSkpyXhyjjWaWi2NWhcR0f2rHbn7d+P3fzbsDHOSdsF+xhKsDHWRWiE5BiEp0gk1N65rp2rzFL6wXpje+8i0S+iDmOvWAKXB89JOiF+/CGHOYhMfBaw9Z2PNbCvkXyyRJhvQoPhCJaznL+tZrsI5EqsTPKHK1+WSbUJjtwuidPWydEHY0hjMF344m86o2a1taTRk3SVIv6xAvNgSUlt3uS4PhwKXc1GsHWOOSlwqUWDu6kUI0bbmE7dTPB6dM5p/KHRH4vrZcpoHS3jMj0JIl7BfxNZSwjbOzaqE3dwlWDjNRhwBWPlj4epQWFdUQCWNGVR9ZhGqA2OxMcZb2v8WYkutFVjmW4vMrHqpkMxvYRLme0rLUnjEID5YA1WVtjJAYxs0XgF62zgUKxeFwsmiTTtsjsZLSjROC5BzyfojfFobii7p1aG7GBmFtpi/NhYB2m0iHIfTYrFulhUqivWP+YEIx+bZMkzWOzbFYy965WLMRxky9A7nDvtgbFwaChdxlSycEJIQAI+6m6iQJqO+qQ2uQVHy/pHOiZULhO14u1EqYMT8bT3QfjfNydm8t0GZVYeGbGSqPbGmpw7Sdn5qkRvKL+ZAu3btRcitcsMyoYy2pa4wH5eoJVgWIu1/U+pzSlCjv2zd8VpS0rNNDTjF4KkXVmC+j720n4RleMXMRHh3LcoNNvHA26ujsAxKMQ1EjKc0Hytv4TyegzAr7eR+WYfMwbpoua7CMTJ3zWz43biKC/KyzVsfG8xa1nvt6eExHet0nxPnvTgITnVAlP41Vtjmcz0boeonb8Wgx98Qz8kROz6Hcy2w8UViz7kmLHexMM/WNjjpX3OcoxEvHF81St25bu5318DXLqf5q7DlUWHf2sn7SDg+5sf74raqWjrWBRWXlVBEL8TKYOl6r7CT9nXvn0bM+c4TWSJsof4+jke8fxcap0T3bnfxeJjvC+uaG/J13Nx5D/26QURERNQf7e2VubqrxtlLxGZtxJspr/btkuMwwMOPg6s+gd3nAZ9nU/DHn2/E6mXr8aNfvoE/bg6VC0w8YmvfeQveQLo8TER3yvTLxAwf37eBl49hkzFrK0t0tAz0giHhh56FBh2d8qCWJayNGkPZ+TnDvvamiaDgdZTfsEdIhOFyEegOj7p6OYjhCS97NY7uPoXTJUo0dmqEcX6IXx0j/DuC1DdR4+yNaOOGXM5RCHduRLW5L1ZpFOajcOvzdnRxW44aZ3cEGHxDCvvAshMt2uiBGjW3nBAYLgdpdexm46mnYs18pFUD5Y1O+IUaP3+hQFikJ1rV+nvWCd7TxABAL2tLBTqa5QCOjwucrmbio+OZKK6SHueGXwzWzTd3b9Yit7wTAXp1CQh1R2t5CXpCROpbqHPzRJTxKseswvMPmnh+3SQ1lDdNHJvCN/bcUHvUqHoDvk4enoaPattYwbq9syd44+XlgsbzR7E/PRcVtS3C1hQ+E/EgkiLkVnAGhrCtB9zv5hAfadf/443uBUJm1kHZgFbfAKM6CEKDEdIqn7/KetR5uCHMqIx4TJjWjtIqE8u2E64DlsJ5aPa6CbUVr036wadBtleFugUevkHSQA+xjNzbD2tLowIWoQic2oIa7SFi7vrYwMlEDN3e2dnwj+5OtrB3dIafwQGngIer0cGuZ9Djb0jn5Agen8O5FjhOMbpm2cPOzgl+gYbHk5e78XlrzNR31yDXLlOE9Zvc1YlW7UA9qmsV8A4wuqsXrwdyr3nfeSJ7uBpdqpzsLOHhY3R8ek2Bq9xr9rzv+LpBRERE1MvoNn8g7ai40TK+XiLmMxtJyxL6dnH+d9byVbzjFjhNgMeviWiCayrD6c8P4Z2/9AZ30sx5JED40WziQVZBC1rbG5Hxvn6wSOxyodQIP6K1ZdwQv2Et1s2yRN3FbHz0/qd4Z9fXyK2TL359WEAxhG+LHnVCXSz1f1Dr2Ag/YttRf1MeHEx7JzTDWf6oaUBji/BD3FQcx6K/YJkxtbB5FLA29WVlLcy76ZbZLXPhHIOnnnsQc20akfnVMbz73qd4/3Au6s39wm64ivJ2d4Tr5x8WW9e2q5Gve0lcv/tSYPY697/dxKB7Y8MQ3kgXuggvPj4Hfl3XkXbwiHD+7MOe9DI5uGNsBLe1CYb19kbi07o/3CxCdE9WAfPqoGpoEwZNRTGFMpYtqBODvp0a4XzoyUlhhnq0tHeh+LDxNeEUcpuMAq96xLych/fs07s2ieXliWbqEOo62ezjY3DCJUwwvPUZUYMdf0M6J8fRtWAohvvdZUDMYX4KH334ae9+3F/Z8wcZ8bdHR5f4BwJ50CRzvvOGazTnTURERGSa+T99m65D1Sz36zSp8NWprL7d+TLpZWNjSswhayoNgpw24Zfn5GFD2panT7yLQqG/cMdmbSqF7dpmqNLnnvnQ/J9zVR8mC59Pxl/PpeON7z+OB8XlJjyOjT8/gLJOYfNd3oNXNj0upWtIfBwvvJmOWoM4SSeqTuzAC6vWSWVWbsErHxbobVvdugifS9Mvl4w30qTWClIdHsLLR8ShVLysLW963YnoLhPzEu7JRrVHNDY9/3hPq9xEH3n6QG4KPyDlXkPCD3uF+OKc3la+vV3vi1e0jzJHxGPdxvV46cX12BDehfQvzvbzhnpPeIgtYK/Jg0aU6YewP8dE0yFXe9h1dZr4MSv++LaBi7s8OBgbKyjG1V8JneFk33WHASFPYfMIP/RN/dLvEObdp5XbIKy8EZWwDM88IxxHzz+IqI5i7DvVz3PbRlR51ahvr8ZBg0BEBorbW1AqTNPqd18ORf/braOzy+wUAjoKZ3/MX7oKz7/wOF7aGA2na5n4IsfUThnhba3P3R5ODfX9nDf6zKuDl7OtMGgqxZRQpktuEWilEM6HoTzeJP5hxPQTAD/+gekXeokpGD7+rAyYGYvNm3Vl9QPP5rEW6nq7u78/AA2dQhvzHcb6jIJBjz+zz8nxcy0w2518d+mpP3cUn+RpMDdpFV7S7cNH/dGb1Ebc1xgk9Y6Z33nDMprzJiIiIjLN7EBto6pZ+Gltpm/l/yeg2J9+jKN/+g7EB6GCNr+Fo4c+xrY4adrwlOAPr/weVQ8kIyVlG7Yuc0VZ2g589/ktePxfvoT1w8l4Uxy/xBW5e1/Hv+7qDQSXffgTrNt+Cli9RZvSIeUJL+Ts2IrHf1sgl5Cd+z2e/q0KcVu34c1fbMFq1xLs/vl2fCDcl/s89oZ2HVKWiQUTkCL0H/3pHO3HiGiM3byJGrcwbHzAHy7a3HYijfAjWO7t0Te41apsQIubu4kf8EHwm9qA8isDBEeU2TiYpffDXZt/MhLhaOt91N2AC8KnWaH0Qm7f4HB3JfLLAY8AE/liPd3h0VCNXOMPtRahtMEJ3nKg1k5Y9z7BqYbm3ny5TsJ8NLXCZ+Rhne5hRG/FIJdxwLG7BY2mo9798ITHlEaUFxntlPZc7N+dYWbrN4Wwn6ygLKmUh3U0qCi5CTsP86NNyqwTyNCPw4h5HsW3qjeZ8ydTpbD/NIhaYyIQscYPt8vLpCCk5xS41qqRb7TKHXkn8NE35uao9YSfewtKC41Tf7Qgt6wFLlPNXed65Kd9g3y9vw2IuTiXzXRBa5OpI3jktnUfntMRYlWNjLyB0pmIzKyDnzPsrlegwvjQvlYBpY2TlJrEzwWuNbUoNi7T7+nggkDhQqEs03vz/GCq6tERFovVEX7QpQ8VDTVXdYCnPWqul8lDvQabz+0+61aifQTdQ5tZZhjrM6IGP/6Gdk6Ol2vBEJj93TUwpVq49ixdgihdLmSRMI/eP0O4wNtNg+oKo33dfVuvjBnfecM2mvMmIiIiMs3MQO3QXiLm6O6NITa6GDesHV3g5mqvfbzT2kHsd4HjIC+9GJgDVv/qL3h7SxKSliXhuV/+Dq8tEO6ZK+oQ9+vfIeVZ3fht+J5wL12Ymi61AFbuwfYdJYj44W/w95fXa1M6rN7yOv7fZi/U/vPv+KxOO3PZXLz24ev40aoEJK3aiJRffAc+KMGRdBVg5yCtg/aHlhUchX63O1shIhopTvawU5ch9Zoc/eqsRXH6MWT0yd3aiMxDGShuEK/DGnRcy8TBnE5EzTGVN1uB6Dh/1J8+hrSSevGns/Cjth2q3BN4/3CBFKB0EOZ4MRtH9adnF6BIYa/3ghZDLrExiGopwJ6vSlCvzWkr1KRViawDmajwCsdCU40hLUKRMEODjM9OyXUXPtNQgqOfFeH2jOieHJtOYZ6wu5qPjBq9MofL9ILG/oiNAC4cPoXSJnHZwjZQ52BPpumw8oCC/eBXV4HUq3KUpbNaWIccVAzpd7iwjef7o/XC1zjds++E+RwpRqNfQE/w3MXBCi11N/tp+Sxu03B4l2diT3a1lEtSux9S8UW5C2Jjzc+0bi98LutU7zbW1uVcNSb3tFCtR0VupekgvLIS5QpvRJlKYekXjnCrGygWAz8WYYiPaEPWIWF/a/e/tA8OZrXAL1QbPRO4wN6mCzXq/oKWCoQ9EITbWSd6j72uehR/dQIZmiAkTDf3EXknTO6oRlpqDlS6Y1E4Zk7kNcJJ+I4zZaS2dV9uWLjYF60ZR3EwV4lWeRdoWtXCuZyD/HbhnJL/hmFWHZxjEOupxhfCMSmtm3ysH1fDOyZG2MICm5mYO60WJ4Qy0inThfqSUzhabBRF1+M1PxxOBSeFOsrL1n4mA5982s8fFpxsgdJ8XNCdt8K5fuFwJvLNfz+dlvWsUARWCfXPVuvtb2E+g8S1W4szcTi/Vqqr8JkLX+RA6ROKufK2HPL6jKjBj7/Bz0lDd+9aMELM/u4amIujBkVZuaiXj+PWqlwcPFFpcM0MmBsA5J7GUf1r9ufFevvZjO+8YRupeZu6NgrndpOcR5iIiIhIj1mB2iG9RMzCHt7+/b+AYUQdeVV61N+gG28vzPJCeIh+rlsHuE0R/49DUoL++FDMmi38J93zo+rrr1CIOXhyneHLJSIejIMjLiIzXx4hiluKBP3IeFgIxFnpNTcgohHXjtz9+o+K93b79c/PgdhEY02iC5THD0if/SgD+ZbhWBhiiRaDl624YO7MLmTs2yeU+xTvHq2G04NL+n/E1zMWz6z1RWNWKt4R5/veIRxVemL18kgpx6hzDDat8UOrbvpfDuDgVXskPjzAi7AsvJG4cQmi24vw8ftSPsF3PsmB0jsGzyzv/0WLLnEr8dRMjVx34TP7itAxcwk2xekFH4T6LIsG8g/0ltHEhBrUxSVuCVZPa0HqJ+KyP8V7qfUIX+DXT57eAViEYtliF9SkHdEu6/cfZKDcOwxRQ/3rolc8Ni5xRnXaod75uMdg44O6oCVgHRGKkKYCvCdMP1gkj9Qn1GX1xhh4VGbgvfek/fRFpSNWblzU50VRAxG38aPhnT3b+PfvZ6Boykw82lMXFS6cuWLi8XwNii9Xwzp4ej/73Q1RAVYoulwi9CvglbAMSVNrceIDeR8Ix6HHkmV6x6ENoqM90ZghbJO/nIDJ00A89h4JQofu2NuZioz2IDz1iByENIsCYctXIHGKEl9o6yIcM5/mozX8AawzftuZzghta5OEY+H5x0IxuSgTO3cK8xbr80kGMtu9sU44Z3qqZFYdpHVb6V4tr5u8nRNXYHWoLpAtllmCBOsK7BGXJ56/hU6YGzbAvZdNONY9PgdOpfKy/7wPe/KA+Sv7Oef9HsCaGV248Kl0TP15bw5U02IQ79aFVhNZTvolrvMjYbAuOiXt7/e/xiXLaMzv90IjcQoLh1/FaamufzuGrNtB2PBQeG+O5KGuz4ga/Pgb/Jw0cteuBSPE7O+ugfktisfc2yX4WD6OP/6mAYFLw+HR2t6bp1a4ZmxYLlxX0uVr9sfZqIsMNXzx5WDfeXdiROZt6tpYgqOfHEOqcUNqIiIiuu9Nam9vHyRRQTvKLuSh3Dg/bT8s3f2REHkHjxGaRczN+ioOz9qIN5+MlMfpeGH2slDh56WYo3Yz3sIWHNy5Eb1ps+TPrnod538h5jQwUU65B8888S6QvBMfPau75Zc+V9Yzru/nxPy2Lx9JwttntiFBGBbzw67bAWz95w48p3dHaVxORzv+qjS/q9oy8gQTVr/5JVISjNdFx7iu/S+TaKykpKTIfYaSk5Ph5TX6P7WJ7hvtOfhkXxsSn46/C0EsGhsalB4/gAte67Fxprktk8cnVfoBHEUsnk8Y4eAi3Tta5WvaM7ymERER0figUqlGLI5hxt/pm9HS/9N0Rizh7jfaQVo9PrO1KQEMOzFIe6+IxHMpr2rz0xp3z4bJRYiIiAagOlchfJ1EM6Bxz+jSpotIK5FTA3S3oz7/FNKUTojqaXVLdI+ozcb+w7lQynlFNK2VOH24BB1BvWlmiIiIiO4lZgRq3THzgZmImxuO+UbdNP0n90UOLgieqMlpxxn3qdLtp0+0cSBa6iLuYjyciIgmLq+EtXhqjr08RBOfJcLmBwN5J6XH5MVHxi8Bsev10iwQ3SvcorHQrxapn8ipcXadR/VUwzQzRERERPcS8zJfWdjA3sERjkbd5EnydC0LuEz1wfh5TZUXfAOF/0pLcVXO+6qlVpnI0zf+RCxKgBsK8JedFw1fVqCpROqJyjt8OQIREd03LNjK8p7jGITERzfgpe8/iR//4Em8tGkJol3vjf3slXutyRYAAFl4SURBVLCeaQ9IjyU8opfg+e9Kx/qPv7cBGxOChp6fnIiIiGiCGMIrCgZhYQsPr8nywPiwcHECoEnFr17ZicMn0nH4wzew8YkdyJ0Iv2VmPI3XVrmgdu82PPOLPdr6px7Zg+3PbMErv92F07fkcmZy9xFb6F7AZx8K8znHQC8REREREREREdF4MmKBWktXN/iOXNh3RFgv+wn+npwA6/P/wPbtr+P1D6sR+6s38KMQucC45oCEX/wFf38lCQ5nd2rr/8p/7YIyMhl//8c2JE2Ri5kpYtNP8FxkF1J3CPP560XUyuOJiIiIiIiIiIho7E1qb2//Vu4fsvKLWShrEvss4T1nNiKYn5aIzJSSkiL3GUpOTh6xtyUSEREREREREY0mlUo1YnGMkWkDy5eIEREREREREREREQ3bCARqx9tLxIiIiIiIiIiIiIgmljsP1E62h6/P+HqJGBEREREREREREdFEcseBWht3L3jI/UREREREREREREQ0dHcUqHV0doN/wBR5iIiIiIiIiIiIiIiG444CtW6BQfBlcloiIiIiIiIiIiKiOzICLxMjIiIiIiIiIiIiojvBQC0RERERERERERHRGGOgloiIiIiIiIiIiGiMMVBLRERERERERERENMYYqCUiIiIiIiIiIiIaYwzUEhEREREREREREY0xBmqJiIiIiIiIiIiIxhgDtURERERERERERERjjIFaIiIiIiIiIiIiojHGQC0RERERERERERHRGGOgloiIiIiIiIiIiGiMMVBLRERERERERERENMYYqCUiIiIiIiIiIiIaYwzUEhEREREREREREY0xBmqJiIiIiIiIiIiIxhgDtURERERERERERERjbFJ7e/u3cj8R0V2TkpIi9xlKTk5GR0eHPERERERERERENH5ZW1vDy8tLHrozDNQS0ZgYKFA7Uhc4IiIiIiIiIqLRpFKpRiyOwdQHRERERERERERERGOMgVoiIiIiIiIiIiKiMcZALREREREREREREdEYY6CWiIiIiIiIiIiIaIwxUEtEREREREREREQ0xhioJSIiIiIiIiIiIhpjDNQSERERERERERERjTEGaomIiIiIiIiIiIjGGAO1RERERERERERERGOMgVoiIiIiIiIiIiKiMcZALREREREREREREdEYY6CWiIiIiIiIiIiIaIwxUEtEREREREREREQ0xnoDtd31qK6oRNmAnRI1bXJ5rS40qatx41YTOrvlUUREREREREREREQ0JL2B2tstqLquRnnlQJ0KxZW18geA2uJ8ZBVdR/6lIpw+nYX0rAKUqG+hS55ORERERERERERERIPrDdRa+WHubE84KeRhM7R3aOQ+SVdbC64VXUF6Rj7KGhiuJSIiIiIiIiIiIjKHQY5aC3v/IQVrfUN9MNV+sjykp6sV5bm5yCqrBzMiEBEREREREREREQ2sz8vEpGCtOxwnySMGYuuFqJg5WLpwJmYFToGTpTxeqxtNylKcKbrJYC0RERERERERERHRAPoEaoHbqFfeQtO38qA5LGzgNm065sXPxkwva4OZdqorceFaizxEw1OPw7/cgnUvH0CVPIaIiIiIiIiIiIjuHX0Ctd3VV5CnHm5+WUt4TI/GA2GOsJLHiC1rG8tLUFgvD44IFT7Y/BDmbd5z3wQuO2sqUVXbjEZ5mIiIiIiIiIiIiO4dk9rb2/XaztYiP6MMN3ritJaYGuKCtnI1GuX3hll5BmFhuJs0MID2a/k4W97am/bA3h0LYgJhIw/eGTFQuxlvYQsO7twIH3msWZR78MwT7wLJO/HRs17yyHFkvNePaISkpKTIfYaSk5Ph5TURjv12XNh/AKfV9pj75FosdJZHG+tS40JaJi5UtKBVvI5aKGDt4IyouFgsDHaSymgVYP+fc6GUh/pyQ+IPliFaV87SDUlPL0NUn4tqNdJ2nUIu/LHx6XjUfL4baYP+RcsG0Y+uR6KnPCjINfdzy/yg/KoE9fbS8vrsufZc7PmwACobb6z7ziJYf3MAe/Lb5Yl6LG3gMi0Ia5Ki4SL/CVGV3k9ZmVPUIjyf4C0PEREREREREd19KpVqxOIYBi1qu6vUqNFrTGvl6YsIn6G9YEzHZloYQp31Zt/SgJIauZ+IaKJrzEe+WuxpQWletXZUH60F2P/h1zhd3g5r4VoavyASC6M9YddZiwvHj2F/vom0MM7eWCiW69NNh59cRKurFmlfFaFDHuyPX7ThfMK0AWV7hOmNW7ggHOH6MWOB2Z/znY2EEEug6ToyTARVlWdLoOpWwC8mFgE9XwmWRvMPR7QHUH+1AB99kiGUl4tpGZft7eaHushliIiIiIiIiCY+g0BtdW2b3ou/bOAT5K4tIL1gTArWWk7uTWowsMnwDXUVftbr3Eatqp9gxgio+jAZ8xYk44PLBfjg51uwJOEhYXgd1v18D3KbxBLnsH2BMO6Jd1EoDBXu2CyV12u+1qFMxxvffxwPiuUSHsfGns/2arq8B688sU74rFBm5Ra88mEBPvulfhoGeTm/PILMt5OlevzynHYKOlVIfXsbNq4Uxul9XlrEQPXrJ9WDOh1vvaxb14ewZNPr+OBSszxRpKtLOmrTduCFVbp6J+ONNKNcFLf0t5s4r214y7gMEfWoL6hGPZzg5aVAY3mZiZaw7bhwNBfKLhtErVmPZ1bHY350NOY+sAjPPLsI0Y4aKL/5BheMY5t27pgrluvT+cM4LKm5lofUEvlxh364BBjOx9tOHGsDb71xc6PD4WXUMtf8zykQsCACfgphfXIuClcrPa05OH2lC3ANQqJB018FXEL05zMbiQ+vxUaxTFMl0nP1N4px2d4uyrjSRERERERERBOYXqBWhdpmvWZMjs4I0IvJisHaeQ/OR1yIozzGDLZecO2N1KK7pRm1cv/oUOGDn23HZ27r8NovX8W2TSHoSHsX/+u359CBOdh26GMc/dN3ECSUDNr8Fo4eegNP6p6ardiDFze9jhNYha0pr+LN7evhm/suXti0A7m6OIhQ5of/8i5SO+fge78Qyvz0IVh//jP86pg8Xd+x3+HlQ0Dsw6vwyBxXQFOJD364Ga/srUPsD4XPCsvYlgSk7tiKH34shjYGqZ8xMUXCY6/jg3IvPLldnF8yHnW4jLf+5fvYnq4frBWc+z2e/q0KcVu34c1fbMFq1xLs/vn23iC1pgBvfGcr3srVzWsbnvSpwAc/34QffsZgLVFfSly40gJ4+mJNpBsUrdXILZEn6eha3PpMR5KPpTROx8IbidEuwkWxHqWDBFr75eYGP0sNSjO+QYVBC9QxYBOJ+HAxyKrfqlaDirNXUdNtibAHZvcJMvelgNf8AHgIfaprZdIoIiIiIiIiovtIb6C2uxOdt+V+gY3DFMPmtsNig6lO1nK/oKsDjaMaUGiGx9O/w55X1iNpWQKefPk3+Eki0HTsNDJhBUdXF7i52kOskbWD2O8Aa21KBxU+eO1dFIZsxp/+tAVPCp9NWrUZb//f78Cn7gB2fC4GKzuR+q7Y2jUBKR++jh+tEstsRMpHv8P3TAVTpyThN5/uwJs//wleeyQUuPglPmvwwpP//S62PSZ8Vqzfz3+DbbOAwt1fCvMdqH7GhLr8UaiLXRLe1NVl2Xps/dNvsDWyHod/tROZBrGfuXhNv86/ENYLJTiSLrd9O3cEu+uA1T/TzSsJP3rzF3hOWK/Mz07cNy9sIzKbshLlrYBfWBTspgcjxEaD8lKjSG11PcQrh4ef+KcXE2auwI9/8CQ2zhxiXhkdax+sjHXRBolPpFXKI8eO14NRCLHUQJmdLbUubs1DRmmXsAGCkTDNzHW0sdJe/4iIiIiIiIjuR72x2FsdBrkOrayH0HJ2AI4GkcbbaLsl946KUKxa4i/3i6wQESkMazrl4X4o03GkGIh9bDWC9KsbGYcEYTNkXrwiDFxE6gnhv2VLsVp/0yhCMWum3K8vbqn2sz3mbcGevTuxbYE8rOUCH/FNaNUq3JRGmKc1HYeFujiuWo8kg7r448lNCUBTKlIvy+NExnUJC8Fs8X9dYN7NVftCtrK8AjTpAryKSGzd+yXOvzfEl7UR3QeK86vRqvBEVIR4wfBHVIAlNNfKDNIYdLRJCb+trUbv8Xy7mQ8iwUuB1ivC9Uk1zJa5I8UiFIlznYTrkxIZOS1ya1obRC+cDW3WBHMo61En/Gdtr/coBhEREREREdF94s4bzY5z1gozcuqWl2rzwmb+9yYph2tPtxW7dTlqlZUQH8aNmB4qDQ/HrQLs/uVWrNTlqBW6l4/I04airk7bytXXs+/DxNZRkYhAM8rKBkhZYLxNwh7H//diJMo+3IoliY9j48tv4A+HSlA7SHyb6L7UXYKiaxoopvkhTL6C+kV6w0lMY1DUG6mtbx7mCVSVi9//ebdRdwBp2heXGbNH9PJQeFi0I/+rTKOXcN19dnNmI9oRUGUfwdHSLigCo5DoKU8ckAYd6lwc/FqJVgsbhM3Q/4NbO3L3G28Pofu8QJ5OREREREREdG/oDdTaW0I/i2Jnh9FbtIap87Z+Ky8FrMZxQ6noZ6XcsX26J6fLJe5AUzpeWb8VbxQE4Pv/9S6OivlohS5lmTx9pGg6B30LfF8OiN7yFr46+i7++NP1iEAJdv9XMlau2II/XGK0lkhfR24ZKjSWCI/S+6ON53SEOAOqK/lolEe5OJj4I5E6A+8bBRzfTzd6yaKzNxYuiDTqwhHuJE83ZjcbK2cJF9amShzNGL0XNprHG/Gz3aDo0gjXIXvMjevvD1vGwddP8e7+AlS02yAkcZlRcNcSftHG20Poor3k6URERERERET3ht5ArZUNbCbL/YL25lsYicZZNc3S479aFpNha0YD17vOzUt6vN97hjZ3bJ8u0gXw80e4AigsHV4uyKpDu5DaGYqt//cneHKeP9y0+Whd4Gj0jiGzuEqpCq6r+7aa7SgqRRkcEBQ0+Kt7dDqa6lFb1ww4+iP2sc1IeftdfH3oVay2rsRf3zrAHLVEPdqRr22t3oX8L/QDjSdwoUEYXVeNXPF/gbWtdHJ3dOrlQ3AKwHxdoDG0n79a2bljbnS0URcOrwEyKLjExWO+q/j+ssx+Wt7ePdZRPtCm7fb0R7yzdpQJfYOvKx9ehS0vrsfq6cbbRQGXEOPtIXQB5l/jiIiIiIiIiCYCvdQHXnBz0BtsakDFEBpTNl3NQ/r5IlS3ySNE3ddRo//2MHtH6Qf8eBMZh2WuQO5f/4FMo3UuS0tHmXbcHCQsEf479iUO6zc21pTgUp7cPxBtPthOdOo3MNZUouiq3D8UdglYvUzY5kcOINWgLpXY/XE64JiEpBnyODMUv/t9rFy7HZ/pB3imxGFhjPD/GKe9JBpXGnKRL5wndn5BBkFGqfOGC1pQlKN9lRYQ4Akv4ZJaU1aEVmkMYOONKF2gcaDI65C5IX5xEJzElqoni3pa9Y4pC72//PXRN/ga5uMEa72vICIiIiIiIqL7jcHPYm83W70R7agqq5X7B9fZdRtdrU0ovFiA63Kwtr2iDvV6cVpHZ3fDBY4FVy/4iC1jUw/i8Il0FGqDk5H43v9OglvdAfzw+TfwwZF0pJ5IxQe/2IKNP/89/nqmWShjhaQtWxCBdGx/9lX8QSxzZA+2P/MT/NWMp4194uLgg0r84V+34a296Tj84e/ww8e24A/FcgEdk/UzJtTlh0JdWlPxiq4uJw7grX/5Gd4qcMHq1zYjVv+laIOIfvJpRCgK8MYW3bzSsfvNZLyeJtQ7YQ5fJkYkqy9Sox42CJkfaxBklLpYhHsArdcqoQ3V2kRhlr9wItaU4GjeXQidesZgZYQNUKdGxchkriEiIiIiIiKiu8ggbmrh44Opeo28OtVK5Ndqm4Ka73YLisVgbUMl8qr0sqUq7OHtP3pvPzebXQJ+9EoCfEr3YPv2N/BZuTTaMWEbPv1LMlY7nMM7v3wdr2z/Hf56PRTb/vQXpCQ6SIUCNuKPf9qCJKuL+KtY5rdfouPh3+C1FdLkAYVtxj/+In42Hx+8+Tq2v58Pxyfewt9/KL40pwRFFVKx/urXh99GfLT3VTwXqMLuFLG+O7C/eQa2ivVNkOtrrj7zeh1vnbBH0itv4R9b7uDlaUT3FCUuXGkRLhaeCDf5giwbRAc5Aa3VQjmxKboCYcsfRLSTBspvjuC9fd/gdG4uLgjd6a+E4W9qhYuuJTy8jB7hb72pLdO3K4JKL4tCXwp4PRiLKEd58J6hQX2pqe0hdBUDvDSRiIiIiIiIaIKZ1N7e/q3cr9WtLsI3RU3oySyrsMG0mREIdRroMVagtugiLqn7D+ra+0UiLmgcv0ls2FT44MXNeEuzBQd3bmTrUyIzpaSkyH2GkpOT4eU1Dl8Ude0U3jtcjclRi/B8Qj9JXNpz8Mn7RagLiMFLD8l/5OhuRGlmJk4XNKBRl/vE0gYuXt6IT4hBiKOu+XsB9v85V2qNa5INoh9dj0RPuZxPNH78cKQ8TY9cz1ZHf2x8Oh7GWzL3891Iq3JD4g+WIVoeZw7zPzdw/VTpB7AnH/K6yCP7IZUdIDrd3zYgIiIiIiIiuktUKtWIxTH6BGrFZKq1RZdxSa33EjCFNaYGByLCy7Hf1AUDBWotHL3wwBw/jIP2tHemYg9+dSoOrz0rtoKVqQ/ghUd2oPyJt/D1TxkwIDLXhAvUEhEREREREREZGclArYm462S4hYciyFFvkqYDN64U4czFUlxv0gvgmsUa3tPvgSCtoLaoAOk7tmDjL/Zo88emHtmJl7fsQK4iFN97kkFaIiIiIiIiIiIiGp5+GsjaI3BOOMKcDdMddDbVo/hiDr76JgfnCirRqPeisP514Pql3heMTWRuK1/Fp39KRsT1XXh9++t4JeUArgduxJt7d+A5P7kQERERERERERER0RCZSH2g7zZalFdwsbwFnSZKWbr7IyFSSjI4WI5aTLZH2JxI+NrKw0R0X2PqAyIiIiIiIiKa6EY59YG+ydqXgC2Mn44wLxtYGZXWaOQX45jjdguKL11BrVmtcImIiIiIiIiIiIjuH4MEamWTp8B3+kwsXDgHC+f4IdTfE4FB/pgf1fvmcxdvV3g42cFpwM4alnJ5IiIiIiIiIiIiIpIMkvqAiGh0MPUBEREREREREU10dzH1ARERERERERERERGNNgZqiYiIiIiIiIiIiMYYA7VEREREREREREREY4yBWiIiIiIiIiIiIqIxxkAtEdEd+vbbbw267u7uns54GhERERERERGRKQzUEhENk34AVgzKajQa3L59W/u/rtMNGwdtiYiIiIiIiIj0MVBLRDRE+gFXXTBW7HTBWH3isDheV0Ysr/95IiIiIiIiIiIRA7VEREOgC7Dqt5YVWVhYYNKkSdpOn26cOF2k/zkGa4mIiIiIiIhIh4FaIiIz6QKrujQHYr8uQGsOXcBW/Jz4ef10CERERERERER0f2OglojIDLqAqhhg7erqMmglO1S64K44H7asJSIiIiIiIiLRpPb2dkYHiOiuS0lJkfsMJScnw8vLSx4aH/SDtGI3lFa0AxFTIHzxxReor6/vCfqaO18rKyu4urpi2rRpCA8Ph6WlpTyFiIiIiIiIiO4WlUo1YnEMtqglIjKDLt2BGEgdiSCtaPLkyViwYIHJl5ANprOzU/tlkJmZid27d6O4uFieQkREREREREQTEQO1REQDEAOoYiBVF0wdbrqD/nh4eGDmzJl3lK9WDNqePn0a2dnZ8pg715S7D9s2P4YFsUswM0boEjfje/9zEtc75QITybVP8IS4DjFP4/8VyeNMqsbfn5bW94md1fK48afgnaeFOj6MX2fKI4iIiIiIiOiewEAtEdEAdMFTMU3BSAdpdXSB2juVk5MzIi1rm06mYN3mt3G8bSae/tmv8NYbv8J/rHdD6cev4aFH3sbJVrmgmU6+KgY/U3BSHh471di1d4BgdtEX2DVgIHc8uIy9H4tB5GbsOpAhjRoPhGNGDHBvG/udTERERERENGExUEtE1A9dkHa0WtPq2NraIigo6I5a1eqIqRDEl5QN3xX87X+O4+a05/Dhrl/hX59YjOUrFuPpf/stvt75HHxv7MOvd16Ry04wCqDpyCmc1cjDRs7u3YfrQplxLfM4Pm/yxtpVM4AjX+D4EIPmRERERERENH4xUEtENAAxaCrmph1tPj4+I9KqVkyDUFR0J81Ca3H9mvDfrBmINA5aRi3G09HeQEkxbsqjoGlGzs7XsD5RShkwLykZv/6qTjvp+s4t2nE/OiQOHcePxPQDrw7QCrSzGsf/56c98xLTLWzdeRlN8mRJJ64fexvPJK2UysQ/jGde3Yccw0ImrX1sAxyb9mFXqon8Da0nsWtvMxyFMmvlUfo6rp3Erzc/jHniMmMfxvp/+6TPMptyP8HWR+R6yXXfK7YmfvoTXJfLSPV/B9977GGpXD/zMq0Tx/fsQ9O05Xjh5eWYrRHqfETa1sbMq8tg6yWnghA+kyPOT1fn+Kd794surcTW49pPHNoq9I+L1tNEREREREQTDwO1RET90LVuFQOoo9WaVkfMVXunrWl1rl0TI63D5QbfacJ/R3Zj1w1pTK/peGHnLnz5P2vhrh1uxsn/fB7P/L4CkS9u16ZI+PekZuz6t8fwvb118H3id/j62F68sUIsuxhvCP1f/yxG+8k+NBX4+4tPY+s/a/HAj+V0C8Lnjr+djBc/6s0Xe3Pvz/HQtn1oSnpJW+atf0tE05G38cxjbyNnsHj6wjV4Wli347sO9QaaZR0nj+O4xhtPP/aAPEZP+Sd49rHXcAxr8e/iMv9zA/wuvWO4TKHMiy++g+OdMfjB60KZn62B9Wc/wWtH5OmyqzuTtfWvif2eVP+fJQInhXm9ZBhANak1A5+nApGPrUHk1LX4zlLg7OdpfdbF3LqYtV6iqk/w8o+/gMfTPxPq/DJeCO8Q9ss2pJzsBHw24D1xv76+WFt0+etC/7GtMLEViYiIiIiIaBAM1BIRDUIM1E6ePFkeGh1OTk4jEqQV1dWZbmVpnun417dfQiSy8euHH8YTr36C4/l16DARBO04+Ra2HerE2t/swBubl0spErYL/WIA8e0PkGPnAHc3VzhaiaWt4Cj0u0sDfWV/gb0N3nj6f3biP3TpFrb/Dv8xByjY9QUKtIWq8bmYYzb0e3hr+wZtmeVPvIKPXo0Havfh00FStl695oDvPDsDuPgFPjeIZddh7+6TwJwn8Z1weVSPavz9f7+DAmGZ7733Ep4Wl7n2e/jD28/BV1jm//tM3NadOP6OUEYMRu/+b/zrWrHMU3jjnzvwAx9pLpJs7P2sGb6bfoUD/7u3/u/9TKhT/n58mi8X68fNI/txXDMDj63yFoassHzVYmFdduMfBg2oza2LOesla3XDCzt1+2UD/v2dH2E5mnHopLAvFIb71dpR6HdzgLV2iIiIiIiIiIaCgVoiIhN0QVNdi9rRJgaC9VvU3knQVkx/cEcCn8I/j+3Af6zyhvLIO9j67GOYFy8GbQ1TDJw9dhxNjivwnaUO8hiRAx5YGAM05eHCUBr2xr6EA5/vwn8slIe1XOHrK/xXVY0a7bAb/MThG1dw8VrvOjqu/2/kZX+NXxl81oTbgPvap7BccQW7PtfLs1u0D3+/CCx/ci3cqypwVR6tde0kDhUBDzyxFsH6qSCi4rHYUdgGF8SXt2Xj2DHhvxXLsVYY10MxHXNmyf1aMfj3vbvw5c/i5WGJ+1Qx8FqN632axuqrw7HPs4XttAYrpkpjrJPWYK2iGodS9XMGm1kXs9ZLFrocKwLlfpHddESFCv93SINEREREREQ0MhioJSIagC54eieBU3Pcvn17xJZhZdVPq9WhcJ6Bp19/F2cyjuLrD1/BDxa74eohMcXAz7FXG4CtxtUS4b+mfXhGzFGq1y1JyRYLDF3DZex6NRlLdDlqhU7Kb6tjheU/3Y61difx2iMrtflwt/7PJzhZPoTAtN1iPLYKuP7xFz0vFZNeIrYYDy8Wtptxy+GyK9rWvGdTHjNYx5kxydilC1pfk4K7keHTpeGBiDl9/5mCZ1bL+V7FTs7vOiBdMHnjCjnthEARj8cec9CuS448yuy6mLNe/bKC1Xh/6RoREREREdEExEAtEdEAJk2apP2/q6tL+/9ouXXrltx351xdXeW+EaCwgnvUWvzr/+zEN7u/h8jaDLz2Z70cAz7L8R9iftM+3UtY7CaXMUfTSWxdlYxfXw7Ev/zfndrctr35bfVMXY43PheDx7/C/1rrhppDf8WPHluJJVsPDZ7jVbZ4vd5LxTTZOH5EfInYo1huJxcwYfZmU+sodE+HySXM0Yzj/+cxPPObKwh58Vc4IK+jLr/rQApSj2vX7/g2+QVhcve9fzYL2+4YPs+Uyg3VyKwXERERERERjQQGaomIBiG+SOyO0wkM4saNGz1B4Ts1bZr4NrDhaTqSgocefhr/10S+V+vQ5Vgr5nAtqcB1uMFDzHna5IjgJDF3qXEXg+ABAp/Grh/4AMc7p+Pf334FT8cGaHPb9ua3lWk60VRbh6YOMXi8GC/826/wUernOPDSdNw8+Sb+dFouN5hY+aViR07iZup+7GoSXyLWz0vO3L0hZluAz0wT6yh0Ua7CBg9ApAIoELbLgKoO4U/HOhH54//Gr54Qto+8jv3m7dXRZGPvx9VA/HMmgqovY61PM3btOSllIjC3LuasFxEREREREd1VDNQSEZmgC5qK/4vdaLeorays7FmWSPf/UIlpD8LD+7wRy2yOM6bDqaoanx44iT5PwDddxkUx3YGPG9xhhQcS44Vx+/DnvdXSdJ2mbBw/3SwPmOm2+E8nOvVTD2gqUCguT6fhGLaueAwr39ZPrWCF4IXx2qCjqReemTZdeqnYV3/FM7/v7yVisqh4rHADcv78Ac4axeqvfnUSV7XjYrA4SfjvyBc4pL/RNFdw8ZLcL5Lr16ExnNHVwYKq2afwuTDftZu+ZyKougEviC8XSz2OU61iYTPrYtZ6ERERERER0d3EQC0RUT90gVOFQqF9odhoBWtbWlpQWlqqbbk73ACtTmxsLCwtLeWhYZj2FN74txnoPPIaljz5Gv7fP0/i+P+/vTuBi6pc/wD+SxRcwAVcEDVNxdzXSLwqGeGW243SNDO8eq2QUqwUK6VSWnDJJZVb/vVK6sXt4rXkukCaI95AEldEw3BlcQGXQWQR+p/3zBkYhhk4IKv9vn1OM+ec9+zvnOM8vPO8oRqEBC7G1HF+CIMjPnjXTe7Vv/EIT3zQGYj80gsTl+6Uy4VtD8BE9/fgHbATsUqwr4mD6CwrGsGB0vyIyyb7oGrhLIKtl7HS8z0skbYpb2+kB1aeVwoIdoPh4W4L7fa5GP2lsj2R+uD9jXKO2cHPKOVU0HUqloSEq0onYsr0wrrgrfluaJyyE1PH+2FDiDgfYdjwkQdGv78c38oBaUu4eXqiEzTwGTcXK0WZkK3wGeuF7xJ1a5G16o2BrYD4gFmYKs6XVMb3LXeMXmXYGZixLITt2AmthRtGmOksrZOrG1rkaPDPkFRpTOW+qDquEmima6EbKW0rLDQa8XLQmIiIiIiIiEriiYyMjLzea1JSUpR3RPS4sLMrSaLQiuPn56e8K8jLywv29vbKWOUSnXuJAK3o6EsEUzMzM9G4sfmQXmkdOnQI586dg5WVVV6wtjQB2x49eqB3bzM/4S8h7fkQfLtiG/4dfRlaEXC1tEbb3iMw48OpcGtl8FP9nFSELffDyh+iES9acNq0Rt/RU7HgXRe00BfTRmOJpy82nE0Des7EvvUv6X52b0R7eivmz1uHsKvSBqX1uE2Zg7/lLMLEVcCM4EC82UaUEp1xLceiAA1O3pHKWUj75STt1yeecGsmr6awq1sxdkwAMDMI2z1E0FhHM38Qpu91wfJDC/Lz05opqz29E35LpH07nYZMWMKmmwtmzPLGhJ7WSgnT++9ywQu+FzyxL+hV3TFrY7DhUz98czAJmWLfXSZh4aQszJ+yDngnED9MaS2vK482DN6ufggb9hXOLHRWJhqLw8qR0/Bd05n4WTq3ooaq2he5XFHHlYQNEyZgCQoukze9veE+pSFy6Sx4b4mDFl3w8a7VmCBSYxARERERET3mkpOTyyyOUSBQS0RUUapLoFYMOTk5cpD29u3bsLa2loeykpCQgH//+9+oV68eatasKQdqhZIEakW6A9GStkMHdgBVtSRhw+sTsCTHONBZGarSvhARERERET0+yjJQy9QHRERm6Fu2iuCpCKKKYGpqaqocuC0LooOysLCwAi1pBTVBWhGcFQ8CEaAdN24cg7SV7dJW+AYa5Zq9HoHQs4BNr64VGxitSvtCREREREREqrFFLRFViurQolYwbFUrctRqtVq5ZW2bNm3k3LWlJdZ36dIlNGrUCDY2NnJeWbE+fXCYqpdbe33xykca1B/mibeebw6rrDgEr9oIzS1HfBC8FpNbKQUrQFXaFyIiIiIioscdUx8QUbVXXQK1gj5XrT4FggjWipa1Yj8bNGiglFLv7t278o3c1tZWDtKKFrUiSFsWnYlR5dGe2Am/ZUq+VzW5c8tRVdoXIiIiIiKixxkDtURU7VWnQK2gD9aKjsVEyoK0tDT5ZlynTh20bNlSDrYWRwR5r127hgcPHsjHKHLdihQG+ty0DNISERERERERVS/MUUtEVAn0uWpFULZ+/fpo1aqVPO3UqVM4ffo0rl69Kre21eewFa9iXEwX80U5UV4sJ5YX6zHsQIyIiIiIiIiI/rzYopaIKkV1a1EriFa1gmhZq29dKwbRQlYEZEUr2/T0dDmXrQjSinQGIvds3bp15dazIs2BaIErgrP6AK0+SMvWtERERERERETVD1MfEFG1Vx0DtXr6Dsb0AVsxiMCsCNrqg7R6+mCtCMzq89DqB3YcRkRERERERFS9MfUBEVEl0gdYReBV3zpW5JoVrWVFq1nRwZh+0Lei1eei1QdsGaQlIiIiIiIiIkMM1BIRlYI+0KoP2BoGbUULWv1gGJw1DNCKgYiIiIiIiIhIj4FaIqJHoA+66lMZGKY20A+G88VARERERERERGSMgVoiojKiD8SaGoiIiIiIiIiIisJALREREREREREREVElY6CWiIiIiIiIiIiIqJIxUEtERERERERERERUyRioJSIiIiIiIiIiIqpkDNQSERERERERERERVTIGaomIiIiIiIiIiIgqGQO1RERERERERERERJWMgVoiIiIiIiIiIiKiSsZALREREREREREREVElY6CWiIiqtqtbMba3HzTKqFk5qTh55DK0ymh1lxA4DWMDk5Qx87QXInDyujKiljinE7YiQRmtENdjoLmQpoyoVBH7eScCS14fia69B0nDEPQb6QVvv604ma7Mp3ITH+yLJZos6V0a4o/E4FaObnqVp/ae9FhLQ4ifH0JU3ntKdZ+qLsr12RMBnz99XTNwKQTeSyOQKd6X5plCVVTJ7idERI87BmqJiMiELCSEBmCqu0EAa5wvNpyowl+Kzm7FTO+NiBRxnz+NVISumIv5IZeV8YqUhA0TRN0wGJxGYpCHH4JM1JOTm+Zj+vpo3RfsKiMVQe/NRaSzP36J+hlnovfj500vAcFhOJ6iFKFycSv4PUw5/iLecrEEUg5hifciBF9VZlI1YI0RM92gedcPmmIjlJV5n6oAf8pnTyW4HoKpnsfh/qYzrKTRqvlModIpyf2EiOjxV6pA7YMHGbhxKxUJiTfkVzFORESPizRo/MZjdEAaJizagmPRP+NM1G78+GkvxH44HhO3FN/Ks1J088TPUfPgZqmMP3ZMtayyhfs3P+OHKa2V8YrmiA92iQCnMhzZgvVvNsfhD90xNrBgUKbH+8E484WL/AW76vgNJ064YPKULrCx0E2xamhdxfaxatDMHwSfsmrWdz0EPlu6IOBTZ9iIcbsRWBMViDfbyHOpEpTq+to4Y8E7wOeLlBaOZpX+PlWm9a68PPbPnvKj9pcjItgf7LsNPZbOg4t806iqzxRS5xbe8L+CPcqYTPX9hIjo8VeiQO3DhzmIORePX4/H4uy5i/jt9yvyqxgX08V8IiKq5k6sg++h57Bmy2y4tVeCVhaWaNz5Jfhv8ETt5QEI48/CyRRLa7TtPxVrti1A202z4HukOjQxs4RNXeUtVYjI9etgM20SOinBcaq+rFymY3LCCnx7XplAVB6iNmJlw6l4q7MyTo8l3k+IiHSKDdT+8ccfuH3nHmJ/u4j/HT2JGzdT8TAnR56uny/GxXQxX5QT5fXziYioOslCWNBOtPOchL6mWgc1Gwz3/hrslvNKKnJSEbb0PQx11v38vY+rFz4PTSrQIkLXKkqkU1iBsc/ll1tyRPcT+VsHV2Ci6xDdz+efmwYfEz+RzbquweceI9FH+Yn92C81BXNaGuUz1bfEMl735wdTlRL5tKd3wkefp9R5JCYar9vIIx2P2byr5nIR6lMMzEUIwjBdrNOgXIEWZ8q644s7V6YYXcd+7r7YcLqUqS5Ey5g5XRH8fShuKZMKtZzKSpK3N1o5f2I/R7+/FSeL+9mjivomaE9vhbc+dcdzHvAOjIFW44eu8yPk+eK8FTynRbTcK26bYr1vheQdq47uuhVa54kV6Gfy+utoT0h1UX/t9NsyUWcN65i+THyh1mlpOLndr0AdLbAufV3UxmDD+x7o5yTKDcFQg+sgrptYdnoIEOJtdJ7EefnSC/2U85J3npXZJqVrELSrN9xdDW8wavJwFnMsqkjrCPTNr3MmPusFPk8GTLX8K/aeZILa61tc/dUp7pyIOjgNG64WPO4+Y/I/20VeXxXnS24tO85RuqYxyrhppu5Tpa53kgL3bP29444y05w7MQiab1BfVdzrhQLXQqQB8liBMMNcmsb3dP11UlE/1H2OjZXis6Dy2NXVO6PzX2hdxdc7+RxJ04auiEPsignye/PHLP27ZEcI+o4o2HrW1GeyEOkaLJk+Ie8aqHrGGEpMRLd/JOLc3VQs2/g7avnHodbiODhuTMI58c+g+7fl6TbSNDGv1foEHLyvWzTPzZuYs95w2UREGJW581sixq3SraPW0t8xbv9t3Dl+BbWCDJ4q0j4EBMWjibKtWosvwGn7TSTnKvNNysGlqKsYol+3NNisuoxlvxn/GjYXyceuwGmZUm5ZPN48loZz+39Ht/2GJywDET9fhtPSguXyKOfrkvF5yTtmLZb9Q0y7jSDpCTpa3ifDlrXq7idERI87s4Ha3NxcaNPSEX3yHE6c/g3J11OQk6N7ElhY1ED9+tZo91RL+VWMC2K+KCfKi+XE8mI9RERUXcQhMsIRA51slXFjlnD7NBgLRV5JIecyNniMh1/KCwg4oPv5+//Wv4rMAA+8bvTT9/jvZmHO+YEICBXl9mOff29Evu+LlavmYmJoeyzcvV9e/ljgX5G5aBY+P6EsKIuGn28k+n4WrEvFcGg1JtxZjlc+jSgyKKQNXQzPvHXvx89LnHFiznwEGXzJzjyyAqPmHEffT5U0DwdW42UV63604ymJ5pgcJLbxFUbADWvEPkbPg4sytxDtf+D9bv65OrZ3AUYkSsfzZVE/J0xC0LQ38K3V69gsX8f9+PHD1giZNgsbLilFSsiqvwvcoo7jhMkgSCqC3/eQt7d+j9ieNBz5Hh8/FYYpHxgHPA2orW9Xt2LKtP+iiff3umsaugwTsBE+3+WXcVkoljc8pz/D39RJVbPNZ5wLH+tVDUISrREZWjDAER8djfr9e6OFMl7A6QCMmi3Vxflb8D9ln/63/kXc/OLvBepP5pHFeOWLJIwM2C2XObZ7Dvoe8cP8UMPAehY0X76Bmb/2gr9SF/Xr8tEYlMuJw8oP1uHe+GX4WeTpDV+Lt2puxdurouXZLTzWysuuGQGMWG54nsT6/w6/Oy8qdUbaj+CZaBvqhVcC4uRlTfpVg7D+zuhbota0Ko+lGAmbZ2FKaGt8HKxbh/6zPugjTRGfDXNKcU9SeX3V1F/15yQLsd9J96X0v2K9uFdF7cf2qcCGd9YhUqqv5q+v+vNl5dQXnTURiFXGVSl1vZNucRo/jJoWhhYzlfMj7h3dj2Pm2KLyW8Zgydj5iHSag/0a3fry7vVLiwgKydciDG0/VLYVtRubX06B30jfon9ZcicMvu9r0MngPjwwxhczg/MDquo+x8ZK81lQeeyq6p3aZ2bR9Q4u8+T92DfTEZ1mBsnvt3s01y1qLCcaoQec4fKMMq7W1Z2YOG4jLP+2Gv8TdUz/jPHciniTzyUzsjIwabMWDV9ohWwfR2TPaIaPcB8Df0zAjHW3cbuPPW7OlqbPcsD3dhkYsjUZycqiSEzCwO+1qO3cDFpRZqYDvmuUgYEbE3FO/xVZKjN41wPY93eAVqz/XXt44i7eiMxWCgipmLM+FQdbN0acdM50+9EU0zPuotsu80H65MNX4XisBj58tbVuGZ+2iHOtiX/tSsY/DfKwZ5y+hm6aXEwZo5Sb3hjD429gWrxhw6ss7Nl+DWOv1sbGt9tK5dpB+2o93NEk443jBoHf3Gz4bjU4L97NsADpGLxXbNAGs94W+9FIqltW+EHepycxXLekrFT3EyKix4zJQG1i8i0cP/Ubok/E4p42/09+NWo8gRYOTdGr+9Po06MjnmxpL7+KcTFdzNcTy4nlxXrE+oiIqDrQSvfv1mjpoIyaYGVjm/dT8VshAfim3kzs+GIE2irTrNq4YEHgHLRYtahAQDS22Uv4xzu90ViO8VqisdNUvOUaje+O9ML6AsuPwAwPG2jCDYM9zfHWgtlwa6MEiOu2hvsX8zBYswL/LOIncpoLT2J53rp123x3WAyCw/StcOLw7aIIuC9dAHd9mgd53f5wP1X0uh/teMrRdUe8tS7/XFnZ9cZkf2/03LUOQWY6a8oMDcCSRt5YL47H4Fyt/7Q5vgkoTRBLIp3Htg6XcS1RGS9A5KyUvrjnbU9iaYu+78yBR8J/sNvkMurrm+a7AMDzK3zsYqu7pmLdHl/Bo0sxra9MULXNur3h4hSByNO6+cKtqEhg7EvoGRGJk8o08WX7RGQKXAY4KuNGRK7LUIO6KBH1x//9rgjarQ/4JiFo1SH0nb8AE57O/zy4zZuHkZYGx3d+Iz6PGIEAsd82Sl2Q1rV8xQicWLo1/0vwBWm9E7/CDCflXIn6/86raBn8UzEtXKMRtssOk98xOC9SXZvx5Uy0PHvGbIvh+Atx6NS9S97xqaL2WIqUhNA9cXB7cyr62uWfN/cv5mBCTAxK/neUUtyTVF1flfVX9Tm5LF3HcVjjqdyrLCzRdrQnJjvsREjBvyEYKcH5suuAHpDqv5nPrUmlrncx+HZhNAb/Y3X+ssr5CRgTAx8l0FtYF3wQGozlo1tDOV26bX4yHT23/9fsNhM0YYgdPDV/W/L5W4AFY+Nw4pRcxLQjl9H2y3lwN7gPz3jTDSd3hSqfDZWfY2Ol+iyoO3Z19021z8zS1jsTrsYhtn0X9NQ/K1TJQtiqADT5cJnu2ok/DMnPmGVY0GwdVh4oQVqeB39g+LBW+JuDcvKs6uNvz9eF/YUHuDOwJRZ0rofaYrplPTw/qj4m3MzAwQdiQhaCfkpDo/4OUhlr1BbfukWZkQ74vs59+EaJfcjFnkNpyOjRFCt7GaxnyJOY1cQwSGqLRbPaY9tf6qOh/hqK/XjFBv0upBXM9WrAfmAbZL/dAs830S9kAfvOLbC200OsOa4P7GsRcCQLwwc5wLNt/jG+NLYZXqtpsA+XbmLG9Tr4cWIzdKwnTmgN1HZohm1j6uCXIyk4pyslrS4b6GVwXsR+vlAXbeLvm93PAkpzPyEieszIgVqRpiArK1tuDRsRdRrn4y5JX9TTkCtNf+IJ6f5qWQstmjeB8zPd0KHdk7CxricvrCfGxXQxX5QT5cVyYnmxHrE+sV6xfrGdqp4W4dx6b4x6fTXCS5SD8Tb2fDYNo2b+AD5XiKi6s1TV2i0LkYci4DZ+BBorU/LYuGGC+2WEHclv6TFipJuu4yADnZ52RKdhLoVaF7Zt74gE6ZmRrzlaNFPe6ln0xsDBSTgZY741ial1t5PWjYfKyKUIhNX9K142zntn4YieTkWv+9GOpxyJL7TGO1bXBSMHx+FEjOkvp4cPauA2pvDx2HTvgrYRx/O/gJWINeobr7BYyjImWzuprW8xOKxpjcHPFW6d1dLBTIsts9Ru0xZ9/9LcIBgvLXdEixFjJmFw9wgcOqtMzjmDyGhnDOymjKtkVVf68qyPlqdE4/B5Zwzur//irWeLFgYVL/6IBvXdXyycB7ZzF/RNjEFsXnV0xgh9C3m9Vq3RNqe48HwH9HS+jJBdMdAaXq9WL2HdNy+ZbjEsuXbxMto+VbLroP5YitIcvXrZIjIkBAmGHwMLZ3y82xN9lVH1SndPMqXA9VVZf0tyTlwG63rJz9dcuidJmyyyVWFJzpcdWrZIQsINZVSVUta7sxEIbfQSJvRUxg10GjsObfceNvjDiAp1rWFVxDZbdO+NxhH/RfDVgvdOlzlB+MBZGTHlaTcMbqW813tKej7oz7nKz7GxsvksKAocu8r7ZgmemaWrdyZcuYz49q3N3lNMypHqyQEXuA+2ViboWaNn79aIPF6CP5za1MFrbY3aNrW0RC9YYkIvo+tXozZ6NchB8m3pfe5d7Em2guezcrjSQG30a2GBPYkiUHpHeq2B1zobPyxr4Cmb/AZQZtWxQMNS/Hi1oeUTyMhVvo/fvo89d2vhpR7GdbEe2hh85T93LgO1O9RHT+NmXm2t8PyDbPwijllm4rw4SOdL9X6W5n5CRPR4qSE6ALt4ORFHo2NwLu4SHmTk/2PFwsICbdu0hFOfLnBs9ySsrIxv4AWJ+aKcKC+WE8vrifWK9YvtiO2VpuOxxE1e6NNvaLHDvHBlgVLKvpOMxKtp0tesksm6eQWJKWm4p4wTEVVXWapu0Sm4mSh98ZS+eJkivtydvWDQEsf4i2UZaNfKEfe0xXyxL4r4Ang+AENF/jqjYXqw+HVIEesuh+MpTyKIbDpYnIRrF/PzQBYYRgYgVqvFXaVkyaQioci/XIocvwGYOi4/X2fX3hOwxGwrZrX1TbQKd0THNrrpj0Z9HW/h5AxEROtay6VrEHreGX1bWcJtsCNCDihBgdPHoXEp5mf/Si7JQfq8oGLwDlNmStKlf2eIPwgUU/9EQFSf+7HgMBfBOdI5euQOAW3h/sVX6Bvhg379R2L0dD+s3B6N+CLXm4R4qa6VVFkdSw/vZZjxcBNGS/s7yMMXSwI1iE0p6b/2ilbsPam466uy/pb/9S3J+bJF46ZSvayIfwDfSkKCVP/bKqMFNGuOltrL+N1csDJHl9t14nB9vlnd+QpRZpvUzRPrPYFvxw5Bv+Fe8F66FWFnU0v3KwNDKj/Hxkp93Ys9dnX17pGemaWUcLVg6gVVEqV7TU4Ypsv5jwsOQ5fGQSs911SrIUKrpZCcjeO5mRitzylrMDgey0FGhohc5uLOw1ro2VK3SJFy03X5YZcbrkvkei1aRrIuR25eblux/eMGUdMHuUhqUAu9jAOwRi7ezsW548kG29YPt/HP3BzckVsRl4UKvJ8QEVVRNSKPncHlq0nIzn6Y19K1vk09OeDa79nucnqDWjVr4gnRRFYFUU6UF8uJ5cV6xPoEsX6xHbE90cL24pXEErWutRs4DYv95ucNPkPspan2GP5e/jQxvN5BV760ur23BccO+cC1RD+xaYQxq/bh2KbX0FGZQkRU/dhI92xzP1fXydSmQlsGQYAqY8RXupx9JgazOfOqocycogJSjvhgl+lzUGQ+3KKkJ+Gm2TQaWdD4jcfQgDRM+GKLLn+gvK0gfPC0UqS66ewMl6sxOCE+G79GIHaYCzpJb0W+vZZHdAHc2PAIdO7f26iVmQHRKdHg+Tjcfio2K/kn5WG5m1KgZPS5PQsPazHZuLVfadj0xgebduPMge/hP7ELECE61/PA51HmcmVaoX7BH2WpVibHYtEa7kuDcOzIFqx/xwWNr/4HnsPGY3pwKQJBpVHdrm9ln68ylYQNHiMxU+OIGeuU3KryIPJUF62t+wLsi9iP/d9MxeDGVxD0vjuGvhuCEuU5LUMlv+6lP3aTKviZaVWnxD/N0HnaE/tM7KM8LCyqOXQZalAPcXIeVhPDhEK/0yiCFsu+S8Coi7Ww6LUndbls5UHkejUv4/QVtNp4D3e6NUHcjHZ5244rLiprxoQh+u0aD+0wq4iUWUREVDI1RODUWN06tdG0cSPUVDoJKy2xvFiPWJ+x7IcPkZB4Qw7cqmXVuidcXxiQNwxwFD9nscbT/fKniaFjU115IiIqKUf0dTb/E3kRYAv71B3zNWK+HZo4xCHWTAu5a4lJ6Ny+fAOdsefjUN/GbNireI2bo8XxmD9FpxXxFy6jRTM7ZcyQ7jqav+alo9VoEObUCz1NtRhL1yA4uAMWBM6Gm8hzqKpVmdr6ZocWUrlzpewEraCS1PEuGOgSAc2vIu1BTH4eWrt+cKsTiciUVMSeti6ioz6pPu/6D+69vhBrPHqjRV4ySSN20vFJ9T62mCBRk2bNceJUBeVFrmuLTv1fwoylgfh5kSN2+5nLlSlaSilvS6DMj8XSGm2d3DB53tf4eftLuPnluqI7hiqBou5Jqq6vyvpbode32POlaymt7nP8iMQ9W7qXmcyBfD0J12xao52p29zZ/yLozqtYsfxV9HXIzxGsniVs2vfGCI/ZWLc7EK/dWlyyPKfGVH6OjZXquqs6dpX3zUp4ZjZubP6eaZZ8fpU/nFWWRhZ46m4WfimypakF2tTJxolryqg58ffwdVZt/OjhgOebWqls4ZuFndGZ6Ne/Bb5zqo+GVma+18v7KVr/KuNmNLd5AgcT8vIblKMKvJ8QEVVRNXp0dYSdbYMCLWaTb6Qg8tczOBVzAbfv3CtxTllRXiwnlhfrEevTE9sx3Fb5ZKs9inkiDcJnexG1wguDBoj3R3WzspJxYIUPXhmipEoYMg2zN8XC8Acw4Z+Jef7QZ1DQpVzwwsaYWGycO023vn6jMGruDpzOWzAZGz2k6R47lBy1+eOnY3Zg9viXddt7zqPQ9oSUQ6sxUdmnvwzzhv+hE1gnltfvNxFRhbCE2ysvIXJpAE6a+gJ5PRTBR1wwUs4taIm+/XsjbLOJXvq1YQgKbg23/qX4gmVSGm4Z3zhzohF5xLHIwFexOrtghMVObDhoogVgebWWMvcF8mxpOjQyITEOvxuvO12D3aFd0Nc4b5xMuubDXBAWaKYn7NKcB20E/JaegfsbgwvndhUeZErPQWvUN/7lilY6BxeU94WorW+OUrkUhB4q3CHPrTvmWnqaU7I63re/MzQRGxEW4Qy3vDy0tnB5TouQ3aHQJIh0CMpkE7LStbCyMc6pCMSeMuiZvW5v9O0ZgdAjxkEi6TNyR3kr6TTYDdi+FWGmfuFbFnX70lZMnb6zUMDMpr0jWiam4qYybkwEmuIvFr42RSmTY8mKgO/IFdAYl2/jiLY5SbimnDvTgbA0k9NKek9SdX1V1t9yv74qz5dOGu7dkaY/pYyWp6ed4XJrKzaYuFnGbt+G+GED0UMZLyBL2se61rAxDv4Ued8VLf8n4PMjyqieRWt0bA8kGHy/KTGVn2Njpbruqo5d5X2zMp6ZRQXnzZHzsmuwYYuJ1t/ltZ/G6jTCBIdsfHHIxG/4c/VR0QZ4vsUf+NdZ4wuai+QHBt+SM3Jxp6YFGhrHWuMz8YvytrCHyJCOtWGh1IUZ+CXJICpbxxrD7bKx86RxXcxAcobyVtKzax3UPn8PO/P7GVdI6yomyFsyFXg/ISKqomo0algf3bs4ome3p9HYtiFqSg8B4WFODlJv38XJM3HykJJ6t9i8smK+KKdfRiwv1iOI9Yr1d+zwVIHcteUqdBlmhgBOI4dhTE/pH805V7DxbQ/MDk6F09tK+gRX4MBqb7y9JVlZyJxkbJwzD7vsRsH3M2m58e2QeWgt3v36aNF5qpJ24P1Z+9B43Cxpe16Y5JgpbW8e/MPzH4bacH9MmPsDLjYdDR9pn/ze7ILYRT5Y87tSgIioIjlNhf9zhzBl7GKEXVLuVTlZuHV2J3wmr4PVR55wUwJsjcfMxLv3V2CKnyYvN2XmJQ18PRYh4Z05mGDc2U5p2fyGlVMN9if9MoI/8kOoy1S8/Eg/8XXE3953RuQcL/iGXtZ1ciKONWorpo98T9ejf1lTvkAu/lKDW/LhZEF7IQTe728s5ouoSEsRg6MnjL9MGYvG57PWIfK6Uu5ODDb4LMeJMZPgbuZ6WLlOxQcW6zDFeysilRyUmdrLCPPzwNCl0erzMWalIf7IOkx398W1ycuwoFBHOQq7fhjhpMG3AdF550CuX68vx2HpvbkcyWrrW9/XJwEBc/G5RsklmZWKyMC5mLmpZAFCoSR1XKQ56Lx9I4K79y2Qh7aFqxvubdqKWBdnOR2COT2GDMa9oHUINqjnmhVemLIpRa6XOrZwn/ocIhf6Iuh8frkw6d8Ynxv2pv70q/jYJRreHoafG915GDR9Z+HAczEa2FjjRFRMfl1o44KB9wLgvUq6hvrzItWZ4FVbcXPMQLOdc3XqLv0b53wxLQJzUnEyNAa39PVA5bHcOqHBSXOfWcvecHM+BN+PQhCvNVjHqnUI6+yGwcrPduVAWOAifJd3bkWZWfDVd42vV4p7krrrq7L+lvf1VXm+ZCm/4aS2K3qVw0+fC+2XRRfMmN8bobPnYkNUwfPjuasL/N/pLRcrpJsbRt7eiZU/5N/n448EYOI7W+VzZfqeY4m+z0vb+tQXwRfSdNuSnw/r8E2oI0a4PMovRlR+jo2V5rqrPHZ1982yfWZa2dgg9tfogh0SGnu6C3peKL71ccHPvyXcPD2l45mF6YH5zxntBenePXYCPo/SnTvthQhopGtbPiwx4fl6qH36BobsT0GyvMkc3LlyE2+uuYgZZ7Ol8Rp4vp9U5uQNzDh+H3JcNOs+Du6/grG/GQRqO9bD3zLT4fu/eyJmC+Rm4dzJqxi4Kx2X8IduWiF1MbxdLQRFJeFgiu7kZaTcRsDmBLwpOurSdyYGad19LbHn50QExCt1KvMedm6XyhlWqDZ2WOmQjXH/vIKdifpyafK+ttqQLH1TLokaaFgzCwfPmbioxvcT4+cBEdGfQN7f5Ro2sEbXzu3g/Ew32FjnN3HRt449E/u73BHY9Rume7IV08V8Uc64Fa5Yn1ivWH+jhjZQme720TVwxaJ/r8biudI/sMe0B07sw6479hj31Vr4uOvSJIybuwg+3YFz2/YV06t1GppMWIYds0frlpu5CLOekx7woUcQpZQwKd0Ok9bqtzca3ivfhKu0rj3h+r9hX8DGFQeQ0vI1rA/0wjiRvsF9GjZs8ZHKERFVBmu4zNuCHzytEfSeu64DDqeRGOUfg55ffo81ow2+nFq0xuTALZhhsRUTXXUddfxlylZYeQZik0drpVAZcHgVK+Y/id36/XnOC0ENvbHjU2eUMntdHhuXefhx/V+RuckLfxEdjzi7Y8o/U+G+4euyCzQXIH2BnLcak9MDMNRZnLORGLLwOPouml1MvsAumLHQGaFvD5GWkZ4T5vIIS+cqYLY9gt9XztUwH4Q6SOfqQ+MeuA3I1zEY89pE4nN3sX7pOo5ZhNCn52DHnCJyqiIOS8borrs89B8P781ZcFsVjM0Ti7r+tnBfsgwjLi7OOwej/K9g8KotWOByGWfPKV8Cjamtb61exfq1L+Lm8jd0HZW5eOG79L9ihaeSjqAkSlLH7XpjoPTPDbfBRvkPW0nT66aip3MXZYIZPWdix0d2CPLQXYOuw30R3HA69q99FS1OxeX93Niq/2ypXHPs9lQ6Bhruh9DuC+A/TCkgkz7HC7/H5gmZ+OcUfblZ+O7Wi9ix5iXTLZ2L0MNzHlw0s+TzOXazCNw0x+T1azHh+jqMUs5Ln5G+CGlaTF17xgVuBzSFW2oaun4Iiz6ajw1nlXFVx5KE0JW+mLnJsHWqIUu4fPg9FrT5Cd4jlfPr+gZWXn8R6wOk86uUwtNTsXlRV4S+qb8G0nYyJ2GNcd0pzT1J5fVVV3/L+/qqPF+SzKhInDXXkvURFd4v5Z79dS+c+FI5P/3fwOenemHFdqmsuZNv0QUfb/JGk21e6KPc572DbTEneBk8HGJw1kwnhuKz9uOnrREyZ7xuW+JZuCoJ7muXPXIeYHWfY2OluO5qj13lfbMsn5niD2EfZAWgn1iPn5kItUVvDHbVQPrKVQQTn/82r2L7bm+0jVyBUf2l9cvPWg06fbYWHzvp/oh4drsvpq84VOI/bKjW0gFRkxug57U7cFwhOt6Kh+PedPQa0gIrO9fSlXFojtAxdZB8JBE2onOuFcn4MssG27sZNJ+tYYuVrzdAw1PXYSM6BVt6GaNOWWDxlMb4sE42jptJWWH/nD0Ot32IN9bHyx1/2Xx/G8c7NMXVgbVw7voDXWBYUrtbS5x2qYH1uy7rOghbdQs7W9hhW4FOzmpj+ISWONz1D3yxVV/uOr58UE86RnuInmPUs8UCV0sE/Sj2Kx7LROBYUeh+Uuh5QET0+HsiIyOjUPYBEWy9eUuXg0Z0DCbyyRqqV68OmjdrLAdgtWnpSLp+C/fvF0zAY7hck8aN0LVTO/l9ZlY2oqJj5Ny0tWrVhFPvLrCyVB5UJSRSEoxaDXhvX41JBR4kIvXBfOwZthDHPnlWmWZe+GdDMXOvK1b84oMBJsbNbedi4DS88o/2SjmR6sADyzENPwa+AodC43pXsO71aVjjqOzbtR2YOHYtMt9eix0eTyplBGX5tuqOgai68fPzU94V5OXlBXv7kv1zj4gUorOiOcDyoIKBFNJJEM/t6974ZU4xAdNqSjN/EAJ7BWOd+yOkA6kAkV+6I+iZLVg+2EyLazKpatbfVARN8cJNnyDMqK4dAVYxVe1zXCXqXdQKDNrRC/v8XUqRX7h6urT/d3S73wjalyqvHuwJisMyhxbY/5xxnqLywvsJEVVfycnJZRbHKLa3sM4d2+Kp1i1gaVkT+tyyIih7If4qjp86L7/qg7RivignyovlqqS7sdj2mTeG6HPUSsPMvcq8ErKyKM0XDEtYGmZ+uPS73JK3YzvDIC0RERGVWk4SEgq1OE6F5lAc+vYqRavaqua6dHzGjY5zonFY0xw9ulTtIK3Qd8pUaNduLHFHSn8a1an+ntiIoBYz8RaDKiVX1T7HVbneOU3CjDvr8O3j2KoyNw2XbhjnLriPPVdyMdyhcE7rcpGihT6TRp7cFOxJrAHn1hUVpJXwfkJEJCs2UGthUQNtnmyOZ3t3Raenn5Jb05oipov5opwoL5arcrThmD3aG/6xrfH3L9dif8gWefB7QZlPRERE1V5m1DZM9DDKYbnKB0vSJuEt1+rfijPhoB9Gjy+cHzXY2RN/qw5fcJuNgP/4GPiuv5yfe5TyVJv6q42AzxdafDCniFQXZFZV+xxX7XpnC/cF43Dyi43Qp1F9XGTEpsJp8xUsO2uQo3b3dczIqouPlBQN5e3S6Ztw/M4w9+w9/HPzbQQ0rY/32ugmlTveT4iI8qiOpoo0Bc2a2OLZ3l3k1rKN7RqiYQMb+VWMi+livihXlJoWNWCplBGvYryiJIYE4UBWe3gvmYVxfZ6EnW0jebApXeaFstGuHTpKLxcvlSwFOxEREZlm5TwTP37dF7Gr3sBf9DksL7ph/bqp6FRB/ZmWpxbjV2PfuwY5pF298O+G3tj3hcsj52yuKI3dv4a/3Tp8o3nMoi5loHrU3zSErAiDyzdF5IWlIlW1z3GVr3fNRmCdny1WfhPxWP2Bp3aXJxE3wgrHw5OUHLWJePN2bRz2aIGeFfQ1uc2gNrja7wkEBCu5Z1fewJraDXB1YhM0VMqUL95PiIgMler2LwKyIudsj64d5FcxrpaFhQV69+goLydexXiFkVPmGvUmnXMF5+OV95WheU/0bwmc27UPBTq+1J7Fqd+V90RERGq0ehXbmZ9WZtPtJfgH7sax6J9xJmo3flj6Kno8Rl8AGz/viXXBu3FGHF/Ebmz+0AWNq1kQuq37AnzgUv1bOJeHql9/rTFi3jyMKJcOF/88qtrnuMrXuzYjsPz9x6/FZcMOzfH9m+2R7eOI7NmOiJvkAOd6yswKUQP2fVph/zvS9uV9aI+osU1gX2HtqXg/ISIyVOrbr8hHW6PGE3l5a0uiZs2acgdj4rUiOTz7LBxwBWtm+GB5cDj2bFqGt92nYc1vSoFK0R6TZrrC7tq/MMVjNbb9FI4DwWsxebw/DigliIiIiIiIiIiI6PFWbKD2QUYm/vjjD2VMHVFeLFfldPDAv/5vGlwtz2Lj4oWY9/1Z2Ixdjg1vi468LuD8ZV2ximYzwAdBX43GUzd+gP88ab++i0GnOf6Y3k4pQERERERERERERI+1JzIyMgpFYc+ev4jrN1Lk96JTMDvbhmjb2gF16tSWpxXlwYMMxF9ORErqHeTk6HqwbNbUDp2ffkp+T2odxYIB87Fr8EIc++RZZRrR48PPz095V5CXlxfs7e2VMSIiIiIiIiKiqis5ObnM4hgmW9S2btUc1tZ15bQGIth642Yqoo6flQO4N1PuQJuWLreYzczKll/FuJgu5h+NPiuXF8uJ5cV6xPrIPO2h1fAPT1PGFMeicCAHcOrpqEwgIiIiIiIiIiKix5XJFrVCTk4OLl9NloYkZYqOnJtWGp4Q+Wml//4Q/+X+gdw/pFejFAkiQNu6lX3FdhhWDZ1bOw0T12vRbfxreKOrLXD3JNas+AEXrYdhxfZZGFBXKUj0GGGLWiIiIiIiIiKq7sqyRa3ZQK3e3Xv3kZh8Aymp95Cdna1MNa9WrVqws60PB/umaFC/QrurrMaykPhTIBas3Yuoy2mApTW6uXrg/fdGo9tj1EM1kSEGaomIiIiIiIiouqvQQK1eTm4ubt5MxfUbqdDeT1em5rOpVxfNmtqiSRNbWNQoto8yIvqTY6CWiIiIiIiIiKq7SgnUGsrNzUVOri7VgUiFYFHjCdRgcJaISoCBWiIiIiIiIiKq7sq9M7HiiKBsrZoWsKxVU35lkJaIiIiIiIiIiIio9BhhJSIiIiIiIiIiIqpkDNQSERERERERERERVTIGaomIiIiIiIiIiIgqGQO1RERERERERERERJWMgVoiIiIiIiIiIiKiSsZALREREREREREREVElY6CWiIiIiIiIiIiIqJIxUEtERERERERERERUyRioJSIiIiIiIiIiIqpkDNQSERERERERERERVTIGaomIiIiIiIiIiIgqGQO1RERERERERERERJWMgVoiIiIiIiIiIiKiSsZALREREREREREREVElY6CWiIiIiIiIiIiIqJIxUEtERERERERERERUyRioJSIiIiIiIiIiIqpkDNQSERERERERERERVTIGaomIiIiIiIiIiIgqGQO1RERERERERERERJWMgVoiIiIiIiIiIiKiSsZALREREREREREREVEleyIjI+MP5T0RUYXx8/NT3hXk5eWFzMxMZYyIiIiIiIiIqOqysrKCvb29MvZoGKglokpRVKC2rG5wRERERERERETlKTk5ucziGEx9QERERERERERERFTJGKglIiIiIiIiIiIiqmQM1BIRERERERERERFVMgZqiYiIiIiIiIiIiCpZgc7Ecu/fQMKtDDxUxstWDdRtbI9m9Woq40T0Z8bOxIiIiIiIiIiouivLzsTyA7VZV/Br5A1o5ZFyUqMunnLqjDaWyjgR/WkxUEtERERERERE1V1ZBmrzUx/cz0Sm8rbc5GYh/b7ynoiIiIiIiIiIiIhkZnPU1qpbF/Xrl8FQl6kOiIiIiIiIiIiIiIqSn/rgdhyOnLmLLHkEqN/mGfRppYw8iqtncfBSujJSE8269kTnRsooEf1pMfUBEREREREREVV35ZP6gIiIiIiIiIiIiIgqRdkGah+m4372Q2WkOknGRo+h6OOxA4nKlHPrvTHq9dUI1zcGNiNxkxf69PPCxmvKhEdx4wDmve6Bt7cnKxOIiIiIiIiIiIjoz6DMArW59y7h16NncTQiBmdvZitTy4F2L2b2G4o+cw+Y7/zs2GoMksqMWntBmVBy2XeSkXg1LS8VRMXIwq1LybiVnqaMExERERERERER0Z9BmQRqRZA2+swtaHPEWDau/34JKfKccmDjijEvSK+H9mFvqm6SsagDB6BFe4wb3l6ZUnLd3tuCY4d84FpXmVDWwv3Rp99QzAtXxoWmw/CP8H3Y4VH6/SYiIiIiIiIiIqLqR2Wg9iHu37iGhDuFW8oWDNIKtdCsXRvYKWNlzxKuw1yl1xPYc/i2bpKhnBM4EJoGdB+KF1sq04iIiIiIiIiIiIiqMBWB2oe4d/Ecfj2fjN9Ox+BE4n1lOpB7/wqOGwdpO3ZG5ya1lPFy0m8oxtkAUaGRhVvu/rIP27RAt6ED84PFd2Ox7TNvDHpuqNyK9S/DvOF/yESQ10D4Z6KsPwwbvEIbi41zPfAXkXphwMt4Ze4ORN1V5hkqanvXdmCiWH72AXl0z2yD7SjzJm4qmKNWG/MD5v39Zd12+43CoL+vxoFrhkkZjmKemPdZOFIOrcbkYaPk7fYZ4lXscRIREREREREREVHlUxGovYMryRnIld8/xO3f4+RgrRykPXkD9wyCtHYd2pd/kFaw6AnXwdbAsYMIN0p/EP6TCIAOwKvDGukmaI9i3mve8I+2wbgP52Oxnw9e75yMbXM9seCXEmSgzbmCjTO9sTw8E05TfLD4My+MsdqHBZuM8uAWt73mo/GPkC3Y/8kAubjrJ9L7EC84yWOFZf6yDC+LwGyGK7z9pPV94oEBaT9g9vhZ2HhZKaR3dBUmfJ2MZ72l/ftkGobbXpC2O69sOjojIiIiIiIiIiKicqMiUNsYXXvao76FMioHa8/jsIkgbfdm9ZTx8uc0cjQcjNMf5BzF3lDp9YXn83LLphzYh5NWPeGzeiGmDxsA1xdcMX3xXIyzuY1du8LNd0hmJGXvWiyPBVx9/w8rprnK65n02VpseN1eKaFT7PYsLGFj2wh21pZyeStr6b2tNazkMWMXsO7rvUjp4IHNgV4Y94K0vmGvwG/tQgxvcAHLv/jBqEVxL/huUrYryn3ymnSOLmBveMEWukRERERERERERFS1qMtRW6cl+vQyDNbmIrcSg7SyTv0xvCUQ9d/D+cHKXw5ij7Rfrs8/mxf4tBszHz8G+2OcYb5aC3s4NJdek1JVd3p28uhRaTnRkZm1MkXHroHReBltTxZ7BHuuAU7uw/FU3rmX2DyL10fZA6eOFGxR/OzzGGCjvBc6tEMP8fpQHiMiIiIiIiIiIqIqSmVnYpI6LdGrR1ODYK1QSUFaWXu4DhHBygP46YYYz8KBvQcAm9EYN0jXWlUv81o4ls+clpcztk8/Dyz/TZmpSjISLkkv7dqhbYHjN+3Rt6dISUai9NLYTknjYKBj187S/y/gXFFpDSwKngciIiIiIiIiIiKqmtQHaiU16j1pEKytzCCtTscxL6MbYvHf8NtA+lHs+RmwGdwfTobB1NhATBy/EP+1GADffwRiv8gPG7IcU9sp88taRW0vr0UzERERERERERERVXclCtQKIljb59nOeOaZzpUapJU1HYgXuwOn9x3GxV8O4kCONYYP7anM1Anf9S9chCt8F3vAtZM97ER+WGmwUdEyNp89WrSRXn6/injdBLPKZnsKO3s4SC+3Ugzy8CrOxZ6V/t8eHQ1TLBAREREREREREVG1ZDZQ+0e2Fto0/ZCObGW6rGZd2NSppYwYy0ZG3nLSkJ2rTC8PjfDCiz2BU/swb3M40HI0xnRXZumJ3sJyRGIEA9oLOJ+kvFepv8sAaT3h2HsoTZmik5Bk1FFXGW1Pps/DG7wHFw1b0GqPYtOP0na798cAW2UaERERERERERERVVtmA7XahPP49bh+OIvwE1cKBh9Nuo+Lx0/il7zlpCEhQ5lXPuwGj4KrxQWciwUchvRHR2W6ntOAAdL/D2Cehz827g3HtrUL8crIhdij1c1Xy2qQB7w7pWHPx3/HzLUHcOCnA9j4yTTM3FUwcKt6e011rWWP7t0hresELqbrJhfUHlPfGwa73wIx0WM1tv0UjgNS+XnT5mPP3fbw/mg07JSSREREREREREREVH2pT32gTZM7tirabaQWjFuWv7rPYvgg8aY9xg1vL08yZPXCfOz/ajSeunEAyz9biOX/ToHTgkAsHiLN/O13nFOb69XiSUxasRzeA6wQtd4fsz9ZjV2ZQ/Hth65KAR3V2+vwMnzHt0fWz2uldW1A1F1luhGrfrPw7//zgmttaX3zFmL2Z4EItx6NxVuWYVJrpRARERERERERERFVa09kZGT8Ib+7HYcjZ+4W0Wq2Lp4a2BkiVat513DscDLuKWOF1USzrj3RuZEySkR/Wn5+fsq7gry8vGBvb6+MERERERERERFVXcnJyWUWxyhBZ2LpuHbsLI6dLGI4dquIIC0RERERERERERERmVKCQC2QnZ6Oe/eKGNIfKiWJiIiIiIiIiIiISB3g/wGv2x+PwieM+QAAAABJRU5ErkJggg==)"
      ],
      "metadata": {
        "id": "IQxvLYsBQa4Z"
      }
    },
    {
      "cell_type": "markdown",
      "source": [
        "![image.png](data:image/png;base64,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)"
      ],
      "metadata": {
        "id": "tiHrx8VAUZkQ"
      }
    }
  ]
}