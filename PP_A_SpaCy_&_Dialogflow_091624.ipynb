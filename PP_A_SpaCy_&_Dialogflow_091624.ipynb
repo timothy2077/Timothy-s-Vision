{
  "nbformat": 4,
  "nbformat_minor": 0,
  "metadata": {
    "colab": {
      "provenance": [],
      "gpuType": "T4",
      "authorship_tag": "ABX9TyNpkKk64bp9+m6SsGkON+J4",
      "include_colab_link": true
    },
    "kernelspec": {
      "name": "python3",
      "display_name": "Python 3"
    },
    "language_info": {
      "name": "python"
    },
    "accelerator": "GPU"
  },
  "cells": [
    {
      "cell_type": "markdown",
      "metadata": {
        "id": "view-in-github",
        "colab_type": "text"
      },
      "source": [
        "<a href=\"https://colab.research.google.com/github/timothy2077/Timothy-s-Vision/blob/main/PP_A_SpaCy_%26_Dialogflow_091624.ipynb\" target=\"_parent\"><img src=\"https://colab.research.google.com/assets/colab-badge.svg\" alt=\"Open In Colab\"/></a>"
      ]
    },
    {
      "cell_type": "markdown",
      "source": [
        "# 0. Dataset을 Colab에 업로드하기"
      ],
      "metadata": {
        "id": "qFiNqh21Cq86"
      }
    },
    {
      "cell_type": "code",
      "execution_count": 1,
      "metadata": {
        "colab": {
          "base_uri": "https://localhost:8080/",
          "height": 75
        },
        "id": "JS0dF_t8CEqF",
        "outputId": "d363c2fa-bf98-4c15-844b-0c0eff1fe1ed"
      },
      "outputs": [
        {
          "output_type": "display_data",
          "data": {
            "text/plain": [
              "<IPython.core.display.HTML object>"
            ],
            "text/html": [
              "\n",
              "     <input type=\"file\" id=\"files-962c1d8c-99c5-4bde-91bb-21b4340718fe\" name=\"files[]\" multiple disabled\n",
              "        style=\"border:none\" />\n",
              "     <output id=\"result-962c1d8c-99c5-4bde-91bb-21b4340718fe\">\n",
              "      Upload widget is only available when the cell has been executed in the\n",
              "      current browser session. Please rerun this cell to enable.\n",
              "      </output>\n",
              "      <script>// Copyright 2017 Google LLC\n",
              "//\n",
              "// Licensed under the Apache License, Version 2.0 (the \"License\");\n",
              "// you may not use this file except in compliance with the License.\n",
              "// You may obtain a copy of the License at\n",
              "//\n",
              "//      http://www.apache.org/licenses/LICENSE-2.0\n",
              "//\n",
              "// Unless required by applicable law or agreed to in writing, software\n",
              "// distributed under the License is distributed on an \"AS IS\" BASIS,\n",
              "// WITHOUT WARRANTIES OR CONDITIONS OF ANY KIND, either express or implied.\n",
              "// See the License for the specific language governing permissions and\n",
              "// limitations under the License.\n",
              "\n",
              "/**\n",
              " * @fileoverview Helpers for google.colab Python module.\n",
              " */\n",
              "(function(scope) {\n",
              "function span(text, styleAttributes = {}) {\n",
              "  const element = document.createElement('span');\n",
              "  element.textContent = text;\n",
              "  for (const key of Object.keys(styleAttributes)) {\n",
              "    element.style[key] = styleAttributes[key];\n",
              "  }\n",
              "  return element;\n",
              "}\n",
              "\n",
              "// Max number of bytes which will be uploaded at a time.\n",
              "const MAX_PAYLOAD_SIZE = 100 * 1024;\n",
              "\n",
              "function _uploadFiles(inputId, outputId) {\n",
              "  const steps = uploadFilesStep(inputId, outputId);\n",
              "  const outputElement = document.getElementById(outputId);\n",
              "  // Cache steps on the outputElement to make it available for the next call\n",
              "  // to uploadFilesContinue from Python.\n",
              "  outputElement.steps = steps;\n",
              "\n",
              "  return _uploadFilesContinue(outputId);\n",
              "}\n",
              "\n",
              "// This is roughly an async generator (not supported in the browser yet),\n",
              "// where there are multiple asynchronous steps and the Python side is going\n",
              "// to poll for completion of each step.\n",
              "// This uses a Promise to block the python side on completion of each step,\n",
              "// then passes the result of the previous step as the input to the next step.\n",
              "function _uploadFilesContinue(outputId) {\n",
              "  const outputElement = document.getElementById(outputId);\n",
              "  const steps = outputElement.steps;\n",
              "\n",
              "  const next = steps.next(outputElement.lastPromiseValue);\n",
              "  return Promise.resolve(next.value.promise).then((value) => {\n",
              "    // Cache the last promise value to make it available to the next\n",
              "    // step of the generator.\n",
              "    outputElement.lastPromiseValue = value;\n",
              "    return next.value.response;\n",
              "  });\n",
              "}\n",
              "\n",
              "/**\n",
              " * Generator function which is called between each async step of the upload\n",
              " * process.\n",
              " * @param {string} inputId Element ID of the input file picker element.\n",
              " * @param {string} outputId Element ID of the output display.\n",
              " * @return {!Iterable<!Object>} Iterable of next steps.\n",
              " */\n",
              "function* uploadFilesStep(inputId, outputId) {\n",
              "  const inputElement = document.getElementById(inputId);\n",
              "  inputElement.disabled = false;\n",
              "\n",
              "  const outputElement = document.getElementById(outputId);\n",
              "  outputElement.innerHTML = '';\n",
              "\n",
              "  const pickedPromise = new Promise((resolve) => {\n",
              "    inputElement.addEventListener('change', (e) => {\n",
              "      resolve(e.target.files);\n",
              "    });\n",
              "  });\n",
              "\n",
              "  const cancel = document.createElement('button');\n",
              "  inputElement.parentElement.appendChild(cancel);\n",
              "  cancel.textContent = 'Cancel upload';\n",
              "  const cancelPromise = new Promise((resolve) => {\n",
              "    cancel.onclick = () => {\n",
              "      resolve(null);\n",
              "    };\n",
              "  });\n",
              "\n",
              "  // Wait for the user to pick the files.\n",
              "  const files = yield {\n",
              "    promise: Promise.race([pickedPromise, cancelPromise]),\n",
              "    response: {\n",
              "      action: 'starting',\n",
              "    }\n",
              "  };\n",
              "\n",
              "  cancel.remove();\n",
              "\n",
              "  // Disable the input element since further picks are not allowed.\n",
              "  inputElement.disabled = true;\n",
              "\n",
              "  if (!files) {\n",
              "    return {\n",
              "      response: {\n",
              "        action: 'complete',\n",
              "      }\n",
              "    };\n",
              "  }\n",
              "\n",
              "  for (const file of files) {\n",
              "    const li = document.createElement('li');\n",
              "    li.append(span(file.name, {fontWeight: 'bold'}));\n",
              "    li.append(span(\n",
              "        `(${file.type || 'n/a'}) - ${file.size} bytes, ` +\n",
              "        `last modified: ${\n",
              "            file.lastModifiedDate ? file.lastModifiedDate.toLocaleDateString() :\n",
              "                                    'n/a'} - `));\n",
              "    const percent = span('0% done');\n",
              "    li.appendChild(percent);\n",
              "\n",
              "    outputElement.appendChild(li);\n",
              "\n",
              "    const fileDataPromise = new Promise((resolve) => {\n",
              "      const reader = new FileReader();\n",
              "      reader.onload = (e) => {\n",
              "        resolve(e.target.result);\n",
              "      };\n",
              "      reader.readAsArrayBuffer(file);\n",
              "    });\n",
              "    // Wait for the data to be ready.\n",
              "    let fileData = yield {\n",
              "      promise: fileDataPromise,\n",
              "      response: {\n",
              "        action: 'continue',\n",
              "      }\n",
              "    };\n",
              "\n",
              "    // Use a chunked sending to avoid message size limits. See b/62115660.\n",
              "    let position = 0;\n",
              "    do {\n",
              "      const length = Math.min(fileData.byteLength - position, MAX_PAYLOAD_SIZE);\n",
              "      const chunk = new Uint8Array(fileData, position, length);\n",
              "      position += length;\n",
              "\n",
              "      const base64 = btoa(String.fromCharCode.apply(null, chunk));\n",
              "      yield {\n",
              "        response: {\n",
              "          action: 'append',\n",
              "          file: file.name,\n",
              "          data: base64,\n",
              "        },\n",
              "      };\n",
              "\n",
              "      let percentDone = fileData.byteLength === 0 ?\n",
              "          100 :\n",
              "          Math.round((position / fileData.byteLength) * 100);\n",
              "      percent.textContent = `${percentDone}% done`;\n",
              "\n",
              "    } while (position < fileData.byteLength);\n",
              "  }\n",
              "\n",
              "  // All done.\n",
              "  yield {\n",
              "    response: {\n",
              "      action: 'complete',\n",
              "    }\n",
              "  };\n",
              "}\n",
              "\n",
              "scope.google = scope.google || {};\n",
              "scope.google.colab = scope.google.colab || {};\n",
              "scope.google.colab._files = {\n",
              "  _uploadFiles,\n",
              "  _uploadFilesContinue,\n",
              "};\n",
              "})(self);\n",
              "</script> "
            ]
          },
          "metadata": {}
        },
        {
          "output_type": "stream",
          "name": "stdout",
          "text": [
            "Saving BP_MHS_V1.csv to BP_MHS_V1.csv\n"
          ]
        }
      ],
      "source": [
        "from google.colab import files\n",
        "uploaded = files.upload()\n"
      ]
    },
    {
      "cell_type": "markdown",
      "source": [
        "# 1. spaCy 설치"
      ],
      "metadata": {
        "id": "P3hhnktZDIbr"
      }
    },
    {
      "cell_type": "code",
      "source": [
        "!pip install spacy"
      ],
      "metadata": {
        "colab": {
          "base_uri": "https://localhost:8080/"
        },
        "collapsed": true,
        "id": "PMMshHy0DlDa",
        "outputId": "3bcb9ddf-f0d0-4436-b268-4d45a1e0076c"
      },
      "execution_count": 2,
      "outputs": [
        {
          "output_type": "stream",
          "name": "stdout",
          "text": [
            "Requirement already satisfied: spacy in /usr/local/lib/python3.10/dist-packages (3.7.5)\n",
            "Requirement already satisfied: spacy-legacy<3.1.0,>=3.0.11 in /usr/local/lib/python3.10/dist-packages (from spacy) (3.0.12)\n",
            "Requirement already satisfied: spacy-loggers<2.0.0,>=1.0.0 in /usr/local/lib/python3.10/dist-packages (from spacy) (1.0.5)\n",
            "Requirement already satisfied: murmurhash<1.1.0,>=0.28.0 in /usr/local/lib/python3.10/dist-packages (from spacy) (1.0.10)\n",
            "Requirement already satisfied: cymem<2.1.0,>=2.0.2 in /usr/local/lib/python3.10/dist-packages (from spacy) (2.0.8)\n",
            "Requirement already satisfied: preshed<3.1.0,>=3.0.2 in /usr/local/lib/python3.10/dist-packages (from spacy) (3.0.9)\n",
            "Requirement already satisfied: thinc<8.3.0,>=8.2.2 in /usr/local/lib/python3.10/dist-packages (from spacy) (8.2.5)\n",
            "Requirement already satisfied: wasabi<1.2.0,>=0.9.1 in /usr/local/lib/python3.10/dist-packages (from spacy) (1.1.3)\n",
            "Requirement already satisfied: srsly<3.0.0,>=2.4.3 in /usr/local/lib/python3.10/dist-packages (from spacy) (2.4.8)\n",
            "Requirement already satisfied: catalogue<2.1.0,>=2.0.6 in /usr/local/lib/python3.10/dist-packages (from spacy) (2.0.10)\n",
            "Requirement already satisfied: weasel<0.5.0,>=0.1.0 in /usr/local/lib/python3.10/dist-packages (from spacy) (0.4.1)\n",
            "Requirement already satisfied: typer<1.0.0,>=0.3.0 in /usr/local/lib/python3.10/dist-packages (from spacy) (0.12.5)\n",
            "Requirement already satisfied: tqdm<5.0.0,>=4.38.0 in /usr/local/lib/python3.10/dist-packages (from spacy) (4.66.5)\n",
            "Requirement already satisfied: requests<3.0.0,>=2.13.0 in /usr/local/lib/python3.10/dist-packages (from spacy) (2.32.3)\n",
            "Requirement already satisfied: pydantic!=1.8,!=1.8.1,<3.0.0,>=1.7.4 in /usr/local/lib/python3.10/dist-packages (from spacy) (2.9.2)\n",
            "Requirement already satisfied: jinja2 in /usr/local/lib/python3.10/dist-packages (from spacy) (3.1.4)\n",
            "Requirement already satisfied: setuptools in /usr/local/lib/python3.10/dist-packages (from spacy) (75.1.0)\n",
            "Requirement already satisfied: packaging>=20.0 in /usr/local/lib/python3.10/dist-packages (from spacy) (24.1)\n",
            "Requirement already satisfied: langcodes<4.0.0,>=3.2.0 in /usr/local/lib/python3.10/dist-packages (from spacy) (3.4.1)\n",
            "Requirement already satisfied: numpy>=1.19.0 in /usr/local/lib/python3.10/dist-packages (from spacy) (1.26.4)\n",
            "Requirement already satisfied: language-data>=1.2 in /usr/local/lib/python3.10/dist-packages (from langcodes<4.0.0,>=3.2.0->spacy) (1.2.0)\n",
            "Requirement already satisfied: annotated-types>=0.6.0 in /usr/local/lib/python3.10/dist-packages (from pydantic!=1.8,!=1.8.1,<3.0.0,>=1.7.4->spacy) (0.7.0)\n",
            "Requirement already satisfied: pydantic-core==2.23.4 in /usr/local/lib/python3.10/dist-packages (from pydantic!=1.8,!=1.8.1,<3.0.0,>=1.7.4->spacy) (2.23.4)\n",
            "Requirement already satisfied: typing-extensions>=4.6.1 in /usr/local/lib/python3.10/dist-packages (from pydantic!=1.8,!=1.8.1,<3.0.0,>=1.7.4->spacy) (4.12.2)\n",
            "Requirement already satisfied: charset-normalizer<4,>=2 in /usr/local/lib/python3.10/dist-packages (from requests<3.0.0,>=2.13.0->spacy) (3.4.0)\n",
            "Requirement already satisfied: idna<4,>=2.5 in /usr/local/lib/python3.10/dist-packages (from requests<3.0.0,>=2.13.0->spacy) (3.10)\n",
            "Requirement already satisfied: urllib3<3,>=1.21.1 in /usr/local/lib/python3.10/dist-packages (from requests<3.0.0,>=2.13.0->spacy) (2.2.3)\n",
            "Requirement already satisfied: certifi>=2017.4.17 in /usr/local/lib/python3.10/dist-packages (from requests<3.0.0,>=2.13.0->spacy) (2024.8.30)\n",
            "Requirement already satisfied: blis<0.8.0,>=0.7.8 in /usr/local/lib/python3.10/dist-packages (from thinc<8.3.0,>=8.2.2->spacy) (0.7.11)\n",
            "Requirement already satisfied: confection<1.0.0,>=0.0.1 in /usr/local/lib/python3.10/dist-packages (from thinc<8.3.0,>=8.2.2->spacy) (0.1.5)\n",
            "Requirement already satisfied: click>=8.0.0 in /usr/local/lib/python3.10/dist-packages (from typer<1.0.0,>=0.3.0->spacy) (8.1.7)\n",
            "Requirement already satisfied: shellingham>=1.3.0 in /usr/local/lib/python3.10/dist-packages (from typer<1.0.0,>=0.3.0->spacy) (1.5.4)\n",
            "Requirement already satisfied: rich>=10.11.0 in /usr/local/lib/python3.10/dist-packages (from typer<1.0.0,>=0.3.0->spacy) (13.9.3)\n",
            "Requirement already satisfied: cloudpathlib<1.0.0,>=0.7.0 in /usr/local/lib/python3.10/dist-packages (from weasel<0.5.0,>=0.1.0->spacy) (0.20.0)\n",
            "Requirement already satisfied: smart-open<8.0.0,>=5.2.1 in /usr/local/lib/python3.10/dist-packages (from weasel<0.5.0,>=0.1.0->spacy) (7.0.5)\n",
            "Requirement already satisfied: MarkupSafe>=2.0 in /usr/local/lib/python3.10/dist-packages (from jinja2->spacy) (3.0.2)\n",
            "Requirement already satisfied: marisa-trie>=0.7.7 in /usr/local/lib/python3.10/dist-packages (from language-data>=1.2->langcodes<4.0.0,>=3.2.0->spacy) (1.2.1)\n",
            "Requirement already satisfied: markdown-it-py>=2.2.0 in /usr/local/lib/python3.10/dist-packages (from rich>=10.11.0->typer<1.0.0,>=0.3.0->spacy) (3.0.0)\n",
            "Requirement already satisfied: pygments<3.0.0,>=2.13.0 in /usr/local/lib/python3.10/dist-packages (from rich>=10.11.0->typer<1.0.0,>=0.3.0->spacy) (2.18.0)\n",
            "Requirement already satisfied: wrapt in /usr/local/lib/python3.10/dist-packages (from smart-open<8.0.0,>=5.2.1->weasel<0.5.0,>=0.1.0->spacy) (1.16.0)\n",
            "Requirement already satisfied: mdurl~=0.1 in /usr/local/lib/python3.10/dist-packages (from markdown-it-py>=2.2.0->rich>=10.11.0->typer<1.0.0,>=0.3.0->spacy) (0.1.2)\n"
          ]
        }
      ]
    },
    {
      "cell_type": "markdown",
      "source": [
        "# 2. 사용할 언어 모델 설치"
      ],
      "metadata": {
        "id": "KYG9R_g1D9Vb"
      }
    },
    {
      "cell_type": "code",
      "source": [
        "!python -m spacy download en_core_web_sm"
      ],
      "metadata": {
        "colab": {
          "base_uri": "https://localhost:8080/"
        },
        "collapsed": true,
        "id": "ttILlvQAD67E",
        "outputId": "187a49b1-3fbf-452c-b2cd-8501453310f8"
      },
      "execution_count": 3,
      "outputs": [
        {
          "output_type": "stream",
          "name": "stdout",
          "text": [
            "Collecting en-core-web-sm==3.7.1\n",
            "  Downloading https://github.com/explosion/spacy-models/releases/download/en_core_web_sm-3.7.1/en_core_web_sm-3.7.1-py3-none-any.whl (12.8 MB)\n",
            "\u001b[2K     \u001b[90m━━━━━━━━━━━━━━━━━━━━━━━━━━━━━━━━━━━━━━━━\u001b[0m \u001b[32m12.8/12.8 MB\u001b[0m \u001b[31m73.6 MB/s\u001b[0m eta \u001b[36m0:00:00\u001b[0m\n",
            "\u001b[?25hRequirement already satisfied: spacy<3.8.0,>=3.7.2 in /usr/local/lib/python3.10/dist-packages (from en-core-web-sm==3.7.1) (3.7.5)\n",
            "Requirement already satisfied: spacy-legacy<3.1.0,>=3.0.11 in /usr/local/lib/python3.10/dist-packages (from spacy<3.8.0,>=3.7.2->en-core-web-sm==3.7.1) (3.0.12)\n",
            "Requirement already satisfied: spacy-loggers<2.0.0,>=1.0.0 in /usr/local/lib/python3.10/dist-packages (from spacy<3.8.0,>=3.7.2->en-core-web-sm==3.7.1) (1.0.5)\n",
            "Requirement already satisfied: murmurhash<1.1.0,>=0.28.0 in /usr/local/lib/python3.10/dist-packages (from spacy<3.8.0,>=3.7.2->en-core-web-sm==3.7.1) (1.0.10)\n",
            "Requirement already satisfied: cymem<2.1.0,>=2.0.2 in /usr/local/lib/python3.10/dist-packages (from spacy<3.8.0,>=3.7.2->en-core-web-sm==3.7.1) (2.0.8)\n",
            "Requirement already satisfied: preshed<3.1.0,>=3.0.2 in /usr/local/lib/python3.10/dist-packages (from spacy<3.8.0,>=3.7.2->en-core-web-sm==3.7.1) (3.0.9)\n",
            "Requirement already satisfied: thinc<8.3.0,>=8.2.2 in /usr/local/lib/python3.10/dist-packages (from spacy<3.8.0,>=3.7.2->en-core-web-sm==3.7.1) (8.2.5)\n",
            "Requirement already satisfied: wasabi<1.2.0,>=0.9.1 in /usr/local/lib/python3.10/dist-packages (from spacy<3.8.0,>=3.7.2->en-core-web-sm==3.7.1) (1.1.3)\n",
            "Requirement already satisfied: srsly<3.0.0,>=2.4.3 in /usr/local/lib/python3.10/dist-packages (from spacy<3.8.0,>=3.7.2->en-core-web-sm==3.7.1) (2.4.8)\n",
            "Requirement already satisfied: catalogue<2.1.0,>=2.0.6 in /usr/local/lib/python3.10/dist-packages (from spacy<3.8.0,>=3.7.2->en-core-web-sm==3.7.1) (2.0.10)\n",
            "Requirement already satisfied: weasel<0.5.0,>=0.1.0 in /usr/local/lib/python3.10/dist-packages (from spacy<3.8.0,>=3.7.2->en-core-web-sm==3.7.1) (0.4.1)\n",
            "Requirement already satisfied: typer<1.0.0,>=0.3.0 in /usr/local/lib/python3.10/dist-packages (from spacy<3.8.0,>=3.7.2->en-core-web-sm==3.7.1) (0.12.5)\n",
            "Requirement already satisfied: tqdm<5.0.0,>=4.38.0 in /usr/local/lib/python3.10/dist-packages (from spacy<3.8.0,>=3.7.2->en-core-web-sm==3.7.1) (4.66.5)\n",
            "Requirement already satisfied: requests<3.0.0,>=2.13.0 in /usr/local/lib/python3.10/dist-packages (from spacy<3.8.0,>=3.7.2->en-core-web-sm==3.7.1) (2.32.3)\n",
            "Requirement already satisfied: pydantic!=1.8,!=1.8.1,<3.0.0,>=1.7.4 in /usr/local/lib/python3.10/dist-packages (from spacy<3.8.0,>=3.7.2->en-core-web-sm==3.7.1) (2.9.2)\n",
            "Requirement already satisfied: jinja2 in /usr/local/lib/python3.10/dist-packages (from spacy<3.8.0,>=3.7.2->en-core-web-sm==3.7.1) (3.1.4)\n",
            "Requirement already satisfied: setuptools in /usr/local/lib/python3.10/dist-packages (from spacy<3.8.0,>=3.7.2->en-core-web-sm==3.7.1) (75.1.0)\n",
            "Requirement already satisfied: packaging>=20.0 in /usr/local/lib/python3.10/dist-packages (from spacy<3.8.0,>=3.7.2->en-core-web-sm==3.7.1) (24.1)\n",
            "Requirement already satisfied: langcodes<4.0.0,>=3.2.0 in /usr/local/lib/python3.10/dist-packages (from spacy<3.8.0,>=3.7.2->en-core-web-sm==3.7.1) (3.4.1)\n",
            "Requirement already satisfied: numpy>=1.19.0 in /usr/local/lib/python3.10/dist-packages (from spacy<3.8.0,>=3.7.2->en-core-web-sm==3.7.1) (1.26.4)\n",
            "Requirement already satisfied: language-data>=1.2 in /usr/local/lib/python3.10/dist-packages (from langcodes<4.0.0,>=3.2.0->spacy<3.8.0,>=3.7.2->en-core-web-sm==3.7.1) (1.2.0)\n",
            "Requirement already satisfied: annotated-types>=0.6.0 in /usr/local/lib/python3.10/dist-packages (from pydantic!=1.8,!=1.8.1,<3.0.0,>=1.7.4->spacy<3.8.0,>=3.7.2->en-core-web-sm==3.7.1) (0.7.0)\n",
            "Requirement already satisfied: pydantic-core==2.23.4 in /usr/local/lib/python3.10/dist-packages (from pydantic!=1.8,!=1.8.1,<3.0.0,>=1.7.4->spacy<3.8.0,>=3.7.2->en-core-web-sm==3.7.1) (2.23.4)\n",
            "Requirement already satisfied: typing-extensions>=4.6.1 in /usr/local/lib/python3.10/dist-packages (from pydantic!=1.8,!=1.8.1,<3.0.0,>=1.7.4->spacy<3.8.0,>=3.7.2->en-core-web-sm==3.7.1) (4.12.2)\n",
            "Requirement already satisfied: charset-normalizer<4,>=2 in /usr/local/lib/python3.10/dist-packages (from requests<3.0.0,>=2.13.0->spacy<3.8.0,>=3.7.2->en-core-web-sm==3.7.1) (3.4.0)\n",
            "Requirement already satisfied: idna<4,>=2.5 in /usr/local/lib/python3.10/dist-packages (from requests<3.0.0,>=2.13.0->spacy<3.8.0,>=3.7.2->en-core-web-sm==3.7.1) (3.10)\n",
            "Requirement already satisfied: urllib3<3,>=1.21.1 in /usr/local/lib/python3.10/dist-packages (from requests<3.0.0,>=2.13.0->spacy<3.8.0,>=3.7.2->en-core-web-sm==3.7.1) (2.2.3)\n",
            "Requirement already satisfied: certifi>=2017.4.17 in /usr/local/lib/python3.10/dist-packages (from requests<3.0.0,>=2.13.0->spacy<3.8.0,>=3.7.2->en-core-web-sm==3.7.1) (2024.8.30)\n",
            "Requirement already satisfied: blis<0.8.0,>=0.7.8 in /usr/local/lib/python3.10/dist-packages (from thinc<8.3.0,>=8.2.2->spacy<3.8.0,>=3.7.2->en-core-web-sm==3.7.1) (0.7.11)\n",
            "Requirement already satisfied: confection<1.0.0,>=0.0.1 in /usr/local/lib/python3.10/dist-packages (from thinc<8.3.0,>=8.2.2->spacy<3.8.0,>=3.7.2->en-core-web-sm==3.7.1) (0.1.5)\n",
            "Requirement already satisfied: click>=8.0.0 in /usr/local/lib/python3.10/dist-packages (from typer<1.0.0,>=0.3.0->spacy<3.8.0,>=3.7.2->en-core-web-sm==3.7.1) (8.1.7)\n",
            "Requirement already satisfied: shellingham>=1.3.0 in /usr/local/lib/python3.10/dist-packages (from typer<1.0.0,>=0.3.0->spacy<3.8.0,>=3.7.2->en-core-web-sm==3.7.1) (1.5.4)\n",
            "Requirement already satisfied: rich>=10.11.0 in /usr/local/lib/python3.10/dist-packages (from typer<1.0.0,>=0.3.0->spacy<3.8.0,>=3.7.2->en-core-web-sm==3.7.1) (13.9.3)\n",
            "Requirement already satisfied: cloudpathlib<1.0.0,>=0.7.0 in /usr/local/lib/python3.10/dist-packages (from weasel<0.5.0,>=0.1.0->spacy<3.8.0,>=3.7.2->en-core-web-sm==3.7.1) (0.20.0)\n",
            "Requirement already satisfied: smart-open<8.0.0,>=5.2.1 in /usr/local/lib/python3.10/dist-packages (from weasel<0.5.0,>=0.1.0->spacy<3.8.0,>=3.7.2->en-core-web-sm==3.7.1) (7.0.5)\n",
            "Requirement already satisfied: MarkupSafe>=2.0 in /usr/local/lib/python3.10/dist-packages (from jinja2->spacy<3.8.0,>=3.7.2->en-core-web-sm==3.7.1) (3.0.2)\n",
            "Requirement already satisfied: marisa-trie>=0.7.7 in /usr/local/lib/python3.10/dist-packages (from language-data>=1.2->langcodes<4.0.0,>=3.2.0->spacy<3.8.0,>=3.7.2->en-core-web-sm==3.7.1) (1.2.1)\n",
            "Requirement already satisfied: markdown-it-py>=2.2.0 in /usr/local/lib/python3.10/dist-packages (from rich>=10.11.0->typer<1.0.0,>=0.3.0->spacy<3.8.0,>=3.7.2->en-core-web-sm==3.7.1) (3.0.0)\n",
            "Requirement already satisfied: pygments<3.0.0,>=2.13.0 in /usr/local/lib/python3.10/dist-packages (from rich>=10.11.0->typer<1.0.0,>=0.3.0->spacy<3.8.0,>=3.7.2->en-core-web-sm==3.7.1) (2.18.0)\n",
            "Requirement already satisfied: wrapt in /usr/local/lib/python3.10/dist-packages (from smart-open<8.0.0,>=5.2.1->weasel<0.5.0,>=0.1.0->spacy<3.8.0,>=3.7.2->en-core-web-sm==3.7.1) (1.16.0)\n",
            "Requirement already satisfied: mdurl~=0.1 in /usr/local/lib/python3.10/dist-packages (from markdown-it-py>=2.2.0->rich>=10.11.0->typer<1.0.0,>=0.3.0->spacy<3.8.0,>=3.7.2->en-core-web-sm==3.7.1) (0.1.2)\n",
            "\u001b[38;5;2m✔ Download and installation successful\u001b[0m\n",
            "You can now load the package via spacy.load('en_core_web_sm')\n",
            "\u001b[38;5;3m⚠ Restart to reload dependencies\u001b[0m\n",
            "If you are in a Jupyter or Colab notebook, you may need to restart Python in\n",
            "order to load all the package's dependencies. You can do this by selecting the\n",
            "'Restart kernel' or 'Restart runtime' option.\n"
          ]
        }
      ]
    },
    {
      "cell_type": "markdown",
      "source": [
        "# 2-1. 형태소 분석(POS Tagging)_Trial A"
      ],
      "metadata": {
        "id": "pqtOKDSlEmdw"
      }
    },
    {
      "cell_type": "code",
      "source": [
        "import spacy\n",
        "\n",
        "# en_core_web_sm 모델 로드\n",
        "nlp = spacy.load(\"en_core_web_sm\")\n",
        "\n",
        "# 텍스트 처리\n",
        "doc = nlp(\"Spacy는 자연어 처리를 위한 Python 라이브러리입니다.\")\n",
        "\n",
        "# 토큰화 예시\n",
        "for token in doc:\n",
        "    print(token.text, token.pos_, token.dep_)\n"
      ],
      "metadata": {
        "colab": {
          "base_uri": "https://localhost:8080/"
        },
        "id": "ILyyw-FrET3d",
        "outputId": "c786b94b-5107-408e-baad-9fd60f804878"
      },
      "execution_count": 4,
      "outputs": [
        {
          "output_type": "stream",
          "name": "stdout",
          "text": [
            "Spacy는 PROPN compound\n",
            "자연어 NOUN nsubj\n",
            "처리를 VERB ROOT\n",
            "위한 PROPN compound\n",
            "Python PROPN nsubj\n",
            "라이브러리입니다 ADJ dobj\n",
            ". PUNCT punct\n"
          ]
        }
      ]
    },
    {
      "cell_type": "markdown",
      "source": [
        "# 2-2. 형태소 분석_Tiral B"
      ],
      "metadata": {
        "id": "4t1T5tZrEuhs"
      }
    },
    {
      "cell_type": "code",
      "source": [
        "doc = nlp(\"i am going to participate in the IGM  breakfast meeting in Plaza hotel\")\n",
        "for token in doc:\n",
        "    print(token.text, token.pos_, token.dep_)"
      ],
      "metadata": {
        "colab": {
          "base_uri": "https://localhost:8080/"
        },
        "id": "RSFRoP4VEq9g",
        "outputId": "fe46b524-b75d-42b1-d87e-11c9113f8724"
      },
      "execution_count": 5,
      "outputs": [
        {
          "output_type": "stream",
          "name": "stdout",
          "text": [
            "i PRON nsubj\n",
            "am AUX aux\n",
            "going VERB ROOT\n",
            "to PART aux\n",
            "participate VERB xcomp\n",
            "in ADP prep\n",
            "the DET det\n",
            "IGM PROPN compound\n",
            "  SPACE dep\n",
            "breakfast NOUN compound\n",
            "meeting NOUN pobj\n",
            "in ADP prep\n",
            "Plaza PROPN compound\n",
            "hotel NOUN pobj\n"
          ]
        }
      ]
    },
    {
      "cell_type": "markdown",
      "source": [
        "# 2-3. 어간 추출(Stemming)과 표제어 추출(Lemmatization)"
      ],
      "metadata": {
        "id": "dwc_73tzGCY9"
      }
    },
    {
      "cell_type": "code",
      "source": [
        "# 분석할 텍스트\n",
        "doc = nlp(\"She was running and eating at same time. He loves to run and eat.\")\n",
        "\n",
        "# 표제어 추출 (lemmatization) 결과 출력\n",
        "for token in doc:\n",
        "    print(f\"Word: {token.text}, Lemma: {token.lemma_}\")"
      ],
      "metadata": {
        "colab": {
          "base_uri": "https://localhost:8080/"
        },
        "id": "gRwN2GiuGBmc",
        "outputId": "7a0e9713-d8ef-4b0a-a28d-5a5f7e14e9cb"
      },
      "execution_count": 6,
      "outputs": [
        {
          "output_type": "stream",
          "name": "stdout",
          "text": [
            "Word: She, Lemma: she\n",
            "Word: was, Lemma: be\n",
            "Word: running, Lemma: run\n",
            "Word: and, Lemma: and\n",
            "Word: eating, Lemma: eat\n",
            "Word: at, Lemma: at\n",
            "Word: same, Lemma: same\n",
            "Word: time, Lemma: time\n",
            "Word: ., Lemma: .\n",
            "Word: He, Lemma: he\n",
            "Word: loves, Lemma: love\n",
            "Word: to, Lemma: to\n",
            "Word: run, Lemma: run\n",
            "Word: and, Lemma: and\n",
            "Word: eat, Lemma: eat\n",
            "Word: ., Lemma: .\n"
          ]
        }
      ]
    },
    {
      "cell_type": "markdown",
      "source": [
        "# 2-4. Spacy는 표제어 추출을 지원하지만, 어간 추출은 직접 제공하지 않기 때문에 NLTK와 같은 라이브러리를 사용하기"
      ],
      "metadata": {
        "id": "uvj_h5llHdwn"
      }
    },
    {
      "cell_type": "code",
      "source": [
        "import nltk\n",
        "from nltk.stem import PorterStemmer\n",
        "\n",
        "# NLTK 어간 추출기 로드\n",
        "stemmer = PorterStemmer()\n",
        "\n",
        "# 분석할 텍스트\n",
        "words = [\"running\", \"eating\", \"runs\", \"eats\"]\n",
        "\n",
        "# 어간 추출 (stemming) 결과 출력\n",
        "for word in words:\n",
        "    print(f\"Word: {word}, Stem: {stemmer.stem(word)}\")\n"
      ],
      "metadata": {
        "colab": {
          "base_uri": "https://localhost:8080/"
        },
        "id": "3Tk_Xc6VHMEb",
        "outputId": "a8a15083-b776-4505-eabe-83e347652f92"
      },
      "execution_count": 7,
      "outputs": [
        {
          "output_type": "stream",
          "name": "stdout",
          "text": [
            "Word: running, Stem: run\n",
            "Word: eating, Stem: eat\n",
            "Word: runs, Stem: run\n",
            "Word: eats, Stem: eat\n"
          ]
        }
      ]
    },
    {
      "cell_type": "markdown",
      "source": [
        "# 2-5. 개체명 인식(Named-Entity Recognition)\n",
        "###  GPE는 국가, 도시와 같은 지리적 영역을 나타내는 라벨"
      ],
      "metadata": {
        "id": "cmqUW_-pHlIQ"
      }
    },
    {
      "cell_type": "code",
      "source": [
        "# 분석할 텍스트 (지리적 개체 포함)\n",
        "text = \"Google was founded in California, and its headquarters are located in Mountain View.\"\n",
        "\n",
        "# 텍스트 처리\n",
        "doc = nlp(text)\n",
        "\n",
        "# 개체명 인식 결과 출력 (지리적 개체를 포함)\n",
        "for ent in doc.ents:\n",
        "    print(f\"Entity: {ent.text}, Label: {ent.label_}\")\n",
        "\n",
        "# 지리적 개체(GPE)만 필터링하여 출력\n",
        "print(\"\\nGeopolitical Entities (GPE):\")\n",
        "for ent in doc.ents:\n",
        "    if ent.label_ == \"GPE\":  # GPE는 지리적 개체를 나타냄\n",
        "        print(f\"Geopolitical Entity: {ent.text}\")"
      ],
      "metadata": {
        "colab": {
          "base_uri": "https://localhost:8080/"
        },
        "id": "acQG5Qm3GwrI",
        "outputId": "602a79e1-1ed7-4272-8ad0-ad7ce606a492"
      },
      "execution_count": 8,
      "outputs": [
        {
          "output_type": "stream",
          "name": "stdout",
          "text": [
            "Entity: Google, Label: ORG\n",
            "Entity: California, Label: GPE\n",
            "Entity: Mountain View, Label: GPE\n",
            "\n",
            "Geopolitical Entities (GPE):\n",
            "Geopolitical Entity: California\n",
            "Geopolitical Entity: Mountain View\n"
          ]
        }
      ]
    },
    {
      "cell_type": "markdown",
      "source": [
        "# 2-6. 불용어(Stop Words)"
      ],
      "metadata": {
        "id": "BZurOxp-I-g4"
      }
    },
    {
      "cell_type": "code",
      "source": [
        "# 분석할 텍스트\n",
        "text = \"This is a simple sentence to demonstrate how to detect stop words.\"\n",
        "\n",
        "# 텍스트 처리\n",
        "doc = nlp(text)\n",
        "\n",
        "# 각 단어가 불용어인지 여부를 출력\n",
        "for token in doc:\n",
        "    print(f\"Word: {token.text}, Is stop word: {token.is_stop}\")"
      ],
      "metadata": {
        "colab": {
          "base_uri": "https://localhost:8080/"
        },
        "id": "932ute7QIwry",
        "outputId": "96d319eb-3476-4cdc-985c-c48797971dd0"
      },
      "execution_count": 9,
      "outputs": [
        {
          "output_type": "stream",
          "name": "stdout",
          "text": [
            "Word: This, Is stop word: True\n",
            "Word: is, Is stop word: True\n",
            "Word: a, Is stop word: True\n",
            "Word: simple, Is stop word: False\n",
            "Word: sentence, Is stop word: False\n",
            "Word: to, Is stop word: True\n",
            "Word: demonstrate, Is stop word: False\n",
            "Word: how, Is stop word: True\n",
            "Word: to, Is stop word: True\n",
            "Word: detect, Is stop word: False\n",
            "Word: stop, Is stop word: False\n",
            "Word: words, Is stop word: False\n",
            "Word: ., Is stop word: False\n"
          ]
        }
      ]
    },
    {
      "cell_type": "markdown",
      "source": [
        "# 2-7. 의존 구문 분석(Dependancy Parsing)"
      ],
      "metadata": {
        "id": "7EX-G0SqJkA8"
      }
    },
    {
      "cell_type": "code",
      "source": [
        "# 분석할 텍스트\n",
        "text = \"SpaCy is an excellent library for natural language processing.\"\n",
        "\n",
        "# 텍스트 처리\n",
        "doc = nlp(text)\n",
        "\n",
        "# 각 단어에 대해 의존 구문 분석 결과 출력\n",
        "for token in doc:\n",
        "    print(f\"Word: {token.text}, POS: {token.pos_}, Dependency: {token.dep_}, Head: {token.head.text}\")"
      ],
      "metadata": {
        "colab": {
          "base_uri": "https://localhost:8080/"
        },
        "id": "ISy6HrMtJeXV",
        "outputId": "7afda66f-9b50-4409-99b2-837e99ab4a87"
      },
      "execution_count": 10,
      "outputs": [
        {
          "output_type": "stream",
          "name": "stdout",
          "text": [
            "Word: SpaCy, POS: PROPN, Dependency: nsubj, Head: is\n",
            "Word: is, POS: AUX, Dependency: ROOT, Head: is\n",
            "Word: an, POS: DET, Dependency: det, Head: library\n",
            "Word: excellent, POS: ADJ, Dependency: amod, Head: library\n",
            "Word: library, POS: NOUN, Dependency: attr, Head: is\n",
            "Word: for, POS: ADP, Dependency: prep, Head: library\n",
            "Word: natural, POS: ADJ, Dependency: amod, Head: language\n",
            "Word: language, POS: NOUN, Dependency: compound, Head: processing\n",
            "Word: processing, POS: NOUN, Dependency: pobj, Head: for\n",
            "Word: ., POS: PUNCT, Dependency: punct, Head: is\n"
          ]
        }
      ]
    },
    {
      "cell_type": "markdown",
      "source": [
        "### A. token.ancestors 속성을 사용하여 해당 단어의 조상을 확인하기"
      ],
      "metadata": {
        "id": "qeH8D686Keke"
      }
    },
    {
      "cell_type": "code",
      "source": [
        "import spacy\n",
        "\n",
        "# en_core_web_sm 모델 로드\n",
        "nlp = spacy.load(\"en_core_web_sm\")\n",
        "\n",
        "# 분석할 텍스트\n",
        "text = \"The quick brown fox jumps over the lazy dog.\"\n",
        "\n",
        "# 텍스트 처리\n",
        "doc = nlp(text)\n",
        "\n",
        "# 특정 단어와 그 조상을 확인 (예: 'fox'의 조상)\n",
        "target_word = \"fox\"\n",
        "target_token = None\n",
        "\n",
        "# 'fox'에 해당하는 토큰 찾기\n",
        "for token in doc:\n",
        "    if token.text == target_word:\n",
        "        target_token = token\n",
        "        break\n",
        "\n",
        "# 'fox'의 조상 출력\n",
        "if target_token:\n",
        "    print(f\"Ancestors of '{target_word}':\")\n",
        "    for ancestor in target_token.ancestors:\n",
        "        print(f\"- {ancestor.text}\")\n",
        "else:\n",
        "    print(f\"'{target_word}' not found in the text.\")\n"
      ],
      "metadata": {
        "colab": {
          "base_uri": "https://localhost:8080/"
        },
        "id": "rhwQHa2_KU-t",
        "outputId": "f2431ea2-1230-475e-f454-e31312392e6d"
      },
      "execution_count": 11,
      "outputs": [
        {
          "output_type": "stream",
          "name": "stderr",
          "text": [
            "/usr/local/lib/python3.10/dist-packages/spacy/util.py:1740: UserWarning: [W111] Jupyter notebook detected: if using `prefer_gpu()` or `require_gpu()`, include it in the same cell right before `spacy.load()` to ensure that the model is loaded on the correct device. More information: http://spacy.io/usage/v3#jupyter-notebook-gpu\n",
            "  warnings.warn(Warnings.W111)\n"
          ]
        },
        {
          "output_type": "stream",
          "name": "stdout",
          "text": [
            "Ancestors of 'fox':\n",
            "- jumps\n"
          ]
        }
      ]
    },
    {
      "cell_type": "markdown",
      "source": [
        "### B. token.children 속성을 사용하여 해당 단어의 자식을 확인하기"
      ],
      "metadata": {
        "id": "NPHQZp69KjF2"
      }
    },
    {
      "cell_type": "code",
      "source": [
        "# 분석할 텍스트\n",
        "text = \"The quick brown fox jumps over the lazy dog.\"\n",
        "\n",
        "# 텍스트 처리\n",
        "doc = nlp(text)\n",
        "\n",
        "# 특정 단어 ('jumps')의 자식 단어들을 확인\n",
        "target_word = \"jumps\"\n",
        "target_token = None\n",
        "\n",
        "# 'jumps'에 해당하는 토큰 찾기\n",
        "for token in doc:\n",
        "    if token.text == target_word:\n",
        "        target_token = token\n",
        "        break\n",
        "\n",
        "# 'jumps'의 자식 단어들을 출력\n",
        "if target_token:\n",
        "    print(f\"Children of '{target_word}':\")\n",
        "    for child in target_token.children:\n",
        "        print(f\"- {child.text} (Dependency: {child.dep_})\")\n",
        "else:\n",
        "    print(f\"'{target_word}' not found in the text.\")"
      ],
      "metadata": {
        "colab": {
          "base_uri": "https://localhost:8080/"
        },
        "id": "bbLXnGlYLVmu",
        "outputId": "0debf5dd-ad3b-468b-8ab6-43f8af369b87"
      },
      "execution_count": 12,
      "outputs": [
        {
          "output_type": "stream",
          "name": "stdout",
          "text": [
            "Children of 'jumps':\n",
            "- fox (Dependency: nsubj)\n",
            "- over (Dependency: prep)\n",
            "- . (Dependency: punct)\n"
          ]
        }
      ]
    },
    {
      "cell_type": "markdown",
      "source": [
        "# 2-8. 의존 구문 분석의 인터랙티브(Interactive) 시각화"
      ],
      "metadata": {
        "id": "BmKxU10ELeRW"
      }
    },
    {
      "cell_type": "code",
      "source": [
        "import spacy\n",
        "from spacy import displacy\n",
        "\n",
        "# en_core_web_sm 모델 로드\n",
        "nlp = spacy.load(\"en_core_web_sm\")\n",
        "\n",
        "# 분석할 텍스트\n",
        "text = \"The quick brown fox jumps over the lazy dog.\"\n",
        "\n",
        "# 텍스트 처리\n",
        "doc = nlp(text)\n",
        "\n",
        "# Displacy 시각화 서버 실행 (localhost:5009)\n",
        "displacy.serve(doc, style=\"dep\", port=5009)\n"
      ],
      "metadata": {
        "colab": {
          "base_uri": "https://localhost:8080/",
          "height": 672
        },
        "id": "mrpW_thzLdrn",
        "outputId": "57b98f60-70d6-4a3e-ceff-a7f0cd5e0f9f"
      },
      "execution_count": 13,
      "outputs": [
        {
          "output_type": "stream",
          "name": "stderr",
          "text": [
            "/usr/local/lib/python3.10/dist-packages/spacy/displacy/__init__.py:106: UserWarning: [W011] It looks like you're calling displacy.serve from within a Jupyter notebook or a similar environment. This likely means you're already running a local web server, so there's no need to make displaCy start another one. Instead, you should be able to replace displacy.serve with displacy.render to show the visualization.\n",
            "  warnings.warn(Warnings.W011)\n"
          ]
        },
        {
          "output_type": "display_data",
          "data": {
            "text/plain": [
              "<IPython.core.display.HTML object>"
            ],
            "text/html": [
              "<span class=\"tex2jax_ignore\"><!DOCTYPE html>\n",
              "<html lang=\"en\">\n",
              "    <head>\n",
              "        <title>displaCy</title>\n",
              "    </head>\n",
              "\n",
              "    <body style=\"font-size: 16px; font-family: -apple-system, BlinkMacSystemFont, 'Segoe UI', Helvetica, Arial, sans-serif, 'Apple Color Emoji', 'Segoe UI Emoji', 'Segoe UI Symbol'; padding: 4rem 2rem; direction: ltr\">\n",
              "<figure style=\"margin-bottom: 6rem\">\n",
              "<svg xmlns=\"http://www.w3.org/2000/svg\" xmlns:xlink=\"http://www.w3.org/1999/xlink\" xml:lang=\"en\" id=\"f1c4310b4f2b47d89297b4e85cfc479f-0\" class=\"displacy\" width=\"1625\" height=\"399.5\" direction=\"ltr\" style=\"max-width: none; height: 399.5px; color: #000000; background: #ffffff; font-family: Arial; direction: ltr\">\n",
              "<text class=\"displacy-token\" fill=\"currentColor\" text-anchor=\"middle\" y=\"309.5\">\n",
              "    <tspan class=\"displacy-word\" fill=\"currentColor\" x=\"50\">The</tspan>\n",
              "    <tspan class=\"displacy-tag\" dy=\"2em\" fill=\"currentColor\" x=\"50\">DET</tspan>\n",
              "</text>\n",
              "\n",
              "<text class=\"displacy-token\" fill=\"currentColor\" text-anchor=\"middle\" y=\"309.5\">\n",
              "    <tspan class=\"displacy-word\" fill=\"currentColor\" x=\"225\">quick</tspan>\n",
              "    <tspan class=\"displacy-tag\" dy=\"2em\" fill=\"currentColor\" x=\"225\">ADJ</tspan>\n",
              "</text>\n",
              "\n",
              "<text class=\"displacy-token\" fill=\"currentColor\" text-anchor=\"middle\" y=\"309.5\">\n",
              "    <tspan class=\"displacy-word\" fill=\"currentColor\" x=\"400\">brown</tspan>\n",
              "    <tspan class=\"displacy-tag\" dy=\"2em\" fill=\"currentColor\" x=\"400\">ADJ</tspan>\n",
              "</text>\n",
              "\n",
              "<text class=\"displacy-token\" fill=\"currentColor\" text-anchor=\"middle\" y=\"309.5\">\n",
              "    <tspan class=\"displacy-word\" fill=\"currentColor\" x=\"575\">fox</tspan>\n",
              "    <tspan class=\"displacy-tag\" dy=\"2em\" fill=\"currentColor\" x=\"575\">NOUN</tspan>\n",
              "</text>\n",
              "\n",
              "<text class=\"displacy-token\" fill=\"currentColor\" text-anchor=\"middle\" y=\"309.5\">\n",
              "    <tspan class=\"displacy-word\" fill=\"currentColor\" x=\"750\">jumps</tspan>\n",
              "    <tspan class=\"displacy-tag\" dy=\"2em\" fill=\"currentColor\" x=\"750\">VERB</tspan>\n",
              "</text>\n",
              "\n",
              "<text class=\"displacy-token\" fill=\"currentColor\" text-anchor=\"middle\" y=\"309.5\">\n",
              "    <tspan class=\"displacy-word\" fill=\"currentColor\" x=\"925\">over</tspan>\n",
              "    <tspan class=\"displacy-tag\" dy=\"2em\" fill=\"currentColor\" x=\"925\">ADP</tspan>\n",
              "</text>\n",
              "\n",
              "<text class=\"displacy-token\" fill=\"currentColor\" text-anchor=\"middle\" y=\"309.5\">\n",
              "    <tspan class=\"displacy-word\" fill=\"currentColor\" x=\"1100\">the</tspan>\n",
              "    <tspan class=\"displacy-tag\" dy=\"2em\" fill=\"currentColor\" x=\"1100\">DET</tspan>\n",
              "</text>\n",
              "\n",
              "<text class=\"displacy-token\" fill=\"currentColor\" text-anchor=\"middle\" y=\"309.5\">\n",
              "    <tspan class=\"displacy-word\" fill=\"currentColor\" x=\"1275\">lazy</tspan>\n",
              "    <tspan class=\"displacy-tag\" dy=\"2em\" fill=\"currentColor\" x=\"1275\">ADJ</tspan>\n",
              "</text>\n",
              "\n",
              "<text class=\"displacy-token\" fill=\"currentColor\" text-anchor=\"middle\" y=\"309.5\">\n",
              "    <tspan class=\"displacy-word\" fill=\"currentColor\" x=\"1450\">dog.</tspan>\n",
              "    <tspan class=\"displacy-tag\" dy=\"2em\" fill=\"currentColor\" x=\"1450\">NOUN</tspan>\n",
              "</text>\n",
              "\n",
              "<g class=\"displacy-arrow\">\n",
              "    <path class=\"displacy-arc\" id=\"arrow-f1c4310b4f2b47d89297b4e85cfc479f-0-0\" stroke-width=\"2px\" d=\"M70,264.5 C70,2.0 575.0,2.0 575.0,264.5\" fill=\"none\" stroke=\"currentColor\"/>\n",
              "    <text dy=\"1.25em\" style=\"font-size: 0.8em; letter-spacing: 1px\">\n",
              "        <textPath xlink:href=\"#arrow-f1c4310b4f2b47d89297b4e85cfc479f-0-0\" class=\"displacy-label\" startOffset=\"50%\" side=\"left\" fill=\"currentColor\" text-anchor=\"middle\">det</textPath>\n",
              "    </text>\n",
              "    <path class=\"displacy-arrowhead\" d=\"M70,266.5 L62,254.5 78,254.5\" fill=\"currentColor\"/>\n",
              "</g>\n",
              "\n",
              "<g class=\"displacy-arrow\">\n",
              "    <path class=\"displacy-arc\" id=\"arrow-f1c4310b4f2b47d89297b4e85cfc479f-0-1\" stroke-width=\"2px\" d=\"M245,264.5 C245,89.5 570.0,89.5 570.0,264.5\" fill=\"none\" stroke=\"currentColor\"/>\n",
              "    <text dy=\"1.25em\" style=\"font-size: 0.8em; letter-spacing: 1px\">\n",
              "        <textPath xlink:href=\"#arrow-f1c4310b4f2b47d89297b4e85cfc479f-0-1\" class=\"displacy-label\" startOffset=\"50%\" side=\"left\" fill=\"currentColor\" text-anchor=\"middle\">amod</textPath>\n",
              "    </text>\n",
              "    <path class=\"displacy-arrowhead\" d=\"M245,266.5 L237,254.5 253,254.5\" fill=\"currentColor\"/>\n",
              "</g>\n",
              "\n",
              "<g class=\"displacy-arrow\">\n",
              "    <path class=\"displacy-arc\" id=\"arrow-f1c4310b4f2b47d89297b4e85cfc479f-0-2\" stroke-width=\"2px\" d=\"M420,264.5 C420,177.0 565.0,177.0 565.0,264.5\" fill=\"none\" stroke=\"currentColor\"/>\n",
              "    <text dy=\"1.25em\" style=\"font-size: 0.8em; letter-spacing: 1px\">\n",
              "        <textPath xlink:href=\"#arrow-f1c4310b4f2b47d89297b4e85cfc479f-0-2\" class=\"displacy-label\" startOffset=\"50%\" side=\"left\" fill=\"currentColor\" text-anchor=\"middle\">amod</textPath>\n",
              "    </text>\n",
              "    <path class=\"displacy-arrowhead\" d=\"M420,266.5 L412,254.5 428,254.5\" fill=\"currentColor\"/>\n",
              "</g>\n",
              "\n",
              "<g class=\"displacy-arrow\">\n",
              "    <path class=\"displacy-arc\" id=\"arrow-f1c4310b4f2b47d89297b4e85cfc479f-0-3\" stroke-width=\"2px\" d=\"M595,264.5 C595,177.0 740.0,177.0 740.0,264.5\" fill=\"none\" stroke=\"currentColor\"/>\n",
              "    <text dy=\"1.25em\" style=\"font-size: 0.8em; letter-spacing: 1px\">\n",
              "        <textPath xlink:href=\"#arrow-f1c4310b4f2b47d89297b4e85cfc479f-0-3\" class=\"displacy-label\" startOffset=\"50%\" side=\"left\" fill=\"currentColor\" text-anchor=\"middle\">nsubj</textPath>\n",
              "    </text>\n",
              "    <path class=\"displacy-arrowhead\" d=\"M595,266.5 L587,254.5 603,254.5\" fill=\"currentColor\"/>\n",
              "</g>\n",
              "\n",
              "<g class=\"displacy-arrow\">\n",
              "    <path class=\"displacy-arc\" id=\"arrow-f1c4310b4f2b47d89297b4e85cfc479f-0-4\" stroke-width=\"2px\" d=\"M770,264.5 C770,177.0 915.0,177.0 915.0,264.5\" fill=\"none\" stroke=\"currentColor\"/>\n",
              "    <text dy=\"1.25em\" style=\"font-size: 0.8em; letter-spacing: 1px\">\n",
              "        <textPath xlink:href=\"#arrow-f1c4310b4f2b47d89297b4e85cfc479f-0-4\" class=\"displacy-label\" startOffset=\"50%\" side=\"left\" fill=\"currentColor\" text-anchor=\"middle\">prep</textPath>\n",
              "    </text>\n",
              "    <path class=\"displacy-arrowhead\" d=\"M915.0,266.5 L923.0,254.5 907.0,254.5\" fill=\"currentColor\"/>\n",
              "</g>\n",
              "\n",
              "<g class=\"displacy-arrow\">\n",
              "    <path class=\"displacy-arc\" id=\"arrow-f1c4310b4f2b47d89297b4e85cfc479f-0-5\" stroke-width=\"2px\" d=\"M1120,264.5 C1120,89.5 1445.0,89.5 1445.0,264.5\" fill=\"none\" stroke=\"currentColor\"/>\n",
              "    <text dy=\"1.25em\" style=\"font-size: 0.8em; letter-spacing: 1px\">\n",
              "        <textPath xlink:href=\"#arrow-f1c4310b4f2b47d89297b4e85cfc479f-0-5\" class=\"displacy-label\" startOffset=\"50%\" side=\"left\" fill=\"currentColor\" text-anchor=\"middle\">det</textPath>\n",
              "    </text>\n",
              "    <path class=\"displacy-arrowhead\" d=\"M1120,266.5 L1112,254.5 1128,254.5\" fill=\"currentColor\"/>\n",
              "</g>\n",
              "\n",
              "<g class=\"displacy-arrow\">\n",
              "    <path class=\"displacy-arc\" id=\"arrow-f1c4310b4f2b47d89297b4e85cfc479f-0-6\" stroke-width=\"2px\" d=\"M1295,264.5 C1295,177.0 1440.0,177.0 1440.0,264.5\" fill=\"none\" stroke=\"currentColor\"/>\n",
              "    <text dy=\"1.25em\" style=\"font-size: 0.8em; letter-spacing: 1px\">\n",
              "        <textPath xlink:href=\"#arrow-f1c4310b4f2b47d89297b4e85cfc479f-0-6\" class=\"displacy-label\" startOffset=\"50%\" side=\"left\" fill=\"currentColor\" text-anchor=\"middle\">amod</textPath>\n",
              "    </text>\n",
              "    <path class=\"displacy-arrowhead\" d=\"M1295,266.5 L1287,254.5 1303,254.5\" fill=\"currentColor\"/>\n",
              "</g>\n",
              "\n",
              "<g class=\"displacy-arrow\">\n",
              "    <path class=\"displacy-arc\" id=\"arrow-f1c4310b4f2b47d89297b4e85cfc479f-0-7\" stroke-width=\"2px\" d=\"M945,264.5 C945,2.0 1450.0,2.0 1450.0,264.5\" fill=\"none\" stroke=\"currentColor\"/>\n",
              "    <text dy=\"1.25em\" style=\"font-size: 0.8em; letter-spacing: 1px\">\n",
              "        <textPath xlink:href=\"#arrow-f1c4310b4f2b47d89297b4e85cfc479f-0-7\" class=\"displacy-label\" startOffset=\"50%\" side=\"left\" fill=\"currentColor\" text-anchor=\"middle\">pobj</textPath>\n",
              "    </text>\n",
              "    <path class=\"displacy-arrowhead\" d=\"M1450.0,266.5 L1458.0,254.5 1442.0,254.5\" fill=\"currentColor\"/>\n",
              "</g>\n",
              "</svg>\n",
              "</figure>\n",
              "</body>\n",
              "</html></span>"
            ]
          },
          "metadata": {}
        },
        {
          "output_type": "stream",
          "name": "stdout",
          "text": [
            "\n",
            "Using the 'dep' visualizer\n",
            "Serving on http://0.0.0.0:5009 ...\n",
            "\n",
            "Shutting down server on port 5009.\n"
          ]
        }
      ]
    },
    {
      "cell_type": "markdown",
      "source": [
        "# 2-9. Noun Chunks(명사 구) 확인하기"
      ],
      "metadata": {
        "id": "JkSrDP8SO1Py"
      }
    },
    {
      "cell_type": "code",
      "source": [
        "# 분석할 텍스트\n",
        "text = \"The quick brown fox jumps over the lazy dog.\"\n",
        "\n",
        "# 텍스트를 spaCy 문서로 변환\n",
        "doc = nlp(text)\n",
        "\n",
        "# 명사 구 추출\n",
        "noun_chunks = list(doc.noun_chunks)\n",
        "\n",
        "# 명사 구 출력\n",
        "for chunk in noun_chunks:\n",
        "    print(chunk.text)"
      ],
      "metadata": {
        "id": "IzNbsJCVPCLP",
        "colab": {
          "base_uri": "https://localhost:8080/"
        },
        "outputId": "1cab203f-4269-4f64-dd6d-fe128e84c9ce"
      },
      "execution_count": 14,
      "outputs": [
        {
          "output_type": "stream",
          "name": "stdout",
          "text": [
            "The quick brown fox\n",
            "the lazy dog\n"
          ]
        }
      ]
    },
    {
      "cell_type": "markdown",
      "source": [
        "# 2-10. 유사도 확인(Finding Similarity)\n",
        "### GloVe (Global Vectors for Word Representation)는 단어 벡터 생성하기"
      ],
      "metadata": {
        "id": "kU-3OlcjVm1t"
      }
    },
    {
      "cell_type": "code",
      "source": [
        "pip install gensim\n"
      ],
      "metadata": {
        "colab": {
          "base_uri": "https://localhost:8080/"
        },
        "id": "DYzdY9xFWlV_",
        "outputId": "c064bf47-dc17-4dd8-f634-3e6b50fbaead"
      },
      "execution_count": 15,
      "outputs": [
        {
          "output_type": "stream",
          "name": "stdout",
          "text": [
            "Requirement already satisfied: gensim in /usr/local/lib/python3.10/dist-packages (4.3.3)\n",
            "Requirement already satisfied: numpy<2.0,>=1.18.5 in /usr/local/lib/python3.10/dist-packages (from gensim) (1.26.4)\n",
            "Requirement already satisfied: scipy<1.14.0,>=1.7.0 in /usr/local/lib/python3.10/dist-packages (from gensim) (1.13.1)\n",
            "Requirement already satisfied: smart-open>=1.8.1 in /usr/local/lib/python3.10/dist-packages (from gensim) (7.0.5)\n",
            "Requirement already satisfied: wrapt in /usr/local/lib/python3.10/dist-packages (from smart-open>=1.8.1->gensim) (1.16.0)\n"
          ]
        }
      ]
    },
    {
      "cell_type": "code",
      "source": [
        "pip install requests\n"
      ],
      "metadata": {
        "colab": {
          "base_uri": "https://localhost:8080/"
        },
        "id": "36_dL8UyXEDi",
        "outputId": "38342248-3f1b-48c8-9b50-9b3204e1fdf0"
      },
      "execution_count": 16,
      "outputs": [
        {
          "output_type": "stream",
          "name": "stdout",
          "text": [
            "Requirement already satisfied: requests in /usr/local/lib/python3.10/dist-packages (2.32.3)\n",
            "Requirement already satisfied: charset-normalizer<4,>=2 in /usr/local/lib/python3.10/dist-packages (from requests) (3.4.0)\n",
            "Requirement already satisfied: idna<4,>=2.5 in /usr/local/lib/python3.10/dist-packages (from requests) (3.10)\n",
            "Requirement already satisfied: urllib3<3,>=1.21.1 in /usr/local/lib/python3.10/dist-packages (from requests) (2.2.3)\n",
            "Requirement already satisfied: certifi>=2017.4.17 in /usr/local/lib/python3.10/dist-packages (from requests) (2024.8.30)\n"
          ]
        }
      ]
    },
    {
      "cell_type": "code",
      "source": [
        "import requests\n",
        "import zipfile\n",
        "import os\n",
        "\n",
        "def download_and_extract_glove(url, extract_to='.'):\n",
        "    # GloVe ZIP 파일 다운로드\n",
        "    response = requests.get(url)\n",
        "    zip_file_path = 'glove.6B.zip'\n",
        "\n",
        "    with open(zip_file_path, 'wb') as file:\n",
        "        file.write(response.content)\n",
        "\n",
        "    print(\"Download complete. Extracting files...\")\n",
        "\n",
        "    # 압축 해제\n",
        "    with zipfile.ZipFile(zip_file_path, 'r') as zip_ref:\n",
        "        zip_ref.extractall(extract_to)\n",
        "\n",
        "    # 압축 해제 후 파일 목록 출력\n",
        "    extracted_files = os.listdir(extract_to)\n",
        "    print(f\"Files extracted to '{extract_to}':\")\n",
        "    for file_name in extracted_files:\n",
        "        print(file_name)\n",
        "\n",
        "    # 압축 파일 삭제 (선택 사항)\n",
        "    os.remove(zip_file_path)\n",
        "\n",
        "# GloVe ZIP 파일 URL\n",
        "glove_url = 'http://nlp.stanford.edu/data/glove.6B.zip'\n",
        "\n",
        "# 다운로드 및 압축 해제\n",
        "download_and_extract_glove(glove_url, '.')\n",
        "\n",
        "# 압축 해제 후 glove.6B.50d.txt 파일의 경로\n",
        "glove_file_path = 'glove.6B.50d.txt'\n",
        "print(f\"GloVe file path: {glove_file_path}\")\n"
      ],
      "metadata": {
        "colab": {
          "base_uri": "https://localhost:8080/"
        },
        "id": "A8hfx3CeXNre",
        "outputId": "469e4cee-33a9-4619-d803-b3494f2e314e"
      },
      "execution_count": 17,
      "outputs": [
        {
          "output_type": "stream",
          "name": "stdout",
          "text": [
            "Download complete. Extracting files...\n",
            "Files extracted to '.':\n",
            ".config\n",
            "glove.6B.50d.txt\n",
            "BP_MHS_V1.csv\n",
            "glove.6B.300d.txt\n",
            "glove.6B.zip\n",
            "glove.6B.100d.txt\n",
            "glove.6B.200d.txt\n",
            "sample_data\n",
            "GloVe file path: glove.6B.50d.txt\n"
          ]
        }
      ]
    },
    {
      "cell_type": "code",
      "source": [
        "# Process the text\n",
        "doc = nlp(\"How are you doing today?\")\n",
        "\n",
        "# Iterate over the tokens and print the text and the first 5 elements of the vector\n",
        "for token in doc:\n",
        "  print([token.text, token.vector[:5]])"
      ],
      "metadata": {
        "colab": {
          "base_uri": "https://localhost:8080/"
        },
        "id": "gUwsR0H7Ygbm",
        "outputId": "069897cc-9403-4b8c-85e4-bcd25a554314"
      },
      "execution_count": null,
      "outputs": [
        {
          "output_type": "stream",
          "name": "stdout",
          "text": [
            "['How', array([ 1.2135724 ,  0.13380583, -0.13430813,  2.2911372 , -0.31034702],\n",
            "      dtype=float32)]\n",
            "['are', array([-0.30536032, -0.89103276, -0.9438223 , -0.9552216 , -0.26692522],\n",
            "      dtype=float32)]\n",
            "['you', array([-1.6433206 , -0.03209116,  5.0255713 ,  0.65302396, -0.0645529 ],\n",
            "      dtype=float32)]\n",
            "['doing', array([ 0.24015924,  0.1737448 , -0.25438827,  0.5529757 , -0.7057611 ],\n",
            "      dtype=float32)]\n",
            "['today', array([ 0.08804998, -0.14953965,  0.13315469, -2.1172423 , -0.13333666],\n",
            "      dtype=float32)]\n",
            "['?', array([-0.7814718 , -0.548069  ,  0.17202088, -1.7350006 , -0.38479197],\n",
            "      dtype=float32)]\n"
          ]
        }
      ]
    },
    {
      "cell_type": "code",
      "source": [
        "# 분석할 단어\n",
        "word1 = \"hi\"\n",
        "word2 = \"hello\"\n",
        "\n",
        "# 단어를 spaCy 문서로 변환\n",
        "doc1 = nlp(word1)\n",
        "doc2 = nlp(word2)\n",
        "\n",
        "# 유사도 계산\n",
        "similarity = doc1.similarity(doc2)\n",
        "\n",
        "print(f\"Similarity between '{word1}' and '{word2}': {similarity}\")"
      ],
      "metadata": {
        "colab": {
          "base_uri": "https://localhost:8080/"
        },
        "id": "rxREqLapY-PZ",
        "outputId": "5d05f50b-245a-4f89-9c0a-b611c1b6e0a4"
      },
      "execution_count": null,
      "outputs": [
        {
          "output_type": "stream",
          "name": "stdout",
          "text": [
            "Similarity between 'hi' and 'hello': 0.7161104995803708\n"
          ]
        },
        {
          "output_type": "stream",
          "name": "stderr",
          "text": [
            "<ipython-input-24-a00eb003b91f>:10: UserWarning: [W007] The model you're using has no word vectors loaded, so the result of the Doc.similarity method will be based on the tagger, parser and NER, which may not give useful similarity judgements. This may happen if you're using one of the small models, e.g. `en_core_web_sm`, which don't ship with word vectors and only use context-sensitive tensors. You can always add your own word vectors, or use one of the larger models instead if available.\n",
            "  similarity = doc1.similarity(doc2)\n"
          ]
        }
      ]
    },
    {
      "cell_type": "markdown",
      "source": [
        "# 3. 챗봇 개발을 위한 자연어 처리 기능들"
      ],
      "metadata": {
        "id": "zaDv5ThGZOjt"
      }
    },
    {
      "cell_type": "markdown",
      "source": [
        "### A. 토큰화(Tokenization)"
      ],
      "metadata": {
        "id": "-u_i8VSSZWQs"
      }
    },
    {
      "cell_type": "code",
      "source": [
        "# 분석할 텍스트\n",
        "text = \"SpaCy is an NLP library for Python. It is used for processing text.\"\n",
        "\n",
        "# 텍스트를 spaCy 문서로 변환\n",
        "doc = nlp(text)\n",
        "\n",
        "# 토큰화된 결과 출력\n",
        "print(\"Tokens and their attributes:\")\n",
        "for token in doc:\n",
        "    print(f\"Token: {token.text}, Lemma: {token.lemma_}, POS: {token.pos_}, Tag: {token.tag_}, Dependency: {token.dep_}\")\n",
        "\n",
        "# 문장별로 출력\n",
        "print(\"\\nSentences:\")\n",
        "for sent in doc.sents:\n",
        "    print(f\"Sentence: {sent.text}\")"
      ],
      "metadata": {
        "colab": {
          "base_uri": "https://localhost:8080/"
        },
        "id": "Ikp_OdfaZDh3",
        "outputId": "dc83f76a-29cb-413a-d709-6a7248825429"
      },
      "execution_count": null,
      "outputs": [
        {
          "output_type": "stream",
          "name": "stdout",
          "text": [
            "Tokens and their attributes:\n",
            "Token: SpaCy, Lemma: SpaCy, POS: PROPN, Tag: NNP, Dependency: nsubj\n",
            "Token: is, Lemma: be, POS: AUX, Tag: VBZ, Dependency: ROOT\n",
            "Token: an, Lemma: an, POS: DET, Tag: DT, Dependency: det\n",
            "Token: NLP, Lemma: NLP, POS: PROPN, Tag: NNP, Dependency: compound\n",
            "Token: library, Lemma: library, POS: NOUN, Tag: NN, Dependency: attr\n",
            "Token: for, Lemma: for, POS: ADP, Tag: IN, Dependency: prep\n",
            "Token: Python, Lemma: Python, POS: PROPN, Tag: NNP, Dependency: pobj\n",
            "Token: ., Lemma: ., POS: PUNCT, Tag: ., Dependency: punct\n",
            "Token: It, Lemma: it, POS: PRON, Tag: PRP, Dependency: nsubjpass\n",
            "Token: is, Lemma: be, POS: AUX, Tag: VBZ, Dependency: auxpass\n",
            "Token: used, Lemma: use, POS: VERB, Tag: VBN, Dependency: ROOT\n",
            "Token: for, Lemma: for, POS: ADP, Tag: IN, Dependency: prep\n",
            "Token: processing, Lemma: processing, POS: NOUN, Tag: NN, Dependency: compound\n",
            "Token: text, Lemma: text, POS: NOUN, Tag: NN, Dependency: pobj\n",
            "Token: ., Lemma: ., POS: PUNCT, Tag: ., Dependency: punct\n",
            "\n",
            "Sentences:\n",
            "Sentence: SpaCy is an NLP library for Python.\n",
            "Sentence: It is used for processing text.\n"
          ]
        }
      ]
    },
    {
      "cell_type": "markdown",
      "source": [
        "# B. 정규 표현식(Regular Expressions)\n",
        "### spaCy의 Matcher를 사용하여 텍스트에서 특정 패턴을 찾는 방법과 re 모듈을 사용하여 정규 표현식을 적용하기"
      ],
      "metadata": {
        "id": "yWzeq-6eZ8JP"
      }
    },
    {
      "cell_type": "code",
      "source": [
        "import spacy\n",
        "from spacy.matcher import Matcher\n",
        "import re\n",
        "\n",
        "# spaCy 모델 로드\n",
        "nlp = spacy.load(\"en_core_web_sm\")\n",
        "\n",
        "# 분석할 텍스트\n",
        "text = \"\"\"\n",
        "Contact us at support@example.com or sales@example.com.\n",
        "Our office is located at 1234 Elm Street, Springfield, IL 62704.\n",
        "Important dates:\n",
        "- Project start: 2024-09-01\n",
        "- Project end: 2024-12-31\n",
        "\"\"\"\n",
        "\n",
        "# spaCy 문서 객체 생성\n",
        "doc = nlp(text)\n",
        "\n",
        "# Matcher 객체 생성\n",
        "matcher = Matcher(nlp.vocab)\n",
        "\n",
        "# 이메일 주소 패턴 추가\n",
        "email_pattern = [{\"LIKE_EMAIL\": True}]\n",
        "matcher.add(\"EMAIL\", [email_pattern])\n",
        "\n",
        "# 날짜 패턴 추가 (YYYY-MM-DD 형식)\n",
        "date_pattern = [{\"SHAPE\": \"dddd-dd-dd\"}]\n",
        "matcher.add(\"DATE\", [date_pattern])\n",
        "\n",
        "# 패턴 매칭\n",
        "matches = matcher(doc)\n",
        "\n",
        "# 결과 출력\n",
        "print(\"Matches found:\")\n",
        "for match_id, start, end in matches:\n",
        "    match_id_str = nlp.vocab.strings[match_id]\n",
        "    span = doc[start:end]\n",
        "    print(f\"Match ID: {match_id_str}, Span: {span.text}\")\n",
        "\n",
        "# 정규 표현식 사용 예제 (이메일과 날짜 추출)\n",
        "email_pattern_re = r'[a-zA-Z0-9._%+-]+@[a-zA-Z0-9.-]+\\.[a-zA-Z]{2,}'\n",
        "date_pattern_re = r'\\d{4}-\\d{2}-\\d{2}'\n",
        "\n",
        "emails = re.findall(email_pattern_re, text)\n",
        "dates = re.findall(date_pattern_re, text)\n",
        "\n",
        "print(\"\\nEmails found using regex:\")\n",
        "for email in emails:\n",
        "    print(email)\n",
        "\n",
        "print(\"\\nDates found using regex:\")\n",
        "for date in dates:\n",
        "    print(date)\n"
      ],
      "metadata": {
        "colab": {
          "base_uri": "https://localhost:8080/"
        },
        "id": "ZihrMe3GZ7f9",
        "outputId": "f5846c1e-5b7c-4e92-bdfd-5bc1892a40c0"
      },
      "execution_count": null,
      "outputs": [
        {
          "output_type": "stream",
          "name": "stdout",
          "text": [
            "Matches found:\n",
            "Match ID: EMAIL, Span: support@example.com\n",
            "Match ID: EMAIL, Span: sales@example.com\n",
            "\n",
            "Emails found using regex:\n",
            "support@example.com\n",
            "sales@example.com\n",
            "\n",
            "Dates found using regex:\n",
            "2024-09-01\n",
            "2024-12-31\n"
          ]
        }
      ]
    },
    {
      "cell_type": "markdown",
      "source": [
        "# 4. Building Chatbots_Excercise 1_Dialogflow"
      ],
      "metadata": {
        "id": "3mDle5DBa4kg"
      }
    },
    {
      "cell_type": "code",
      "source": [
        "pip install python-docx\n"
      ],
      "metadata": {
        "colab": {
          "base_uri": "https://localhost:8080/"
        },
        "id": "9XHIyIxUnNMV",
        "outputId": "891a4021-ceaf-47be-eaa3-b57d8f657e93"
      },
      "execution_count": null,
      "outputs": [
        {
          "output_type": "stream",
          "name": "stdout",
          "text": [
            "Collecting python-docx\n",
            "  Downloading python_docx-1.1.2-py3-none-any.whl.metadata (2.0 kB)\n",
            "Requirement already satisfied: lxml>=3.1.0 in /usr/local/lib/python3.10/dist-packages (from python-docx) (4.9.4)\n",
            "Requirement already satisfied: typing-extensions>=4.9.0 in /usr/local/lib/python3.10/dist-packages (from python-docx) (4.12.2)\n",
            "Downloading python_docx-1.1.2-py3-none-any.whl (244 kB)\n",
            "\u001b[?25l   \u001b[90m━━━━━━━━━━━━━━━━━━━━━━━━━━━━━━━━━━━━━━━━\u001b[0m \u001b[32m0.0/244.3 kB\u001b[0m \u001b[31m?\u001b[0m eta \u001b[36m-:--:--\u001b[0m\r\u001b[2K   \u001b[90m━━━━━━━━━━━━━━━━━━━━━━━━━━━━━━━━━━━━━━━━\u001b[0m \u001b[32m244.3/244.3 kB\u001b[0m \u001b[31m14.9 MB/s\u001b[0m eta \u001b[36m0:00:00\u001b[0m\n",
            "\u001b[?25hInstalling collected packages: python-docx\n",
            "Successfully installed python-docx-1.1.2\n"
          ]
        }
      ]
    },
    {
      "cell_type": "markdown",
      "source": [
        "![image.png](data:image/png;base64,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)"
      ],
      "metadata": {
        "id": "IQxvLYsBQa4Z"
      }
    },
    {
      "cell_type": "markdown",
      "source": [
        "![image.png](data:image/png;base64,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)"
      ],
      "metadata": {
        "id": "_hwQoDCKSrnS"
      }
    }
  ]
}